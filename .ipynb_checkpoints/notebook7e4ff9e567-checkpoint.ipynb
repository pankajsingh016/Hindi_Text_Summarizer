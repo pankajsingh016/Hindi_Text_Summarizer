{
 "cells": [
  {
   "cell_type": "code",
   "execution_count": 1,
   "id": "5c576f89",
   "metadata": {
    "_cell_guid": "b1076dfc-b9ad-4769-8c92-a6c4dae69d19",
    "_uuid": "8f2839f25d086af736a60e9eeb907d3b93b6e0e5",
    "execution": {
     "iopub.execute_input": "2023-01-30T07:07:23.393133Z",
     "iopub.status.busy": "2023-01-30T07:07:23.392641Z",
     "iopub.status.idle": "2023-01-30T07:07:25.623795Z",
     "shell.execute_reply": "2023-01-30T07:07:25.622305Z"
    },
    "papermill": {
     "duration": 2.244945,
     "end_time": "2023-01-30T07:07:25.627376",
     "exception": false,
     "start_time": "2023-01-30T07:07:23.382431",
     "status": "completed"
    },
    "tags": []
   },
   "outputs": [],
   "source": [
    "import pandas as pd\n",
    "import torch\n",
    "import random\n",
    "import numpy as np"
   ]
  },
  {
   "cell_type": "code",
   "execution_count": 2,
   "id": "8f6bfd2c",
   "metadata": {
    "execution": {
     "iopub.execute_input": "2023-01-30T07:07:25.643570Z",
     "iopub.status.busy": "2023-01-30T07:07:25.642834Z",
     "iopub.status.idle": "2023-01-30T07:08:01.141435Z",
     "shell.execute_reply": "2023-01-30T07:08:01.140160Z"
    },
    "papermill": {
     "duration": 35.517847,
     "end_time": "2023-01-30T07:08:01.152208",
     "exception": false,
     "start_time": "2023-01-30T07:07:25.634361",
     "status": "completed"
    },
    "tags": []
   },
   "outputs": [
    {
     "data": {
      "text/html": [
       "<div>\n",
       "<style scoped>\n",
       "    .dataframe tbody tr th:only-of-type {\n",
       "        vertical-align: middle;\n",
       "    }\n",
       "\n",
       "    .dataframe tbody tr th {\n",
       "        vertical-align: top;\n",
       "    }\n",
       "\n",
       "    .dataframe thead th {\n",
       "        text-align: right;\n",
       "    }\n",
       "</style>\n",
       "<table border=\"1\" class=\"dataframe\">\n",
       "  <thead>\n",
       "    <tr style=\"text-align: right;\">\n",
       "      <th></th>\n",
       "      <th>headline</th>\n",
       "      <th>article</th>\n",
       "    </tr>\n",
       "  </thead>\n",
       "  <tbody>\n",
       "    <tr>\n",
       "      <th>0</th>\n",
       "      <td>EXCLUSIVE: दिल्ली में डीजल टैक्सियों पर बैन से...</td>\n",
       "      <td>दिल्ली में सुप्रीम कोर्ट के डीज़ल टैक्सियों को...</td>\n",
       "    </tr>\n",
       "    <tr>\n",
       "      <th>1</th>\n",
       "      <td>जॉर्डन: राष्ट्रपति मुखर्जी ने 86 करोड़ डॉलर के...</td>\n",
       "      <td>जॉर्डन के ऐतिहासिक दौरे पर पहुंचे राष्ट्रपति प...</td>\n",
       "    </tr>\n",
       "    <tr>\n",
       "      <th>2</th>\n",
       "      <td>UN में पाकिस्तान की राजदूत मलीहा लोधी ने कराई ...</td>\n",
       "      <td>पाकिस्तानी नेताओं को विवादित और हास्यास्पद बया...</td>\n",
       "    </tr>\n",
       "    <tr>\n",
       "      <th>3</th>\n",
       "      <td>38 देशों में पीएम नरेंद्र मोदी बायोपिक को रिली...</td>\n",
       "      <td>पीएम नरेंद्र मोदी बायोपिक में विवेक ओबेरॉय ने ...</td>\n",
       "    </tr>\n",
       "    <tr>\n",
       "      <th>4</th>\n",
       "      <td>13 अगस्त 2011: दिनभर की बड़ी खबरें पढ़ें</td>\n",
       "      <td>देश, दुनिया, महानगर, खेल, आर्थिक और बॉलीवुड मे...</td>\n",
       "    </tr>\n",
       "  </tbody>\n",
       "</table>\n",
       "</div>"
      ],
      "text/plain": [
       "                                            headline  \\\n",
       "0  EXCLUSIVE: दिल्ली में डीजल टैक्सियों पर बैन से...   \n",
       "1  जॉर्डन: राष्ट्रपति मुखर्जी ने 86 करोड़ डॉलर के...   \n",
       "2  UN में पाकिस्तान की राजदूत मलीहा लोधी ने कराई ...   \n",
       "3  38 देशों में पीएम नरेंद्र मोदी बायोपिक को रिली...   \n",
       "4           13 अगस्त 2011: दिनभर की बड़ी खबरें पढ़ें   \n",
       "\n",
       "                                             article  \n",
       "0  दिल्ली में सुप्रीम कोर्ट के डीज़ल टैक्सियों को...  \n",
       "1  जॉर्डन के ऐतिहासिक दौरे पर पहुंचे राष्ट्रपति प...  \n",
       "2  पाकिस्तानी नेताओं को विवादित और हास्यास्पद बया...  \n",
       "3  पीएम नरेंद्र मोदी बायोपिक में विवेक ओबेरॉय ने ...  \n",
       "4  देश, दुनिया, महानगर, खेल, आर्थिक और बॉलीवुड मे...  "
      ]
     },
     "execution_count": 2,
     "metadata": {},
     "output_type": "execute_result"
    }
   ],
   "source": [
    "train = pd.read_csv(\"/kaggle/input/hindi-text-short-summarization-corpus/train.csv\")\n",
    "train.head()"
   ]
  },
  {
   "cell_type": "code",
   "execution_count": 3,
   "id": "2ef3a206",
   "metadata": {
    "execution": {
     "iopub.execute_input": "2023-01-30T07:08:01.170329Z",
     "iopub.status.busy": "2023-01-30T07:08:01.168895Z",
     "iopub.status.idle": "2023-01-30T07:08:01.184983Z",
     "shell.execute_reply": "2023-01-30T07:08:01.182582Z"
    },
    "papermill": {
     "duration": 0.02821,
     "end_time": "2023-01-30T07:08:01.187967",
     "exception": false,
     "start_time": "2023-01-30T07:08:01.159757",
     "status": "completed"
    },
    "tags": []
   },
   "outputs": [
    {
     "name": "stdout",
     "output_type": "stream",
     "text": [
      "0    EXCLUSIVE: दिल्ली में डीजल टैक्सियों पर बैन से...\n",
      "Name: headline, dtype: object\n"
     ]
    }
   ],
   "source": [
    "print(train.head(1)[\"headline\"])"
   ]
  },
  {
   "cell_type": "code",
   "execution_count": 4,
   "id": "7cb2352b",
   "metadata": {
    "execution": {
     "iopub.execute_input": "2023-01-30T07:08:01.205106Z",
     "iopub.status.busy": "2023-01-30T07:08:01.204319Z",
     "iopub.status.idle": "2023-01-30T07:08:09.320384Z",
     "shell.execute_reply": "2023-01-30T07:08:09.319382Z"
    },
    "papermill": {
     "duration": 8.127645,
     "end_time": "2023-01-30T07:08:09.323107",
     "exception": false,
     "start_time": "2023-01-30T07:08:01.195462",
     "status": "completed"
    },
    "tags": []
   },
   "outputs": [
    {
     "data": {
      "text/plain": [
       "(66653, 2)"
      ]
     },
     "execution_count": 4,
     "metadata": {},
     "output_type": "execute_result"
    }
   ],
   "source": [
    "test = pd.read_csv(\"/kaggle/input/hindi-text-short-summarization-corpus/test.csv\")\n",
    "test.shape"
   ]
  },
  {
   "cell_type": "code",
   "execution_count": 5,
   "id": "8b3d60f6",
   "metadata": {
    "execution": {
     "iopub.execute_input": "2023-01-30T07:08:09.339940Z",
     "iopub.status.busy": "2023-01-30T07:08:09.339434Z",
     "iopub.status.idle": "2023-01-30T07:08:09.377134Z",
     "shell.execute_reply": "2023-01-30T07:08:09.375379Z"
    },
    "papermill": {
     "duration": 0.050256,
     "end_time": "2023-01-30T07:08:09.380512",
     "exception": false,
     "start_time": "2023-01-30T07:08:09.330256",
     "status": "completed"
    },
    "tags": []
   },
   "outputs": [],
   "source": [
    "news = pd.concat([train, test], ignore_index=True, sort=False)"
   ]
  },
  {
   "cell_type": "code",
   "execution_count": null,
   "id": "639b9c84",
   "metadata": {
    "papermill": {
     "duration": 0.006816,
     "end_time": "2023-01-30T07:08:09.395283",
     "exception": false,
     "start_time": "2023-01-30T07:08:09.388467",
     "status": "completed"
    },
    "tags": []
   },
   "outputs": [],
   "source": []
  },
  {
   "cell_type": "code",
   "execution_count": 6,
   "id": "bd786feb",
   "metadata": {
    "execution": {
     "iopub.execute_input": "2023-01-30T07:08:09.413066Z",
     "iopub.status.busy": "2023-01-30T07:08:09.412261Z",
     "iopub.status.idle": "2023-01-30T07:08:09.425500Z",
     "shell.execute_reply": "2023-01-30T07:08:09.424300Z"
    },
    "papermill": {
     "duration": 0.0249,
     "end_time": "2023-01-30T07:08:09.428157",
     "exception": false,
     "start_time": "2023-01-30T07:08:09.403257",
     "status": "completed"
    },
    "tags": []
   },
   "outputs": [
    {
     "data": {
      "text/html": [
       "<div>\n",
       "<style scoped>\n",
       "    .dataframe tbody tr th:only-of-type {\n",
       "        vertical-align: middle;\n",
       "    }\n",
       "\n",
       "    .dataframe tbody tr th {\n",
       "        vertical-align: top;\n",
       "    }\n",
       "\n",
       "    .dataframe thead th {\n",
       "        text-align: right;\n",
       "    }\n",
       "</style>\n",
       "<table border=\"1\" class=\"dataframe\">\n",
       "  <thead>\n",
       "    <tr style=\"text-align: right;\">\n",
       "      <th></th>\n",
       "      <th>headline</th>\n",
       "      <th>article</th>\n",
       "    </tr>\n",
       "  </thead>\n",
       "  <tbody>\n",
       "    <tr>\n",
       "      <th>0</th>\n",
       "      <td>EXCLUSIVE: दिल्ली में डीजल टैक्सियों पर बैन से...</td>\n",
       "      <td>दिल्ली में सुप्रीम कोर्ट के डीज़ल टैक्सियों को...</td>\n",
       "    </tr>\n",
       "    <tr>\n",
       "      <th>1</th>\n",
       "      <td>जॉर्डन: राष्ट्रपति मुखर्जी ने 86 करोड़ डॉलर के...</td>\n",
       "      <td>जॉर्डन के ऐतिहासिक दौरे पर पहुंचे राष्ट्रपति प...</td>\n",
       "    </tr>\n",
       "    <tr>\n",
       "      <th>2</th>\n",
       "      <td>UN में पाकिस्तान की राजदूत मलीहा लोधी ने कराई ...</td>\n",
       "      <td>पाकिस्तानी नेताओं को विवादित और हास्यास्पद बया...</td>\n",
       "    </tr>\n",
       "    <tr>\n",
       "      <th>3</th>\n",
       "      <td>38 देशों में पीएम नरेंद्र मोदी बायोपिक को रिली...</td>\n",
       "      <td>पीएम नरेंद्र मोदी बायोपिक में विवेक ओबेरॉय ने ...</td>\n",
       "    </tr>\n",
       "    <tr>\n",
       "      <th>4</th>\n",
       "      <td>13 अगस्त 2011: दिनभर की बड़ी खबरें पढ़ें</td>\n",
       "      <td>देश, दुनिया, महानगर, खेल, आर्थिक और बॉलीवुड मे...</td>\n",
       "    </tr>\n",
       "  </tbody>\n",
       "</table>\n",
       "</div>"
      ],
      "text/plain": [
       "                                            headline  \\\n",
       "0  EXCLUSIVE: दिल्ली में डीजल टैक्सियों पर बैन से...   \n",
       "1  जॉर्डन: राष्ट्रपति मुखर्जी ने 86 करोड़ डॉलर के...   \n",
       "2  UN में पाकिस्तान की राजदूत मलीहा लोधी ने कराई ...   \n",
       "3  38 देशों में पीएम नरेंद्र मोदी बायोपिक को रिली...   \n",
       "4           13 अगस्त 2011: दिनभर की बड़ी खबरें पढ़ें   \n",
       "\n",
       "                                             article  \n",
       "0  दिल्ली में सुप्रीम कोर्ट के डीज़ल टैक्सियों को...  \n",
       "1  जॉर्डन के ऐतिहासिक दौरे पर पहुंचे राष्ट्रपति प...  \n",
       "2  पाकिस्तानी नेताओं को विवादित और हास्यास्पद बया...  \n",
       "3  पीएम नरेंद्र मोदी बायोपिक में विवेक ओबेरॉय ने ...  \n",
       "4  देश, दुनिया, महानगर, खेल, आर्थिक और बॉलीवुड मे...  "
      ]
     },
     "execution_count": 6,
     "metadata": {},
     "output_type": "execute_result"
    }
   ],
   "source": [
    "news.head()"
   ]
  },
  {
   "cell_type": "code",
   "execution_count": 7,
   "id": "41591fc2",
   "metadata": {
    "execution": {
     "iopub.execute_input": "2023-01-30T07:08:09.445760Z",
     "iopub.status.busy": "2023-01-30T07:08:09.445240Z",
     "iopub.status.idle": "2023-01-30T07:08:09.458320Z",
     "shell.execute_reply": "2023-01-30T07:08:09.456948Z"
    },
    "papermill": {
     "duration": 0.025439,
     "end_time": "2023-01-30T07:08:09.461398",
     "exception": false,
     "start_time": "2023-01-30T07:08:09.435959",
     "status": "completed"
    },
    "tags": []
   },
   "outputs": [],
   "source": [
    "import re\n",
    "def remove_emojis(data):\n",
    "    emoj = re.compile(\"[\"\n",
    "        u\"\\U0001F600-\\U0001F64F\"  # emoticons\n",
    "        u\"\\U0001F300-\\U0001F5FF\"  # symbols & pictographs\n",
    "        u\"\\U0001F680-\\U0001F6FF\"  # transport & map symbols\n",
    "        u\"\\U0001F1E0-\\U0001F1FF\"  # flags (iOS)\n",
    "        u\"\\U00002500-\\U00002BEF\"  # chinese char\n",
    "        u\"\\U00002702-\\U000027B0\"\n",
    "        u\"\\U00002702-\\U000027B0\"\n",
    "        u\"\\U000024C2-\\U0001F251\"\n",
    "        u\"\\U0001f926-\\U0001f937\"\n",
    "        u\"\\U00010000-\\U0010ffff\"\n",
    "        u\"\\u2640-\\u2642\" \n",
    "        u\"\\u2600-\\u2B55\"\n",
    "        u\"\\u200d\"\n",
    "        u\"\\u23cf\"\n",
    "        u\"\\u23e9\"\n",
    "        u\"\\u231a\"\n",
    "        u\"\\ufe0f\"  # dingbats\n",
    "        u\"\\u3030\"\n",
    "                      \"]+\", re.UNICODE)\n",
    "    return re.sub(emoj, ' ', data)\n",
    "\n",
    "def preprocess_tokenize(text):\n",
    "      # for removing punctuation from sentencesc\n",
    "    text = str(text)\n",
    "    text = re.sub(r'(\\d+)', r'', text)\n",
    "    \n",
    "    text = text.replace('\\n', ' ')\n",
    "    text = text.replace('\\r', ' ')\n",
    "    text = text.replace('\\t', ' ')\n",
    "    text = text.replace('\\u200d', '')\n",
    "    text=re.sub(\"(__+)\", ' ', str(text)).lower()   #remove _ if it occors more than one time consecutively\n",
    "    text=re.sub(\"(--+)\", ' ', str(text)).lower()   #remove - if it occors more than one time consecutively\n",
    "    text=re.sub(\"(~~+)\", ' ', str(text)).lower()   #remove ~ if it occors more than one time consecutively\n",
    "    text=re.sub(\"(\\+\\++)\", ' ', str(text)).lower()   #remove + if it occors more than one time consecutively\n",
    "    text=re.sub(\"(\\.\\.+)\", ' ', str(text)).lower()   #remove . if it occors more than one time consecutively\n",
    "    text=re.sub(r\"[<>()|&©@#ø\\[\\]\\'\\\",;:?.~*!]\", ' ', str(text)).lower() #remove <>()|&©ø\"',;?~*!\n",
    "    text = re.sub(r\"[‘’।:]\", \" \", str(text)) #removing other special characters\n",
    "    text = re.sub(\"([a-zA-Z])\",' ',str(text)).lower()\n",
    "    text = re.sub(\"(\\s+)\",' ',str(text)).lower()\n",
    "    text = remove_emojis(text)\n",
    "    return text\n"
   ]
  },
  {
   "cell_type": "code",
   "execution_count": 8,
   "id": "ed8e4d7b",
   "metadata": {
    "execution": {
     "iopub.execute_input": "2023-01-30T07:08:09.479076Z",
     "iopub.status.busy": "2023-01-30T07:08:09.478571Z",
     "iopub.status.idle": "2023-01-30T07:08:09.483973Z",
     "shell.execute_reply": "2023-01-30T07:08:09.483050Z"
    },
    "papermill": {
     "duration": 0.016807,
     "end_time": "2023-01-30T07:08:09.486070",
     "exception": false,
     "start_time": "2023-01-30T07:08:09.469263",
     "status": "completed"
    },
    "tags": []
   },
   "outputs": [],
   "source": [
    "train_data_trg = news['headline']\n",
    "train_data_src = news['article']"
   ]
  },
  {
   "cell_type": "code",
   "execution_count": 9,
   "id": "8293f410",
   "metadata": {
    "execution": {
     "iopub.execute_input": "2023-01-30T07:08:09.504788Z",
     "iopub.status.busy": "2023-01-30T07:08:09.503462Z",
     "iopub.status.idle": "2023-01-30T07:11:00.589907Z",
     "shell.execute_reply": "2023-01-30T07:11:00.588073Z"
    },
    "papermill": {
     "duration": 171.098748,
     "end_time": "2023-01-30T07:11:00.593384",
     "exception": false,
     "start_time": "2023-01-30T07:08:09.494636",
     "status": "completed"
    },
    "tags": []
   },
   "outputs": [],
   "source": [
    "tokenized_corpus_trg = [preprocess_tokenize(x) for x in train_data_trg]  #these are headlines\n",
    "tokenized_corpus_src = [preprocess_tokenize(x) for x in train_data_src]  #these are articles"
   ]
  },
  {
   "cell_type": "code",
   "execution_count": 10,
   "id": "ae6e4a3e",
   "metadata": {
    "execution": {
     "iopub.execute_input": "2023-01-30T07:11:00.611877Z",
     "iopub.status.busy": "2023-01-30T07:11:00.611352Z",
     "iopub.status.idle": "2023-01-30T07:11:00.620025Z",
     "shell.execute_reply": "2023-01-30T07:11:00.618469Z"
    },
    "papermill": {
     "duration": 0.022345,
     "end_time": "2023-01-30T07:11:00.623514",
     "exception": false,
     "start_time": "2023-01-30T07:11:00.601169",
     "status": "completed"
    },
    "tags": []
   },
   "outputs": [
    {
     "data": {
      "text/plain": [
       "'जॉर्डन के ऐतिहासिक दौरे पर पहुंचे राष्ट्रपति प्रणब मुखर्जी ने करोड़ डॉलर की लागत से निर्मित भारत-जॉर्डन उवर्रक संयंत्र का जॉर्डन के शाह अब्दुल्ला द्वितीय इब्न अल हुसैन के साथ उद्घाटन किया यह संयंत्र एक साल से कम समय में बनकर तैयार हुआ है राष्ट्रपति मुखर्जी के यहां एयर इंडिया की उड़ान से दोपहर पहुंचने के कुछ देर बाद ही शाह के महल से इस संयंत्र का रिमोट के जरिए उद्घाटन किया गया अधिकारियों ने बताया कि भारतीय उर्वरक कंपनी इफको और जॉर्डन के फास्फेट्स माइन कंपनी ने इस संयंत्र के लिए में एक संयुक्त उद्यम कंपनी जॉर्डन इंडिया फर्टिलाइजर कंपनी बनाया संयुक्त उद्यम में इफको की हिस्सेदारी प्रतिशत है इस संयंत्र से प्रति वर्ष करोड़ टन सल्फ्यूरिक एसिड और करोड़ टन फास्फेरिक एसिड के उत्पादन का अनुमान है राष्ट्रपति का इससे पहले यहां पारंपरिक स्वागत किया गया और राष्ट्रपति भवन के सामने उन्हें तोपों की सलामी दी गई इसके बाद वह शाह अब्दुल्ला द्वितीय इब्न अल हुसैन के साथ वार्ता में व्यस्त हो गए वार्ता के बाद दोनों नेताओं ने इंडो-जर्मन उवर्रक संयंत्र का संयुक्त रूप से उद्घाटन किया इस संयंत्र से कच्चे माल का उत्पादन किया जाएगा इसमें फास्फोरिक एसिड और सल्फ्यूरिक एसिड प्रमुख हैं यहां पहुंचने से पहले राष्ट्रपति ने कहा दोनों देशों के क्षेत्रीय एवं अंतर्राष्ट्रीय मुद्दे मिलते-जुलते हैं और दोनों सीरिया के साथ ही मध्य पूर्व में शांति प्रक्रिया का समर्थन करते हैं उन्होंने कहा कि दोनों देश उग्रवाद और आतंकवाद के सभी रूपों की निदा करते हैं और धार्मिक सौहार्द्र में भरोसा करते हैं राष्ट्रपति के इस दौरे के दौरान व्यापार एवं निवेश पर भी जोर है उन्होंने कहा कि दोनों देश द्विपक्षीय व्यापार को पांच अरब डॉलर करना चाहते हैं अभी दोनों देशों के बीच व्यापार दो अरब डॉलर है प्रणब मुखर्जी ने जिस संयंत्र का उद्घाटन किया उससे भारत करोड़ टन फास्फोरिक एसिड का आयात करेगी भारत बड़ी मात्रा में पोटाश एवं फास्फेट जॉर्डन से हासिल करता है भारत और जॉर्डन ने में सामंजस्य के लिए द्विपक्षीय समझौते पर हस्ताक्षर किया था हालांकि इसे औपचारिक रूप में दिया गया जब पूर्ण कूटनीकि संबंध दोनों देश के बीच बने शाह अब्दुल्ला और बेगम रानिया ने अक्टूबर में भारत का दौरा किया था राष्ट्रपति के इस दौरे से पूर्व करीब साल पहले तत्कालीन प्रधानमंत्री राजीव गांधी ने इस देश का दौरा किया था इनपुट- '"
      ]
     },
     "execution_count": 10,
     "metadata": {},
     "output_type": "execute_result"
    }
   ],
   "source": [
    "tokenized_corpus_src[1] #cleaned sentences"
   ]
  },
  {
   "cell_type": "code",
   "execution_count": 11,
   "id": "a6aa6872",
   "metadata": {
    "execution": {
     "iopub.execute_input": "2023-01-30T07:11:00.641144Z",
     "iopub.status.busy": "2023-01-30T07:11:00.640654Z",
     "iopub.status.idle": "2023-01-30T07:11:12.166125Z",
     "shell.execute_reply": "2023-01-30T07:11:12.164664Z"
    },
    "papermill": {
     "duration": 11.538326,
     "end_time": "2023-01-30T07:11:12.169448",
     "exception": false,
     "start_time": "2023-01-30T07:11:00.631122",
     "status": "completed"
    },
    "tags": []
   },
   "outputs": [
    {
     "data": {
      "image/png": "[encoded data removed]",
      "text/plain": [
       "<Figure size 720x360 with 2 Axes>"
      ]
     },
     "metadata": {
      "needs_background": "light"
     },
     "output_type": "display_data"
    }
   ],
   "source": [
    "import matplotlib.pyplot as plt\n",
    "\n",
    "text_word_count = []\n",
    "summary_word_count = []\n",
    "\n",
    "# populate the lists with sentence lengths\n",
    "for i in tokenized_corpus_src[:train.shape[0]]:\n",
    "      text_word_count.append(len(i.split()))\n",
    "\n",
    "for i in tokenized_corpus_trg[:train.shape[0]]:\n",
    "      summary_word_count.append(len(i.split()))\n",
    "\n",
    "fig , ax = plt.subplots(1,2)\n",
    "fig.set_size_inches(10,5)\n",
    "ax[0].hist(text_word_count, bins=25, range=[0, 1000])\n",
    "ax[1].hist(summary_word_count, bins=25, range=[0, 100])\n",
    "ax[0].set_xlabel(\"No. of words in Text\")\n",
    "ax[0].set_ylabel(\"Frequency\")\n",
    "ax[1].set_xlabel(\"No. of words in Summary\")\n",
    "ax[1].set_ylabel(\"Frequency\")\n",
    "ax[0].set_title('Distribution of training data')\n",
    "plt.show()"
   ]
  },
  {
   "cell_type": "code",
   "execution_count": null,
   "id": "d367fb95",
   "metadata": {
    "papermill": {
     "duration": 0.007793,
     "end_time": "2023-01-30T07:11:12.185814",
     "exception": false,
     "start_time": "2023-01-30T07:11:12.178021",
     "status": "completed"
    },
    "tags": []
   },
   "outputs": [],
   "source": []
  },
  {
   "cell_type": "code",
   "execution_count": 12,
   "id": "feb934ad",
   "metadata": {
    "execution": {
     "iopub.execute_input": "2023-01-30T07:11:12.206149Z",
     "iopub.status.busy": "2023-01-30T07:11:12.204434Z",
     "iopub.status.idle": "2023-01-30T07:11:25.517892Z",
     "shell.execute_reply": "2023-01-30T07:11:25.516425Z"
    },
    "papermill": {
     "duration": 13.327057,
     "end_time": "2023-01-30T07:11:25.520891",
     "exception": false,
     "start_time": "2023-01-30T07:11:12.193834",
     "status": "completed"
    },
    "tags": []
   },
   "outputs": [
    {
     "data": {
      "image/png": "[encoded data removed]",
      "text/plain": [
       "<Figure size 720x360 with 2 Axes>"
      ]
     },
     "metadata": {
      "needs_background": "light"
     },
     "output_type": "display_data"
    }
   ],
   "source": [
    "for i in tokenized_corpus_src[:-test.shape[0]]:\n",
    "      text_word_count.append(len(i.split()))\n",
    "\n",
    "for i in tokenized_corpus_trg[:-test.shape[0]]:\n",
    "      summary_word_count.append(len(i.split()))\n",
    "\n",
    "fig , ax = plt.subplots(1,2)\n",
    "fig.set_size_inches(10,5)\n",
    "ax[0].hist(text_word_count, bins=25, range=[0, 1000])\n",
    "ax[1].hist(summary_word_count, bins=25, range=[0, 100])\n",
    "ax[0].set_xlabel(\"No. of words in Text\")\n",
    "ax[0].set_ylabel(\"Frequency\")\n",
    "ax[1].set_xlabel(\"No. of words in Summary\")\n",
    "ax[1].set_ylabel(\"Frequency\")\n",
    "ax[0].set_title('Distribution of Testing data')\n",
    "plt.show()"
   ]
  },
  {
   "cell_type": "code",
   "execution_count": 13,
   "id": "87d65899",
   "metadata": {
    "execution": {
     "iopub.execute_input": "2023-01-30T07:11:25.540727Z",
     "iopub.status.busy": "2023-01-30T07:11:25.540165Z",
     "iopub.status.idle": "2023-01-30T07:11:25.806188Z",
     "shell.execute_reply": "2023-01-30T07:11:25.804761Z"
    },
    "papermill": {
     "duration": 0.279548,
     "end_time": "2023-01-30T07:11:25.809079",
     "exception": false,
     "start_time": "2023-01-30T07:11:25.529531",
     "status": "completed"
    },
    "tags": []
   },
   "outputs": [
    {
     "name": "stdout",
     "output_type": "stream",
     "text": [
      "::::: Text_Cleaned :::::\n",
      "0    दिल्ली में सुप्रीम कोर्ट के डीज़ल टैक्सियों को...\n",
      "1    जॉर्डन के ऐतिहासिक दौरे पर पहुंचे राष्ट्रपति प...\n",
      "2    पाकिस्तानी नेताओं को विवादित और हास्यास्पद बया...\n",
      "3    पीएम नरेंद्र मोदी बायोपिक में विवेक ओबेरॉय ने ...\n",
      "4    देश दुनिया महानगर खेल आर्थिक और बॉलीवुड में क्...\n",
      "Name: Text_Cleaned, dtype: object \n",
      "\n",
      "::::: Summary :::::\n",
      "0     दिल्ली में डीजल टैक्सियों पर बैन से मुश्किल म...\n",
      "1    जॉर्डन राष्ट्रपति मुखर्जी ने करोड़ डॉलर के संय...\n",
      "2     में पाकिस्तान की राजदूत मलीहा लोधी ने कराई फज...\n",
      "3     देशों में पीएम नरेंद्र मोदी बायोपिक को रिलीज ...\n",
      "4                      अगस्त दिनभर की बड़ी खबरें पढ़ें\n",
      "Name: Summary_Cleaned, dtype: object \n",
      "\n"
     ]
    }
   ],
   "source": [
    "news['Text_Cleaned'] = tokenized_corpus_src  \n",
    "print(\"::::: Text_Cleaned :::::\")\n",
    "print(news['Text_Cleaned'][0:5], \"\\n\")\n",
    "\n",
    "\n",
    "news['Summary_Cleaned'] =  tokenized_corpus_trg \n",
    "print(\"::::: Summary :::::\")\n",
    "print(news['Summary_Cleaned'][0:5], \"\\n\")\n",
    "\n",
    "corpus = list(news['Text_Cleaned'])\n"
   ]
  },
  {
   "cell_type": "code",
   "execution_count": 14,
   "id": "d4a001b9",
   "metadata": {
    "execution": {
     "iopub.execute_input": "2023-01-30T07:11:25.829326Z",
     "iopub.status.busy": "2023-01-30T07:11:25.828847Z",
     "iopub.status.idle": "2023-01-30T07:11:36.913901Z",
     "shell.execute_reply": "2023-01-30T07:11:36.912450Z"
    },
    "papermill": {
     "duration": 11.099155,
     "end_time": "2023-01-30T07:11:36.917054",
     "exception": false,
     "start_time": "2023-01-30T07:11:25.817899",
     "status": "completed"
    },
    "tags": []
   },
   "outputs": [],
   "source": [
    "text_count = []\n",
    "summary_count = []\n",
    "\n",
    "for sent in news['Text_Cleaned']:\n",
    "    text_count.append(len(sent.split()))\n",
    "for sent in news['Summary_Cleaned']:\n",
    "    summary_count.append(len(sent.split()))\n",
    "\n",
    "graph_df = pd.DataFrame()\n",
    "graph_df['text'] = text_count\n",
    "graph_df['summary'] = summary_count"
   ]
  },
  {
   "cell_type": "code",
   "execution_count": 15,
   "id": "811cd171",
   "metadata": {
    "execution": {
     "iopub.execute_input": "2023-01-30T07:11:36.936279Z",
     "iopub.status.busy": "2023-01-30T07:11:36.935761Z",
     "iopub.status.idle": "2023-01-30T07:11:36.964129Z",
     "shell.execute_reply": "2023-01-30T07:11:36.962156Z"
    },
    "papermill": {
     "duration": 0.041335,
     "end_time": "2023-01-30T07:11:36.966985",
     "exception": false,
     "start_time": "2023-01-30T07:11:36.925650",
     "status": "completed"
    },
    "tags": []
   },
   "outputs": [
    {
     "data": {
      "text/plain": [
       "count    333260.000000\n",
       "mean        348.910493\n",
       "std         314.028859\n",
       "min           0.000000\n",
       "25%         197.000000\n",
       "50%         282.000000\n",
       "75%         399.000000\n",
       "max       15089.000000\n",
       "Name: text, dtype: float64"
      ]
     },
     "execution_count": 15,
     "metadata": {},
     "output_type": "execute_result"
    }
   ],
   "source": [
    "graph_df['text'].describe()"
   ]
  },
  {
   "cell_type": "code",
   "execution_count": 16,
   "id": "34c616bc",
   "metadata": {
    "execution": {
     "iopub.execute_input": "2023-01-30T07:11:36.986843Z",
     "iopub.status.busy": "2023-01-30T07:11:36.986302Z",
     "iopub.status.idle": "2023-01-30T07:11:37.016034Z",
     "shell.execute_reply": "2023-01-30T07:11:37.014524Z"
    },
    "papermill": {
     "duration": 0.04323,
     "end_time": "2023-01-30T07:11:37.019007",
     "exception": false,
     "start_time": "2023-01-30T07:11:36.975777",
     "status": "completed"
    },
    "tags": []
   },
   "outputs": [
    {
     "data": {
      "text/plain": [
       "count    333260.000000\n",
       "mean        348.910493\n",
       "std         314.028859\n",
       "min           0.000000\n",
       "25%         197.000000\n",
       "50%         282.000000\n",
       "75%         399.000000\n",
       "max       15089.000000\n",
       "Name: text, dtype: float64"
      ]
     },
     "execution_count": 16,
     "metadata": {},
     "output_type": "execute_result"
    }
   ],
   "source": [
    "graph_df['text'].describe()"
   ]
  },
  {
   "cell_type": "code",
   "execution_count": 17,
   "id": "46a24243",
   "metadata": {
    "execution": {
     "iopub.execute_input": "2023-01-30T07:11:37.039834Z",
     "iopub.status.busy": "2023-01-30T07:11:37.038414Z",
     "iopub.status.idle": "2023-01-30T07:11:37.392772Z",
     "shell.execute_reply": "2023-01-30T07:11:37.391243Z"
    },
    "papermill": {
     "duration": 0.367764,
     "end_time": "2023-01-30T07:11:37.395694",
     "exception": false,
     "start_time": "2023-01-30T07:11:37.027930",
     "status": "completed"
    },
    "tags": []
   },
   "outputs": [
    {
     "data": {
      "image/png": "[encoded data removed]",
      "text/plain": [
       "<Figure size 432x288 with 1 Axes>"
      ]
     },
     "metadata": {
      "needs_background": "light"
     },
     "output_type": "display_data"
    }
   ],
   "source": [
    "graph_df['text'].hist(bins = 25, range=(0, 300))\n",
    "plt.show()\n"
   ]
  },
  {
   "cell_type": "code",
   "execution_count": 18,
   "id": "e979540a",
   "metadata": {
    "execution": {
     "iopub.execute_input": "2023-01-30T07:11:37.416071Z",
     "iopub.status.busy": "2023-01-30T07:11:37.415380Z",
     "iopub.status.idle": "2023-01-30T07:11:37.690737Z",
     "shell.execute_reply": "2023-01-30T07:11:37.689296Z"
    },
    "papermill": {
     "duration": 0.28868,
     "end_time": "2023-01-30T07:11:37.693644",
     "exception": false,
     "start_time": "2023-01-30T07:11:37.404964",
     "status": "completed"
    },
    "tags": []
   },
   "outputs": [
    {
     "data": {
      "image/png": "[encoded data removed]",
      "text/plain": [
       "<Figure size 432x288 with 1 Axes>"
      ]
     },
     "metadata": {
      "needs_background": "light"
     },
     "output_type": "display_data"
    }
   ],
   "source": [
    "graph_df['summary'].hist(bins = 15, range=(0, 20))\n",
    "plt.show()\n"
   ]
  },
  {
   "cell_type": "code",
   "execution_count": null,
   "id": "6f43b141",
   "metadata": {
    "papermill": {
     "duration": 0.008785,
     "end_time": "2023-01-30T07:11:37.711956",
     "exception": false,
     "start_time": "2023-01-30T07:11:37.703171",
     "status": "completed"
    },
    "tags": []
   },
   "outputs": [],
   "source": []
  },
  {
   "cell_type": "code",
   "execution_count": 19,
   "id": "2cc66ca5",
   "metadata": {
    "execution": {
     "iopub.execute_input": "2023-01-30T07:11:37.733681Z",
     "iopub.status.busy": "2023-01-30T07:11:37.733109Z",
     "iopub.status.idle": "2023-01-30T07:11:37.825165Z",
     "shell.execute_reply": "2023-01-30T07:11:37.823647Z"
    },
    "papermill": {
     "duration": 0.106636,
     "end_time": "2023-01-30T07:11:37.828718",
     "exception": false,
     "start_time": "2023-01-30T07:11:37.722082",
     "status": "completed"
    },
    "tags": []
   },
   "outputs": [
    {
     "name": "stdout",
     "output_type": "stream",
     "text": [
      "0.5509842165276361\n"
     ]
    }
   ],
   "source": [
    "count = 0\n",
    "for i in graph_df['text']:\n",
    "    if i > 10 and i <= 300:\n",
    "        count = count + 1\n",
    "print(count / len(graph_df['text']))\n"
   ]
  },
  {
   "cell_type": "code",
   "execution_count": 20,
   "id": "6c5488e1",
   "metadata": {
    "execution": {
     "iopub.execute_input": "2023-01-30T07:11:37.849734Z",
     "iopub.status.busy": "2023-01-30T07:11:37.849186Z",
     "iopub.status.idle": "2023-01-30T07:11:37.947949Z",
     "shell.execute_reply": "2023-01-30T07:11:37.946464Z"
    },
    "papermill": {
     "duration": 0.112803,
     "end_time": "2023-01-30T07:11:37.951077",
     "exception": false,
     "start_time": "2023-01-30T07:11:37.838274",
     "status": "completed"
    },
    "tags": []
   },
   "outputs": [
    {
     "name": "stdout",
     "output_type": "stream",
     "text": [
      "0.9994118706115346\n"
     ]
    }
   ],
   "source": [
    "count = 0\n",
    "for i in graph_df['summary']:\n",
    "    if i > 1 and i <= 20:\n",
    "        count = count + 1\n",
    "print(count / len(graph_df['summary']))"
   ]
  },
  {
   "cell_type": "code",
   "execution_count": 21,
   "id": "2ff54f51",
   "metadata": {
    "execution": {
     "iopub.execute_input": "2023-01-30T07:11:37.972445Z",
     "iopub.status.busy": "2023-01-30T07:11:37.971389Z",
     "iopub.status.idle": "2023-01-30T07:11:37.976927Z",
     "shell.execute_reply": "2023-01-30T07:11:37.975929Z"
    },
    "papermill": {
     "duration": 0.018899,
     "end_time": "2023-01-30T07:11:37.979448",
     "exception": false,
     "start_time": "2023-01-30T07:11:37.960549",
     "status": "completed"
    },
    "tags": []
   },
   "outputs": [],
   "source": [
    "max_text_len = 300\n",
    "max_summary_len = 16\n"
   ]
  },
  {
   "cell_type": "code",
   "execution_count": 22,
   "id": "77ca5a58",
   "metadata": {
    "execution": {
     "iopub.execute_input": "2023-01-30T07:11:38.001576Z",
     "iopub.status.busy": "2023-01-30T07:11:38.000379Z",
     "iopub.status.idle": "2023-01-30T07:12:05.416327Z",
     "shell.execute_reply": "2023-01-30T07:12:05.414624Z"
    },
    "papermill": {
     "duration": 27.430288,
     "end_time": "2023-01-30T07:12:05.419392",
     "exception": false,
     "start_time": "2023-01-30T07:11:37.989104",
     "status": "completed"
    },
    "tags": []
   },
   "outputs": [],
   "source": [
    "cleaned_text = np.array(news['Text_Cleaned'])\n",
    "cleaned_summary = np.array(news['Summary_Cleaned'])\n",
    "\n",
    "short_text = []\n",
    "short_summary = []\n",
    "\n",
    "for i in range(len(cleaned_text)):\n",
    "    if(len(cleaned_summary[i].split()) <= max_summary_len \n",
    "       and len(cleaned_summary[i].split()) > 1 \n",
    "       and len(cleaned_text[i].split()) <= max_text_len):\n",
    "        short_text.append(cleaned_text[i])\n",
    "        short_summary.append(cleaned_summary[i])\n",
    "    elif((len(cleaned_summary[i].split()) > max_summary_len) or (len(cleaned_text[i].split()) > max_text_len)):\n",
    "        summ = cleaned_summary[i].split()\n",
    "        txt = cleaned_text[i].split()\n",
    "        if(len(summ)>max_summary_len):\n",
    "          short_summary.append(' '.join(summ[:max_summary_len]))\n",
    "        else:\n",
    "          short_summary.append(cleaned_summary[i])\n",
    "        if(len(txt)>max_text_len):\n",
    "          short_text.append(' '.join(txt[:max_text_len]))\n",
    "        else:\n",
    "          short_text.append(cleaned_text[i]) \n",
    "    \n",
    "post_pre = pd.DataFrame({'text':short_text,'summary':short_summary})"
   ]
  }
 ],
 "metadata": {
  "kernelspec": {
   "display_name": "Python 3 (ipykernel)",
   "language": "python",
   "name": "python3"
  },
  "language_info": {
   "codemirror_mode": {
    "name": "ipython",
    "version": 3
   },
   "file_extension": ".py",
   "mimetype": "text/x-python",
   "name": "python",
   "nbconvert_exporter": "python",
   "pygments_lexer": "ipython3",
   "version": "3.10.9"
  },
  "papermill": {
   "default_parameters": {},
   "duration": 293.970921,
   "end_time": "2023-01-30T07:12:07.160043",
   "environment_variables": {},
   "exception": null,
   "input_path": "__notebook__.ipynb",
   "output_path": "__notebook__.ipynb",
   "parameters": {},
   "start_time": "2023-01-30T07:07:13.189122",
   "version": "2.3.4"
  }
 },
 "nbformat": 4,
 "nbformat_minor": 5
}
