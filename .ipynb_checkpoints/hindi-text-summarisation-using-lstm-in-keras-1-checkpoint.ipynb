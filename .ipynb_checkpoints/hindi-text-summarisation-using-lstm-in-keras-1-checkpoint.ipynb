{
 "cells": [
  {
   "cell_type": "markdown",
   "metadata": {},
   "source": [
    "## Introduction\n",
    "Greetings from the Kaggle bot! This is an automatically-generated kernel with starter code demonstrating how to read in the data and begin exploring. If you're inspired to dig deeper, click the blue \"Fork Notebook\" button at the top of this kernel to begin editing."
   ]
  },
  {
   "cell_type": "markdown",
   "metadata": {},
   "source": [
    "## Exploratory Analysis\n",
    "To begin this exploratory analysis, first import libraries and define functions for plotting the data using `matplotlib`. Depending on the data, not all plots will be made. (Hey, I'm just a simple kerneling bot, not a Kaggle Competitions Grandmaster!)"
   ]
  },
  {
   "cell_type": "code",
   "execution_count": 1,
   "metadata": {
    "_kg_hide-input": false
   },
   "outputs": [],
   "source": [
    "from mpl_toolkits.mplot3d import Axes3D\n",
    "from sklearn.preprocessing import StandardScaler\n",
    "import matplotlib.pyplot as plt # plotting\n",
    "import numpy as np # linear algebra\n",
    "import os # accessing directory structure\n",
    "import pandas as pd # data processing, CSV file I/O (e.g. pd.read_csv)\n"
   ]
  },
  {
   "cell_type": "markdown",
   "metadata": {},
   "source": [
    "There are 2 csv files in the current version of the dataset:\n"
   ]
  },
  {
   "cell_type": "code",
   "execution_count": 2,
   "metadata": {
    "_kg_hide-input": false
   },
   "outputs": [
    {
     "name": "stdout",
     "output_type": "stream",
     "text": [
      "/kaggle/input/test.csv\n",
      "/kaggle/input/train.csv\n"
     ]
    }
   ],
   "source": [
    "for dirname, _, filenames in os.walk('/kaggle/input'):\n",
    "    for filename in filenames:\n",
    "        print(os.path.join(dirname, filename))\n"
   ]
  },
  {
   "cell_type": "markdown",
   "metadata": {},
   "source": [
    "The next hidden code cells define functions for plotting data. Click on the \"Code\" button in the published kernel to reveal the hidden code."
   ]
  },
  {
   "cell_type": "code",
   "execution_count": 3,
   "metadata": {
    "_kg_hide-input": true
   },
   "outputs": [],
   "source": [
    "# Distribution graphs (histogram/bar graph) of column data\n",
    "def plotPerColumnDistribution(df, nGraphShown, nGraphPerRow):\n",
    "    nunique = df.nunique()\n",
    "    df = df[[col for col in df if nunique[col] > 1 and nunique[col] < 50]] # For displaying purposes, pick columns that have between 1 and 50 unique values\n",
    "    nRow, nCol = df.shape\n",
    "    columnNames = list(df)\n",
    "    nGraphRow = (nCol + nGraphPerRow - 1) / nGraphPerRow\n",
    "    plt.figure(num = None, figsize = (6 * nGraphPerRow, 8 * nGraphRow), dpi = 80, facecolor = 'w', edgecolor = 'k')\n",
    "    for i in range(min(nCol, nGraphShown)):\n",
    "        plt.subplot(nGraphRow, nGraphPerRow, i + 1)\n",
    "        columnDf = df.iloc[:, i]\n",
    "        if (not np.issubdtype(type(columnDf.iloc[0]), np.number)):\n",
    "            valueCounts = columnDf.value_counts()\n",
    "            valueCounts.plot.bar()\n",
    "        else:\n",
    "            columnDf.hist()\n",
    "        plt.ylabel('counts')\n",
    "        plt.xticks(rotation = 90)\n",
    "        plt.title(f'{columnNames[i]} (column {i})')\n",
    "    plt.tight_layout(pad = 1.0, w_pad = 1.0, h_pad = 1.0)\n",
    "    plt.show()\n"
   ]
  },
  {
   "cell_type": "code",
   "execution_count": 4,
   "metadata": {
    "_kg_hide-input": true
   },
   "outputs": [],
   "source": [
    "# Correlation matrix\n",
    "def plotCorrelationMatrix(df, graphWidth):\n",
    "    filename = df.dataframeName\n",
    "    df = df.dropna('columns') # drop columns with NaN\n",
    "    df = df[[col for col in df if df[col].nunique() > 1]] # keep columns where there are more than 1 unique values\n",
    "    if df.shape[1] < 2:\n",
    "        print(f'No correlation plots shown: The number of non-NaN or constant columns ({df.shape[1]}) is less than 2')\n",
    "        return\n",
    "    corr = df.corr()\n",
    "    plt.figure(num=None, figsize=(graphWidth, graphWidth), dpi=80, facecolor='w', edgecolor='k')\n",
    "    corrMat = plt.matshow(corr, fignum = 1)\n",
    "    plt.xticks(range(len(corr.columns)), corr.columns, rotation=90)\n",
    "    plt.yticks(range(len(corr.columns)), corr.columns)\n",
    "    plt.gca().xaxis.tick_bottom()\n",
    "    plt.colorbar(corrMat)\n",
    "    plt.title(f'Correlation Matrix for {filename}', fontsize=15)\n",
    "    plt.show()\n"
   ]
  },
  {
   "cell_type": "code",
   "execution_count": 5,
   "metadata": {
    "_kg_hide-input": true
   },
   "outputs": [],
   "source": [
    "# Scatter and density plots\n",
    "def plotScatterMatrix(df, plotSize, textSize):\n",
    "    df = df.select_dtypes(include =[np.number]) # keep only numerical columns\n",
    "    # Remove rows and columns that would lead to df being singular\n",
    "    df = df.dropna('columns')\n",
    "    df = df[[col for col in df if df[col].nunique() > 1]] # keep columns where there are more than 1 unique values\n",
    "    columnNames = list(df)\n",
    "    if len(columnNames) > 10: # reduce the number of columns for matrix inversion of kernel density plots\n",
    "        columnNames = columnNames[:10]\n",
    "    df = df[columnNames]\n",
    "    ax = pd.plotting.scatter_matrix(df, alpha=0.75, figsize=[plotSize, plotSize], diagonal='kde')\n",
    "    corrs = df.corr().values\n",
    "    for i, j in zip(*plt.np.triu_indices_from(ax, k = 1)):\n",
    "        ax[i, j].annotate('Corr. coef = %.3f' % corrs[i, j], (0.8, 0.2), xycoords='axes fraction', ha='center', va='center', size=textSize)\n",
    "    plt.suptitle('Scatter and Density Plot')\n",
    "    plt.show()\n"
   ]
  },
  {
   "cell_type": "markdown",
   "metadata": {},
   "source": [
    "Now you're ready to read in the data and use the plotting functions to visualize the data."
   ]
  },
  {
   "cell_type": "markdown",
   "metadata": {},
   "source": [
    "### Let's check 1st file: /kaggle/input/test.csv"
   ]
  },
  {
   "cell_type": "code",
   "execution_count": 6,
   "metadata": {
    "_kg_hide-input": false
   },
   "outputs": [
    {
     "name": "stdout",
     "output_type": "stream",
     "text": [
      "There are 10000 rows and 2 columns\n"
     ]
    }
   ],
   "source": [
    "nRowsRead = 10000 # specify 'None' if want to read whole file\n",
    "# test.csv may have more rows in reality, but we are only loading/previewing the first 1000 rows\n",
    "df1 = pd.read_csv('/kaggle/input/test.csv', delimiter=',', nrows = nRowsRead)\n",
    "df1.dataframeName = 'test.csv'\n",
    "nRow, nCol = df1.shape\n",
    "print(f'There are {nRow} rows and {nCol} columns')"
   ]
  },
  {
   "cell_type": "markdown",
   "metadata": {},
   "source": [
    "Let's take a quick look at what the data looks like:"
   ]
  },
  {
   "cell_type": "code",
   "execution_count": 7,
   "metadata": {
    "_kg_hide-input": false
   },
   "outputs": [
    {
     "data": {
      "text/html": [
       "<div>\n",
       "<style scoped>\n",
       "    .dataframe tbody tr th:only-of-type {\n",
       "        vertical-align: middle;\n",
       "    }\n",
       "\n",
       "    .dataframe tbody tr th {\n",
       "        vertical-align: top;\n",
       "    }\n",
       "\n",
       "    .dataframe thead th {\n",
       "        text-align: right;\n",
       "    }\n",
       "</style>\n",
       "<table border=\"1\" class=\"dataframe\">\n",
       "  <thead>\n",
       "    <tr style=\"text-align: right;\">\n",
       "      <th></th>\n",
       "      <th>headline</th>\n",
       "      <th>article</th>\n",
       "    </tr>\n",
       "  </thead>\n",
       "  <tbody>\n",
       "    <tr>\n",
       "      <th>0</th>\n",
       "      <td>पठानकोट पहुंचे PM मोदी, एयरबेस का जायजा ले बॉर...</td>\n",
       "      <td>प्रधानमंत्री नरेंद्र मोदी पठानकोट एयरबेस पहुंच...</td>\n",
       "    </tr>\n",
       "    <tr>\n",
       "      <th>1</th>\n",
       "      <td>सचिन ने देशवासियों को समर्पित किया अपना दोहरा शतक</td>\n",
       "      <td>सचिन तेंदुलकर ने एकदिवसीय अंतरराष्ट्रीय क्रिके...</td>\n",
       "    </tr>\n",
       "    <tr>\n",
       "      <th>2</th>\n",
       "      <td>एनआईए करेगी छत्तीसगढ़ में सुरक्षा खामियों की ज...</td>\n",
       "      <td>केंद्रीय गृह राज्य मंत्री आर. पी. एन. सिंह ने ...</td>\n",
       "    </tr>\n",
       "    <tr>\n",
       "      <th>3</th>\n",
       "      <td>सीधी बात:  शाह बोले- हमारा बस चलता तो अब तक मं...</td>\n",
       "      <td>भारतीय जनता पार्टी (बीजेपी) के राष्ट्रीय अध्यक...</td>\n",
       "    </tr>\n",
       "    <tr>\n",
       "      <th>4</th>\n",
       "      <td>ऋषभ पंत के पास यूनिक टैलेंट, उसके साथ छेड़छाड़ न...</td>\n",
       "      <td>ऋषभ पंत की कभी कभार इस बात के लिए आलोचना की जा...</td>\n",
       "    </tr>\n",
       "  </tbody>\n",
       "</table>\n",
       "</div>"
      ],
      "text/plain": [
       "                                            headline  \\\n",
       "0  पठानकोट पहुंचे PM मोदी, एयरबेस का जायजा ले बॉर...   \n",
       "1  सचिन ने देशवासियों को समर्पित किया अपना दोहरा शतक   \n",
       "2  एनआईए करेगी छत्तीसगढ़ में सुरक्षा खामियों की ज...   \n",
       "3  सीधी बात:  शाह बोले- हमारा बस चलता तो अब तक मं...   \n",
       "4  ऋषभ पंत के पास यूनिक टैलेंट, उसके साथ छेड़छाड़ न...   \n",
       "\n",
       "                                             article  \n",
       "0  प्रधानमंत्री नरेंद्र मोदी पठानकोट एयरबेस पहुंच...  \n",
       "1  सचिन तेंदुलकर ने एकदिवसीय अंतरराष्ट्रीय क्रिके...  \n",
       "2  केंद्रीय गृह राज्य मंत्री आर. पी. एन. सिंह ने ...  \n",
       "3  भारतीय जनता पार्टी (बीजेपी) के राष्ट्रीय अध्यक...  \n",
       "4  ऋषभ पंत की कभी कभार इस बात के लिए आलोचना की जा...  "
      ]
     },
     "execution_count": 7,
     "metadata": {},
     "output_type": "execute_result"
    }
   ],
   "source": [
    "df1.head(5)"
   ]
  },
  {
   "cell_type": "markdown",
   "metadata": {},
   "source": [
    "Distribution graphs (histogram/bar graph) of sampled columns:"
   ]
  },
  {
   "cell_type": "code",
   "execution_count": 8,
   "metadata": {
    "_kg_hide-input": false
   },
   "outputs": [
    {
     "data": {
      "text/plain": [
       "<Figure size 2400x512 with 0 Axes>"
      ]
     },
     "metadata": {},
     "output_type": "display_data"
    }
   ],
   "source": [
    "plotPerColumnDistribution(df1, 10, 5)"
   ]
  },
  {
   "cell_type": "markdown",
   "metadata": {},
   "source": [
    "### Let's check 2nd file: /kaggle/input/train.csv"
   ]
  },
  {
   "cell_type": "code",
   "execution_count": 9,
   "metadata": {
    "_kg_hide-input": false
   },
   "outputs": [
    {
     "name": "stdout",
     "output_type": "stream",
     "text": [
      "There are 100000 rows and 2 columns\n"
     ]
    }
   ],
   "source": [
    "nRowsRead = 100000 # specify 'None' if want to read whole file\n",
    "# train.csv may have more rows in reality, but we are only loading/previewing the first 1000 rows\n",
    "df = pd.read_csv('/kaggle/input/train.csv', delimiter=',', nrows = nRowsRead)\n",
    "df.dataframeName = 'train.csv'\n",
    "nRow, nCol = df.shape\n",
    "print(f'There are {nRow} rows and {nCol} columns')"
   ]
  },
  {
   "cell_type": "markdown",
   "metadata": {},
   "source": [
    "Let's take a quick look at what the data looks like:"
   ]
  },
  {
   "cell_type": "code",
   "execution_count": 10,
   "metadata": {
    "_kg_hide-input": false
   },
   "outputs": [
    {
     "data": {
      "text/html": [
       "<div>\n",
       "<style scoped>\n",
       "    .dataframe tbody tr th:only-of-type {\n",
       "        vertical-align: middle;\n",
       "    }\n",
       "\n",
       "    .dataframe tbody tr th {\n",
       "        vertical-align: top;\n",
       "    }\n",
       "\n",
       "    .dataframe thead th {\n",
       "        text-align: right;\n",
       "    }\n",
       "</style>\n",
       "<table border=\"1\" class=\"dataframe\">\n",
       "  <thead>\n",
       "    <tr style=\"text-align: right;\">\n",
       "      <th></th>\n",
       "      <th>headline</th>\n",
       "      <th>article</th>\n",
       "    </tr>\n",
       "  </thead>\n",
       "  <tbody>\n",
       "    <tr>\n",
       "      <th>0</th>\n",
       "      <td>EXCLUSIVE: दिल्ली में डीजल टैक्सियों पर बैन से...</td>\n",
       "      <td>दिल्ली में सुप्रीम कोर्ट के डीज़ल टैक्सियों को...</td>\n",
       "    </tr>\n",
       "    <tr>\n",
       "      <th>1</th>\n",
       "      <td>जॉर्डन: राष्ट्रपति मुखर्जी ने 86 करोड़ डॉलर के...</td>\n",
       "      <td>जॉर्डन के ऐतिहासिक दौरे पर पहुंचे राष्ट्रपति प...</td>\n",
       "    </tr>\n",
       "    <tr>\n",
       "      <th>2</th>\n",
       "      <td>UN में पाकिस्तान की राजदूत मलीहा लोधी ने कराई ...</td>\n",
       "      <td>पाकिस्तानी नेताओं को विवादित और हास्यास्पद बया...</td>\n",
       "    </tr>\n",
       "    <tr>\n",
       "      <th>3</th>\n",
       "      <td>38 देशों में पीएम नरेंद्र मोदी बायोपिक को रिली...</td>\n",
       "      <td>पीएम नरेंद्र मोदी बायोपिक में विवेक ओबेरॉय ने ...</td>\n",
       "    </tr>\n",
       "    <tr>\n",
       "      <th>4</th>\n",
       "      <td>13 अगस्त 2011: दिनभर की बड़ी खबरें पढ़ें</td>\n",
       "      <td>देश, दुनिया, महानगर, खेल, आर्थिक और बॉलीवुड मे...</td>\n",
       "    </tr>\n",
       "  </tbody>\n",
       "</table>\n",
       "</div>"
      ],
      "text/plain": [
       "                                            headline  \\\n",
       "0  EXCLUSIVE: दिल्ली में डीजल टैक्सियों पर बैन से...   \n",
       "1  जॉर्डन: राष्ट्रपति मुखर्जी ने 86 करोड़ डॉलर के...   \n",
       "2  UN में पाकिस्तान की राजदूत मलीहा लोधी ने कराई ...   \n",
       "3  38 देशों में पीएम नरेंद्र मोदी बायोपिक को रिली...   \n",
       "4           13 अगस्त 2011: दिनभर की बड़ी खबरें पढ़ें   \n",
       "\n",
       "                                             article  \n",
       "0  दिल्ली में सुप्रीम कोर्ट के डीज़ल टैक्सियों को...  \n",
       "1  जॉर्डन के ऐतिहासिक दौरे पर पहुंचे राष्ट्रपति प...  \n",
       "2  पाकिस्तानी नेताओं को विवादित और हास्यास्पद बया...  \n",
       "3  पीएम नरेंद्र मोदी बायोपिक में विवेक ओबेरॉय ने ...  \n",
       "4  देश, दुनिया, महानगर, खेल, आर्थिक और बॉलीवुड मे...  "
      ]
     },
     "execution_count": 10,
     "metadata": {},
     "output_type": "execute_result"
    }
   ],
   "source": [
    "df.head(5)"
   ]
  },
  {
   "cell_type": "code",
   "execution_count": 11,
   "metadata": {},
   "outputs": [
    {
     "data": {
      "text/html": [
       "<div>\n",
       "<style scoped>\n",
       "    .dataframe tbody tr th:only-of-type {\n",
       "        vertical-align: middle;\n",
       "    }\n",
       "\n",
       "    .dataframe tbody tr th {\n",
       "        vertical-align: top;\n",
       "    }\n",
       "\n",
       "    .dataframe thead th {\n",
       "        text-align: right;\n",
       "    }\n",
       "</style>\n",
       "<table border=\"1\" class=\"dataframe\">\n",
       "  <thead>\n",
       "    <tr style=\"text-align: right;\">\n",
       "      <th></th>\n",
       "      <th>headline</th>\n",
       "      <th>article</th>\n",
       "    </tr>\n",
       "  </thead>\n",
       "  <tbody>\n",
       "    <tr>\n",
       "      <th>count</th>\n",
       "      <td>99992</td>\n",
       "      <td>100000</td>\n",
       "    </tr>\n",
       "    <tr>\n",
       "      <th>unique</th>\n",
       "      <td>99510</td>\n",
       "      <td>99987</td>\n",
       "    </tr>\n",
       "    <tr>\n",
       "      <th>top</th>\n",
       "      <td>Tech Wrap: यहां जानें आज की 5 बड़ी खबरें</td>\n",
       "      <td>हमारे साझेदार 'अनरियल टाइम्स' की खास व्यंग्यात...</td>\n",
       "    </tr>\n",
       "    <tr>\n",
       "      <th>freq</th>\n",
       "      <td>159</td>\n",
       "      <td>3</td>\n",
       "    </tr>\n",
       "  </tbody>\n",
       "</table>\n",
       "</div>"
      ],
      "text/plain": [
       "                                        headline  \\\n",
       "count                                      99992   \n",
       "unique                                     99510   \n",
       "top     Tech Wrap: यहां जानें आज की 5 बड़ी खबरें   \n",
       "freq                                         159   \n",
       "\n",
       "                                                  article  \n",
       "count                                              100000  \n",
       "unique                                              99987  \n",
       "top     हमारे साझेदार 'अनरियल टाइम्स' की खास व्यंग्यात...  \n",
       "freq                                                    3  "
      ]
     },
     "execution_count": 11,
     "metadata": {},
     "output_type": "execute_result"
    }
   ],
   "source": [
    "df.describe()"
   ]
  },
  {
   "cell_type": "code",
   "execution_count": 12,
   "metadata": {},
   "outputs": [
    {
     "name": "stdout",
     "output_type": "stream",
     "text": [
      "<class 'pandas.core.frame.DataFrame'>\n",
      "RangeIndex: 100000 entries, 0 to 99999\n",
      "Data columns (total 2 columns):\n",
      "headline    99992 non-null object\n",
      "article     100000 non-null object\n",
      "dtypes: object(2)\n",
      "memory usage: 1.5+ MB\n"
     ]
    }
   ],
   "source": [
    "df.info()"
   ]
  },
  {
   "cell_type": "markdown",
   "metadata": {},
   "source": [
    "![Function to preprocess text](http://)"
   ]
  },
  {
   "cell_type": "code",
   "execution_count": 13,
   "metadata": {},
   "outputs": [],
   "source": [
    "import re\n",
    "def preprocess_tokenize(text):\n",
    "      # for removing punctuation from sentencesc\n",
    "    text = str(text)\n",
    "    text = re.sub(r'(\\d+)', r'', text)\n",
    "    \n",
    "    text = text.replace('\\n', '')\n",
    "    text = text.replace('\\r', '')\n",
    "    text = text.replace('\\t', '')\n",
    "    text = text.replace('\\u200d', '')\n",
    "    text=re.sub(\"(__+)\", ' ', str(text)).lower()   #remove _ if it occors more than one time consecutively\n",
    "    text=re.sub(\"(--+)\", ' ', str(text)).lower()   #remove - if it occors more than one time consecutively\n",
    "    text=re.sub(\"(~~+)\", ' ', str(text)).lower()   #remove ~ if it occors more than one time consecutively\n",
    "    text=re.sub(\"(\\+\\++)\", ' ', str(text)).lower()   #remove + if it occors more than one time consecutively\n",
    "    text=re.sub(\"(\\.\\.+)\", ' ', str(text)).lower()   #remove . if it occors more than one time consecutively\n",
    "        \n",
    "    text=re.sub(r\"[<>()|&©@#ø\\[\\]\\'\\\",;:?.~*!]\", ' ', str(text)).lower() #remove <>()|&©ø\"',;?~*!\n",
    "    text = re.sub(\"([a-zA-Z])\",' ',str(text)).lower()\n",
    "    text = re.sub(\"(\\s+)\",' ',str(text)).lower()\n",
    "    #text = text.split(' ')\n",
    "    #text = [x for x in text if(x!='')]\n",
    "    #text.insert(0,'<sos>')\n",
    "    #text.insert(len(text),'<eos>')\n",
    "    return text"
   ]
  },
  {
   "cell_type": "code",
   "execution_count": 14,
   "metadata": {},
   "outputs": [],
   "source": [
    "import pandas as pd\n",
    "import torch\n",
    "import random\n",
    "import numpy as np"
   ]
  },
  {
   "cell_type": "code",
   "execution_count": 15,
   "metadata": {},
   "outputs": [
    {
     "name": "stdout",
     "output_type": "stream",
     "text": [
      "cuda\n"
     ]
    }
   ],
   "source": [
    "\n",
    "#ensuring device is gpu\n",
    "\n",
    "device = torch.device('cuda' if torch.cuda.is_available() else 'cpu')\n",
    "print(device)"
   ]
  },
  {
   "cell_type": "code",
   "execution_count": 16,
   "metadata": {},
   "outputs": [],
   "source": [
    "train_data_src = df['headline']\n",
    "train_data_trg = df['article']"
   ]
  },
  {
   "cell_type": "code",
   "execution_count": 17,
   "metadata": {},
   "outputs": [],
   "source": [
    "tokenized_corpus_src = [preprocess_tokenize(x) for x in train_data_src]  #these are headlines\n",
    "tokenized_corpus_trg = [preprocess_tokenize(x) for x in train_data_trg] # these are articles\n"
   ]
  },
  {
   "cell_type": "code",
   "execution_count": 18,
   "metadata": {},
   "outputs": [
    {
     "data": {
      "image/png": "[encoded data removed]",
      "text/plain": [
       "<Figure size 432x288 with 2 Axes>"
      ]
     },
     "metadata": {
      "needs_background": "light"
     },
     "output_type": "display_data"
    }
   ],
   "source": [
    "import matplotlib.pyplot as plt\n",
    "\n",
    "text_word_count = []\n",
    "summary_word_count = []\n",
    "\n",
    "# populate the lists with sentence lengths\n",
    "for i in tokenized_corpus_trg:\n",
    "      text_word_count.append(len(i.split()))\n",
    "\n",
    "for i in tokenized_corpus_src:\n",
    "      summary_word_count.append(len(i.split()))\n",
    "\n",
    "length_df = pd.DataFrame({'text':text_word_count, 'summary':summary_word_count})\n",
    "\n",
    "length_df.hist(bins = 30)\n",
    "plt.show()"
   ]
  },
  {
   "cell_type": "markdown",
   "metadata": {},
   "source": [
    "Distribution graphs (histogram/bar graph) of sampled columns:"
   ]
  },
  {
   "cell_type": "code",
   "execution_count": 19,
   "metadata": {},
   "outputs": [
    {
     "name": "stdout",
     "output_type": "stream",
     "text": [
      "::::: Text_Cleaned :::::\n",
      "0    दिल्ली में सुप्रीम कोर्ट के डीज़ल टैक्सियों को...\n",
      "1    जॉर्डन के ऐतिहासिक दौरे पर पहुंचे राष्ट्रपति प...\n",
      "2    पाकिस्तानी नेताओं को विवादित और हास्यास्पद बया...\n",
      "3    पीएम नरेंद्र मोदी बायोपिक में विवेक ओबेरॉय ने ...\n",
      "4    देश दुनिया महानगर खेल आर्थिक और बॉलीवुड में क्...\n",
      "Name: Text_Cleaned, dtype: object \n",
      "\n",
      "::::: Summary :::::\n",
      "0     दिल्ली में डीजल टैक्सियों पर बैन से मुश्किल म...\n",
      "1    जॉर्डन राष्ट्रपति मुखर्जी ने करोड़ डॉलर के संय...\n",
      "2     में पाकिस्तान की राजदूत मलीहा लोधी ने कराई फज...\n",
      "3     देशों में पीएम नरेंद्र मोदी बायोपिक को रिलीज ...\n",
      "4                      अगस्त दिनभर की बड़ी खबरें पढ़ें\n",
      "Name: Summary_Cleaned, dtype: object \n",
      "\n"
     ]
    }
   ],
   "source": [
    "df['Text_Cleaned'] = tokenized_corpus_trg  \n",
    "print(\"::::: Text_Cleaned :::::\")\n",
    "print(df['Text_Cleaned'][0:5], \"\\n\")\n",
    "\n",
    "\n",
    "df['Summary_Cleaned'] =  tokenized_corpus_src \n",
    "print(\"::::: Summary :::::\")\n",
    "print(df['Summary_Cleaned'][0:5], \"\\n\")\n",
    "\n",
    "corpus = list(df['Text_Cleaned'])"
   ]
  },
  {
   "cell_type": "code",
   "execution_count": 20,
   "metadata": {},
   "outputs": [
    {
     "name": "stdout",
     "output_type": "stream",
     "text": [
      "दिल्ली में सुप्रीम कोर्ट के डीज़ल टैक्सियों को बंद करने के फैसले के बाद हजारों टैक्सी ड्राइवरों की रोजी रोटी पर तो असर पड़ा ही है लेकिन अब दिल्ली पर एक और नई मुसीबत आ गई है चुनाव आयोग राजधानी के वार्ड में उपचुनाव करवा रहा है लेकिन चुनावों से दो हफ्ते पहले चुनाव आयोग में कामकाज ठप्प हो गया है कमीशन ने किराए पर ली थी डीजल गाड़ियांदरअसल कमीशन ने लगभग सौ गाड़ियां चुनाव के कामकाज को करने के लिए किराए पर लीं जिनमें सभीडीज़ल से चलने वाली टैक्सीथी इन्हीं टैक्सियों से चुनाव अधिकारी से लेकर चुनावों का जिम्मा संभालने वाले बाकी कर्मचारी भी एक जगह से दूसरी जगह आते जाते थे अचानक चुनावों से ठीक पहले आई इस परेशानी ने दिल्ली चुनाव आयोग का कामकाज ही ठप्प कर दिया है रियायत के लिए की जा सकती है मांगदिल्ली के राज्य चुनाव अधिकारी राकेश मेहता ने इस मुश्किल का रास्ता निकालने के लिए मंगलवार को दिल्ली के पुलिस कमिश्नर और ट्रांसपोर्ट कमिश्नर की बैठक बुलाई है इस बैठक में राज्य चुनाव आयुक्त मई को होने वाले चुनावों को लेकरगाड़ियों की उपलब्धताको लेकर पुलिस और सरकार से समाधान निकालने के लिए भी कहेंगे चुनाव आयोग इन दोनों एजेंसियों को कह सकता है कि चूंकि चुनाव में अब दो हफ्ते का भी वक्त नहीं बचा है ऐसे में इन गाड़ियों को बैन से रियायत दी जाए \n"
     ]
    }
   ],
   "source": [
    "print(df['Text_Cleaned'][0])\n"
   ]
  },
  {
   "cell_type": "code",
   "execution_count": 21,
   "metadata": {},
   "outputs": [
    {
     "name": "stdout",
     "output_type": "stream",
     "text": [
      " दिल्ली में डीजल टैक्सियों पर बैन से मुश्किल में पड़ा चुनाव आयोग\n"
     ]
    }
   ],
   "source": [
    "print(df['Summary_Cleaned'][0])\n"
   ]
  },
  {
   "cell_type": "code",
   "execution_count": 22,
   "metadata": {},
   "outputs": [],
   "source": [
    "text_count = []\n",
    "summary_count = []\n",
    "\n",
    "for sent in df['Text_Cleaned']:\n",
    "    text_count.append(len(sent.split()))\n",
    "for sent in df['Summary_Cleaned']:\n",
    "    summary_count.append(len(sent.split()))\n",
    "\n",
    "graph_df = pd.DataFrame()\n",
    "graph_df['text'] = text_count\n",
    "graph_df['summary'] = summary_count"
   ]
  },
  {
   "cell_type": "code",
   "execution_count": 23,
   "metadata": {},
   "outputs": [
    {
     "data": {
      "text/plain": [
       "count    100000.000000\n",
       "mean        345.238200\n",
       "std         308.739341\n",
       "min           0.000000\n",
       "25%         195.000000\n",
       "50%         280.000000\n",
       "75%         395.000000\n",
       "max        8505.000000\n",
       "Name: text, dtype: float64"
      ]
     },
     "execution_count": 23,
     "metadata": {},
     "output_type": "execute_result"
    }
   ],
   "source": [
    "graph_df['text'].describe()\n"
   ]
  },
  {
   "cell_type": "code",
   "execution_count": 24,
   "metadata": {},
   "outputs": [
    {
     "data": {
      "text/plain": [
       "count    100000.00000\n",
       "mean         10.84903\n",
       "std           2.97927\n",
       "min           0.00000\n",
       "25%           9.00000\n",
       "50%          11.00000\n",
       "75%          13.00000\n",
       "max          22.00000\n",
       "Name: summary, dtype: float64"
      ]
     },
     "execution_count": 24,
     "metadata": {},
     "output_type": "execute_result"
    }
   ],
   "source": [
    "graph_df['summary'].describe()\n"
   ]
  },
  {
   "cell_type": "code",
   "execution_count": 25,
   "metadata": {},
   "outputs": [
    {
     "data": {
      "image/png": "[encoded data removed]",
      "text/plain": [
       "<Figure size 432x288 with 1 Axes>"
      ]
     },
     "metadata": {
      "needs_background": "light"
     },
     "output_type": "display_data"
    }
   ],
   "source": [
    "graph_df['text'].hist(bins = 25, range=(0, 300))\n",
    "plt.show()"
   ]
  },
  {
   "cell_type": "code",
   "execution_count": 26,
   "metadata": {},
   "outputs": [
    {
     "data": {
      "image/png": "[encoded data removed]",
      "text/plain": [
       "<Figure size 432x288 with 1 Axes>"
      ]
     },
     "metadata": {
      "needs_background": "light"
     },
     "output_type": "display_data"
    }
   ],
   "source": [
    "graph_df['summary'].hist(bins = 15, range=(0, 20))\n",
    "plt.show()"
   ]
  },
  {
   "cell_type": "code",
   "execution_count": 27,
   "metadata": {},
   "outputs": [
    {
     "name": "stdout",
     "output_type": "stream",
     "text": [
      "0.55835\n"
     ]
    }
   ],
   "source": [
    "count = 0\n",
    "for i in graph_df['text']:\n",
    "    if i > 10 and i <= 300:\n",
    "        count = count + 1\n",
    "print(count / len(graph_df['text']))"
   ]
  },
  {
   "cell_type": "code",
   "execution_count": 28,
   "metadata": {},
   "outputs": [
    {
     "name": "stdout",
     "output_type": "stream",
     "text": [
      "0.97472\n"
     ]
    }
   ],
   "source": [
    "count = 0\n",
    "for i in graph_df['summary']:\n",
    "    if i > 1 and i <= 16:\n",
    "        count = count + 1\n",
    "print(count / len(graph_df['summary']))"
   ]
  },
  {
   "cell_type": "code",
   "execution_count": 29,
   "metadata": {},
   "outputs": [],
   "source": [
    "max_text_len = 300\n",
    "max_summary_len = 16\n"
   ]
  },
  {
   "cell_type": "code",
   "execution_count": 30,
   "metadata": {},
   "outputs": [],
   "source": [
    "cleaned_text = np.array(df['Text_Cleaned'])\n",
    "cleaned_summary = np.array(df['Summary_Cleaned'])\n",
    "\n",
    "short_text = []\n",
    "short_summary = []\n",
    "\n",
    "for i in range(len(cleaned_text)):\n",
    "    if(len(cleaned_summary[i].split()) <= max_summary_len \n",
    "       and len(cleaned_summary[i].split()) > 1 \n",
    "       and len(cleaned_text[i].split()) <= max_text_len ):\n",
    "        short_text.append(cleaned_text[i])\n",
    "        short_summary.append(cleaned_summary[i])\n",
    "        \n",
    "post_pre = pd.DataFrame({'text':short_text,'summary':short_summary})"
   ]
  },
  {
   "cell_type": "code",
   "execution_count": 31,
   "metadata": {},
   "outputs": [],
   "source": [
    "post_pre['summary'] = post_pre['summary'].apply(lambda x : 'sostok '+ x + ' eostok')"
   ]
  },
  {
   "cell_type": "code",
   "execution_count": 32,
   "metadata": {},
   "outputs": [
    {
     "data": {
      "text/plain": [
       "(54952, 2)"
      ]
     },
     "execution_count": 32,
     "metadata": {},
     "output_type": "execute_result"
    }
   ],
   "source": [
    "post_pre.shape"
   ]
  },
  {
   "cell_type": "code",
   "execution_count": 33,
   "metadata": {},
   "outputs": [
    {
     "data": {
      "text/html": [
       "<div>\n",
       "<style scoped>\n",
       "    .dataframe tbody tr th:only-of-type {\n",
       "        vertical-align: middle;\n",
       "    }\n",
       "\n",
       "    .dataframe tbody tr th {\n",
       "        vertical-align: top;\n",
       "    }\n",
       "\n",
       "    .dataframe thead th {\n",
       "        text-align: right;\n",
       "    }\n",
       "</style>\n",
       "<table border=\"1\" class=\"dataframe\">\n",
       "  <thead>\n",
       "    <tr style=\"text-align: right;\">\n",
       "      <th></th>\n",
       "      <th>text</th>\n",
       "      <th>summary</th>\n",
       "    </tr>\n",
       "  </thead>\n",
       "  <tbody>\n",
       "    <tr>\n",
       "      <th>0</th>\n",
       "      <td>दिल्ली में सुप्रीम कोर्ट के डीज़ल टैक्सियों को...</td>\n",
       "      <td>sostok  दिल्ली में डीजल टैक्सियों पर बैन से मु...</td>\n",
       "    </tr>\n",
       "    <tr>\n",
       "      <th>1</th>\n",
       "      <td>पाकिस्तानी नेताओं को विवादित और हास्यास्पद बया...</td>\n",
       "      <td>sostok  में पाकिस्तान की राजदूत मलीहा लोधी ने ...</td>\n",
       "    </tr>\n",
       "    <tr>\n",
       "      <th>2</th>\n",
       "      <td>पाकिस्तान के तेज गेंदबाजहसन अलीने कहा किएशिया ...</td>\n",
       "      <td>sostok एशिया कप से पहले बोला बॉलर- हार के बाद ...</td>\n",
       "    </tr>\n",
       "    <tr>\n",
       "      <th>3</th>\n",
       "      <td>महाराष्ट्र के अहमदनगर एमआईडीसी में फोर्ट शोरूम...</td>\n",
       "      <td>sostok शोरूम मालिक से करोड़ की फिरौती मांगा सा...</td>\n",
       "    </tr>\n",
       "    <tr>\n",
       "      <th>4</th>\n",
       "      <td>आपने शानदार पार्टी के साथ का आगाज तो कर लिया ह...</td>\n",
       "      <td>sostok  जानें- इस साल कब-कब होंगे ड्राई-डे देख...</td>\n",
       "    </tr>\n",
       "    <tr>\n",
       "      <th>...</th>\n",
       "      <td>...</td>\n",
       "      <td>...</td>\n",
       "    </tr>\n",
       "    <tr>\n",
       "      <th>54947</th>\n",
       "      <td>कई लोग ऑफिस में काम के अधिक प्रेशर और जल्दी का...</td>\n",
       "      <td>sostok लंबे समय तक बैठे रहते हैं सेहत को होगा ...</td>\n",
       "    </tr>\n",
       "    <tr>\n",
       "      <th>54948</th>\n",
       "      <td>जाने-माने कॉमेडियन कपिल शर्मा के आने वाले शो क...</td>\n",
       "      <td>sostok  द कपिल शर्मा शो के प्रोमो को अब तक देख...</td>\n",
       "    </tr>\n",
       "    <tr>\n",
       "      <th>54949</th>\n",
       "      <td>टीवी टीआरपी पर टॉप पर रहने वाले शो कुंडली भाग्...</td>\n",
       "      <td>sostok टॉवल डांस कर रही थी कुंडली भाग्य की एक्...</td>\n",
       "    </tr>\n",
       "    <tr>\n",
       "      <th>54950</th>\n",
       "      <td>दिल्ली के द्वारका सेक्टर- इलाके में संदिग्ध हा...</td>\n",
       "      <td>sostok दिल्ली में संदिग्ध हालत में मिली लड़की ...</td>\n",
       "    </tr>\n",
       "    <tr>\n",
       "      <th>54951</th>\n",
       "      <td>अमेरिका ने म्यांमार पर लगे व्यापारिक प्रतिबंधो...</td>\n",
       "      <td>sostok अमेरिका ने म्यांमार पर प्रतिबंधों की अव...</td>\n",
       "    </tr>\n",
       "  </tbody>\n",
       "</table>\n",
       "<p>54952 rows × 2 columns</p>\n",
       "</div>"
      ],
      "text/plain": [
       "                                                    text  \\\n",
       "0      दिल्ली में सुप्रीम कोर्ट के डीज़ल टैक्सियों को...   \n",
       "1      पाकिस्तानी नेताओं को विवादित और हास्यास्पद बया...   \n",
       "2      पाकिस्तान के तेज गेंदबाजहसन अलीने कहा किएशिया ...   \n",
       "3      महाराष्ट्र के अहमदनगर एमआईडीसी में फोर्ट शोरूम...   \n",
       "4      आपने शानदार पार्टी के साथ का आगाज तो कर लिया ह...   \n",
       "...                                                  ...   \n",
       "54947  कई लोग ऑफिस में काम के अधिक प्रेशर और जल्दी का...   \n",
       "54948  जाने-माने कॉमेडियन कपिल शर्मा के आने वाले शो क...   \n",
       "54949  टीवी टीआरपी पर टॉप पर रहने वाले शो कुंडली भाग्...   \n",
       "54950  दिल्ली के द्वारका सेक्टर- इलाके में संदिग्ध हा...   \n",
       "54951  अमेरिका ने म्यांमार पर लगे व्यापारिक प्रतिबंधो...   \n",
       "\n",
       "                                                 summary  \n",
       "0      sostok  दिल्ली में डीजल टैक्सियों पर बैन से मु...  \n",
       "1      sostok  में पाकिस्तान की राजदूत मलीहा लोधी ने ...  \n",
       "2      sostok एशिया कप से पहले बोला बॉलर- हार के बाद ...  \n",
       "3      sostok शोरूम मालिक से करोड़ की फिरौती मांगा सा...  \n",
       "4      sostok  जानें- इस साल कब-कब होंगे ड्राई-डे देख...  \n",
       "...                                                  ...  \n",
       "54947  sostok लंबे समय तक बैठे रहते हैं सेहत को होगा ...  \n",
       "54948  sostok  द कपिल शर्मा शो के प्रोमो को अब तक देख...  \n",
       "54949  sostok टॉवल डांस कर रही थी कुंडली भाग्य की एक्...  \n",
       "54950  sostok दिल्ली में संदिग्ध हालत में मिली लड़की ...  \n",
       "54951  sostok अमेरिका ने म्यांमार पर प्रतिबंधों की अव...  \n",
       "\n",
       "[54952 rows x 2 columns]"
      ]
     },
     "execution_count": 33,
     "metadata": {},
     "output_type": "execute_result"
    }
   ],
   "source": [
    "post_pre"
   ]
  },
  {
   "cell_type": "code",
   "execution_count": 34,
   "metadata": {},
   "outputs": [
    {
     "name": "stderr",
     "output_type": "stream",
     "text": [
      "Using TensorFlow backend.\n"
     ]
    }
   ],
   "source": [
    "from sklearn.model_selection import train_test_split\n",
    "from keras.preprocessing.text import Tokenizer \n",
    "from keras.preprocessing.sequence import pad_sequences\n",
    "\n",
    "# train test split\n",
    "x_tr,x_test,y_tr,y_test = train_test_split(np.array(post_pre['text']),\n",
    "                                         np.array(post_pre['summary']),\n",
    "                                         test_size = 0.2,\n",
    "                                         random_state = 0,\n",
    "                                         shuffle = True)\n",
    "# train validation split\n",
    "x_tr,x_val,y_tr,y_val = train_test_split(x_tr,\n",
    "                                         y_tr,\n",
    "                                         test_size = 0.2,\n",
    "                                         random_state = 0,\n",
    "                                         shuffle = True)"
   ]
  },
  {
   "cell_type": "code",
   "execution_count": 35,
   "metadata": {},
   "outputs": [
    {
     "data": {
      "text/plain": [
       "(35168,)"
      ]
     },
     "execution_count": 35,
     "metadata": {},
     "output_type": "execute_result"
    }
   ],
   "source": [
    "x_tr.shape"
   ]
  },
  {
   "cell_type": "code",
   "execution_count": 36,
   "metadata": {},
   "outputs": [
    {
     "data": {
      "text/plain": [
       "(10991,)"
      ]
     },
     "execution_count": 36,
     "metadata": {},
     "output_type": "execute_result"
    }
   ],
   "source": [
    "x_test.shape"
   ]
  },
  {
   "cell_type": "code",
   "execution_count": 37,
   "metadata": {},
   "outputs": [
    {
     "data": {
      "text/plain": [
       "(8793,)"
      ]
     },
     "execution_count": 37,
     "metadata": {},
     "output_type": "execute_result"
    }
   ],
   "source": [
    "x_val.shape\n"
   ]
  },
  {
   "cell_type": "markdown",
   "metadata": {},
   "source": [
    "Text Preprocessing (Rare Word Analysis)\n",
    "tot_cnt = Size of vocabulary (unique words in the text)\n",
    "\n",
    "cnt = No. of rare words whose count falls below threshold\n",
    "\n",
    "tot_cnt - cnt = The top most common words"
   ]
  },
  {
   "cell_type": "code",
   "execution_count": 38,
   "metadata": {},
   "outputs": [],
   "source": [
    "# Tokenize text to get the vocab count\n",
    "#prepare a tokenizer for training data\n",
    "x_tokenizer = Tokenizer() \n",
    "x_tokenizer.fit_on_texts(list(x_tr))\n",
    "\n",
    "#prepare a tokenizer for reviews on training data\n",
    "y_tokenizer = Tokenizer()   \n",
    "y_tokenizer.fit_on_texts(list(y_tr))"
   ]
  },
  {
   "cell_type": "markdown",
   "metadata": {},
   "source": [
    "thresh = 4\n",
    "cnt = 0\n",
    "# tot_cnt = 0\n",
    "tot_cnt = len(x_tokenizer.word_counts)\n",
    "freq = 0\n",
    "tot_freq = 0\n",
    "\n",
    "keys = []\n",
    "values = []\n",
    "\n",
    "for key,value in x_tokenizer.word_counts.items():\n",
    "    keys.append(key)\n",
    "    values.append(value)\n",
    "    if(value < thresh):\n",
    "        cnt = cnt + 1\n",
    "\n",
    "df_frequency = pd.DataFrame({'word':keys,'frequency':values})\n",
    "df_frequency.sort_values(by='frequency', ascending=False, inplace=True)\n",
    "df_frequency.reset_index(inplace=True, drop=0)\n",
    "df_frequency"
   ]
  },
  {
   "cell_type": "code",
   "execution_count": 39,
   "metadata": {},
   "outputs": [
    {
     "name": "stdout",
     "output_type": "stream",
     "text": [
      "% of rare words in vocabulary: 77.17079038460308\n",
      "Total Coverage of rare words: 2.1891748297952827\n"
     ]
    }
   ],
   "source": [
    "thresh=4\n",
    "\n",
    "cnt=0\n",
    "tot_cnt=0\n",
    "freq=0\n",
    "tot_freq=0\n",
    "\n",
    "for key,value in x_tokenizer.word_counts.items():\n",
    "    tot_cnt=tot_cnt+1\n",
    "    tot_freq=tot_freq+value\n",
    "    if(value<thresh):\n",
    "        cnt=cnt+1\n",
    "        freq=freq+value\n",
    "    \n",
    "print(\"% of rare words in vocabulary:\",(cnt/tot_cnt)*100)\n",
    "print(\"Total Coverage of rare words:\",(freq/tot_freq)*100)"
   ]
  },
  {
   "cell_type": "markdown",
   "metadata": {},
   "source": [
    "print(\"% Rare words in vocabulary:\",(cnt / tot_cnt) * 100)\n",
    "tot_cnt, cnt"
   ]
  },
  {
   "cell_type": "code",
   "execution_count": 40,
   "metadata": {},
   "outputs": [],
   "source": [
    "import numpy as np\n",
    "import pandas as pd\n",
    "import seaborn as sns\n",
    "import matplotlib.pyplot as plt\n",
    "from time import time\n"
   ]
  },
  {
   "cell_type": "markdown",
   "metadata": {},
   "source": [
    "fig, ax = plt.subplots(figsize=(6,10), ncols=1, nrows=1)\n",
    "sns.barplot(x='frequency',y='word',data=df_frequency[:20], palette='Reds_r', ax=ax);"
   ]
  },
  {
   "cell_type": "code",
   "execution_count": 41,
   "metadata": {},
   "outputs": [
    {
     "name": "stdout",
     "output_type": "stream",
     "text": [
      "Size of vocabulary in X = 35681\n"
     ]
    }
   ],
   "source": [
    "#prepare a tokenizer for reviews on training data\n",
    "x_tokenizer = Tokenizer(num_words = tot_cnt - cnt) \n",
    "x_tokenizer.fit_on_texts(list(x_tr))\n",
    "\n",
    "#convert text sequences into integer sequences (i.e one-hot encodeing all the words)\n",
    "x_tr_seq    =   x_tokenizer.texts_to_sequences(x_tr) \n",
    "x_val_seq   =   x_tokenizer.texts_to_sequences(x_val)\n",
    "x_test_seq = x_tokenizer.texts_to_sequences(x_test)\n",
    "\n",
    "#padding zero upto maximum length\n",
    "x_tr    =   pad_sequences(x_tr_seq,  maxlen=max_text_len, padding='post')\n",
    "x_val   =   pad_sequences(x_val_seq, maxlen=max_text_len, padding='post')\n",
    "x_test = pad_sequences(x_test_seq, maxlen=max_text_len, padding='post')\n",
    "\n",
    "#size of vocabulary ( +1 for padding token)\n",
    "x_voc   =  x_tokenizer.num_words + 1\n",
    "\n",
    "print(\"Size of vocabulary in X = {}\".format(x_voc))"
   ]
  },
  {
   "cell_type": "markdown",
   "metadata": {},
   "source": [
    "thresh = 6\n",
    "cnt = 0\n",
    "tot_cnt = len(y_tokenizer.word_counts)\n",
    "freq = 0\n",
    "tot_freq = 0\n",
    "\n",
    "keys = []\n",
    "values = []\n",
    "\n",
    "for key,value in y_tokenizer.word_counts.items():\n",
    "    keys.append(key)\n",
    "    values.append(value)\n",
    "    if(value < thresh):\n",
    "        cnt = cnt + 1\n",
    "\n",
    "df_frequency = pd.DataFrame({'word':keys,'frequency':values})\n",
    "df_frequency.sort_values(by='frequency', ascending=False, inplace=True)\n",
    "df_frequency.reset_index(inplace=True, drop=0)\n",
    "df_frequency"
   ]
  },
  {
   "cell_type": "code",
   "execution_count": 42,
   "metadata": {},
   "outputs": [
    {
     "name": "stdout",
     "output_type": "stream",
     "text": [
      "% of rare words in vocabulary: 73.40125457836905\n",
      "Total Coverage of rare words: 7.2548202671110795\n"
     ]
    }
   ],
   "source": [
    "thresh=6\n",
    "\n",
    "cnt=0\n",
    "tot_cnt=0\n",
    "freq=0\n",
    "tot_freq=0\n",
    "\n",
    "for key,value in y_tokenizer.word_counts.items():\n",
    "    tot_cnt=tot_cnt+1\n",
    "    tot_freq=tot_freq+value\n",
    "    if(value<thresh):\n",
    "        cnt=cnt+1\n",
    "        freq=freq+value\n",
    "    \n",
    "print(\"% of rare words in vocabulary:\",(cnt/tot_cnt)*100)\n",
    "print(\"Total Coverage of rare words:\",(freq/tot_freq)*100)"
   ]
  },
  {
   "cell_type": "markdown",
   "metadata": {},
   "source": [
    "print(\"% Rare words in vocabulary:\",(cnt / tot_cnt) * 100)\n",
    "tot_cnt, cnt"
   ]
  },
  {
   "cell_type": "markdown",
   "metadata": {},
   "source": [
    "fig, ax = plt.subplots(figsize=(6,10), ncols=1, nrows=1)\n",
    "sns.barplot(x='frequency',y='word',data=df_frequency[3:20], palette='Reds_r', ax=ax);"
   ]
  },
  {
   "cell_type": "code",
   "execution_count": 43,
   "metadata": {},
   "outputs": [
    {
     "name": "stdout",
     "output_type": "stream",
     "text": [
      "Size of vocabulary in Y = 6319\n"
     ]
    }
   ],
   "source": [
    "#prepare a tokenizer for reviews on training data\n",
    "y_tokenizer = Tokenizer(num_words = tot_cnt-cnt) \n",
    "y_tokenizer.fit_on_texts(list(y_tr))\n",
    "\n",
    "#convert text sequences into integer sequences (i.e one hot encode the text in Y)\n",
    "y_tr_seq    =   y_tokenizer.texts_to_sequences(y_tr) \n",
    "y_val_seq   =   y_tokenizer.texts_to_sequences(y_val) \n",
    "y_test_seq = y_tokenizer.texts_to_sequences(y_test) \n",
    "\n",
    "#padding zero upto maximum length\n",
    "y_tr    =   pad_sequences(y_tr_seq, maxlen=max_summary_len, padding='post')\n",
    "y_val   =   pad_sequences(y_val_seq, maxlen=max_summary_len, padding='post')\n",
    "y_test = pad_sequences(y_test_seq, maxlen=max_summary_len, padding='post')\n",
    "\n",
    "#size of vocabulary\n",
    "y_voc  =   y_tokenizer.num_words +1\n",
    "print(\"Size of vocabulary in Y = {}\".format(y_voc))"
   ]
  },
  {
   "cell_type": "code",
   "execution_count": 44,
   "metadata": {},
   "outputs": [
    {
     "data": {
      "text/plain": [
       "(35168, 35168)"
      ]
     },
     "execution_count": 44,
     "metadata": {},
     "output_type": "execute_result"
    }
   ],
   "source": [
    "y_tokenizer.word_counts['sostok'],len(y_tr)\n"
   ]
  },
  {
   "cell_type": "code",
   "execution_count": 45,
   "metadata": {},
   "outputs": [],
   "source": [
    "from tensorflow.keras.backend import clear_session\n",
    "import tensorflow as tf\n",
    "import gensim\n",
    "from numpy import *\n",
    "import numpy as np\n",
    "import pandas as pd \n",
    "import re\n",
    "from bs4 import BeautifulSoup\n",
    "from keras.preprocessing.text import Tokenizer \n",
    "from keras.preprocessing.sequence import pad_sequences\n",
    "from nltk.corpus import stopwords\n",
    "from tensorflow.keras.layers import Input, LSTM, Embedding, Dense, Concatenate, TimeDistributed\n",
    "from tensorflow.keras.models import Model\n",
    "from tensorflow.keras.callbacks import EarlyStopping\n",
    "import warnings\n",
    "warnings.filterwarnings(\"ignore\")\n"
   ]
  },
  {
   "cell_type": "code",
   "execution_count": 46,
   "metadata": {},
   "outputs": [],
   "source": [
    "ind=[]\n",
    "for i in range(len(y_tr)):\n",
    "    cnt=0\n",
    "    for j in y_tr[i]:\n",
    "        if j!=0:\n",
    "            cnt=cnt+1\n",
    "    if(cnt==2):\n",
    "        ind.append(i)\n",
    "\n",
    "y_tr=np.delete(y_tr,ind, axis=0)\n",
    "x_tr=np.delete(x_tr,ind, axis=0)"
   ]
  },
  {
   "cell_type": "code",
   "execution_count": 47,
   "metadata": {},
   "outputs": [],
   "source": [
    "ind=[]\n",
    "for i in range(len(y_val)):\n",
    "    cnt=0\n",
    "    for j in y_val[i]:\n",
    "        if j!=0:\n",
    "            cnt=cnt+1\n",
    "    if(cnt==2):\n",
    "        ind.append(i)\n",
    "\n",
    "y_val=np.delete(y_val,ind, axis=0)\n",
    "x_val=np.delete(x_val,ind, axis=0)"
   ]
  },
  {
   "cell_type": "code",
   "execution_count": 48,
   "metadata": {},
   "outputs": [],
   "source": [
    "import tensorflow as tf\n",
    "import os\n",
    "from tensorflow.python.keras.layers import Layer\n",
    "from tensorflow.python.keras import backend as K\n",
    "\n",
    "\n",
    "class AttentionLayer(Layer):\n",
    "    \"\"\"\n",
    "    This class implements Bahdanau attention (https://arxiv.org/pdf/1409.0473.pdf).\n",
    "    There are three sets of weights introduced W_a, U_a, and V_a\n",
    "     \"\"\"\n",
    "\n",
    "    def __init__(self, **kwargs):\n",
    "        super(AttentionLayer, self).__init__(**kwargs)\n",
    "\n",
    "    def build(self, input_shape):\n",
    "        assert isinstance(input_shape, list)\n",
    "        # Create a trainable weight variable for this layer.\n",
    "\n",
    "        self.W_a = self.add_weight(name='W_a',\n",
    "                                   shape=tf.TensorShape((input_shape[0][2], input_shape[0][2])),\n",
    "                                   initializer='uniform',\n",
    "                                   trainable=True)\n",
    "        self.U_a = self.add_weight(name='U_a',\n",
    "                                   shape=tf.TensorShape((input_shape[1][2], input_shape[0][2])),\n",
    "                                   initializer='uniform',\n",
    "                                   trainable=True)\n",
    "        self.V_a = self.add_weight(name='V_a',\n",
    "                                   shape=tf.TensorShape((input_shape[0][2], 1)),\n",
    "                                   initializer='uniform',\n",
    "                                   trainable=True)\n",
    "\n",
    "        super(AttentionLayer, self).build(input_shape)  # Be sure to call this at the end\n",
    "\n",
    "    def call(self, inputs, verbose=False):\n",
    "        \"\"\"\n",
    "        inputs: [encoder_output_sequence, decoder_output_sequence]\n",
    "        \"\"\"\n",
    "        assert type(inputs) == list\n",
    "        encoder_out_seq, decoder_out_seq = inputs\n",
    "        if verbose:\n",
    "            print('encoder_out_seq>', encoder_out_seq.shape)\n",
    "            print('decoder_out_seq>', decoder_out_seq.shape)\n",
    "\n",
    "        def energy_step(inputs, states):\n",
    "            \"\"\" Step function for computing energy for a single decoder state \"\"\"\n",
    "\n",
    "            assert_msg = \"States must be a list. However states {} is of type {}\".format(states, type(states))\n",
    "            assert isinstance(states, list) or isinstance(states, tuple), assert_msg\n",
    "\n",
    "            \"\"\" Some parameters required for shaping tensors\"\"\"\n",
    "            en_seq_len, en_hidden = encoder_out_seq.shape[1], encoder_out_seq.shape[2]\n",
    "            de_hidden = inputs.shape[-1]\n",
    "\n",
    "            \"\"\" Computing S.Wa where S=[s0, s1, ..., si]\"\"\"\n",
    "            # <= batch_size*en_seq_len, latent_dim\n",
    "            reshaped_enc_outputs = K.reshape(encoder_out_seq, (-1, en_hidden))\n",
    "            # <= batch_size*en_seq_len, latent_dim\n",
    "            W_a_dot_s = K.reshape(K.dot(reshaped_enc_outputs, self.W_a), (-1, en_seq_len, en_hidden))\n",
    "            if verbose:\n",
    "                print('wa.s>',W_a_dot_s.shape)\n",
    "\n",
    "            \"\"\" Computing hj.Ua \"\"\"\n",
    "            U_a_dot_h = K.expand_dims(K.dot(inputs, self.U_a), 1)  # <= batch_size, 1, latent_dim\n",
    "            if verbose:\n",
    "                print('Ua.h>',U_a_dot_h.shape)\n",
    "\n",
    "            \"\"\" tanh(S.Wa + hj.Ua) \"\"\"\n",
    "            # <= batch_size*en_seq_len, latent_dim\n",
    "            reshaped_Ws_plus_Uh = K.tanh(K.reshape(W_a_dot_s + U_a_dot_h, (-1, en_hidden)))\n",
    "            if verbose:\n",
    "                print('Ws+Uh>', reshaped_Ws_plus_Uh.shape)\n",
    "\n",
    "            \"\"\" softmax(va.tanh(S.Wa + hj.Ua)) \"\"\"\n",
    "            # <= batch_size, en_seq_len\n",
    "            e_i = K.reshape(K.dot(reshaped_Ws_plus_Uh, self.V_a), (-1, en_seq_len))\n",
    "            # <= batch_size, en_seq_len\n",
    "            e_i = K.softmax(e_i)\n",
    "\n",
    "            if verbose:\n",
    "                print('ei>', e_i.shape)\n",
    "\n",
    "            return e_i, [e_i]\n",
    "\n",
    "        def context_step(inputs, states):\n",
    "            \"\"\" Step function for computing ci using ei \"\"\"\n",
    "            # <= batch_size, hidden_size\n",
    "            c_i = K.sum(encoder_out_seq * K.expand_dims(inputs, -1), axis=1)\n",
    "            if verbose:\n",
    "                print('ci>', c_i.shape)\n",
    "            return c_i, [c_i]\n",
    "\n",
    "        def create_inital_state(inputs, hidden_size):\n",
    "            # We are not using initial states, but need to pass something to K.rnn funciton\n",
    "            fake_state = K.zeros_like(inputs)  # <= (batch_size, enc_seq_len, latent_dim\n",
    "            fake_state = K.sum(fake_state, axis=[1, 2])  # <= (batch_size)\n",
    "            fake_state = K.expand_dims(fake_state)  # <= (batch_size, 1)\n",
    "            fake_state = K.tile(fake_state, [1, hidden_size])  # <= (batch_size, latent_dim\n",
    "            return fake_state\n",
    "\n",
    "        fake_state_c = create_inital_state(encoder_out_seq, encoder_out_seq.shape[-1])\n",
    "        fake_state_e = create_inital_state(encoder_out_seq, encoder_out_seq.shape[1])  # <= (batch_size, enc_seq_len, latent_dim\n",
    "\n",
    "        \"\"\" Computing energy outputs \"\"\"\n",
    "        # e_outputs => (batch_size, de_seq_len, en_seq_len)\n",
    "        last_out, e_outputs, _ = K.rnn(\n",
    "            energy_step, decoder_out_seq, [fake_state_e],\n",
    "        )\n",
    "\n",
    "        \"\"\" Computing context vectors \"\"\"\n",
    "        last_out, c_outputs, _ = K.rnn(\n",
    "            context_step, e_outputs, [fake_state_c],\n",
    "        )\n",
    "\n",
    "        return c_outputs, e_outputs\n",
    "\n",
    "    def compute_output_shape(self, input_shape):\n",
    "        \"\"\" Outputs produced by the layer \"\"\"\n",
    "        return [\n",
    "            tf.TensorShape((input_shape[1][0], input_shape[1][1], input_shape[1][2])),\n",
    "            tf.TensorShape((input_shape[1][0], input_shape[1][1], input_shape[0][1]))\n",
    "        ]"
   ]
  },
  {
   "cell_type": "code",
   "execution_count": 49,
   "metadata": {},
   "outputs": [
    {
     "name": "stdout",
     "output_type": "stream",
     "text": [
      "Model: \"model\"\n",
      "__________________________________________________________________________________________________\n",
      "Layer (type)                    Output Shape         Param #     Connected to                     \n",
      "==================================================================================================\n",
      "input_1 (InputLayer)            [(None, 300)]        0                                            \n",
      "__________________________________________________________________________________________________\n",
      "embedding (Embedding)           (None, 300, 100)     3568100     input_1[0][0]                    \n",
      "__________________________________________________________________________________________________\n",
      "lstm (LSTM)                     [(None, 300, 300), ( 481200      embedding[0][0]                  \n",
      "__________________________________________________________________________________________________\n",
      "input_2 (InputLayer)            [(None, None)]       0                                            \n",
      "__________________________________________________________________________________________________\n",
      "lstm_1 (LSTM)                   [(None, 300, 300), ( 721200      lstm[0][0]                       \n",
      "__________________________________________________________________________________________________\n",
      "embedding_1 (Embedding)         (None, None, 100)    631900      input_2[0][0]                    \n",
      "__________________________________________________________________________________________________\n",
      "lstm_2 (LSTM)                   [(None, 300, 300), ( 721200      lstm_1[0][0]                     \n",
      "__________________________________________________________________________________________________\n",
      "lstm_3 (LSTM)                   [(None, None, 300),  481200      embedding_1[0][0]                \n",
      "                                                                 lstm_2[0][1]                     \n",
      "                                                                 lstm_2[0][2]                     \n",
      "__________________________________________________________________________________________________\n",
      "attention_layer (AttentionLayer ((None, None, 300),  180300      lstm_2[0][0]                     \n",
      "                                                                 lstm_3[0][0]                     \n",
      "__________________________________________________________________________________________________\n",
      "concat_layer (Concatenate)      (None, None, 600)    0           lstm_3[0][0]                     \n",
      "                                                                 attention_layer[0][0]            \n",
      "__________________________________________________________________________________________________\n",
      "time_distributed (TimeDistribut (None, None, 6319)   3797719     concat_layer[0][0]               \n",
      "==================================================================================================\n",
      "Total params: 10,582,819\n",
      "Trainable params: 10,582,819\n",
      "Non-trainable params: 0\n",
      "__________________________________________________________________________________________________\n"
     ]
    }
   ],
   "source": [
    "K.clear_session()\n",
    "\n",
    "latent_dim = 300\n",
    "embedding_dim=100\n",
    "\n",
    "# Encoder\n",
    "encoder_inputs = Input(shape=(max_text_len,))\n",
    "\n",
    "#embedding layer\n",
    "enc_emb =  Embedding(x_voc, embedding_dim,trainable=True)(encoder_inputs)\n",
    "\n",
    "#encoder lstm 1\n",
    "encoder_lstm1 = LSTM(latent_dim,return_sequences=True,return_state=True,dropout=0.4,recurrent_dropout=0.4)\n",
    "encoder_output1, state_h1, state_c1 = encoder_lstm1(enc_emb)\n",
    "\n",
    "#encoder lstm 2\n",
    "encoder_lstm2 = LSTM(latent_dim,return_sequences=True,return_state=True,dropout=0.4,recurrent_dropout=0.4)\n",
    "encoder_output2, state_h2, state_c2 = encoder_lstm2(encoder_output1)\n",
    "\n",
    "#encoder lstm 3\n",
    "encoder_lstm3=LSTM(latent_dim, return_state=True, return_sequences=True,dropout=0.4,recurrent_dropout=0.4)\n",
    "encoder_outputs, state_h, state_c= encoder_lstm3(encoder_output2)\n",
    "\n",
    "# Set up the decoder, using `encoder_states` as initial state.\n",
    "decoder_inputs = Input(shape=(None,))\n",
    "\n",
    "#embedding layer\n",
    "dec_emb_layer = Embedding(y_voc, embedding_dim,trainable=True)\n",
    "dec_emb = dec_emb_layer(decoder_inputs)\n",
    "\n",
    "decoder_lstm = LSTM(latent_dim, return_sequences=True, return_state=True,dropout=0.4,recurrent_dropout=0.2)\n",
    "decoder_outputs,decoder_fwd_state, decoder_back_state = decoder_lstm(dec_emb,initial_state=[state_h, state_c])\n",
    "\n",
    "# Attention layer\n",
    "attn_layer = AttentionLayer(name='attention_layer')\n",
    "attn_out, attn_states = attn_layer([encoder_outputs, decoder_outputs])\n",
    "\n",
    "# Concat attention input and decoder LSTM output\n",
    "decoder_concat_input = Concatenate(axis=-1, name='concat_layer')([decoder_outputs, attn_out])\n",
    "\n",
    "#dense layer\n",
    "decoder_dense =  TimeDistributed(Dense(y_voc, activation='softmax'))\n",
    "decoder_outputs = decoder_dense(decoder_concat_input)\n",
    "\n",
    "# Define the model \n",
    "model = Model([encoder_inputs, decoder_inputs], decoder_outputs)\n",
    "\n",
    "model.summary()\n"
   ]
  },
  {
   "cell_type": "code",
   "execution_count": 50,
   "metadata": {},
   "outputs": [
    {
     "data": {
      "image/png": "[encoded data removed]",
      "text/plain": [
       "<IPython.core.display.Image object>"
      ]
     },
     "execution_count": 50,
     "metadata": {},
     "output_type": "execute_result"
    }
   ],
   "source": [
    "tf.keras.utils.plot_model(\n",
    "    model, to_file='model.png', show_shapes=True, show_layer_names=True,\n",
    "    rankdir='TB', expand_nested=False, dpi=96\n",
    ")"
   ]
  },
  {
   "cell_type": "code",
   "execution_count": 51,
   "metadata": {},
   "outputs": [],
   "source": [
    "model.compile(optimizer='rmsprop', loss='sparse_categorical_crossentropy')\n",
    "\n",
    "es = EarlyStopping(monitor='val_loss', mode='min', verbose=1,patience=2)\n",
    "\n"
   ]
  },
  {
   "cell_type": "code",
   "execution_count": 52,
   "metadata": {},
   "outputs": [
    {
     "name": "stdout",
     "output_type": "stream",
     "text": [
      "Train on 35167 samples, validate on 8793 samples\n",
      "Epoch 1/50\n",
      "35167/35167 [==============================] - 492s 14ms/sample - loss: 4.4966 - val_loss: 4.1362\n",
      "Epoch 2/50\n",
      "35167/35167 [==============================] - 477s 14ms/sample - loss: 4.0798 - val_loss: 3.9201\n",
      "Epoch 3/50\n",
      "35167/35167 [==============================] - 475s 14ms/sample - loss: 3.8867 - val_loss: 3.7947\n",
      "Epoch 4/50\n",
      "35167/35167 [==============================] - 473s 13ms/sample - loss: 3.7224 - val_loss: 3.6259\n",
      "Epoch 5/50\n",
      "35167/35167 [==============================] - 470s 13ms/sample - loss: 3.5937 - val_loss: 3.5389\n",
      "Epoch 6/50\n",
      "35167/35167 [==============================] - 470s 13ms/sample - loss: 3.4872 - val_loss: 3.4588\n",
      "Epoch 7/50\n",
      "35167/35167 [==============================] - 479s 14ms/sample - loss: 3.3935 - val_loss: 3.4083\n",
      "Epoch 8/50\n",
      "35167/35167 [==============================] - 478s 14ms/sample - loss: 3.3089 - val_loss: 3.3570\n",
      "Epoch 9/50\n",
      "35167/35167 [==============================] - 477s 14ms/sample - loss: 3.2322 - val_loss: 3.3194\n",
      "Epoch 10/50\n",
      "35167/35167 [==============================] - 477s 14ms/sample - loss: 3.1623 - val_loss: 3.2714\n",
      "Epoch 11/50\n",
      "35167/35167 [==============================] - 476s 14ms/sample - loss: 3.1009 - val_loss: 3.2473\n",
      "Epoch 12/50\n",
      "35167/35167 [==============================] - 476s 14ms/sample - loss: 3.0446 - val_loss: 3.2206\n",
      "Epoch 13/50\n",
      "35167/35167 [==============================] - 475s 14ms/sample - loss: 2.9913 - val_loss: 3.2000\n",
      "Epoch 14/50\n",
      "35167/35167 [==============================] - 477s 14ms/sample - loss: 2.9425 - val_loss: 3.1854\n",
      "Epoch 15/50\n",
      "35167/35167 [==============================] - 482s 14ms/sample - loss: 2.8959 - val_loss: 3.1698\n",
      "Epoch 16/50\n",
      "35167/35167 [==============================] - 481s 14ms/sample - loss: 2.8557 - val_loss: 3.1586\n",
      "Epoch 17/50\n",
      "35167/35167 [==============================] - 479s 14ms/sample - loss: 2.8144 - val_loss: 3.1464\n",
      "Epoch 18/50\n",
      "35167/35167 [==============================] - 488s 14ms/sample - loss: 2.7786 - val_loss: 3.1372\n",
      "Epoch 19/50\n",
      "35167/35167 [==============================] - 487s 14ms/sample - loss: 2.7439 - val_loss: 3.1346\n",
      "Epoch 20/50\n",
      "35167/35167 [==============================] - 480s 14ms/sample - loss: 2.7087 - val_loss: 3.1203\n",
      "Epoch 21/50\n",
      "35167/35167 [==============================] - 481s 14ms/sample - loss: 2.6756 - val_loss: 3.1149\n",
      "Epoch 22/50\n",
      "35167/35167 [==============================] - 480s 14ms/sample - loss: 2.6493 - val_loss: 3.1099\n",
      "Epoch 23/50\n",
      "35167/35167 [==============================] - 480s 14ms/sample - loss: 2.6213 - val_loss: 3.1161\n",
      "Epoch 24/50\n",
      "35167/35167 [==============================] - 481s 14ms/sample - loss: 2.5954 - val_loss: 3.1021\n",
      "Epoch 25/50\n",
      "35167/35167 [==============================] - 488s 14ms/sample - loss: 2.5694 - val_loss: 3.0990\n",
      "Epoch 26/50\n",
      "35167/35167 [==============================] - 487s 14ms/sample - loss: 2.5437 - val_loss: 3.0993\n",
      "Epoch 27/50\n",
      "35167/35167 [==============================] - 484s 14ms/sample - loss: 2.5179 - val_loss: 3.0991\n",
      "Epoch 00027: early stopping\n"
     ]
    }
   ],
   "source": [
    "history=model.fit([x_tr,y_tr[:,:-1]], y_tr.reshape(y_tr.shape[0],y_tr.shape[1], 1)[:,1:] ,epochs=50,callbacks=[es],batch_size=128, validation_data=([x_val,y_val[:,:-1]], y_val.reshape(y_val.shape[0],y_val.shape[1], 1)[:,1:]))"
   ]
  },
  {
   "cell_type": "code",
   "execution_count": 53,
   "metadata": {},
   "outputs": [
    {
     "data": {
      "image/png": "[encoded data removed]",
      "text/plain": [
       "<Figure size 432x288 with 1 Axes>"
      ]
     },
     "metadata": {
      "needs_background": "light"
     },
     "output_type": "display_data"
    }
   ],
   "source": [
    "from matplotlib import pyplot\n",
    "pyplot.plot(history.history['loss'], label='train')\n",
    "pyplot.plot(history.history['val_loss'], label='test')\n",
    "pyplot.legend()\n",
    "pyplot.show()"
   ]
  },
  {
   "cell_type": "code",
   "execution_count": 54,
   "metadata": {},
   "outputs": [],
   "source": [
    "reverse_target_word_index=y_tokenizer.index_word\n",
    "reverse_source_word_index=x_tokenizer.index_word\n",
    "target_word_index=y_tokenizer.word_index\n",
    "\n",
    "# Encode the input sequence to get the feature vector\n",
    "encoder_model = Model(inputs=encoder_inputs,outputs=[encoder_outputs, state_h, state_c])\n",
    "\n",
    "# Decoder setup\n",
    "# Below tensors will hold the states of the previous time step\n",
    "decoder_state_input_h = Input(shape=(latent_dim,))\n",
    "decoder_state_input_c = Input(shape=(latent_dim,))\n",
    "decoder_hidden_state_input = Input(shape=(max_text_len,latent_dim))\n",
    "\n",
    "# Get the embeddings of the decoder sequence\n",
    "dec_emb2= dec_emb_layer(decoder_inputs) \n",
    "# To predict the next word in the sequence, set the initial states to the states from the previous time step\n",
    "decoder_outputs2, state_h2, state_c2 = decoder_lstm(dec_emb2, initial_state=[decoder_state_input_h, decoder_state_input_c])\n",
    "\n",
    "#attention inference\n",
    "attn_out_inf, attn_states_inf = attn_layer([decoder_hidden_state_input, decoder_outputs2])\n",
    "decoder_inf_concat = Concatenate(axis=-1, name='concat')([decoder_outputs2, attn_out_inf])\n",
    "\n",
    "# A dense softmax layer to generate prob dist. over the target vocabulary\n",
    "decoder_outputs2 = decoder_dense(decoder_inf_concat) \n",
    "\n",
    "# Final decoder model\n",
    "decoder_model = Model(\n",
    "    [decoder_inputs] + [decoder_hidden_state_input,decoder_state_input_h, decoder_state_input_c],\n",
    "    [decoder_outputs2] + [state_h2, state_c2])"
   ]
  },
  {
   "cell_type": "code",
   "execution_count": 55,
   "metadata": {},
   "outputs": [],
   "source": [
    "def decode_sequence(input_seq):\n",
    "    # Encode the input as state vectors.\n",
    "    e_out, e_h, e_c = encoder_model.predict(input_seq)\n",
    "    \n",
    "    # Generate empty target sequence of length 1.\n",
    "    target_seq = np.zeros((1,1))\n",
    "    \n",
    "    # Populate the first word of target sequence with the start word.\n",
    "    target_seq[0, 0] = target_word_index['sostok']\n",
    "\n",
    "    stop_condition = False\n",
    "    decoded_sentence = ''\n",
    "    while not stop_condition:\n",
    "      \n",
    "        output_tokens, h, c = decoder_model.predict([target_seq] + [e_out, e_h, e_c])\n",
    "\n",
    "        # Sample a token\n",
    "        sampled_token_index = np.argmax(output_tokens[0, -1, :])\n",
    "        sampled_token = reverse_target_word_index[sampled_token_index]\n",
    "        \n",
    "        if(sampled_token!='eostok'):\n",
    "            decoded_sentence += ' '+sampled_token\n",
    "\n",
    "        # Exit condition: either hit max length or find stop word.\n",
    "        if (sampled_token == 'eostok'  or len(decoded_sentence.split()) >= (max_summary_len-1)):\n",
    "            stop_condition = True\n",
    "\n",
    "        # Update the target sequence (of length 1).\n",
    "        target_seq = np.zeros((1,1))\n",
    "        target_seq[0, 0] = sampled_token_index\n",
    "\n",
    "        # Update internal states\n",
    "        e_h, e_c = h, c\n",
    "\n",
    "    return decoded_sentence"
   ]
  },
  {
   "cell_type": "code",
   "execution_count": 56,
   "metadata": {},
   "outputs": [],
   "source": [
    "def seq2summary(input_seq):\n",
    "    newString=''\n",
    "    for i in input_seq:\n",
    "        if((i!=0 and i!=target_word_index['sostok']) and i!=target_word_index['eostok']):\n",
    "            newString=newString+reverse_target_word_index[i]+' '\n",
    "    return newString\n",
    "\n",
    "def seq2text(input_seq):\n",
    "    newString=''\n",
    "    for i in input_seq:\n",
    "        if(i!=0):\n",
    "            newString=newString+reverse_source_word_index[i]+' '\n",
    "    return newString"
   ]
  },
  {
   "cell_type": "code",
   "execution_count": 57,
   "metadata": {},
   "outputs": [
    {
     "name": "stdout",
     "output_type": "stream",
     "text": [
      "Review: कुटीर लघु और मध्यम उद्यमों को कर्ज देने के अनोखे तरीके तलाशने के लिए रिजर्व बैंक का पुणे स्थित कृषि बैंकिंग महाविद्यालय बैंकों के लिए एक प्रतियोगिता आयोजित करेगा इस प्रतियोगिता का विषय है केस स्टडी एक एमएसएमई को नए ढंग से कर्ज आबंटन कर्ज देने के नए तरीकों पर केस ने एक सर्कुलर जारी कर कहा प्रतियोगिता आयोजित करने का उद्देश्य बैंकों को ऐसे मामलों का अध्ययन करने के लिए प्रोत्साहित करना है जहां कुटीर लघु और मझोले उद्यमों को अनोखे तरीके से कर्ज दिया गया हो और ऐसे मामलों को लेकर दूसरे बैंकों को भी संवेदनशील बनाया जा सके ये कर्मचारी ले सकते हैं बैंक ने कहा कि बैंकों के कर्मचारी सदस्य जिसमें बैंकों के प्रशिक्षण प्रतिष्ठानों के फैकल्टी सदस्य क्षेत्रीय ग्रामीण बैंकों राज्य सहकारी बैंकों और शहरी सहकारी बैंकोंके सदस्य शामिल हैं इस प्रतियोगिता में हिस्सा ले सकते हैं अंग्रेजी या हिंदी भाषा का अलावा इन बैंकों के प्रशिक्षण प्रतिष्ठानों से फैकल्टी सदस्य और गैर बैंकिंग वित्तीय कंपनियों के कर्मचारी सदस्य भी इस प्रतियोगिता में हिस्सा ले सकते हैं आरबीआई ने स्टडी अंग्रेजी या हिंदी जनवरी तक मांगे हैं \n",
      "Original summary: कर्ज देने के तरीके को आरबीआई प्रतियोगिता कराएगा \n",
      "Predicted summary:  अब तक की बड़ी खबरें\n",
      "\n",
      "\n",
      "Review: लोकसभा चुनाव में जीत हासिल करने के लिए उम्मीदवार अपनी पूरी ताकत दिखाना चाहते हैं लेकिन उत्तर प्रदेश के उन्नाव से भारतीय जनता पार्टी के उम्मीदवार और अपने बयानों को लेकर चर्चा में रहने वाले साक्षी महाराज को नामांकन में ताकत दिखाना भारी पड़ गया नामांकन के दौरान से अधिक वाहन ले जाने के मामले में साक्षी महाराज पर केस दर्ज हो गया है साक्षी महाराज पर चुनाव आचार संहिता के उल्लंघन का मामला दर्ज हुआ है सोमवार को उन्होंने उन्नाव सीट से नामांकन किया इस दौरान उनके साथ से अधिक गाड़ियों का काफिला था लेकिन जब उनसे इन गाड़ियों के पास मांगे गए थे तो सभी की इजाजत दिखाने में वह नाकाम रहे और सिर्फ गाड़ियों के पास ही दिखा पाए इसके बाद प्रशासन ने उनके खिलाफ आदर्श आचार संहिता के उल्लंघन का मामला दर्ज किया है उन्नाव से पर्चा भरने के बाद साक्षी महाराज ने कांग्रेस पर राम मंदिर मुद्दे को लेकर निशाना साधा साक्षी महाराज ने कहा था कि कभी मंदिर के मुद्दे पर राजनीति नहीं करती है लेकिन कांग्रेस ने अगर अड़ंगा नहीं डाला होता तो अब तक राम मंदिर का निर्माण शुरू हो गया होता नेता ने कहा था कि यूपी से सीटें भाजपा जीतेगी और अबकी पार है साक्षी ने कहा कि सपा बसपा का गठबंधन नहीं है गौरतलब है कि साक्षी महाराज के टिकट को लेकर इस बार काफी विवाद हुआ था पहले अटकलें लगाई जा रही थीं कि उनका टिकट कट सकता है जिसके बाद उन्होंने यूपी बीजेपी के अध्यक्ष महेंद्र नाथ पांडेय को चिट्ठी लिख चेतावनी दी थी लेकिन बाद में जब टिकट वितरण हुआ था तो साक्षी महाराज को एक बार फिर मौका दिया गया चुनाव की हर ख़बर मिलेगी सीधे आपके इनबॉक्स में आम चुनाव की ताज़ा खबरों से अपडेट रहने के लिएसब्सक्राइबकरें आजतक का इलेक्शन स्पेशल न्यूज़लेटर \n",
      "Original summary: नामांकन में गाड़ी ले जाने पर बढ़ी साक्षी महाराज की मुश्किलें केस दर्ज \n",
      "Predicted summary:  चुनाव आयोग ने बीजेपी को भेजा नोटिस\n",
      "\n",
      "\n",
      "Review: स्पोर्ट्स डेवलपमेंट ऑथोरिटी ऑफ तमिलनाडु में जूनियर असिस्टेंट कम टाइपिस्ट के पदों के लिए भर्तियां निकली हैं इन पदों के लिए आवेदन सितंबर तक स्वीकार किए जाएंगे पदों का विवरण जूनियर असिस्टेंट कम टाइपिस्ट असिस्टेंट ग्रेड कमर्शियल एकाउंटेंट असिस्टेंट इंजीनियर स्पोर्टस टेक्नोलॉजी असिस्टेंट इंजीनियर इलेक्ट्रिकल उम्र सीमा से सालज्यादा जानकारी के लिए पर लॉग इन करें \n",
      "Original summary: स्पोर्ट्स डेवलपमेंट ऑफ तमिलनाडु में वैकेंसी \n",
      "Predicted summary:  में नौकरी पाने का मौका\n",
      "\n",
      "\n",
      "Review: घर हो या दफ्तर राजधानी में महिलाएं कहीं भी सुरक्षित नहीं है दिल्ली के डीडीयू अस्पताल में महिलाएं अपने लिए सुरक्षा की मांग कर रही है दरअसल रात की ड्यूटी के दौरान अस्पताल की एक नर्स के साथ तीन लोगों ने नशे की हालत में छेड़छाड़ की और विरोध करने पर देख लेने की धमकी भी दी छेड़खानी का आरोप अस्पताल के स्टॉफ के ही बेटे पर है शिकायत के बावजूद कई घंटे बीत जाने के बाद भी पुलिस ने मामला दर्ज नहीं किया इस मामले को लेकर नर्सों ने एमएस ऑफिस के बाहर जमकर प्रदर्शन किया और अस्पताल प्रशासन के खिलाफ नारेबाजी भी की नर्सों ने सुरक्षा की मांग की है और मामला दर्ज कर आरोपी की गिरफ़्तारी की मांग भी की है \n",
      "Original summary: अस्पताल में नर्स के साथ छेड़छाड़ \n",
      "Predicted summary:  दिल्ली में महिला के साथ छेड़छाड़ का मामला दर्ज\n",
      "\n",
      "\n",
      "Review: आज संविधान समिति के अध्यक्ष और भारत के पहले कानून मंत्री बाबासाहब भीमराव अंबेडकर की वीं जयंती है इस मौके ने आज अपना अंबेडकर के नाम समर्पित किया है गूगल अक्सर महान शख्सियतों को सम्मान देने के लिए ऐसा करता आया है पूरे देश में भी अंबेडकर की जयंती के लिए कई कार्यक्रम आयोजित किए जा रहे हैं कई राजनीतिक पार्टियों ने भी अंबेडकर की जयंती के लिए कार्यक्रमों का आयोजन किया है मुफ्ती ने दी अंबेडकर को मुफ्ती मोहम्मद सईद ने भी बीआर अंबेडकर को उनकी वीं जयंती की पूर्व संध्या पर श्रद्धांजलि दी जम्मू कश्मीर के राज्यपाल राज्यपाल नरेंद्र नाथ वोहरा ने अपने संदेश में याद किया कि एक उत्कृष्ट अंबेडकर ने भारतीय संविधान तैयार करने और राष्ट्र निर्माण में महत्वपूर्ण योगदान दिया विशेष तौर पर समाज के कमजोर वर्गों के उत्थान में सईद ने अपने संदेश में कहा कि डा अंबेडकर एक महान सामाजिक सुधारक एवं कानून विद् थे जिन्होंने भारतीय संविधान तैयार करने में एक महत्वपूर्ण भूमिका निभाई \n",
      "Original summary: आज का गूगल डूडल डॉ अंबेडकर के नाम \n",
      "Predicted summary:  बिहार में पहली बार होंगे बजट के नए अध्यक्ष\n",
      "\n",
      "\n",
      "Review: लखनऊ में घंटों के भीतर के मामले सामने आए हैं ताजा मामले स्कूली छात्र छात्राओं के आत्महत्या के हैं आत्महत्या करने वाला साल का विजय अगर होता तो देख पाता कि उसकी मां कितना तड़प रही है उसने सिर्फ इसलिए अपनी जान दे दी कि उसे स्कूल आने से रोका गया था उसे लगभग डेढ़ महीने पहले स्कूल से निकाल दिया गया था उसके पिता के मुताबिक एक अध्यापिका ने उसे मुर्गा बनने के लिए कहा था सातवीं क्लास में पढ़ने वाली शिवानी न जाने किस बात से गुस्से में आकर अपनी जान दे दी पिछले घंटों में खुदकुशी की घटनाओं ने लखनऊ को हिलाकर रख दिया है यह सवाल अपनी जगह बरकरार है कि इन बच्चों को आखिर हुआ क्या है इन्हें कोई कैसे समझाए कि जिंदगी की कोई भी समस्या इतनी बड़ी नहीं होती कि उसके आगे जिंदगी ही हार जाए \n",
      "Original summary: लखनऊ में घंटों के भीतर खुदकुशी \n",
      "Predicted summary:  यूपीः महिला ने दी जान\n",
      "\n",
      "\n",
      "Review: विश्व हिंदू परिषदके प्रमुख डॉ प्रवीण तोगड़िया ने एक बार फिर विवादित बयान दे डाला है उन्होंने रावलपिंडी और लाहौर में भगवा लहराने की बात की यही नहीं उन्होंने एक के बाद एक विवादित बयान दिए वीएचपी के स्वर्ण जयंती वर्ष के मौके पर राजस्थान के पाली में उन्होंने कहा हम सब उत्सव तब मनाएंगे जब राम मंदिर का निर्माण पूरा हो जाएगा जब रावलपिंडी और लाहौर में भगवा और जब कश्मीर से निकाले गए हिंदू जिहादियों की छाती पर पैर रख कर वापस आएंगे यही नहीं इस समारोह में प्रवीण तोगड़िया ने साक्षी महाराज के बयान हिंदू महिला पैदा करे चार बच्चे वाले बयान को भी सही ठहरा दिया और कहा कि हिंदू राष्ट्र बनाने के लिए यह जरूरी है गुरुवार को इस सम्मेलन में प्रवीण तोगड़िया ने कहा धर्मांतरण को ना घर वापसी को हां लव जिहाद को ना समान नागरिक संहिता को हां उन्होंने राज्य सरकार द्वारा मंदिर के अधिग्रहण किए जाने पर अखिलेश यादव को कहा हिम्मत है तो किसी मस्जिद का अधिग्रहण कर दिखाएं अगर मस्जिद अधिग्रहण नहीं कर सकते तो हम मंदिर का अधिग्रहण नहीं होने देंगे \n",
      "Original summary: बोले लाहौर में भगवा तब उत्सव मनाएंगे \n",
      "Predicted summary:  सिख दंगा के लिए ने कहा थे\n",
      "\n",
      "\n",
      "Review: फरीदाबाद के न्यू टाउन स्टेशन के पास राजधानी एक्सप्रेस से कटकर लोगों की मौत हो गई ये लोग ट्रैक पार कर रहें थें जब ये दर्दनाक दुर्घटना हुई अभी मृतकों की पहचान नहीं हो पाई है सूत्रों के अनुसार कड़ाके की ठंड और कोहरे के कारण ये दुर्घटना हुई इस घटना की खबर जैसे ही आस पास के इलाकों में पहुंची मौके पर काफी संख्या में लोग जमा हो गए पुलिस ने सभी शवों को पोस्टमार्टम के लिए भेज दिया है \n",
      "Original summary: फरीदाबाद राजधानी एक्सप्रेस से की मौत \n",
      "Predicted summary:  दिल्ली में बस दुर्घटना में घायल\n",
      "\n",
      "\n",
      "Review: जम्मू कश्मीर के हंदवाड़ा में पुलिस पोस्ट पर हमले की खबर है आतंकियों ने हंदवाड़ा में में पुलिस पोस्ट पर पहले ग्रेनेड फेंका और जब ग्रेनेड नहीं फटा तो आतंकियों ने फायरिंग की हमले में कोई घायल नहीं हुआ है कुपवाड़ा जिले के हंदवाड़ा में आतंकी हमले के बाद पुलिस और सुरक्षाबलों ने पूरे इलाके को घेर लिया है आतंकियों को पकड़ने के लिए पूरे इलाके में सर्च ऑपरेशन शुरू किया गया है इस पुलिस पोस्ट में अल्पसंख्यक समुदाय की सुरक्षा के लिए हाल ही में बनाया गया था पीओके में घुसकर इंडियन आर्मी के सर्जिकल ऑपरेशन के बाद से घाटी में आतंकी हमलों में तेजी आई है स्थिति को देखते हुए संवेदनशील इलाकों में सुरक्षाबलों की तैनाती बढ़ा दी गई है \n",
      "Original summary: हंदवाड़ा में पुलिस पोस्ट पर हमला ग्रेनेड नहीं फटने पर आतंकियों ने की फायरिंग \n",
      "Predicted summary:  जम्मू कश्मीर में मुठभेड़ में आतंकी ढेर\n",
      "\n",
      "\n",
      "Review: बॉलीवुड के गलियारों में उड़ती उड़ती खबर है कि दबंग सलमान खान और उनकी तथाकथित गर्लफ्रेंड का ब्रेक अप हो गया है हाल ही में सलमान और उलिया ने काफी सुर्खियां बंटोरी थीं क्योंकि दोनों कई मौकों पर एक साथ दिखाई दिए थे यही नहीं पर उनकी तस्वीरें भी लीक हो गईं थीं एक तस्वीर में दोनों साथ साथ पिकनिक मनाते हुए दिखे थे जबकि दूसरी में सलमान और उनके परिवार के साथ उलिया किसी रेस्टोरेंट में खाना खा रही थीं जब से सलमान और कटरीना कैफ का ब्रेक अप हुआ था तब से वे उलिया वंतुर के साथ कई जगह दिखाई दिए वंतुर रोम की टीवी एक्ट्रेस और प्रेजेंटर हैं दोनों के रिश्ते का खुलासा होने के बाद से ही ऐसी अफवाहें थीं कि वंतुर पहले से जर्मनी के एक संगीतकार के साथ शादी कर चुकी हैं हालांकि इस मामले में उलिया ने कभी कुछ नहीं कहा मिड डे की एक रिपोर्ट के मुताबिक उलिया ग्रैमी अवॉर्ड्स के लिए नामांकित संगीतकार मोगा से शादी कर चुकी हैं जब उनसे इस बारे में पूछा गया तो उन्होंने आरोपों से इनकार कर दिया इसके बाद सलमान के परिवार ने मामले पर दखल देने का फैसला किया खबरों के मुताबिक ईद के मौके पर सलमान अपने करीबी दोस्त बाबा सिद्दिकी के साथ थे और उलिया वंतुर पहले ही रोम वापस जा चुकी हैं \n",
      "Original summary: सलमान खान ने तोड़ लिया से रिश्ता \n",
      "Predicted summary:  सलमान खान के घर में कटरीना का वीडियो वायरल\n",
      "\n",
      "\n",
      "Review: रक्षा मंत्री ए के एंटनी ने बुधवार को कहा कि पाकिस्तान के क्षेत्र में आतंकी अड्डे हैं और वह आतंकी संगठनों को नष्ट करने के लिए कोई प्रभावी कदम नहीं उठा रहा है गोवा शिपयार्ड में पोत को भारतीय तटरक्षक दल में शामिल किए जाने के बाद एंटनी ने संवाददाता सम्मेलन में कहा ‘पाकिस्तान में आतंकी अड्डे सक्रिय हैं उसने उन आतंकी अड्डों को नष्ट करने के लिए कोई गंभीर कदम नहीं उठाया है ’भारत पाक वार्ता प्रक्रिया के बारे में एंटनी ने कहा कि इसका श्रेय भारत को जाता है जो तमाम समस्याओं के बावजूद इस मुद्दे पर पाकिस्तान के साथ सभी संभावनाओं की तलाश के लिए प्रतिबद्ध है उन्होंने कहा मुझे किसी चमत्कार की उम्मीद नहीं है ’ पाक स्थित आतंकवादी संगठनों की ओर से भारत में घुसपैठ बढ़ने के बारे में पूछे जाने पर एंटनी ने कहा कि इसका मतलब है कि कश्मीर में शांति प्रक्रिया पटरी पर है रक्षा मंत्री एंटनी ने कहा कि आतंकवादियों की घुसपैठ की बढ़ती घटनाएं कश्मीर में तेजी से स्थिति सामान्य होने का नतीजा है में स्थिति सामान्य हो रही है हिंसा में कमी आयी है यह स्थिति भारत विरोधी ताकतों को सहन नहीं हो रही ’इसके पहले विश्वस्त को बल में शामिल किया गया जो अपनी तरह का पहला गश्ती पोत है इसकी गति नॉट है अत्याधुनिक उपकरणों से लैस विश्वस्त समुद्र में बिना किसी अन्य आपूर्ति के दिनों तक रह सकता है इस मौके पर बल के वरिष्ठ अधिकारियों के अलावा गोवा के मुख्यमंत्री दिगंबर कामत भी मौजूद थे \n",
      "Original summary: कदम नहीं उठा रहा पाकिस्तान एंटनी \n",
      "Predicted summary:  पाकिस्तान में पाकिस्तान के बीच बातचीत की कमी\n",
      "\n",
      "\n",
      "Review: माइक्रोमैक्स ने अपना नया स्मार्टफोन कैनवस पेश कर दिया है यह एक डुअल सिम एंड्रॉयड फोन है जो सीडीएमए और जीएसएम दोनों के सिम सपोर्ट करता है और इसलिए इसका नाम रखा गया है यह फोन जीएचजेड क्वॉड कोर प्रॉसेसर से लैस है और इसका ऑपरेटिंग सिस्टम एंड्रॉयड है इसमें संभवतः जीबी रैम है जबकि इसके इंटरनल स्टोरेज के बारे में पता नहीं चला है लेकिन संभावना है कि यह जीबी है इसमें माइक्रो एसडी कार्ड का प्रावधान है इसमें दो कैमरे हैं इसका रियर कैमरा एमपी का है जबकि फ्रंट में वीजीए है इसमें कई फीचर हैं मसलन ऐक्सीलरोमीटर लाइट तथा प्रॉक्सिमिटी सेंसर इसमें जी वाई फाई ब्लूटुथ और जीपीएस भी है शॉप डॉट कॉम पर इसकी कीमत रुपये है \n",
      "Original summary: माइक्रोमैक्स ने लॉन्च किया \n",
      "Predicted summary:  माइक्रोमैक्स ने लॉन्च किया का\n",
      "\n",
      "\n",
      "Review: भारतीय स्टेट बैंक ने अब अगस्त से आईएमपीएस चार्ज भी खत्म करने का ऐलान किया है दरअसल भारतीय रिजर्व बैंक के आदेश के बाद देश के सबसे बड़े बैंक भारतीय स्टेट बैंक ने जुलाई से और पर लगने वाले चार्ज हटा दिए हैं द्वारा डिजिटल लेनदेन को बढ़ावा देने के उद्देश्य से लेन देन पर लगने वाले शुल्कों को खत्म किया जा रहा है इसी कड़ी में अब बैंक ने आईएमपीएस तत्काल भुगतान सेवा से लेनदेन करने पर भी एक अगस्त से शुल्क हटाने का निर्णय किया है गौरतलब है कि बड़ी राशि के लेनदेन के लिए और दो लाख रुपये तक के लेनदेन के लिए प्रणाली का उपयोग किया जाता है बैंक का कहना है कि इंटरनेट बैंकिंग और मोबाइल बैंकिंग के माध्यम से फंड ट्रांसफर करने वाले यूजर्स से अब किसी तरह का आईएमपीएस चार्ज नहीं वसूला जाएगा ग्राहकों के लिए एक तरह से यह बड़ी राहत है अब आईएमपीएस लेनदेन पर भी कोई शुल्क नहीं देना पड़ेगा यू वन बैंक की डिजिटल और लाइफस्टाइल मंचों को एक साथ लाने वाली एप का नाम है इसके पंजीकृत ग्राहकों की संख्या करीब एक करोड़ है एसबीआई के करोड़ इंटरनेट बैकिंग ग्राहक हैं जबकि करोड़ लोग मोबाइल बैंकिंग का इस्तेमाल करते हैं बैंक के डिजिटल प्लेटफॉर्म को करोड़ ग्राहक इस्तेमाल करते हैं क्या होता है पेमेंट सर्विस आईएमपीएस के इंस्टैंट इलेक्ट्रॉनिक फंड ट्रांसफर सर्विस है जो मोबाइल फोन और एटीएम जैसे अन्य चैनल्स इंटरनेट बैंकिंग के माध्यम से की जाती है आईएमपीएस के मामले में के अकाउंट में तुरंत ही फंड पहुंच जाता है \n",
      "Original summary: ग्राहकों को बड़ी राहत के बाद अब पर नहीं लगेगा कोई चार्ज \n",
      "Predicted summary:  बैंक में फीसदी फीसदी की कमी से ब्याज दर\n",
      "\n",
      "\n",
      "Review: पाकिस्तान में बुधवार को हुए अमेरिकी ड्रोन हमले में कम से कम लोग मारे गए और अन्य घायल हुए हैं हमला कबायली क्षेत्र दक्षिणी वजीरिस्तान में हुआ है यह जानकारी मीडिया रिपोर्ट में सामने आई है समाचार एजेंसी सिन्हुआ के मुताबिक दक्षिणी वजीरिस्तान के जिले में स्थित बाबर घर गांव के एक घर को निशाना बनाकर अमेरिकी ड्रोन ने मिसाइलें दागीं हमले से घर पूरी तरह नष्ट हो गया और लोग मारे गए जबकि अन्य घायल हो गए स्थानीय लोग बचाव कार्य के लिए घटनास्थल पर पहुंचे घटना में हताहत होने वालों की संख्या बढ़ने की आशंका है क्योंकि कुछ लोग मलबे में अभी भी दबे हुए हैं मीडिया रिपोर्ट में दावा किया गया है कि घर प्रतिबंधित आतंकी संगठन तहरीक ए तालिबान पाकिस्तान द्वारा इस्तेमाल में लाया जाता था इस महीने में इस तरह का यह दूसरा हमला है अप्रैल को एक मानवरहित अमेरिकी विमान ने उत्तरी वजीरिस्तान में एक घर को निशाना बनाया था जिसमें लोग मारे गए थे \n",
      "Original summary: पाकिस्तान में अमेरिकी ड्रोन हमले में की मौत \n",
      "Predicted summary:  पाकिस्तान में बम विस्फोट लोगों की मौत\n",
      "\n",
      "\n",
      "Review: शीना बोरा मर्डर केस में मुख्य आरोपी इंद्राणी मुखर्जी के पति पीटर मुखर्जी को नवंबर तक के लिए सीबीआई की कस्टडी में भेज दिया गया सीबीआई की स्पेशल कोर्ट ने यह फैसला दिया है सीबीआई ने कोर्ट से पीटर की दिन की हिरासत मांगी थी जांच एजेंसी पीटर इंद्राणी शीना और राहुल के बीच हुए वित्तीय लेन देन की जांच करना चाहती है शीना मर्डर केसमें सनसनीखेज मोड़ लाते हुए सीबीआई ने गुरुवार को पीटर को गिरफ्तार किया था सीबीआई ने कोर्ट से कहा था कि वह अपनी पत्नी इंद्राणी के साथ शीना मर्डर की साजिश में शामिल थे उन्होंने इस केस में सक्रिय भूमिका निभाई थी इससे पहले मुंबई पुलिस ने भी पीटर से पूछताछ की थी जिसमें वह लगातार बयान बदलते रहे थे बताते चलें ग्रुप के पूर्व सीईओ हैं शीना बोरा इंद्राणी मुखर्जी और उसके पूर्व पति संजीव खन्ना की बेटी थी उसकी हत्या के मामले का खुलासा मुंबई पुलिस ने किया था इस हत्याकांड में इंद्राणी मुखर्जी उसके ड्राइवर श्यामवर राय और उसके पूर्व पति संजीव खन्ना को आरोपी बनाया गया है \n",
      "Original summary: शीना मर्डर केस नवंबर तक की कस्टडी में रहेंगे पीटर \n",
      "Predicted summary:  आरुषि केस में तलवार का आरोप\n",
      "\n",
      "\n",
      "Review: निर्देशक रोहित शेट्टी अपनी हास्य फिल्म बोल बच्चन की सफलता से इतने प्रभावित हैं कि उन्होंने अभी से इस फिल्म का सिक्वल बनाने की योजना पर विचार करने की घोषणा कर दी है फिल्म के अभिनेता अभिषेक बच्चन के साथ एक थिएटर में फिल्म को लेकर लोगों की प्रतिक्रिया का जवाब दे रहे रोहित ने कहा आप चाहते हैं कि मैं इस फिल्म का सिक्वल बनाऊं ठीक है मैं इस बारे में जरूर अभिषेक ने भी इस फिल्म के सिक्वल को लेकर रुचि दिखाई अभिषेक ने कहा रोहित को सिक्वल किंग निर्देशक माना जाता है रोहित ने तीन चार सिक्वल बनाए हैं और मैंने सभी में काम किया है अगर रोहित कह रहे हैं कि वह तैयार हैं तो फिर हम इस बारे में अजय देवगन से बात करेंगे बोल बच्चन जुलाई को रिलीज हुई थी यह में प्रदर्शित मुखर्जी की फिल्म गोलमाल पर आधारित है \n",
      "Original summary: बोल बच्चन का बनाएंगे रोहित शेट्टी \n",
      "Predicted summary:  फिल्म में नजर आएंगे अमिताभ बच्चन\n",
      "\n",
      "\n",
      "Review: भारत की दो शीर्ष महिला खिलाडी पी वी सिंधु और सायना नेहवाल ने बेहतरीन खेल दिखाते हुए महिला एकल वर्ग के दूसरे राउंड में प्रवेश कर लिया है दोनों ने जीत के साथ आगाज किया है और अब सनराइज इंडिया ओपन सुपर सीरीज के क्वार्टर फाइनल में आमने सामने मुकाबला करेंगी क्वार्टर फाइनल मुकाबले शुक्रवार को खेले जाएंगे सायना नेहवाल और सिंधु का पहले राउंड में ओलंपिक में रजत पदक पर कब्जा करने वी पहले राउंड में जापान की को से हराया यह मुकाबला मिनट तक खेला गया इसके अलावा वहीं सायना नेहवाल ने भी पहले दौर में थाईलैंड की को मिनट तक चले मुकाबले में से हराकर क्वार्टर फाइनल में जगह बनाई है समीर वर्मा का दूसरी तरफ पुरुष एकल वर्ग में भारत का प्रदर्शन निराशाजनक रहा बी साई प्रणीत श्रीकांत और सौरभ वर्मा हारकर योनेक्स इंडियन ओपन सुपर सीरीज से बाहर हो गए लेकिन भारत की ओर से समीर वर्मा ने पुरुष एकल वर्ग में बड़ा उलटफेर करते हुए कोरिया के सान वान हो को सीधे सेटों में से करारी मात दी यह मुकाबला मिनट तक खेला गया जिसमें वर्मा ने बाजी मारी \n",
      "Original summary: इंडिया ओपन के क्वार्टर फाइनल में आज सायना सिंधु का मुकाबला \n",
      "Predicted summary:  बैडमिंटन वर्ल्ड कपः बैडमिंटन सिंधु क्वार्टर फाइनल में\n",
      "\n",
      "\n",
      "Review: पंजाब पुलिस ने की रहने वाली अरेस्ट किया है यह महिला शादी के दिन बाद पति को नशीला नींबू पानी पिलाकर प्रेमी संग भाग गई थी उसकी गिरफ्तारी पुलिस ने करीब माह बाद की है बताया जा रहा है कि प्रेमी के साथ भागने के बाद आरोपी रंजीता ने सुप्रीम कोर्ट में अग्रिम जमानत याचिका लगाईं थी जिसे कोर्ट ने रद्द कर दिया जिसके बाद वह स्थानीय कोर्ट में सरेंडर करने आई थी जानकारी के मुताबिक रंजीता पर आरोप है कि उसने शादी के बाद पति और ससुराल वालों को नशीला नींबू पानी पिलाकर बेहोश किया और गहने और नकदी लेकर भाग गई थी जिसके बाद से पति दीपक की शिकायत पर रंजीता और उसके अंजान साथियों के खिलाफ थाने में केस दर्ज है वहीं रंजीता का कहना है कि उसकी शादी मर्जी के खिलाफ हुई थी उसे के लिए प्रताड़ित किया जाता था और उसके साथ मारपीट भी की गई पुलिस उसे फिलहाल अरेस्ट कर पूछताछ कर रही है \n",
      "Original summary: पानी पिलाकर प्रेमी संग थी दुल्हन अब हुई अरेस्ट \n",
      "Predicted summary:  युवती को अगवा कर रही थी युवती से गैंगरेप\n",
      "\n",
      "\n",
      "Review: मुंबई की एक सत्र अदालत ने सामाजिक कार्यकर्ता की उस याचिका को खारिज कर दिया है जिसमें उन्होंने के हिट एंड रन मामले में हस्तक्षेप करने की मांग की थी इस मामले में बॉलीवुड स्टार सलमान खान आरोपी हैं जस्टिस एसडी देशपांडे ने फैसला दिया कि केवल प्रभावित पक्ष शिकायतकर्ता या गवाह को ही हस्तक्षेप का अधिकार है अदालत ने कहा कि इस मामले में याचिका दायर करने वाले संतोष न तो गवाह हैं न ही शिकायतकर्ता और न ही संबंधित पक्ष इसलिए उन्हें हस्तक्षेप की अनुमति नहीं मिलनी चाहिए अदालत ने की दूसरी याचिका को भी खारिज कर दिया जिसमें शिकायत को मजिस्ट्रेट की अदालत से ट्रांसफर कर सत्र अदालत में करने की मांग की गई थी इस मामले में पुलिस पर गलत गवाह पेश करने का आरोप लगाया गया जिससे सुनवाई में देरी हो रही है जज ने कहा कि शिकायत को ट्रांसफर करना उनके अधिकार क्षेत्र में नहीं आता है उन्होंने इस मामले में याचिकाकर्ता से ऊपरी अदालत या सत्र अदालत के प्रिंसिपल न्यायाधीश से संपर्क करने को कहा सलमान खान ने के हिट एंड रन मामले में याचिका दायर कर मांग की है कि मीडिया को कार्यवाही की सत्य और निष्पक्ष रिपोर्ट देने का आदेश दिया जाए जिस पर अदालत ने फैसला अक्टूबर तक टाल दिया अदालत ने कहा कि सलमान खान ने मामले में सही रिपोर्टिंग नहीं करने के लिए कुछ मीडिया चैनलों के खिलाफ हाईकोर्ट में मानहानि और दीवानी मामला दायर किया गया है मामला चूंकि हाईकोर्ट में लंबित है इसलिए सत्र अदालत अभिनेता की याचिका पर कोई फैसला नहीं देगी \n",
      "Original summary: हिट एंड रन केस सलमान खान के खिलाफ याचिका खारिज \n",
      "Predicted summary:  सलमान खान को मिली जमानत याचिका पर सुनवाई से सुनवाई\n",
      "\n",
      "\n",
      "Review: जम्मू कश्मीर के शोपियां में सेना और आतंकियों के बीच गोलीबारी हुई है सोमवार हुई इस मुठभेड़ में सुरक्षा बलों ने दो आतंकियों को ढेर कर दिया है दोनों ही आतंकी लोकल हैं आतंकियों की पहचान कुलगाम निवासी शायर अहम भट और शोपियां निवासी अहमद के रूप में हुई है दोनों ही आतंकी अंसार तुल हिंद के हैं और लंबे समय से सुरक्षा बलों को इनकी तलाश थी — इससे पहले जम्मू कश्मीर के अनंतनाग में सुबह तड़के से सुरक्षाबलों और आतंकियों के बीच मुठभेड़ में एक आतंकी मारा गया था अनंतनाग जिले के नौगाम शाहबाद में सुरक्षाबलों ने से आतंकियों को घेर लिया था जम्मू और कश्मीर में भारतीय सुरक्षाबलों ने इस साल जून तक से ज्यादा आतंकियों को ढेर किया गया है न्यूज एजेंसी एएनआई ने बताया था कि में सुरक्षाबलों ने अब तक आतंकियों को मार गिराया था वहीं साल में आतंकियों का खात्मा किया गया था वहीं पाकिस्तान ने जून तक बार संघर्ष विराम का उल्लंघन किया जबकि में बार पाकिस्तान ने सीजफायर का उल्लंघन किया था \n",
      "Original summary: जम्मू कश्मीर के शोपियां में मुठभेड़ सुरक्षाबलों ने मार गिराए आतंकी \n",
      "Predicted summary:  जम्मू कश्मीर में मुठभेड़ में आतंकी ढेर\n",
      "\n",
      "\n",
      "Review: दिल्ली के मुख्यमंत्री अरविंद केजरीवाल ने बुधवार को ट्विटर पर कहा कि नफरत की राजनीति के खात्मे के लिए बिहार विधानसभा चुनाव में बीजेपी की हार जरूरी है केजरीवाल पहले ही नीतीश कुमार के नेतृत्व में चुनाव लड़ रही महागठबंधन को अपना समर्थन दे चुके हैं ट्वीट में केजरीवाल ने यह भी लिखा कि लोग प्यार और शांति चाहते हैं न कि नफरत — एक के बाद एक लगातार ट्वीट ने कहा यह जरूरी है कि भाजपा बिहार में चुनाव हारे ताकि उसे मालूम हो कि इस देश में नफरत की राजनीति नहीं चलेगी एक अन्य ट्वीट में केजरीवाल ने बिहार वासियों से राज्य के मुख्यमंत्री और जेडीयू नेता नीतीश कुमार के पक्ष में वोट देने की अपील की सबसे अपील बिहार में रहने वाले अपने अपने दोस्तों और रिश्तेदारों से फोन करें कि नीतीश जी को बनाने के लिए वोट दूसरी ओर केजरीवाल के लगातार समर्थन का धन्यवाद करते कुमारने भी एक ट्वीट किया नीतीश के ट्वीट को केजरीवाल ने भी रीट्वीट किया — केजरीवाल ने दिल्ली में रह रहे लोगों से भी अपील की कि वे बिहार में अपने संबंधियों और मित्रों को फोन कर उन्हें नीतीश के समर्थन में मतदान करने के लिए कहे बिहार विधानसभा के अंतिम चरण के तहत पांच नवंबर को वोट डाले जाएंगे जबकि मतगणना आठ नवंबर को होगी \n",
      "Original summary: केजरीवाल का ट्वीट बिहार में की हार जरूरी \n",
      "Predicted summary:  केजरीवाल के साथ चुनाव आयोग ने कहा पार्टी में नहीं है\n",
      "\n",
      "\n",
      "Review: लोकसभा चुनाव में करारी हार के बाद पूर्व रेलमंत्री लालू प्रसाद यादव की पार्टी राष्ट्रीय जनता दल आरजेडी टूट गई है झारखंड में राष्ट्रीय जनता दल के अध्यक्ष गौतम सागर राणा ने पार्टी के सदस्यों के साथ नई पार्टी का गठन किया है उन्होंने राष्ट्रीय जनता दल से अलग होकर नई पार्टी राष्ट्रीय जनता दल लोकतांत्रिक बनाई है राष्ट्रीय जनता दल लोकतांत्रिक पार्टी के गठन के बाद गौतम सागर राणा ने कहा मैं और झारखंड के राष्ट्रीय जनता दल के फीसदी कार्यकर्ता व नेता लालू प्रसाद यादव से परेशान हैं अब राष्ट्रीय जनता दल में लोकतंत्र नहीं बचा है लिहाजा हमने नई पार्टी बनाई है और झारखंड के अपने लोगों की सेवा करेंगे — लोकसभा चुनाव में करारी हार के बाद आरजेडी में फूट की खबरें आ रही हैं आम चुनाव के बाद तेजस्वी यादव कहीं भी सार्वजनिक मंच पर नजर नहीं आए हैं बिहार के मुजफ्फरपुर में राष्ट्रीय जनता दल आरजेडी के नेता और पूर्व उपमुख्यमंत्री तेजस्वी यादव को लेकर पोस्टर लगाए गए थे पोस्टर में तेजस्वी यादव को ढूंढने पर रुपये इनाम के तौर पर देने का ऐलान किया गया था इसके बाद तेज प्रताप चुपके से लालू प्रसाद यादव से रिम्स पहुंचे हालांकि पहले तेजस्वी के भी रिम्स जाने की खबर थी लेकिन वह नहीं गए लोकसभा चुनाव में हार के बाद तेज प्रताप यादव ने तेजस्वी को पत्र लिखा था और बिहार के पूर्व उपमुख्यमंत्री तेजस्वी यादव का समर्थन किया था तेज प्रताप ने पार्टी नेताओं से कहा था कि अगर उन्हें उनके छोटे भाई का नेतृत्व पसंद नहीं है तो वे पार्टी छोड़ दें तेज प्रताप यादव ने मंगलवार को कहा था कि आखिर तेजस्वी क्यों नेता विपक्ष के पद से इस्तीफा दें अगर किसी को उनका नेतृत्व पसंद नहीं है तो वह राजद या महागठबंधन छोड़ सकता है \n",
      "Original summary: लालू की पार्टी में टूट गौतम सागर ने बनाई \n",
      "Predicted summary:  लालू के लिए नीतीश ने लालू को बताया\n",
      "\n",
      "\n",
      "Review: दिल्ली पुलिस ने सिपाही जयदेव मलिक को सस्पेंड कर गिरफ्तार कर लिया है सिपाही के खिलाफ सार्वजिनक जगहों पर अश्लील हरकत और पोस्को के तहत मामला दर्ज किया गया है दिल्ली आजतक ने को सिपाही जयदेव मलिक की अश्लील हरकत वाला वीडियो दिखाया था जिसके बाद दिल्ली पुलिस हरकत में आई पिछले दो महीने से ये हर रोज पूरी शिद्दत से के साथ नंगा खेल खेल रहे थे पूरा मोहल्ला इनकी इस बेशर्मी से शर्मशार था लेकिन शनिवार को दिल्ली आजतक ने जैसे ही इस पुलिस वाले की बेशर्म हरकत का खुलासा किया तो दिल्ली पुलिस फौरन हरकत में आ गई सिपाही जयदेव मलिक को नौकरी से सस्पेंड करते हुए गिरफ्तार कर लिया गया सिपाही के खिलाफ सार्वजिनक जगहों पर अश्लील हरकत के अलावा हाल ही में बनाये नये कानून पोस्को के तहत मामला दर्ज किया है दिल्ली आजतक ने को सिपाही जयदेव मलिक की अश्लील हरकत वाला वीडियो दिखाया था दरअसल मालिक की इस शर्मनाक हरकत से परेशान होकर उसके पड़ोसी ने अपने घर के बाहर सीसीटीवी कैमरा लगा लिया था कैमरे का एंगल खास वहां रखा था जहां हर सुबह सिपाही ये नंगा खेल खेलता था पूरा मोहल्ला परेशान था पड़ोसियों ने पुलिस से कई बार शिकायत की लेकिन दिल्ली पुलिस कि आदत है अपनों को माफ करने की लिहाज़ा आजतक ने पड़ोसियों की मदद करने का किया और आजतक की खबर रंग लाई और फिलहाल जयदेव की हरकतों से उसके पड़ोसियों को राहत मिल गई है \n",
      "Original summary: दिल्ली आज तक का असर सिपाही गिरफ्तार \n",
      "Predicted summary:  दिल्लीः पुलिस ने दिल्ली पुलिस को भेजा नोटिस\n",
      "\n",
      "\n",
      "Review: रेलमंत्री पवन कुमार फिर बढ़ाने के संकेत दिए है उन्होंने कहा है की हाल ही मे गये किराये से एक साल में करोड़ रुपये आमदनी होगी लेकिन डीजल के रेट बढ़ने से करोड़ रुपए डीजल में ही चले जायेंगे जिससे रेलवे पुराने प्रोजेक्ट्स को ही पूरा कर पायेगा जबकि नये प्रोजेक्ट शुरू करने के लिए रेलवे को और की जरूरत है केन्द्रीय रेल मंत्री पवन कुमार बंसल चंडीगढ़ स्थित अपने निवास स्थान पर मीडिया से बातचीत कर रहे थे गौरतलब है कि जनवरी को तेल कंपनियों ने डीजल के दामों में पैसे प्रति लीटर की बढ़ोतरी की थी साथ ही पेट्रोल मंत्री वीरप्पा मोइली ने कहा है कि डीजल की बिक्री पर सरकारी तेल कंपनियों को हो रहे घाटे की भरपाई के लिए इसकी कीमतें हर माह से पैसे प्रति लीटर जाएंगी इससे पहले जनवरी को रेलमंत्री ने रेलवे में सभी श्रेणियों के किरायों में बढ़ोतरी की घोषणा की थी जो जनवरी से लागू हो चुकी है द्वितीय श्रेणी में पैसे प्रति किलोमीटर किराया बढ़ाया गया था स्लीपर क्लास का किराया पैसे प्रति किलोमीटर जबकि एसी प्रथम श्रेणी में पैसे प्रति किलोमीटर किराया बढ़ाया गया था एसी चेयर कार में पैसे प्रति किलोमीटर एसी थ्री टियर पैसे प्रति किलोमीटर एसी टू टियर पैसे प्रति किलोमीटर की दर से किराया बढ़ाया गया था \n",
      "Original summary: रेल मंत्री ने दिए यात्री किराया बढ़ाने के संकेत \n",
      "Predicted summary:  दिल्ली में फीसदी बढ़ी बिजली की कमी\n",
      "\n",
      "\n",
      "Review: में एंबुलेंस ड्राइवर रामचंद्र की सड़क हादसे में मौत हो गई ने कहा इंश्योरेंस कंपनी बाइक मालिक से मुआवजा लेने को में सड़क हादसे का शिकार हुए एक एंबुलेंस ड्राइवर के परिजन को मोटर व्हीकल एक्सिडेंट क्लेम ट्राइब्यूनल ने लगभग करोड़ रुपये का मुआवजा देने के निर्देश दिए हैं ट्राइब्यूनल ने इंश्योरेंस कंपनी को ब्याज समेत मुआवजा देने को कहा है साल में बीएमसी एंबुलेंस ड्राइवर रामचंद्र की सड़क हादसे में मौत हो गई थी यह हादसा में हुआ था रामचंद्र को सड़क पार करते समय साल के एक युवक ने बाइक से टक्कर मार दी थी ट्राइब्यूनल ने यह भी कहा कि इंश्योरेंस कंपनी मुआवजे की रकम बाइक मालिक से वसूलने के लिए स्वतंत्र है ट्राइब्यूनल ने कहा कि पे ऐंड रिकवर नियम के मुताबिक इंश्योरेंस कंपनी को की पत्नी और बच्चे को मुआवजा राशि देनी चाहिए बाइक चलाने वाले लड़के का अशरफ कुरैशी है वहीं बाइक का मालिक कोई और है ट्राइब्यूनल ने कहा कि बाइक के मालिक प्रजापति जानते थे कि वर्षीय मोहम्मद अशरफ कुरैशी के पास गाड़ी चलाने का लाइसेंस नहीं है और इसके बावजूद उन्होंने उसे बाइक दे दी रामचंद्र की पत्नी ने मौत के बाद मुआवजे के लिए इंश्योरेंस कंपनी में क्लेम किया था जानकारी के मुताबिक मौत के समय रामचंद्र का वेतन हजार रुपये प्रतिमाह था \n",
      "Original summary: साल पहले बाइक की टक्कर से हुई थी मौत परिवार को मिलेगा करोड़ का मुआवजा \n",
      "Predicted summary:  मुंबई में कार के दौरान लगी आग\n",
      "\n",
      "\n",
      "Review: पेट्रोल के दाम में पैसे प्रति लीटर और डीजल की कीमतों में रुपये प्रति लीटर का इजाफा किया गया है ये नई कीमतें रविवार आधी रात से लागू हो गई हैं बीते हफ्तों बार पेट्रोल के दाम हैं वहीं डीजल की कीमतों दिनों में लगातार दूसरी बार इजाफा किया गया है तेल कंपनियों ने ऐलान किया कि इस बढ़ोतरी में राज्य सरकार द्वारा लिए जाना नहीं है और वास्तविक बढ़ोतरी इससे ज्यादा की होगी दिल्ली में वैट जोड़ने के बाद पेट्रोल के लिए प्रति लीटर पैसे ज्यादा चुकाने होंगे वहीं डीजल के लिए रुपये प्रति लीटर ज्यादा देने होंगे रविवार आधी रात के बाद राजधानी दिल्ली में पेट्रोल रुपये की बजाय रुपये प्रति लीटर की दर से मिलेगा वहीं डीजल खरीदने के लिए की जगह रुपये खर्च करने होंगे \n",
      "Original summary: फिर पेट्रोल पैसा और डीजल रुपये लीटर हुआ महंगा \n",
      "Predicted summary:  पेट्रोल डीजल के दाम घटे पैसे\n",
      "\n",
      "\n",
      "Review: हरियाणा के पूर्व मुख्यमंत्री हुड्डा के खिलाफ मानेसर जमीन घोटाले में गुरुवार को पंचकूला स्थित विशेष सीबीआई कोर्ट में हुई सुनवाई मामले में सुनवाई के दौरान चालान की स्क्रूटनी हुई मामले की अगली सुनवाई अब मार्च को होगी मार्च तक चार्जशीट की स्क्रूटनी जारी रहेगी बता दें कि पूर्व मुख्यमंत्री भूपेंद्र सिंह हुड्डा सहित आरोपियों के खिलाफ चार्जशीट फाइल की गई थी अब इस मामले में सीबीआई ने पंचकूला की सीबीआई कोर्ट के स्पेशल जज कपिल राठी को मानेसर मामले में चार्जशीट फाइल कर दी है जिसमे हुड्डा के अलावा एम एल तायल सिंह एस एस ढिल्लों पूर्व जसवंत सहित कई बिल्डरों के खिलाफ चार्ज शीट में नाम आया है मानेसर जमीन घोटाले को लेकर सीबीआइ ने हुड्डा सहित के खिलाफ सितंबर को मामला दर्ज किया था इस मामले में ईडी ने भी हुड्डा के खिलाफ सितंबर में मनी लॉन्ड्रिंग का केस दर्ज किया था ईडी ने हुड्डा और अन्य के खिलाफ सीबीआइ की एफआइआर के आधार पर आपराधिक मामला दर्ज किया था कांग्रेस लगातार इस कार्रवाई को सियासी रंजिश का नाम दे रही है इस मामले में आरोप है कि अगस्त में निजी बिल्डरों ने हरियाणा सरकार के अज्ञात के साथ मिलीभगत कर गुड़गांव जिले में और गांवों के किसानों और को अधिग्रहण करीब एकड़ जमीन औने पौने दाम पर खरीद ली थी कांग्रेस हुड्डा सरकार के कार्यकाल के दौरान करीब एकड़ जमीन का अधिग्रहण कर उसे बिल्डर्स को औने पौने दाम पर बेचने का आरोप है \n",
      "Original summary: हरियाणा के पूर्व हुड्डा के खिलाफ मानेसर जमीन घोटाले में आज हुई सुनवाई \n",
      "Predicted summary:  हरियाणा में कोर्ट ने पेश किया केस\n",
      "\n",
      "\n",
      "Review: पश्चिम बंगाल के वीरभूम जिले में एक कालेज की परीक्षा के दौरान ब्लू टूथ की मदद से नकल कर रहे छात्र को निष्कासित कर दिया गया उस छात्र ने अपने नकली बालों में उपकरण को छुपा रखा था विश्वविद्यालय में दर्शनशास्त्र से बीए कर रहा रफीकुल इस्लाम पार्ट वन का छात्र है सूरी विद्यासागर कालेज में वह विग लगा कर परीक्षा देने पहुंचा कालेज के प्रधानाध्यापक एल एन मंडल ने बताया कि को इस बात का एहसास नहीं हुआ कि रफीकुल ने नकली बाल लगा रखे हैं हालांकि उन्होंने छात्र को कई बार कुछ उंची आवाज में बात करते सुना फटकार लगाये जाने के बाद छात्र ने हार मान ली और अपना विग उतार दिया जिसमें ब्लू टूथ लगा था वह उपकरण उसके मोबाइल फोन से जुड़ा था इसके जरिये वह अपने एक सहयोगी से सवालों के जवाब पूछ रहा था मंडल ने बताया कि छात्र को निष्कासित कर दिया गया है विश्वविद्यालय की ओर से इस खबर की पुष्टि की गई है \n",
      "Original summary: बालों में ब्लू परीक्षा में नकल कर रहा छात्र निष्कासित \n",
      "Predicted summary:  नकल करने के लिए ने परीक्षा में किया\n",
      "\n",
      "\n",
      "Review: अर्थशास्त्री और नोबेल पुरस्कार विजेता अमर्त्य सेन ने कहा कि नोटबंदी एक जल्दबाजी में लिया गया फैसला है और इसके बारे में ठीक से विचार नहीं किया गया सेन ने कहा कि अमेरिका चीन जापान फ्रांस इंग्लैंड से बड़े देशों में भी कैश और प्लास्टिक मनी का इस्तेमाल होता है लेकिन सवाल ये है कि का कितना फीसदी हिस्सा वाकई में कैशलेस बन सकता है उन्होंने का अगर इसकी गहराई में जाया जाए तो मुझे ऐसा नहीं लगता दुनियाभर के प्रतिष्ठित विश्वविद्यालयों में शिक्षण कार्य करने वाले सेन ने कहा कि मेरा मानना है कि कोई भी अर्थव्यवस्था पूरी तरह कैशलेस नहीं हो सकती जमीनी स्तर पर का इस्तेमाल करना ही पड़ता है उन्होंने कहा है कि मुझे नहीं लगता कि नोटबंदी का फैसला लेते वक्त सभी पहलुओं पर ठीक से विचार किया गया है इससे आने वाले वक्त में जनता की मुश्किलें और बढ़ेगी \n",
      "Original summary: अमर्त्य सेन ने नोटबंदी को बताया में लिया फैसला \n",
      "Predicted summary:  पंजाब में खुलेगा का नोबेल पुरस्कार\n",
      "\n",
      "\n",
      "Review: बोधगया ब्लास्ट की जांच में जुटी एनआईए ने जांच का दायरा बढ़ा दिया है एनआईए अब ब्लास्ट के स्थानीय पहलुओं पर भी गौर कर रही है एनआईए और गृह मंत्रालय ने माना है कि इस आतंकी हमले में बिना लोकल लोगों के शामिल हुए इसे अंजाम नहीं दिया जा सकता था एनआई के मुताबिक आईएम के अलावा बांग्लादेश के आंतकी संगठन नक्सली गिरोह यहां तक कि महाबोधि मंदिर के भीतर की गतिविधियों को भी खंगाला जा रहा है एनआईए अब बोधगया मंदिर मैनेजमेंट कमेटी के दो पूर्व सचिवों की हिस्ट्री खंगालने में जुटी है जिसका दफ्तर इसी मंदिर के पास है इसे आरोपों के बाद ही हटाया गया था एनआईए सूत्रों के मुताबिक तमाम बिंदुओं पर गौर किया जा रहा है भले ही यह आतंकी हमला हो लेकिन एक बात साफ है कि इसे बिना स्थानीय मदद के अंजाम नहीं दिया सकता था ऐसे में स्थानीय स्तर पर तमाम पहलुओं को एनआईए खंगाल रही है साथ ही जिस कोबरा सुरक्षा एजेंसी को महाबोधि मंदिर की सुरक्षा सौंपी गई थी उस एजेंसी से जुड़े लोगों और उनके अकाउंट्स तक को खंगाला जा रहा है बहरहाल अब तक ठोस सबूत के तौर पर इस जांच एजेंसी को कुछ भी हाथ नहीं लगा है \n",
      "Original summary: बोधगया ब्लास्ट की जांच में लोकल पर फोकस \n",
      "Predicted summary:  पठानकोट हमला के बाद अब आतंकियों ने आतंकियों को किया अलर्ट\n",
      "\n",
      "\n",
      "Review: चीनी मीडिया ने एक बार फिर भारत पर निशाना साधते हुए कहा कि हिंद महासागर में चीन पर लगाम कसने के लिए विमानवाहक के निर्माण की प्रक्रिया को तेज करने से ज्यादा ध्यान भारत को अपने आर्थिक विकास पर देना चाहिए सरकारी अखबार ग्लोबल टाइम्स में एक लेख में कहा गया कि विमान वाहक विकसित करने के लिए नई दिल्ली कुछ ज्यादा ही बेसब्र हो रही है यह देश औद्योगिकीकरण के अभी शुरुआती चरणों में ही है और ऐसे में विमान वाहक बनाने की राह में कई तकनीकी अवरोध आएंगे लेख में कहा गया कि बीते कुछ दशकों में विमान के मामले में भारत और चीन की राह अलग रही है लेकिन दोनों देशों को जो अलग अलग परिणाम हासिल हुए हैं वह आर्थिक विकास के महत्व की ओर इशारा करते हैं टाइम्स के लेख में आगे कहा गयाकि हिंद महासागर में चीन के बढ़ते प्रभुत्व के जवाब में विमान के निर्माण की प्रक्रिया को तेज करने के लिए नई दिल्ली को अपनी कुछ कम करनी चाहिए और अपनी अर्थव्यवस्था पर कुछ ज्यादा ध्यान देना चाहिए बता दें कि चीन ने रविवार को की स्थापना की मनाई है वह अपने बेड़े में तेजी से इजाफा कर रहा है तो वहीं सोमवार सुबह शंघाई से तीन चीनी पोत मैत्री दौरे पर एशिया यूरोप और अफ्रीका के से अधिक देशों की ओर रवाना हुए गौरतलब है कि चीनी मीडिया लगातार भारत को निशाने पर लेता रहा है हाल ही में चीन की सरकारी मीडिया ने चेताया था कि अगर भारत ने दलाई लामा का तुच्छ खेल खेलना जारी रखा तो उसे बहुत भारी कीमत चुकानी होगी इसके साथ ही अखबार ने बीजिंग द्वारा अरुणाचल प्रदेश के छह जगहों का नाम रखने पर भारत की प्रतिक्रिया को बेतुका कहकर खारिज किया है \n",
      "Original summary: चीन पर लगाम कसने पर कम आर्थिक विकास पर ज्यादा ध्यान दे भारत चीनी मीडिया \n",
      "Predicted summary:  भारत में चीन के साथ होंगे\n",
      "\n",
      "\n",
      "Review: सोनाक्षी सिन्हाने अपने हाथों में मेहंदी रचा ली है और ये खबर उन्होंने खुद सोशल नेटवर्किंग साइट पर दी लेकिन ये मेहंदी पिया के नाम की नहीं है दरअसल सोनाक्षी के भाई कुश की शादी हो रही है — कुश सिन्हा लंदन के नामचीन एनआरआई की बेटी अग्रवाल के साथ शादी के बंधन में बंधने वाले हैं इस शादी में इंडस्ट्री के बड़े बड़े सितारे शरीक होने वाले हैं और खबरों की माने तो रिसेप्शन में प्रधानमंत्री नरेंद्र मोदी भी आ सकते हैं वैसे सोनाक्षी से जब भी उनकी शादी के बारे में हम पूछते हैं तो हुए एक ही जवाब आता है खामोश \n",
      "Original summary: सोनाक्षी सिन्हा ने हाथों में रचाई मेहंदी भाई की शादी को लेकर उत्साहित \n",
      "Predicted summary:  शादी के बाद अब भी हैं करण फेम\n",
      "\n",
      "\n",
      "Review: सेक्स सीडी स्कैंडल से चर्चा में आए दिल्ली के पूर्व मंत्री संदीप कुमार को दिन के लिए न्यायिक हिरासत में भेज दिया गया है इससे पहले उनसे पुलिस हिरासत में पूछताछ की जा रही थी संदीप को एक महिला के साथ आपत्तिजनक स्थिति में एक अश्लील वीडियो में देखा गया इसके बाद पीड़ित महिला ने उनके खिलाफ केस दर्ज कराया था सूत्रों के मुताबिक पुलिस हिरासत में पूछताछ के दौरान संदीप कुमार सहयोग नहीं कर रहे थे हालांकि यह भी दावा किया जा रहा है कि उन्हें यह स्वीकार कर लिया है कि उन्होंने ही इस वीडियो को बनाया था इसके साथ ही उनके सहयोगी प्रवीण और के खिलाफ भी पुलिस को जांच में अभी तक कोई ठोस सबूत हाथ नहीं लगा है सोशल साइट को भेजा ने संदीप के कब्जे से कुछ डिवाइस बरामद किए हैं जिनमें उनका मोबाइल फोन भी शामिल हैं सभी डिवाइस की जांच की जा रही है हालांकि पुलिस को अभी तक वह गैजेट नहीं मिला है जिससे सेक्स वीडियो शूट किया गया था पुलिस ने सेक्स वीडियो के सोशल मीडिया पर वायरल होने के बाद सोशल साइट को नोटिस भी भेजा है आरोप लगने पर किया चलें कि सेक्स सीडी में दिल्ली सरकार के बर्खास्त मंत्री संदीप कुमार के साथ दिख रही महिला ने थाने पहुंचकर उनके खिलाफ मुकदमा दर्ज कराया था इसके बाद खुद को चौतरफा घिरते देख संदीप कुमार ने बाहरी दिल्ली के कार्यालय में पहुंचकर सरेंडर कर दिया था महिला का आरोप था कि उसे नशीला कोल्ड ड्रिंक पिलाकर उसके साथ रेप किया गया \n",
      "Original summary: सेक्स सीडी केस दिन की न्यायिक हिरासत में भेजे गए संदीप \n",
      "Predicted summary:  आरुषि केसः के खिलाफ चार्जशीट दर्ज\n",
      "\n",
      "\n",
      "Review: प्रधानमंत्री नरेंद्र मोदी गुरुवार को स्वच्छ भारत अभियान की शुरुआत करेंगे इस बीच आम आदमी पार्टी के संयोजक अरविंद केजरीवाल ने भी घोषणा की है कि वह अपने स्तर पर पार्टी कार्यकर्ताओं के साथ स्वच्छता अभियान में हिस्सा लेंगे दिलचस्प यह कि केजरीवाल रेसकोर्स रोड स्थित प्रधानमंत्री आवास के पास से अपने सफाई अभियान को शुरू करेंगे जानकारी के मुताबिक केजरीवाल पार्टी कार्यकर्ताओं के साथ रेसकोर्स रोड क्षेत्र में बीआर कैंप से सफाई अभियान शुरू करेंगे जबकि प्रधानमंत्री वाल्मीकि सदन जाकर स्वच्छता अभियान की शुरुआत करने वाले हैं रोचक तथ्य यह भी है कि आम आदमी पार्टी ने इसी वाल्मीकि सदन से पार्टी के चुनाव चिन्ह झाड़ू की घोषणा की थी वाल्मीकि समुदाय को आप का मजबूत समर्थक माना जाता है केजरीवाल ने सफाई अभियान के बारे में कहा कि इसे केवल सांकेतिक नहीं रहने देना चाहिए और अधिकारियों को सफाई कर्मचारियों की बेहतरी के लिए काम करना चाहिए \n",
      "Original summary: आवास के पास अपना सफाई अभियान शुरू करेंगे केजरीवाल \n",
      "Predicted summary:  मोदी की रैली में मोदी की रैली में मोदी सरकार का तोहफा\n",
      "\n",
      "\n",
      "Review: फीफा विश्व कप के ग्रुप एफ के मुकाबले में ईरान और नाइजीरिया के बीच खेला गया मैच ड्रॉ रहा दोनों में कोई भी टीम गोल नहीं कर पाई और आखिरकार मैच पर ड्रा हो गया है पूरे मैच के दौरान दोनों टीमों ने एक के गोल पोस्ट पर कई बार आक्रामक प्रहार किए लेकिन कोई भी टीम बॉल को गोल पोस्ट में नहीं डाल सकी मैच ड्रॉ होने के चलते दोनों टीमों को एक एक अंक बांट दिये गए हैं अब ग्रुप एफ में तीन अंक लेकर अर्जेंटीना टॉप पर है हालांकि पूरे मैच के दौरान बॉल फीसदी नाइजीरियाई खिलाड़ियों के कब्जे में रही वहीं ईरान के कब्जे में केवल प्रतिशत रही ईरान के खिलाड़ियों ने फाउल किये और नाइजीरिया के खिलाड़ियों ने \n",
      "Original summary: वर्ल्ड कप ईरान नाइजीरिया मैच ड्रॉ \n",
      "Predicted summary:  भारत में मैच के लिए भारतीय टीम\n",
      "\n",
      "\n",
      "Review: यूपी में चुनावी मौसम के बीच अखिलेश का बजट मोदी के संसदीय क्षेत्र वाराणसी में घाट निर्माण से लेकर मेट्रो तक फंड की बारिश स्वच्छता अभियान से लेकर केंद्र से संबंधित दूसरी योजनाओं में भी जमकर पैसा खर्च करने की घोषणा वाराणसी तक पहुंची अखिलेश की मोदी के संसदीय क्षेत्र वाराणसी में मेट्रो चलाने के साथ ही घाटों की हालत सुधारने के लिए भी पांच करोड़ की राशि दी गई है अखिलेश यादव ने इस बजट में तकरीबन सभी को खुश करने की कोशिश की है इस बजट में मुख्य रूप से उनका ध्यान सड़क बिजली और पीने के पानी पर है आइए आपको बताते हैं इस बजट की मुख्य बातें वाराणसी के लिए पांच करोड़ रुपये करोड़ रुपये कानपुर और वाराणसी मेट्रो के लिए करोड़ नदियों पर पुल बनाने के लिए करोड़ इंडो नेपाल बॉर्डर पर सड़क बनाने के लिए करोड़ रुपये स्वच्छ भारत मिशन के लिए करोड़ स्कीम के लिए करोड़ रुपये अर्बन पेयजल योजना के लिए इलाहाबाद संगम पर एलिवेटेड रोड फ्लाईओवर के लिए करोड़ करोड़ रुपये लखनऊ मेट्रो रेल प्रोजेक्ट के लिए करोड़ सड़कों को और रिपेयरिंग के लिए तक घंटे बिजली सप्लाई करोड़ रुपये गांवों में बिजली पहुंचाने के लिए में आलू बाजार के लिए करोड़ रुपये बुंदेलखंड में ग्रामीण इलाकों में पेयजल के लिए करोड़ करोड़ रुपए पीडब्ल्यूडी के अंडर सड़कें और पुल बनाने के लिए दिए हैं \n",
      "Original summary: मोदी के घर में अखिलेश की सेंध \n",
      "Predicted summary:  यूपी में मोदी सरकार का ऐलान अखिलेश ने करोड़ करोड़ करोड़ रुपये\n",
      "\n",
      "\n",
      "Review: कश्मीर में आईएसआईएस और पाकिस्तानी झंडे बार बार लहराए जाने पर नेशनल कॉन्फ्रेंस फारूक फारुक अब्दुल्ला ने शुक्रवार को कहा कि यह उन युवकों के और का इजहार है जो राष्ट्र को चाहते हैं अब्दुल्ला ने कहा दरअसल युवाओं में हताशा और गुस्सा है उनके लिए कुछ नहीं किया जा रहा वह इन झंडों को लहराने के अलावा किसी और तरीके गुस्से का कर सकते राज्य के युवाओं को मुख्यधारा में लाने की जरूरत कॉन्फ्रेंस प्रमुखने कहा वो युवा राष्ट्र को चाहते हैं ‘जो हमारे बारे में सोचे ’ हममें से कोई उनके बारे में चिंतित नहीं है यह इसकी विडंबना है उन्होंने कहा कि राष्ट्रीय मुख्यधारा में लड़कों को वापस लाने के लिए आवश्यक कदम उठाए जाने की जरूरत है आपको देखना होगा क्या चीज उन्हें चुभ रही है भारत पाक की सीमा कभी बदल नहीं सकती अब्दुल्ला ने यह भी कहा कि भारत और पाकिस्तान के बीच सीमा कभी नहीं बदल सकती उन्होंने कहा आतंकवादी टावरों पर हमला कर रहे हैं क्या आपको लगता है कि इससे कुछ बदलेगा मैं बिल्कुल स्पष्ट हूं कि आप चाहे जो कुछ कर लें सीमा नहीं बदलेगी सीमा नहीं बदलने जा रही पूर्व प्रधानमंत्री अटल बिहारी वाजपेयी का हवाला देते हुए फारुक ने पाकिस्तान के साथ दोस्ताना संबंधों की हिमायत की भाषा से इनपुट \n",
      "Original summary: पाक का झंडा जाना गुस्से का इजहार अब्दुल्ला \n",
      "Predicted summary:  कश्मीर में नहीं है ओसामा मलिक\n",
      "\n",
      "\n",
      "Review: महिला टेनिस संघ डब्ल्यूटीए की एकल और युगल रैंकिंग में जर्मनी की केर्बर और भारत की दिग्गज महिला टेनिस खिलाड़ी सानिया मिर्जा का शीर्ष पर दबदबा बरकरार है डब्ल्यूटीए की ओर से सोमवार का जारी सूची से यह जानकारी मिली सानिया युगल में नंबर रैंकिंग मेंमहिला में अमेरिका की केर्बर के बाद दूसरे स्थान पर हैं वहीं पोलैंड की तीसरे स्थान पर हैं डब्ल्यूटीए की महिला युगल रैंकिंग में सानिया की पूर्व जोड़ीदार स्विट्जरलैंड स्थान नीचे चौथे स्थान पर पहुंच गई हैं इस रैंकिंग में फ्रांस की कैरोलिन और क्रिस्टिना की जोड़ी दूसरे स्थान पर है \n",
      "Original summary: रैंकिंग सानिया टॉप पर बरकरार \n",
      "Predicted summary:  सानिया मिर्जा की जोड़ी विंबलडन ओपन के सेमीफाइनल में\n",
      "\n",
      "\n",
      "Review: डायना पेंटी और अभय देओल स्टारर फिल्म हैप्पी भाग जाएगी तीन दिन में करोड़ रुपये की कमाई कर चुकी है यह जानकारी निर्माताओं ने दी अगस्त को रिलीज हुई निर्देशक मुद्दसर अजीज की यह फिल्म अपने रिलीज के पहले दिन ही करोड़ रुपये की कमाई की एक बयान के मुताबिक फिल्म ने शनिवार को करोड़ रुपये रविवार को करोड़ रुपये की कमाई की है फिल्म हैप्पी भाग जाएगी में शेख अली फैजल और जिमी शेरगिल भी मुख्य भूमिकाओं में हैं ट्रेड एनालिस्ट तरण आदर्श के मुताबिक रिलीज के बाद से ही फिल्मकी अच्छी शुरुआत रही है वहीं रविवार को भी इसमें बढ़ोतरी देखी गई ₹ — — आदर्श ने सोमवार को ट्विटर पर शेयर करते हुए कहा वीकएंड में फिल्म ने पर्याप्त है उम्मीद है सप्ताह के अन्य दिन भी यह अच्छी चलेगी \n",
      "Original summary: जानें हैप्पी भाग जाएगी बॉक्स ऑफिस पर कितनी \n",
      "Predicted summary:  बॉक्स ऑफिस पर दिन पहले दिन कमाए करोड़\n",
      "\n",
      "\n",
      "Review: पाकिस्तान क्रिकेट बोर्ड ने दो बाईलैटरल सीरीज नहीं खेलने के लिए भारतीय क्रिकेट कंट्रोल बोर्ड से सात करोड़ डॉलर मुआवजे की मांग की है पीसीबी ने इस मसले पर सलाह मशविरे की प्रक्रिया पूरी करके मुआवजे की रकम तय की है वह कुछ दिन में आईसीसी की भुगतान समिति के पास दावा पेश करेगा पीसीबी अध्यक्ष नजम सेठी ने कहा ‘हमने बीसीसीआई के साथ में सहमति पत्र पर हस्ताक्षर किए थे जिसके तहत छह बाईलैटरल सीरीज खेलने पर सहमति बनी थी जिनमें हमारी मेजबानी में घरेलू सीरीज शामिल थी सेठी ने कहा ‘भारत ने इस पर अमल नहीं किया और से अब तक हमारे खेली है लेकिन हमारे खिलाफ आईसीसी टूर्नामेंटों में खेलने में उन्हें कोई दिक्कत नहीं है ने कहा पत्र के तहत दोनों देशों को से के बीच छह बाईलैटरल सीरीज खेलनी थी भारत के साथ बाईलैटरल सीरीज खेलने में कभी परेशानी नहीं थी लेकिन बीसीसीआई के टीम नहीं भेजने से उसे भारी आर्थिक नुकसान उठाना पड़ा है ’ \n",
      "Original summary: से सात करोड़ डॉलर मुआवजे की मांग करेगा पाकिस्तान क्रिकेट बोर्ड \n",
      "Predicted summary:  पाकिस्तान में भारत पाकिस्तान का नया फैसला\n",
      "\n",
      "\n",
      "Review: मुंबई की एक स्थानीय अदालत ने शुक्रवार को नूरिया की जमानत अर्जी खारिज कर दी जिसे पिछले महीने शराब पीकर वाहन चलाने और कार दो लोगों पर चढ़ाकर उनकी जान लेने के आरोप में गिरफ्तार किया गया था सत्र अदालत ने जमानत अर्जी खारिज करते हुए कहा कि वर्षीय नूरिया के खिलाफ प्रथम दृष्टया मामला बनता है और यह एक गंभीर अपराध है पेशे से सौंदर्य विशेषज्ञ नूरिया को जनवरी को गिरफ्तार किया गया था जब उसने अपने एसयूवी वाहन से दक्षिण मुंबई में पुलिस जीप और एक मोटरसाइकल को टक्कर मार कर एक पुलिस उप निरीक्षक सहित दो लोगों की जान ले ली थी घटना में यातायात पुलिस के चार कांस्टेबल भी घायल हो गये थे नूरिया की जांच में पाया गया था कि वह नशे मे थी उसके वकील ने कहा कि वह सत्र अदालत के आदेश को बंबई उच्च न्यायालय में चुनौती देंगे \n",
      "Original summary: की जमानत अर्जी खारिज \n",
      "Predicted summary:  मुंबई में अदालत ने पूछा कब से जमानत\n",
      "\n",
      "\n",
      "Review: अगर आप सरकारी नौकरी की तलाश कर रहें हैं तो में है सरकारी नौकरी पढ़ें अप्रैल के में प्रोजेक्ट असिस्टेंट के पद पर वैकेंसी में मैनेजर की नौकरी पाने का इलेक्ट्रॉनिक्स लिमिटेड में इंजीनियर्स लिग्नाइट कॉरपोरेशन में वैकेंसी में जूनियर क्लर्क और स्टेनोग्राफर के लिए करें आवेदन \n",
      "Original summary: पढ़ें अप्रैल के \n",
      "Predicted summary:  पढ़ें अप्रैल के\n",
      "\n",
      "\n",
      "Review: एक्टर ऋषि कपूर ने बीजेपी सरकार की वापसी पर बधाई देते हुए नई सरकार से नागरिकों के लिए रोजगार शिक्षा और स्वास्थ्य सुविधाओं पर ध्यान देने की गुजारिश की है ऋषि कपूर इन दिनों न्यूयार्क में अपना इलाज करा रहे हैं ऋषि ने लोकसभा चुनाव में बीजेपी की जीत के बाद प्रधानमंत्री नरेंद्र मोदी और केंद्रीय मंत्रियों स्मृति ईरानी और अरुण जेटली से कई ट्वीट्स में अपनी चिंताएं जाहिर की ऋषि ने लिखा दोबारा निर्वाचित हुई बीजेपी अरुण जेटली स्मृति ईरानी और माननीय प्रधानमंत्री नरेंद्र मोदी जी से मेरी विनम्र इच्छा कामना और आग्रह है कि कृपया भारत में निशुल्क शिक्षा और स्वास्थ्य तथा पेंशन के लिए काम करें यह मुश्किल है लेकिन अगर आप आज शुरू करते हैं तो हम इसे एक दिन जरूर हासिल कर लेंगे ’ 🇮🇳— ’ 🇮🇳— 🇮🇳— — एक दूसरे ट्वीट में ऋषि कपूर ने कहा शिक्षा स्नातक युवा को अच्छे रोजगार दे सकती है और बीमार को पूरा जीवन दे सकती है एक सच्चा लोकतंत्र एक अवसर ऋषि ने यह भी कहा अगर मैंने ज्यादा बोल दिया को कृपया मुझे माफ कीजिए लेकिन एक नागरिक के तौर पर मुझे लगता है कि यह बात सामने लाना मेरा कर्तव्य है बता दें कि ऋषि कपूर लंबे वक्त से न्यूयॉर्क में अपनी बीमारी का इलाज करा रह रहे हैं ऋषि कपूर से मिलने के लिए बॉलीवुड के कई सेलेब्स और बिजनेसमैन मुकेश अंबानी नीता अंबानी भी जा चुके हैं हालांकि ऋषि कपूर कब मुंबई वापस आ रहे हैं इस बारे में ताजा जानकारी नहीं है \n",
      "Original summary: ऋषि कपूर ने मोदी स्मृति ईरानी से की इन मुद्दों पर करें काम \n",
      "Predicted summary:  अमिताभ बच्चन की को दी गई बड़ी चुनौती\n",
      "\n",
      "\n",
      "Review: वाईएसआर कांग्रेस के प्रमुख जगनमोहन रेड्डी के खिलाफ दर्ज आय के ज्ञात स्रोत से अधिक संपत्ति मामले में भारतीय क्रिकेट कंट्रोल बोर्ड बीसीसीआई के प्रमुख तथा इंडिया सीमेंट्स के प्रबंध निदेशक एन श्रीनिवासन पूछताछ के लिये शनिवार को सीबीआई के समक्ष पेश हुए एक सप्ताह में यह दूसरा मौका है जब श्रीनिवासन जांच एजेंसी के समक्ष पेश हुए हैं सीबीआई के एक वरिष्ठ अधिकारी ने कहा के खिलाफ आय से अधिक संपत्ति मामले में श्रीनिवासन से पूछताछ की गयी ’ इससे पहले सीबीआई ने बीसीसीआई प्रमुख की कंपनी इंडिया की तरफ से कडप्पा के सांसद की कंपनी में कथित निवेश के बारे में सोमवार को श्रीनिवासन से छह घंटे तक पूछताछ की थी यह कथित निवेश उस समय किया गया था जब जगन मोहन रेड्डी के दिवंगत पिता वाई एस राजशेखर रेड्डी आंध्र प्रदेश के मुख्यमंत्री थे पूर्व में जांच एजेंसी ने श्रीनिवासन पर राज्य के रंगा रेड्डी तथा नलगोंडा जिलों में स्थित कारखानों के लिये कृष्णा तथा नदी से बड़ी मात्रा में जल प्राप्त करने का आरोप लगाया था कंपनी को कथित तौर पर सरकारी आदेश जारी किया गया जिसमें जल आवंटन का जिक्र था इसके बदले में इंडिया सीमेंट्स ने जगन की तथा अन्य कंपनियों में कथित तौर पर करोड़ रुपये का निवेश किया था जगन इस समय जेल में हैं वर्षीय सांसद को मई को गिरफ्तार किया गया था जांच एजेंसी ने जगन तथा अन्य के खिलाफ दायर तीन आरोप पत्र में आरोप लगाया था कि वह उनके पिता ने साजिश रचकर सरकार के धोखाधड़ी की और कुछ कंपनियों को लाभ पहुंचाया इसके एवज में संबंधित कंपनियों ने जगन के कारोबार में निवेश किया \n",
      "Original summary: ने प्रमुख श्रीनिवासन से फिर की पूछताछ \n",
      "Predicted summary:  श्रीनिवासन के मामले में कुछ नहीं\n",
      "\n",
      "\n",
      "Review: बॉलीवुड एक्टर रणवीर सिंह को बॉलीवुड का पावर हाउस कहा जाता है वह काफी एक्टिव हैं और रियल लाइफ में भी काफी एनर्जेटिक रहते हैं फिल्म पद्मावत में हमने पर्दे पर उनका वहशी अवतार देखा था लेकिन क्या आप जानते हैं कि रणवीर ने रियल लाइफ में भी एक बार अजीब सा पागलपन दिखाया था जिसके बारे में ज्यादातर लोग कल्पना भी नहीं करना पसंद करेंगे ये सिंहने अपनी एक फिल्म के लिए ही किया था बात तब की है जब रणवीर सिंह अपनी फिल्म लुटेरा की शूटिंग कर रहे थे उन्हें एक सीन करना था जिसमें उन्हें बहुत तकलीफ में नजर आना था खबर है सिंहने पर्दे पर वास्तविक दर्द को दिखाने के लिए अपने पेट पर कर लिया था इसके बाद उन्होंने इस सीन को शूट किया था पिंकविला की एक रिपोर्ट के मुताबिक इस बारे में बातचीत के दौरान रणवीर सिंह ने कहा मुझे कभी भी गोली नहीं लगी थी अब मुझे पर्दे पर गोली खानी थी और मुझे नहीं पता कि इस पर कैसा दर्द होता है तो मुझे वैसी तकलीफ दिखानी थी जैसी वास्तविक रूप से दर्द होने पर आपको होती है बता दें कि रणवीर सिंह इन दिनों अपनी अपकमिंग फिल्म की शूटिंग में बिजी हैं क्या होगी की कहानी बता दें कि फिल्म में रणवीर सिंह भारतीय क्रिकेट टीम के पूर्व कप्तान कपिल देव का किरदार निभाते नजर आएंगे फिल्म की कहानी भारतीय क्रिकेट टीम द्वारा जीते गए पहले विश्व कप की है फिल्म में रणवीर सिंह के अलावा दीपिका पादुकोण भी हैं जो कि उनकी पत्नी की भूमिका निभाती नजर आएंगी फिल्म का ट्रेलर अब तक रिलीज नहीं किया गया है लेकिन फैन्स रणवीर का कपिल देव लुक जरूर देख चुके हैं \n",
      "Original summary: पर्दे पर दर्द दिखाने को रणवीर ने पेट पर किया सुनाया ये \n",
      "Predicted summary:  रणवीर सिंह ने किया ऐसा काम रणवीर सिंह ने किया ऐसा जवाब\n",
      "\n",
      "\n",
      "Review: बारिश के चलते भारत और इंग्लैंड के बीच मैनचेस्टर में खेले जा रहे सीरीज के चौथे टेस्ट के दूसरे दिन का खेल लंच के थोड़ी ही देर बाद रोकना पड़ा मैच इसके बाद शुरू नहीं हो पाया दूसरे दिन महज ओवर का खेल हो सका इंग्लैंड ने विकेट पर रन बना लिए हैं और उसकी बढ़त रनों की हो गई है जोए रूट और जोस बटलर रन बनाकर नाबाद लौटे भारत की ओर से भुवनेश्वर कुमार और वरुण एरोन ने विकेट झटके देखें मैच का दूसरे दिन आउट होने वाले बल्लेबाजों में क्रिस जॉर्डन बेल और मोइन अली शामिल हैं दो विकेट भुवनेश्वर कुमार के खाते में गए जबकि एक विकेट वरुण एरोन ने झटका इस तरह से भुवी और एरॉन के विकेटों की संख्या हो गई है इंग्लैंड के पहले दिन आउट होने वाले बल्लेबाजों में एलिस्टेयर कुक सैम और गैरी बैलेंस थे इससे पहले टीम इंडिया ने टॉस जीतकर पहले बल्लेबाजी करते हुए महज रन बनाए कैप्टन कूल एम एस धोनी ने रनों की पारी खेली जबकि आर अश्विन ने रन बनाए इन दोनों के अलावा केवल अजिंक्य रहाणे दहाई अंक तक पहुंच पाए थे लंबे समय बाद टेस्ट टीम में वापसी करने वाले गौतम गंभीर महज रन बनाकर आउट हो गए थे पहले दिन की मैच रिपोर्ट पांच मैचों की टेस्ट सीरीज में दोनों टीमें एक एक की बराबरी पर हैं जबकि सीरीज का पहला मैच ड्रॉ रहा था भारत ने लॉर्ड्स में जीत दर्ज की थी और इंग्लैंड ने में अपनी हार का बदला ले लिया था \n",
      "Original summary: बारिश ने की भारत की मदद दूसरे दिन इंग्लैंड का स्कोर \n",
      "Predicted summary:  वर्ल्ड कप फाइनल में भारत ने जीता वर्ल्ड कप का वर्ल्ड रिकॉर्ड\n",
      "\n",
      "\n",
      "Review: पिछले दिनों में लगभग तीर्थयात्रियों ने अमरनाथ यात्रा की एक अधिकारी ने बुधवार को बताया कि तीर्थयात्रियों का एक और जत्था कड़ी सुरक्षा व्यवस्था के बीच अमरनाथ की यात्रा के लिए रवाना हो गया अर्धसैनिक बलों के साथ वाहनों में सवार यह काफिला सुबह बजे भगवती नगर यात्री निवास से रवाना हो गया अधिकारी ने बताया इनमें से पहलगाम आधार शिविर जाएंगे जबकि बालटाल आधार शिविर जाएंगे साथ ही उन्होंने कहा कि यात्रा के छठे दिन तीर्थयात्रियों ने बर्फानी बाबा के दर्शन किए यह दिवसीय यात्रा जून को शुरू हुई थी और सात अगस्त को समाप्त होगी आपको बता दें कि इस साल अमरनाथ यात्रा जून को शुरू हुईथी पुलिस के एक अधिकारी ने बताया कि श्रद्धालुओं की केंद्रीय रिजर्व पुलिस बल के कर्मी कर रहे हैं सरकारी अधिकारी ने बताया कि अमरनाथ यात्रा के दिनों की तुलना में दिन कम होगी और यह अगस्त को श्रवण पूर्णिमा को रक्षा बंधन के दिन खत्म हो जाएगी \n",
      "Original summary: दिनों में तीर्थयात्रियों ने की अमरनाथ यात्रा \n",
      "Predicted summary:  दिल्ली में बाढ़ का कहर जारी\n",
      "\n",
      "\n",
      "Review: मीराबाई चानू में पिछले दो दशक से अधिक समय में स्वर्ण पदक जीतने वाली पहली भारतीय हो गईं चानू ने अमेरिका में यह कारनामा कर रियो ओलंपिक के खराब प्रदर्शन की टीस 🇮🇳 — भारतीय रेलवे में कार्यरत चानू ने स्नैच में किलो और क्लीन एंड जर्क में किलो वजन उठाया उन्होंने किलो वर्ग में कुल किलो वजन उठाकर नया राष्ट्रीय रिकॉर्ड बनाया पोडियम पर खड़े होकर तिरंगा देखकर उनके आंसू निकल आए उनसे पहले ओलंपिक कांस्य पदक विजेता कर्णम मल्लेश्वरी ने और में विश्व चैंपियनशिप में पीला तमगा जीता था चानू रियो ओलंपिक में तीनों प्रयासों में नाकाम रही थीं और में वह स्पर्धा पूरी नहीं कर पाने वाली दो में से एक थीं थाईलैंड की ने रजत और ने कांस्य पदक जीता डोपिंग से जुड़े मसलों के कारण रूस चीन कजाखस्तान उक्रेन और अजरबैजान जैसे भारोत्तोलन के शीर्ष देश इसमें भाग नहीं ले रहे हैं \n",
      "Original summary: वर्ल्ड ने में जीता स्वर्ण पदक \n",
      "Predicted summary:  विश्व कप में स्वर्ण पदक\n",
      "\n",
      "\n",
      "Review: भारत की ऑटो कंपनी मारुति सुजुकी ने देश में अपनी नई को लॉन्च कर दिया है इसकी शुरुआती कीमत कंपनी ने लाख रुपये एक्स शोरूम दिल्ली रखी है नई कार सेफ्टी फीचर्स जैसे रिवर्स पार्किंग असिस्ट सिस्टम को ड्राइवर सीट बेल्ट रिमाइंडर और हाई स्पीड अलर्ट सिस्टम जैसे फीचर्स के साथ उपलब्ध कराई गई है ये फीचर्स सारे वेरिएंट्स में स्टैंडर्ड तौर पर उपलब्ध रहेंगे सारे वेरिएंट्स की कीमतें एक्स शोरूम दिल्ली मैनुअल लाख रुपये मैनुअल लाख रुपये मैनुअल लाख रुपये मैनुअल लाख रुपये ऑटोमैटिक लाख रुपये ऑटोमैटिक लाख रुपये ऑटोमैटिक लाख सुजुकी इंडिया ने अपडेटेड के और वेरिएंट्स में रूफ को भी जोड़ा है इन कलर ऑप्शन्स में उपलब्ध होगी ब्लू ग्रे पर्ल आर्कटिक वाइट ब्लू रेड डुअल टोन ब्लू विद पर्ल आर्कटिक वाइट डुअल टोन ब्लू विद मिडनाइट ब्लैक डुअल टोन रेड विद मिडनाइट ब्लैक में लॉन्च हुई मारुति सुजुकी के टोटल इफेक्टिव कंट्रोल टेक्नोलॉजी प्लेटफॉर्म का इस्तेमाल करती है ताकि इसे बेहतर स्टेबिलिटी और सेफ्टी दी जा सके इस हैचबैक के सारे वेरिएंट्स में स्टैंडर्ड तौर पर डुअल फ्रंट एयरबैग्स के साथ चाइल्ड सीट सिस्टम और फोर्स के साथ सीट बेल्ट प्री जैसे सेफ्टी फीचर्स पहले से ही मौजूद हैं मैकेनिकल तौर पर बात करें तो में कोई बदलाव नहीं किया गया है इस हैचबैक में फोर सिलिंडर लीटर पेट्रोल इंजन मौजूद है ये इंजन का पावर और का टॉर्क जेनरेट करता है इस इंजन के साथ स्पीड मैनुअल गियरबॉक्स और ऑटोमैटिक का भी ऑप्शन मिलता है कंपनी के दावे के मुताबिक ये कार का माइलेज देती है पहले इसमें डीजल मोटर का भी ऑप्शन मिलता था लेकिन कम डिमांड के चलते जून में इसे बंद कर दिया गया \n",
      "Original summary: मारुति सुजुकी हुई लॉन्च शुरुआती कीमत लाख \n",
      "Predicted summary:  के इन स्मार्टफोन्स पर मिल रहा है भारी छूट\n",
      "\n",
      "\n",
      "Review: बॉलीवुड सुपरस्टार ऋतिक रोशन और गणित विशेषज्ञ आनंद कुमार ने फिल्म सुपर की रिलीज के कई महीनों बाद आखिरकार जश्न मनाया है आनंद कुमार की बायोपिक जुलाई में रिलीज हुई थी और इस फिल्म में ऋतिक ने आनंद कुमार की भूमिका निभाई थी ऋतिक ने इस बारे में बात करते हुए कहा कि वो एक बेहतरीन शाम थी मेरी मां ने सुपर थियेटर में जाकर बार देखी लेकिन उन्हें आनंद सर और उनके भाई प्रणव से मिलने का पर्सनली मौका नहीं मिला कल हम लोग सुपर की कठिन यात्रा को याद कर रहे थे जिन घटनाओं को शूट करते वक्त काफी परेशानियों का सामना करना पड़ा था उन्हें याद कर हम काफी खुश थे बेहतरीन खाने के साथ बेहतरीन बातचीत होती है तो सेलेब्रेशन अच्छा हो जाता है वही आनंद कुमार ने कहा मैं बेहद शुक्रगुजार हूं ऋतिक रोशन और सुपर की पूरी टीम का जिन्होंने इस कहानी को दर्शकों के सामने पेश किया वो एक बेहतरीन एक्टर हैं और उन्होंने इस फिल्म में शानदार काम किया है उन्हें इसके बाद फिल्म वॉर में देखना बहुत मजेदार रहा वे जिस हिसाब से अपने रोल्स को बदलते हैं वो बेहद हैरान करता है और काबिलेतारीफ है 🙏🏻 गौरतलब है फिल्म वॉर ने बॉक्स ऑफिस पर करोड़ से अधिक कमाई की है और ये फिल्म इस साल की सबसे बड़ी ब्लॉकबस्टर साबित हुई है टाइगर के डांस के अलावा फिल्म में एक्शन सीक्वेंस को भी काफी सराहना मिली है फिल्म सुपर ने वर्ल्ड वाइड करोड़ से अधिक का कलेक्शन किया वही वॉर ने करोड़ से अधिक की कमाई की है बैक टू बैक सफलता के के अलग स्तर पर पहुंच गए है वही वॉर टाइगर के करियर की भी सबसे बड़ी फिल्म साबित हुई और इस फिल्म के बाद वे बागी की शूटिंग कर रहे हैं \n",
      "Original summary: सुपर के बाद आनंद कुमार ने देखी वॉर ऋतिक की एक्टिंग पर दिया ये रिएक्शन \n",
      "Predicted summary:  बॉक्स ऑफिस पर फिल्म में नजर आएंगी विद्या बालन\n",
      "\n",
      "\n",
      "Review: रामविलास पासवान के दामाद अनिल कुमार साधु ने बिहार विधानसभा चुनाव में टिकट नहीं मिलने के बाद बगावती सुर अपनाते हुए कहा कि वो अच्छे वर्कर को नहीं पहचानते वो उनको पहचानते हैं जो उनका जूता साफ करता हो साधु यहीं नहीं रुके उन्होंने पासवान पर निशाना साधते हुए कहा कि मोह में धृतराष्ट्र बन गए हैं — इसके साथ ही अनिल कुमार साधु ने बिहार चुनाव में सीटों पर दलित सेना के उम्मीदवार उतारने का किया है दलित सेना के अध्यक्ष साधु ने दलित सेना के सभी जिलाध्यक्षों की बैठक की और जिस तरीके से पार्टी में टिकट का बंटवारा किया गया इस बैठक में रविवार को रामविलास पासवान दहन करने का गया दलित सेना समाज के कमजोर तबके के लोगों का एक संगठन है जिसे रामविलास पासवान ने शुरू किया था — साधु औरंगाबाद जिले में सुरक्षित सीट से चुनाव लड़ना चाहते थे लेकिन वह सीट पूर्व मुख्यमंत्री और हम के संस्थापक जीतन राम मांझी के पुत्र संतोष कुमार सुमन को आवंटित कर दी गयी साधु ने कहा कि उन्हें टिकट नहीं दिया गया लेकिन रामविलास पासवान के छोटे भाई पशुपति कुमार पारस और लोजपा प्रमुख के एक अन्य भाई रामचंद्र पासवान के बेटे प्रिंस राज को टिकट दे दिया गया \n",
      "Original summary: दामाद की बगावत कहा पुत्र मोह में बन गए हैं पासवान \n",
      "Predicted summary:  बीजेपी ने कहा मैं नहीं हूं\n",
      "\n",
      "\n",
      "Review: टेक्सास के ह्यूस्टन में एक महिला ने छह बच्चों को एकसाथ जन्म दिया है न्यूज एजेंसी भाषा के मुताबिक दुनियाभर में अरब में से कोई एक मामला ही ऐसा होता है जब कोई महिला छह बच्चों को जन्म देती है महिला ने अमेरिका के ‘द वुमेन्स हॉस्पिटल ऑफ में छह बच्चों को जन्म दिया अस्पताल ने बताया कि ने शुक्रवार को स्थानीय समयानुसार सुबह चार बजकर मिनट से सुबह चार बजकर मिनट के बीच चार लड़कों और दो लड़कियों को जन्म दिया स्वस्थ है अस्पताल के बयान के अनुसार बच्चों का वजन ग्राम से लेकर किलो के बीच है उनकी हालत स्थिर है और अस्पताल की नवजात गहन देखभाल इकाई में उन्हें रखा गया है ने अपनी बेटियों का नाम जीना और रखा है उन्होंने अपने चारों बेटों का नाम अभी नहीं रखा है जब महिला ने दिया था बच्चे को वक्त पहले इराक से भी एक मां का ऐसा ही मामला सामने आया था तब साल की महिला ने एक ही साथ बेटी और एक बेटे को जन्म दिया पूर्वी इराक के के एक हॉस्पिटल में महिला ने बच्चों को जन्म दिया बच्चों के पिता ने कहा था कि उन्होंने परिवार बढ़ाने की प्लानिंग नहीं की थी और अब बच्चों की देखभाल करनी होगी वहीं ऐसा माना जाता है कि दुनिया में सात जीवित बच्चों को एक साथ जन्म देने की घटना पहली बार अमेरिका के राज्य में हुई थी यह की बात है अमेरिका की घटना में कपल के फर्टिलिटी ट्रीटमेंट के बाद बच्चों का जन्म हुआ था जब ये सामने आया कि महिला बच्चों के साथ प्रेग्नेंट हो गई है तब उन्होंने कुछ बच्चों का अबॉर्शन कराने से मना कर दिया था और कहा था कि अब उनकी जिंदगी भगवान के हाथ में है \n",
      "Original summary: महिला ने बेटे और बेटियों को एक साथ दिया जन्म मिनट में \n",
      "Predicted summary:  के बाद अब ने की थी महिला की तारीफ\n",
      "\n",
      "\n",
      "Review: राजद सुप्रीमो लालू प्रसाद ने अपनी पार्टी के पूर्व बाहुबली सांसद मो शहाबुद्दीन से गुरुवार को सीवान जेल में जाकर मुलाकात की लालू ने हालांकि शहाबुद्दीन के साथ एक घंटे से अधिक समय तक हुई अपनी इस भेंट को शिष्टाचार मुलाकात बताया और इस मुलाकात का कोई राजनैतिक मतलब होने से इनकार किया राजनीतिक हलकों में इस मुलाकात को आसन्न बिहार विधानसभा चुनाव में मुस्लिम मतदाताओं को अपनी तरफ आकषिर्त करने के उनके प्रयास के तौर पर देखा जा रहा है यह संभावना जतायी जा रही है जदयू के महाराजगंज संसदीय क्षेत्र से पूर्व सांसद और शहाबुद्दीन के घोर विरोधी प्रभुनाथ सिंह को राजद में शामिल किए जाने और लोजपा के साथ सीटों का तालमेल किए जाने से नाराज शहाबुद्दीन को मनाने और सीवान के आठ विधानसभा सीटों पर किन किन उम्मीदवारों को खड़ा किया जाए इसको लेकर विचार विमर्श करने के लिए भी लालू उनसे मुलाकात करने सीवान जेल गए थे गौरतलब है कि कई अपराधिक मामलों में आरोपी शहाबुद्दीन सीवान जेल में पिछले कई से बंद हैं \n",
      "Original summary: लालू ने जेल में की शहाबुद्दीन से मुलाकात \n",
      "Predicted summary:  लालू प्रसाद की जमानत याचिका पर सुनवाई आज\n",
      "\n",
      "\n",
      "Review: भाजपा ने कहा कि बिहार विधानसभा चुनावों में राजद का प्रदर्शन पार्टी के इतिहास में अब तक का सबसे खराब होगा और जनादेश आने के बाद दल का हो जाएगा भाजपा के राष्ट्रीय महासचिव और पार्टी के बिहार मामलों के प्रभारी अनंत कुमार ने यहां संवाददाताओं से कहा कि राजद का प्रदर्शन बहुत खराब होगा रामविलास पासवान की पार्टी लोजपा के साथ राजद का गठबंधन टूट जाएगा कुमार ने कहा कि बिहार के लोग समझ गये हैं कि कांग्रेस मतलब राजद और राजद मतलब कांग्रेस भले ही कांग्रेस राजद से दूरी बनाये हुए है लेकिन दोनों अदला बदली और समय पड़ने पर एक दूसरे के साथ मिल जाने वाले दल हैं उन्होंने कहा कि इस बार विधानसभा चुनाव का मुद्दा विकास और विनाश के बीच लड़ा जा रहा है विकास मतलब राजग और विनाश का अर्थ राजद का वर्षों का कुशासन के विधानसभा चुनावों से भी अच्छा प्रदर्शन करते हुए राजग को इस बार अधिक सीटें प्राप्त होंगी केंद्रीय सहायता के बारे में कांग्रेस द्वारा हाय तौबा जाने का आरोप लगाते हुए कुमार ने पार्टी से पूछा कि कांग्रेस बताये क्या वह दे रही है अन्य राज्यों को संप्रग सरकार ने जो मदद दी है क्या बिहार को उनसे अधिक केंद्रीय मदद दी गयी है \n",
      "Original summary: राजद गठबंधन केवल चुनाव तक भाजपा \n",
      "Predicted summary:  महाराष्ट्र में बीजेपी के लिए बीजेपी का उम्मीदवार\n",
      "\n",
      "\n",
      "Review: गणतंत्र दिवस समारोह के मद्देनजर राजधानी दिल्ली के रेलवे स्टेशनों पर हर तरह के पार्सल की बुकिंग और आवाजाही पर फौरी तौर पर रोक लगा दी गई है उत्तर रेलवे के सीपीआरओ नीरज शर्मा के मुताबिक यह रोक जनवरी से लेकर जनवरी तक लागू रहेगी दिल्ली क्षेत्र में रेलवे स्टेशनों पर किसी भी तरह के पार्सल पर यह रोक गणतंत्र दिवस पर सुरक्षा के हाई अलर्ट के चलते लगाई गई है जनवरी से लेकर जनवरी तक नई दिल्ली दिल्ली हजरत निजामुद्दीन आनंद विहार टर्मिनल दिल्ली सराय रोहिल्ला और आदर्श नगर रेलवे स्टेशनों पर की बुकिंग और डिलीवरी को जनवरी से लेकर जनवरी तक रोक दिया है रेलवे के निर्देशों के मुताबिक इन स्टेशनों पर मौजूद सभी पार्सल गोदाम और को पार्सल और से खाली रखा जाएगा इस पाबंदी में एसएलआर और भी शामिल होंगे आतंकवादी हमले की आशंका के मद्देनजर दिवसपर आतंकवादी हमले की आशंका के मद्देनजर सुरक्षा एजेंसियों के निर्देश पर पूरी तरह लीज पर चल रहे डिब्बों के लिए भी दिल्ली क्षेत्र के सभी रेलवे स्टेशनों पर यह पाबंदी लागू रहेगी जनवरी से लेकर जनवरी तक दिल्ली क्षेत्र से गुजरने वाली किसी भी तरह की ट्रेन में ना तो पार्सल की होगी और ना ही होगी खास बात यह है कि दिल्ली क्षेत्र से गुजरने वाली किसी भी ट्रेन में किसी भी तरह का पार्सल ले जाने की अनुमति नहीं होगी इस निर्देश को रेलवे ने पूरे देश में सभी रेलवे स्टेशनों पर पार्सल बुकिंग ऑफिस में पहुंचा दिया है \n",
      "Original summary: दिल्ली क्षेत्र के रेलवे स्टेशनों पर पार्सल बुकिंग पर से रोक \n",
      "Predicted summary:  दिल्ली में बिजली की कमी से बिजली की कमी\n",
      "\n",
      "\n",
      "Review: नागालैंड बोर्ड ऑफ एजुकेशन ने वीं बोर्ड के रिजल्ट घोषित कर दिए हैं नागालैंड की वीं बोर्ड की परीक्षा में इस साल छात्रों ने सफलता हासिल की है दसवीं की परीक्षा फरवरी से फरवरी तक आयोजित किए गए थे परीक्षा में शामिल विद्यार्थी बोर्ड की आधिकारिक वेबसाइट पर जाकर अपना परिणाम चेक कर सकते हैं आधिकारिक वेबसाइट के अलावा विद्यार्थी कुछ अन्य वेबसाइट्स पर भी अपना परिणाम चेक सकते हैं पिछले साल कुछ यूं रहा था में नागालैंड वीं वीं के परिणाम मई को जारी किए गए थे वीं में जहां प्रतिशत विद्यार्थी पास हुए थे वहीं वीं बोर्ड में प्रतिशत विद्यार्थी सफल रहे थे थे वीं साल वीं बोर्ड में ने प्रतिशत अंक के साथ टॉप किया था दूसरे स्थान पर प्रतिशत अंक के साथ होली क्रॉस और शेरी जिंदल रहे थे जबकि तीसरे स्थान पर रहे ने प्रतिशत मार्क्स हासिल किए थे इन वेबसाइट्स पर भी देख सकते हैं रिजल्ट ऐसे चेक करें रिजल्ट स्टेप वीं और वीं का परिणाम देखने के लिए सबसे पहले बोर्ड की आधिकारिक वेबसाइट पर जाएं स्टेप होमपेज पर लिंक पर क्लिक करें स्टेप अपना रोल नंबर दर्ज करें स्टेप सब्मिट करें स्टेप स्क्रीन पर आपका रिजल्ट प्रदर्शित होगा स्टेप रिजल्ट डाउनलोड करें और सेव कर लें एसएमएस के जरिए ऐसे देखें रिजल्ट कक्षा के छात्र लिखकर पर भेज दें कक्षा के छात्र लिखकर पर भेज दें \n",
      "Original summary: वीं के परिणाम जारी हुए पास \n",
      "Predicted summary:  वीं वीं के नतीजे जारी ऐसे करें चेक\n",
      "\n",
      "\n",
      "Review: उत्तर प्रदेश में लगातार आ रही जुर्म की खबरों के बीच यूपी पुलिस ने एक दिलचस्प ट्वीट किया है और इशारों इशारों में अपराधियों को चेताया है यूपी पुलिस ने ट्वीट किया अपराधी जब जुर्म के घोड़े पर सवार होकर की सड़क पे दौड़ता है तो वो भूल जाता है कि ये सड़क जेल की काल कोठरी में खत्म होती है या पुलिस से मुठभेड़ में यूपी पुलिस का यह ट्वीट अमरोहा पुलिसकर्मी हत्याकांड के बाद आया है जिसमें कैदियों ने दो पुलिसकर्मियों को मौत के घाट उतार दिया था यूपी पुलिस के इस ट्वीट में हैशटैग के साथ कई संदेश लिखे हैं अपराधी जब जुर्म के घोड़े पर सवार होकर की सड़क पे दौड़ता है तो वो भूल जाता है कि ये सड़क जेल की काल कोठरी में ख़त्म होती है या पुलिस से मुठभेड़ में — एक अन्य ट्वीट में यूपी पुलिस ने अमरोहा एनकाउंटर का जिक्र किया बता दें कि पुलिस ने शनिवार को आदमपुर थाना क्षेत्र में हुई मुठभेड़ में एक बदमाश को मार गिराया था मृतक आरोपी की पहचान ढाई लाख के इनामी बदमाश कमल के रूप में हुई वह संभल में दो पुलिसकर्मियों की हत्या कर फरार हुए तीन बदमाशों में से एक है — बता दें कि जुलाई को संभल में पेशी के लिए ले जाए जा रहे कैदियों ने दो पुलिसकर्मियों की आंख में मिर्च पाउडर झोंक कर उनकी हत्या कर दी थी पुलिसकर्मियों की हत्या करने के बाद उनके हथियार लेकर तीन कैदी फरार हो गए थे \n",
      "Original summary: यूपी में पर अपराध पुलिस ने फिल्मी अंदाज में अपराधियों को चेताया \n",
      "Predicted summary:  यूपी पुलिस ने पुलिस को मारी गोली\n",
      "\n",
      "\n",
      "Review: नया यानी लॉन्च होने में अभी कुछ महीने बाकी हैं लगातार इसके फोटोज और स्पेसिफिकेशन्स लीक हो रहे हैं रिपोर्ट्स के मुताबिक अब नए आईफोन की कीमतें भी लीक हो गई हैं चीन की सोशल नेटवर्किंग वेबसाइट वीबो पर लीक किए गए डेटा में के सभी वैरिएंट्स के कीमत हैं सितंबर में एप्पल तीन लॉन्च कर इनमें और शामिल होंगे खबरों के मुताबिक इनमें से एक स्मार्टफोन लिमिटेड एडिशन होगा लीक की गई कीमतों के मुताबिक के वैरिएंट की कीमत युआन रुपये वैरिएंट की कीमत युआन रुपये और वैरिएंट की कीमत युआन रुपये होगा की बात करें तो इसके वैरिएंट की कीमत युआन रुपये और वैरिएंट्स की कीमत क्रमशः युआन रुपये और युआन रुपये होगी सबसे महंगे वैरिएंट यानी के कीमत युआन रुपये जबकि और वैरिएंट्स की कीमत क्रमशः युआन रुपये और युआन रुपये होगी कुछ रिपोर्ट्स से यह भी साफ है कि कंपनी लॉन्च के साथ ही इंटरनल मेमोरी वैरिएंट लाना बंद कर देगी \n",
      "Original summary: चीनी सोशल मीडिया पर के सभी की कीमत लीक \n",
      "Predicted summary:  सैमसंग ने लॉन्च किया स्मार्टफोन\n",
      "\n",
      "\n",
      "Review: उत्तराखंड सबोर्डिनेट सर्विस सिलेक्शन कमीशन ने फॉरेस्ट गार्ड के पदों के लिए नोटिफिकेशन जारी किया है जो उम्मीदवार इन पदों पर आवेदन करना चाहते हैं वह पहले रोजगार संबंधी सभी आवश्यक जानकारियां पढ़ लें उसके बाद ही आवेदन करें पदों की संख्याकुल पदों की संख्या है रिक्त पदों का गार्ड उत्तर प्रदेश में नौकरी के अवसर पदों पर होगा तारीख जुलाई योग्यताकिसी भी मान्यता प्राप्त संस्थान से वीं कक्षा पास की हो उम्रउम्मीदवार की उम्र से साल के बीच हो बिहार पुलिस में निकली वैकेंसी ग्रेजुएट करें आवेदनचयन प्रकियालिखित परीक्षा और फिजिकल टेस्ट के आधार पर चयन होगा आवेदन कैसे करने के लिए उम्मीदवार नीचे दी गयी ऑफिशियल वेबसाइट पर जाकर कर सकते हैं \n",
      "Original summary: के पद पर वैकेंसी वीं पास करें आवेदन \n",
      "Predicted summary:  वीं पास के लिए पदों पर वैकेंसी जल्द करें आवेदन\n",
      "\n",
      "\n",
      "Review: वैश्विक फार्मा कंपनी अरब डॉलर के अतिरिक्त निवेश के साथ आंध्र प्रदेश में अपनी उपस्थिति मजबूत करने पर विचार कर रही है कंपनी के एक उच्च अधिकारी ने यह जानकारी दी एक विज्ञप्ति में कहा गया कि अमेरिका भारत व्यापार परिषद के कार्यकारी उपाध्यक्ष की अगुवाई में एक प्रतिनिधिमंडल ने मुख्यमंत्री चंद्रबाबू नायडू से सोमवार को मुलाकात की नायडू के साथ बातचीत के दौरान के वरिष्ठ उपाध्यक्ष राजीव ने कहा प्रदेशमें अरब डॉलर के अतिरिक्त निवेश के साथ अपनी उपस्थिति बढ़ने की उम्मीद तलाश रहे हैं वर्तमान में कंपनी की आंध्र प्रदेश के विशाखापत्तनम में चार इकाइयां हैं इनपुट भाषा \n",
      "Original summary: आंध्र प्रदेश में अरब डॉलर निवेश करेगी \n",
      "Predicted summary:  देश और दुनिया के इतिहास में सितंबर\n",
      "\n",
      "\n",
      "Review: देश के शेयर बाजारों में शुक्रवार को तेजी दर्ज की गई प्रमुख सूचकांक सेंसेक्स अंकों की तेजी के साथ पर और निफ्टी अंकों की तेजी के साथ पर बंद हुआ बंबई स्टॉक एक्सचेंज बीएसई का शेयरों पर आधारित संवेदी सूचकांक सेंसेक्स अंकों की तेजी के साथ सुबह पर खुला और अंकों यानी फीसदी की तेजी के साथ पर बंद हुआ दिनभर के कारोबार में सेंसेक्स ने के ऊपरी और के निचले स्तर को छुआ सेंसेक्स के में से शेयरों में तेजी दर्ज की गई सन फार्मा फीसदी टीसीएस फीसदी सिप्ला फीसदी डॉ रेड्डीज लैब फीसदी और विप्रो फीसदी शेयरों में सर्वाधिक तेजी दर्ज की गई सेंसेक्स के गिरावट वाले शेयरों में प्रमुख रहे हिंडाल्को इंडस्ट्रीज फीसदी भेल फीसदी भारती एयरटेल फीसदी फीसदी और महिंद्रा एंड महिंद्रा फीसदी नेशनल स्टॉक एक्सचेंज एनएसई का शेयरों पर आधारित संवेदी सूचकांक निफ्टी अंकों की तेजी के साथ पर खुला और अंकों यानी फीसदी की तेजी के साथ पर बंद हुआ दिनभर के कारोबार में निफ्टी ने के ऊपरी और के निचले स्तर को छुआ बीएसई के मिडकैप सूचकांक और स्मॉलकैप सूचकांक में भी तेजी दर्ज की गई मिडकैप सूचकांक अंकों की तेजी के साथ पर और स्मॉलकैप सूचकांक अंकों की तेजी के साथ पर बंद हुआ बीएसई के में से आठ सेक्टरों में तेजी दर्ज की गई स्वास्थ्य सेवाएं फीसदी सूचना फीसदी प्रौद्योगिकी फीसदी रियल्टी फीसदी और उपभोक्ता टिकाऊ वस्तुएं फीसदी में सर्वाधिक तेजी दर्ज की गई बीएसई के चार सेक्टरों धातु फीसदी वाहन फीसदी बैंकिंग फीसदी और पूंजीगत वस्तुएं फीसदी में गिरावट दर्ज की गई बीएसई में कारोबार का रुझान सकारात्मक रहा कुल शेयरों में तेजी और में गिरावट दर्ज की गई जबकि शेयरों के भाव में कोई परिवर्तन नहीं हुआ \n",
      "Original summary: शेयर बाजारों में तेजी सेंसेक्स अंक ऊपर बंद \n",
      "Predicted summary:  शेयर बाजारों में तेजी सेंसेक्स अंक ऊपर\n",
      "\n",
      "\n",
      "Review: ग्रामीण विकास मंत्री जयराम रमेश ने कहा कि जनगणना का काम जुलाई के अंत तक ही पूरी हो पाएगा इस प्रकार की जनगणना प्रस्तावित खाद्य सुरक्षा कानून समेत सामाजिक कल्याण की विभिन्न योजनाओं में लाभ के पात्र नागरिकों की पहचान के लिए की जा रही है खाद्य मंत्री के वी थामस ने पिछले महीने ग्रामीण विकास मंत्री को एक पत्र लिखा कर सामाजिक आर्थिक और जाति आधारित जनगणना के आंकड़ों की मांग की थी ताकि खाद्य कानून लागू करने में सुविधा हो जवाब में रमेश ने खाद्य मंत्री को लिखा ‘ऐसा कोई तरीका नहीं है जिससे को जून के अंत तक पूरा किया जा सके हमें उम्मीद है कि इस साल जुलाई तक ही यह पूरा हो पाएगा ’ इस तरह की जनगणना की शुरूआत गत जून में हुई थी कुछ राज्यों में अभी इसका काम शुरू ही नहीं हुआ है ग्रामीण विकास मंत्रालय इस प्रक्रिया में ग्रामीण इलाकों में परिवारों की आर्थिक सामाजिक स्थिति पर ध्यान दे रहा है और उनके को करने में लगा है जबकि शहरी क्षेत्रों के ऐसा काम आवास एवं शहरी गरीबी उन्मूलन विभाग के जिम्मे है खाद्य सुरक्षा विधेयक का उद्देश्य है ग्रामीण इलाके में फीसदी लोगों और शहरी इलाकों में फीसदी तक लोगों को बहुत सस्ती दर पर अनाज उपलब्ध कराना है \n",
      "Original summary: जाति जुलाई के अंत तक ही पूरी हो पाएगी जयराम \n",
      "Predicted summary:  बजट में सुधार के लिए सरकार ने शुरू किया बजट\n",
      "\n",
      "\n",
      "Review: पश्चिमी दिल्ली में एक प्ले स्कूल में तीन साल की एक बच्ची से बलात्कार का मामला सामने आया है घटना के मद्देनजर दिल्ली सरकार ने स्कूल प्रधानाचार्य के खिलाफ पुलिस से कड़ी कार्रवाई करने को कहा पुलिस ने बताया कि गत सोमवार को पश्चिमी दिल्ली के सागरपुर क्षेत्र में स्कूल मालिक के पति ने बच्ची से कथित तौर पर बलात्कार किया लेकिन घटना दो दिन बाद प्रकाश में आई घटना के बाद लड़की बीमार हो गई उसके परिजनों ने उसे एक अस्पताल में भर्ती कराया जहां डॉक्टरों ने बताया कि बच्ची से बलात्कार किया गया है आरोपी को गिरफ्तार कर लिया गया है महिला एवं बाल विकास मंत्री किरण वालिया ने स्थिति की समीक्षा के बाद दिल्ली बाल अधिकार संरक्षण आयोग से कार्रवाई शुरू करने को कहा आयोग ने पुलिस को सिफारिश की है कि अगले आदेशों तक स्कूल को बंद रखा जाए और दिसंबर तक आयोग के समक्ष इस संबंध में रिपोर्ट पेश की जानी चाहिए \n",
      "Original summary: दिल्ली प्ले स्कूल में साल की बच्ची से बलात्कार \n",
      "Predicted summary:  दिल्ली गैंगरेप पीड़िता ने की आत्महत्या\n",
      "\n",
      "\n",
      "Review: बॉल टेंपरिंग विवाद में एक साल का प्रतिबंध झेल रहे ऑस्ट्रेलिया के पूर्व उपकप्तान डेविड वॉर्नर ने कहा है कि वह अगले साल होने वाले आईसीसी विश्व कप खेलने का दम रखते हैं मार्च क्रिकेट ऑस्ट्रेलिया ने प्रतिबंध लगाया था और अगले साल मार्च में ही उनका प्रतिबंध समाप्त होगा उधर विश्व कप अगले साल मई में इंग्लैंड में खेला जाएगा इस लिहाज से वॉर्नर टीम में अपना दावा पेश करने को तैयार हैं वॉर्नर इस समय एनटी स्ट्राइक लीग में सिटी की तरफ से खेल रहे हैं इस लीग में पदार्पण करते हुए वॉर्नर ने गेंदों में रन बनाए — वॉर्नर ने से कहा मैं जानता हूं कि मुझे जो ब्रेक मिला उससे फायदा हो रहा है आप एक रात में फॉर्म नहीं खोते हो मैं पैट कमिंस जोश हेजलवुड जैसे गेंदबाजों को खेलता हूं जिन्हें विश्व के गेंदबाजों में मानता हूं मैं अगर प्रतिबंध के दौरान ट्रेनिंग में इन्हें लगातार खेल रहा हूं तो मुझे लगता है कि वापसी कर सकता हूं उन्होंने कहा कि प्रतिबंध खत्म होने के बाद और विश्व कप शुरू होने से पहले उन्हें शीर्ष स्तर पर खेलने के मौके मिलेंगे बाएं हाथ के इस बल्लेबाज ने कहा काफी अभ्यास मैच होंगे मैं आईपीएल में खेलूंगा बहुत क्रिकेट होनी है वहां कई विश्व स्तर के खिलाड़ी खेलेंगे जिनसे मुझे तैयारी करने में मदद मिलेगी \n",
      "Original summary: बैन रहे वॉर्नर वर्ल्ड कप में दावेदारी पेश करने को तैयार \n",
      "Predicted summary:  टीम इंडिया के कोच बने क्रिकेट के लिए\n",
      "\n",
      "\n",
      "Review: अल के एक संदिग्ध आतंकवादी ने क्रिसमस के दिन अमेरिका में एक यात्री विमान में ब्लास्ट करने की कोशिश की यह विमान एम्सटर्डम से अमेरिका के डेट्रॉयट की उड़ान पर था और संदिग्ध आतंकवादी इसी में सवार था अमेरिका के आतंकवाद विरोधी विभाग के एक अधिकारी के मुताबिक डेल्टा एयरलाइंस के विमान में सवार नाइजीरिया के एक यात्री ने जहाज में ब्लास्ट करना चाहा लेकिन ऐन मौके पर उसका बारूदी उपकरण फेल हो गया अब्दुल नाम के उस संदिग्ध आतंकवादी को फौरन दबोच लिया गया जिससे वो दोबारा धमाके की कोशिश नहीं कर पाया शुरुआती जांच से पता चला है कि इस संदिग्ध आतंकवादी का संबंध ओसामा बिन लादेन के संगठन अल कायदा से है वो किसी केमिकल में विस्फोटक मिलाकर ब्लास्ट करना चाह रहा था इस घटना में कुछ यात्रियों को मामूली चोटें आई हैं अमेरिकी खुफिया एजेंसियां उस संदिग्ध हमलावर को हिरासत में लेकर पूछताछ कर रही हैं घटना के वक्त जहाज में कितने यात्री सवार थे और उनमें से कितने लोगों को चोट आई है इसका ब्यौरा भी अभी उजागर नहीं किया गया है इस घटना को बेहद गंभीर माना जा रहा है कि आखिर कोई यात्री विस्फोटक लेकर जहाज में कैसे दाखिल हुआ इस घटना के बाद अमेरिकी राष्ट्रपति बराक ओबामा ने हवाई अड्डों और विमानों की सुरक्षा और सख्त करने के निर्देश दिए हैं \n",
      "Original summary: अमेरिका में यात्री विमान उड़ाने की साजिश नाकाम \n",
      "Predicted summary:  अफगानिस्तान में बम विस्फोट में लोगों की मौत\n",
      "\n",
      "\n",
      "Review: नए साल के मौके को बॉलीवुड सेलेब्रिटी अपने परिवार वालों के साथ बिता रहे हैं सभी देश के बाहर वेकेशन पर नए साल का मजा ले रहे हैं देवगन और काजोल भी साल की शुरुआत थाइलैंड में छुट्टियां बिता के कर रहे हैं इस दौरान वे अपने बच्चों के साथ हैं पूरा परिवार थाईलैंड की का आनंद उठा रहा है इसी बीच काजोल ने एक फोटो अपने इंस्टाग्राम पेज पर शेयर की है जो उनकी बेटी की लग रही है तस्वीर की खास बात ये है कि न्यासा इसमें बिकिनी में नजर आ रही हैं तस्वीर की बात करें तो समंदर के किनारे खुले आसमां पर सूरज की बिखरी है और का किनारा हुए बिकिनी में न्यासा पोज देते हुए खड़ी हैं फोटो के नीचे इसकी तारीख लिखी है और वाले का नाम लिखा है इसके अलावा काजोल ने लव लिखा है इस फोटो पर कयास तो ऐसे भी जा रहे हैं कि बाकी स्टार किड्स की तरह काजोल भी न्यासा को फिल्मों में लॉन्च करना चाहती हैं ❤️ काजोल ही नहीं अजय देवगन ने भी परिवार और दोस्तों संग फोटो शेयर की है फोटो में न्यासा ने ब्लैक स्विमसूट पहनी हुई है और ये तस्वीर एक रिसॉर्ट की है उन्होंने पूल की भी एक तस्वीर शेयर की है जिसमें सभी एक दूसरे का हाथ पकड़े तैरते हुए नजर आ रहे हैं फिल्मों की बात करें तो काजोल की फिल्म ईला साल में रिलीज हुई जिसे दर्शकों द्वारा पसंद भी किया गया वहीं अजय देवगन की फिल्म रेड ने प्रशंसकों की खूब तारीफें बटोरी अजय देवगन की अगली फिल्म टोटल धमाल है \n",
      "Original summary: काजोल ने शेयर की बेटी की में फोटो डेब्यू की है तैयारी \n",
      "Predicted summary:  क्या आप जानते हैं जॉन अब्राहम की फोटो वायरल\n",
      "\n",
      "\n",
      "Review: पाकिस्तान के इतिहास में आई अब तक की सबसे भीषण बाढ से प्रभावित और कई दिनों से भूखे लोगों ने पंजाब प्रांत में राहत सामग्रियों से भरे वाहनों को लूट लिये लूट की इस घटना के बाद जिले में सरकारी एजेंसियों पाकिस्तान गरीबी निवारण कोष और दूसरे ने राहत अभियान बंद कर दिया है पुलिस के एक अधिकारी ने बताया कि हमें के अधिकारियों से मालूम चला कि राहत सामग्रियों से भरे उनके काफिले पर महमूद कोट रोड पर जेडी वाला के करीब हमला हुआ और बाढ पीड़ितों ने उनके वाहन लूट लिये हम वहां पहुंचे और स्थिति को काबू में किया कामरान ने कहा कि बड़े पैमाने पर भूख के कारण स्थिति बहुत खतरनाक हो गई और इससे हमारे कर्मियों की जान खतरे में पड़ सकती है के संयोजक मोहम्मद कामरान ने कहा कि उनके संगठन ने राहत अभियान बंद कर दिया क्योंकि उनके वाहनों पर हमला किये गये और दूसरे के वाहनों पर भी ऐसे ही हमले किए गए \n",
      "Original summary: पाक प्रभावित लोगों ने राहत सामग्री \n",
      "Predicted summary:  पाकिस्तान में फिर से अधिक की मौत\n",
      "\n",
      "\n",
      "Review: स्वच्छता को लेकर इंडिया टुडे ग्रुप के सफाईगीरी अवॉर्ड्स कार्यक्रम में सिंगर शिल्पा राव ने शिरकत की उन्होंने अपने करियर से जुड़ी कई बातें शेयर की और बताया कि सिंगर से मिलना उनके करियर का टर्निंग पॉइंट था साथ ही एक ऐसी बात भी बताई जिसपर शायद आप विश्वास न करें वो ये कि शिल्पा जिंदगी में कुछ नहीं करना चाहती थीं जी हां शिल्पा का कहना है कि उन्हें जिंदगी में कुछ नहीं बनना था आज वो जो कुछ भी हैं अपने पापा की वजह से हैं क्योंकि पिता जी को संगीत से प्यार है बता दें कि भी गा चुकी हैं इस बारे में जब उनके अनुभव के बारे में पूछा गया तो शिल्पा ने बताया कि उनसे वहां अच्छा व्यवहार किया गया उन्हें अच्छा रिस्पॉन्स भी मिला लेकिन आतंकवाद बर्दाश्त नहीं किया जाएगा आतंकवाद को लेकर किसी तरह का समझौता नहीं किया जा सकता स्वच्छता के प्रति लोगों को जागरूक करने के लिए शिल्पा ने कहा कि हमें सड़को पर किसी को गंदगी फैलाता देखने पर उसे तुरंत मना करना चाहिए कार्यक्रम में बाबा बलबीर सिंह को पंजाब की किलो मीटर लंबी काली बीन नदी की सफाई के लिए बेस्ट रिवर इनिशिएटिव अवॉर्ड के लिए विजेता घोषित किया गया उन्होंने कहा कि पर्यावरण पानी और हवा को साफ रखना हमारा फर्ज है अगर हम सफाई पर ध्यान नहीं देंगे तो आगे वाली पीढ़ी का क्या होगा वहीं राजस्थान के यूनिवर्सिटी ने इस इवेंट अवॉर्ड जीता उन्होंने बताया कि हमें लोगों को सफाई के लिए करना चाहिए तभी पूरा भारत स्वच्छ हो पाएगा और मोदी जी का ये सपना भी और अंत में जाते जाते शिल्पा ने अपना गाना जगा ले तू जगा ले जज्बा गाकर शो से विदाई ली \n",
      "Original summary: शिल्पा बोलीं आतंकवाद को लेकर किसी तरह का समझौता नहीं \n",
      "Predicted summary:  शिल्पा शेट्टी ने कहा मैं नहीं हूं तो नहीं\n",
      "\n",
      "\n",
      "Review: भारत इलेक्ट्रॉनिक्स लिमिटेड में डिप्टी इंजीनियर की वैकेंसी है इच्छुक उम्मीदवार अगस्त तक आवेदन कर सकते हैं पद का नाम डिप्टी इंजीनियर नवल सिस्टम पदों की इंजीनियर नवल सिस्टम उम्र सीमा सालसैलरी लाख रुपये प्रति योग्यता से जुड़ी ज्यादा जानकारी के लिए जुलाई का रोजगार समाचार पत्र जरूर देखें \n",
      "Original summary: भारत इलेक्ट्रॉनिक्स में डिप्टी इंजीनियर के लिए वैकेंसी \n",
      "Predicted summary:  में नौकरी पाने का मौका\n",
      "\n",
      "\n",
      "Review: आंदोलनकारी मधेसी पार्टियों द्वारा नेपाल संसद की एक अहम बैठक में व्यवधान डाले जाने के बाद इसकी बैठक कल तक के लिए टाल दी गई प्रदर्शन कर रही पार्टियां सरकार से नये संविधान में अपने उन मुद्दों को सुलझाने की मांग कर रहे हैं जिसने एक राजनीतिक संकट खड़ा कर दिया है संसद की आज बैठक शुरू होने पर मधेसी मोर्चा के सांसदों ने अपनी सीट पर खड़े होकर इसमें व्यवधान डालने की कोशिश की मोर्चा सदन का बहिष्कार कर रहा है हालांकि स्पीकर ने उन्हें संसद के समक्ष बोलने के लिए वक्त देने का आश्वासन दिया जिसके बाद मधेसी नेताओं ने बैठक को आगे बढ़ने दिया लेकिन बाद में वे नारेबाजी करने लगे जिसके चलते बैठक दोपहर तीन बजे तक सदन की बैठक स्थगित करनी पड़ी मधेसी मोर्चा के नेता अशोक राय ने अपने संबोधन में कहा कि एकीकृत डेमोक्रेटिक फ्रंट वार्ता जारी रखने को तैयार है उन्होंने कहा कि सरकार को मधेसी मुद्दे का हल करने के प्रति गंभीर होने की जरूरत है संयुक्त मधेसी मोर्चा के संसद में सांसद हैं यह संसद का बहिष्कार कर रहा है इसने संविधान निर्माण की प्रक्रिया से खुद को दूर रखा था ताकि देश को सात प्रांतों में बांटने वाले नये चार्टर के प्रति अपने ऐतराज को दिखा सके इस बीच सीपीएन यूएमएल के उप महासचिव घनश्याम ने कहा कि तराई में चल रहा प्रदर्शन न तो राष्ट्र के हित में है और ना ही खुद लोगों के हित में है इनपुट भाषा \n",
      "Original summary: पार्टियों ने नेपाल संसद की बैठक में डाला \n",
      "Predicted summary:  संसद में आज से विपक्ष के बीच बैठक\n",
      "\n",
      "\n",
      "Review: इस्लामी स्टेट समूह के आतंकवादियों ने इराकी शहर मोसूल में एक मानवाधिकार महिला कार्यकर्ता की सार्वजनिक रूप से हत्या कर दी आतंकियों ने हत्या से पहले महिला कार्यकर्ता को प्रताड़ित भी किया इराक में संयुक्त राष्ट्र मिशन ने बताया कि आतंकवादी समूह की स्वयंभू अदालत ने फैसला महिला के इस्लाम छोड़ने पर मौत का फरमान सुनाया था समूह के पुलिस बल ने बीते सप्ताह समीरा अल को उस समय कब्जे में ले लिया था जब वह अपने पति और तीन बच्चों के साथ घर में थी \n",
      "Original summary: आतंकियों ने इस्लाम छोड़ने वाले मानवाधिकार कार्यकर्ता की हत्या की \n",
      "Predicted summary:  मुंबई हमले में की मौत\n",
      "\n",
      "\n",
      "Review: बिहार के नक्सल प्रभावित गया जिले के इमामगंज थाना क्षेत्र में तैनात केंद्रीय रिजर्व पुलिस बल सीआरपीएफ के एक जवान ने बुधवार रात खुद को गोली मारकर आत्महत्या कर ली आत्महत्या के कारणों का अब तक पता नहीं चल पाया है पुलिस के अनुसार इमामगंज थाने में स्थित सीआरपीएफ की बटालियन कैंप का जवान जितेन्द्र कुमार रात को ड्यूटी पर था और इसी दौरान उसने अपनी ए के रायफल से खुद को गोली मार ली जिससे घटनास्थल पर ही उसकी मौत हो गई मृतक मधुबनी जिले का रहने वाला था और डेढ़ महीने पहले ही यहां आया था पुलिस के एक अधिकारी ने गुरुवार को बताया कि आत्महत्या के कारणों का अब तक पता नहीं चल पाया है शव को पोस्टमार्टम के लिए गया स्थित अनुग्रह नारायण मेडिकल कॉलेज अस्पताल भेज दिया गया है \n",
      "Original summary: बिहार में सीआरपीएफ जवान ने की आत्महत्या \n",
      "Predicted summary:  बिहार में माओवादियों ने की आत्महत्या\n",
      "\n",
      "\n",
      "Review: हिमाचल प्रदेश में वोटिंग जारी है करीब लाख वोटर विधानसभा सीटों पर वोटिंग कर रहे हैं वर्तमान मुख्यमंत्री वीरभद्र सिंह अपनी कुर्सी बचा पाएंगे या फिर प्रेम सिंह धूमल एक बार फिर राज्य के मुख्यमंत्री बन पाएंगे ये एक बड़ा सवाल है लेकिन हिमाचल प्रदेश के वोटरों को यह जानने के लिए लंबा इंतजार करना पड़ेगा नवंबर को वोटिंग दिसंबर को है कि हिमाचल प्रदेश चुनाव के नतीजे गुजरात के साथ ही दिसंबर को आएंगे यानी हिमाचल के वोट गुरुवार को वोट डालने के बाद करीब दिन बाद अपने मुख्यमंत्री का नाम जान पाएंगे गुजरात में दिसंबर और दिसंबर को वोट डाले जाएंगे हिमाचल प्रदेश में वोटिंग की लाइव कवरेज यहां पढ़ें क्या कहता है समीकरण हिमाचल प्रदेश में कुल विधानसभा सीटें हैं पिछले विधानसभा चुनाव में राज्य की सीटों में से कांग्रेस को बीजेपी को तो अन्य को सीटें मिली थीं कांग्रेस को की तुलना में के विधानसभा चुनाव में सीटों का फायदा हुआ था वहीं बीजेपी को की तुलना में में सीटों का नुकसान उठाना पड़ा था आपको बता दें कि ऐसा पहली बार है कि राज्य में वीवीपैट मशीनों के जरिए वोट डाले जा रहे हैं ये हैं इस बार के आंकड़ें कुल सीटें प्रत्याशी पुरुष प्रत्याशी महिला प्रत्याशी कुल मतदाता पुरुष मतदाता महिला मतदाता ट्रांसजेंडर मतदाता वीरभद्र बनाम बार सीधा मुकाबला मौजूदा मुख्यमंत्री वीरभद्र सिंह और बीजेपी के सीएम पद के उम्मीदवार प्रेम कुमार धूमल के बीच है दोनों ने इस बार अपनी पारंपरिक सीट से हटकर सीट चुनी है प्रेम कुमार धूमल ने वोट डालने से पहले गुरुवार सुबह दावा किया कि उनकी पार्टी से अधिक सीटें जीतने जा रही हैं \n",
      "Original summary: आज वोट डाल कर नए के लिए दिन इंतजार करेगा हिमाचल \n",
      "Predicted summary:  हिमाचल विधानसभा चुनाव में बीजेपी ने सीटें सीटें\n",
      "\n",
      "\n",
      "Review: लेखक एवं सांसद शशि थरूर ने मंगलवार को कहा कि भारतीय राष्ट्रवाद एक दुर्लभ पशु है और भारतीय धर्मनिरपेक्षता धर्म की अनुपस्थिति के विचार के खिलाफ धर्मों का एक है थरूर ने कहा भारतीय धर्मनिरपेक्षता धर्म की अनुपस्थिति के रूप में धर्मनिरपेक्षता के पश्चिमी सिद्धांत के खिलाफ धर्मों का एक है थरूर इंडिया इंटरनेशनल सेंटर में राष्ट्रीय अल्पसंख्यक आयोग द्वारा आयोजित पांचवा वार्षिक व्याख्यान देने पहुंचे थे व्याख्यान का शीर्षक था हू इज एन इंडियन अ नेशन ऑफ माइनॉरिटी भारत की विविधता का विवरण प्रस्तुत करते हुए थरूर ने टैगोर का पेश किया भारत कइयों को गले लगाने वाली भूमि है थरूर ने कहा कि भारतीय राष्ट्रवाद एक दुर्लभ पशु है उन्होंने कहा कि एक तमिल ब्राह्मण एक जाट के साथ अपना धर्म बांट सकता है लेकिन रूप रंग भाषा भोजन और संस्कृति के संदर्भ में नहीं थरूर के मुताबिक धर्म क्षेत्र जाति और भारत को बांटते हैं थरूर ने कहा कि हिंदुत्व बहुसंख्यक की गारंटी नहीं है क्योंकि हो सकता है जो व्यक्ति जिस मुहल्ले में रह रहा हो वहां उसकी जाति न हो उन्होंने कहा कि देश की प्रकृति से पैदा होता है कांग्रेस सांसद ने कहा कि अल्पसंख्यकों की हिफाजत सरकारों की एक प्राथमिकता होनी चाहिए इसके साथ ही उन्होंने आंतरिक रूप से विस्थापित लोगों पर कोई कानून न होने को लेकर नाखुशी जाहिर की जो सामाजिक संघर्ष के कारण अपने घरों को छोड़ कर भाग गए हैं थरूर ने कहा देश में ऐसे लगभग लाख लोग हैं लेकिन हमें बेहतर आंकड़ा तैयार करने की आवश्यकता है आंतरिक रूप से विस्थापित लोगों पर कोई कानून न होना एक कमी है \n",
      "Original summary: थरूर बोले भारतीय एक पशु \n",
      "Predicted summary:  अमिताभ बच्चन ने कहा मैं नहीं हूं\n",
      "\n",
      "\n",
      "Review: एस जयशंकर अटलांटिक काउंसिल की बैठक के लिए वाशिंगटन डीसी में हाल में यूएन में दक्षेस बैठक के दौरान जयशंकर ने कश्मीर मुद्दा उठाया मंत्री एस जयशंकर अटलांटिक काउंसिल की बैठक में भाग लेने लेने के लिए वाशिंगटन डीसी में हैं इस बैठक में उन्होंने कहा कि भारत ने पश्चिमी देशों की वजह से साल तक प्रताड़ना झेली है उन्होंने कहा शुरुआत में पश्चिमी देश वीं सदी के मध्य में भारत आए थे एक आर्थिक आकलन के मुताबिक ब्रिटिश अभी के हिसाब से डॉलर भारत से लेकर गए — इससे पहले विदेश मंत्री ने न्यूयॉर्क में संयुक्त राष्ट्र महासभा यूएनजीए से अलग जापान ब्राजील और सिंगापुर सहित कई देशों के अपने समकक्षों से मुलाकात की थी गुरुवार को हुई बैठकों के अलावा जयशंकर ने कई देशों के बहुपक्षीय सत्रों में भी भाग लेते हुए महत्वपूर्ण विषयों पर चर्चा की इसमें भारत ब्राजील दक्षिण अफ्रीका ब्रिक्स ब्राजील रूस भारत चीन दक्षिण अफ्रीका दक्षेस और क्वाड भारत अमेरिका जापान और ऑस्ट्रेलिया शामिल हैं दक्षेस बैठक के दौरान जयशंकर ने कश्मीर मुद्दे पर भाषण दिया तो पाकिस्तानी विदेश मंत्री शाह महमूद कुरैशी ने इस कार्यक्रम का बहिष्कार किया जयशंकर ने एक द्विपक्षीय वार्ता के लिए अपने ब्राजील के समकक्ष से मुलाकात की इसके साथ ही उन्होंने अपने मालदीव समकक्ष अब्दुल्ला शाहिद से भी मुलाकात की और द्विपक्षीय संबंधों को मजबूत करने पर चर्चा की \n",
      "Original summary: जयशंकर बोले देश ने साल प्रताड़ना डॉलर ले गए \n",
      "Predicted summary:  कश्मीर में सरकार का प्रतिबंध इमरान खान\n",
      "\n",
      "\n",
      "Review: जॉब तलाश रहे वीं पास छात्रों के लिए बढ़िया मौका है इंडिया चंद्रपुर महाराष्ट्र ने वैकेंसी वाला नोटिफिकेशन जारी किया है ये भर्तियां इंश्योरेंस एजेंट पद के लिए है इच्छुक उम्मीदवार जुलाई तक आवेदन कर सकते हैं इस पद के लिए आवेदन कर रहे सभी उम्मीदवार वीं पास होने चाहिए और उनकी उम्र से साल के बीच होनी चाहिए इस जॉब में कोई एप्लीकेशन फीस नहीं लगेगी और आवेदन ऑनलाइन स्वीकार किए जाएंगे उम्मीदवारों का चयन इंटरव्यू परफॉर्मेंस पर आधारित होगा पूरी जानकारी के लिए के ऑफिशियल साइट पर क्लिक करें \n",
      "Original summary: में वीं पास छात्रों के लिए नौकरियां \n",
      "Predicted summary:  पढ़ें अप्रैल के\n",
      "\n",
      "\n",
      "Review: भारतीय ऑफ स्पिनर आर अश्विन ने आईसीसी टेस्ट गेंदबाजों की रैंकिंग में शीर्ष स्थान गंवा दिया है जिनकी जगह इंग्लैंड के तेज गेंदबाज स्टुअर्ट ब्राड ने ले ली है जबकि अजिंक्य रहाणे बल्लेबाजों की रैंकिंग में संयुक्त दसवें स्थान पर बने हुए हैं अश्विन की सूची में शीर्ष पर बने हुए हैं जबकि बांग्लादेश के शाकिब अल हसन दूसरे पायदान पर हैं टीम इंडिया नंबर एक टेस्ट टेस्ट में मैन आफ द मैच रहे ब्राड ने अश्विन को शीर्ष पायदान से हटाया सेंचुरियन टेस्ट के बाद रैंकिंग जारी होगी तब भारतीय टीम दक्षिण अफ्रीका की जगह नंबर एक टेस्ट टीम बन जाएगी ब्राड से नौ अंक पीछे के जोहानिसबर्ग टेस्ट से पहले अंक थे और वह तीसरे स्थान पर थे उन्होंने मैच में आठ विकेट लिए जिससे उन्हें अंक मिले वह अश्विन और दक्षिण अफ्रीका के डेल स्टेन को पछाड़कर शीर्ष पर पहुंचे हैं अब उनके अंक है और अश्विन उनसे नौ अंक पीछे हैं स्टीव के बाद आईसीसी टेस्ट गेंदबाजों की रैंकिंग में शीर्ष पर आने वाले ब्राड इंग्लैंड के पहले गेंदबाज हैं ने में यह कमाल किया था भारतीय गेंदबाजों में रविंद्र जडेजा छठे स्थान पर हैं बल्लेबाजों की रैंकिंग में इंग्लैंड के जो रूट दूसरे स्थान पर आ गए हैं अफ्रीकाके खिलाफ शतक जमाया था इंग्लैंड की दक्षिण अफ्रीका पर बढ़त से जनवरी तक चलने वाले सेंचुरियन टेस्ट खत्म होने के अफ्रीका की जगह नंबर वन टेस्ट टीम बन जाएगी इंग्लैंड की दक्षिण अफ्रीका पर से विजयी बढ़त बनाने के बाद यह तय हो गया है इनपुट भाषा \n",
      "Original summary: टेस्ट रैंकिंग अश्विन को नंबर एक बने \n",
      "Predicted summary:  ने भारत में विकेट से हराया\n",
      "\n",
      "\n",
      "Review: दिल्ली के आदर्श नगर मेट्रो स्टेशन के पास भीड़ ने गुरुवार को हंगामा किया बसों में तोड़फोड़ की गई और घटनास्थल पर पहुंचे पुलिसकर्मियों पर पथराव भी हुआ इस घटना में कई पुलिसकर्मियों के घायल होने की खबर है गौरतलब है कि बुधवार रात इसी इलाके में युवक कीगोली मारकर हत्याकर दी गई थी जिसके विरोध में उसके परिजनों हंगामा बढ़ता देख मेट्रो प्रशासन ने सुबह बजे से तक स्टेशन पर एंट्री और एग्जिट बंद कर दी इसके चलते मेट्रो की येलो लाइन जहांगीरपुरी हुडा सिटी सेंटर बाधित रही सुबह बजे दोबारा इस रूट पर मेट्रो सेवा बहाल हुई \n",
      "Original summary: दिल्ली आदर्श नगर मेट्रो स्टेशन पर हंगामा लाइन बाधित \n",
      "Predicted summary:  दिल्ली में सड़क हादसा की मौत\n",
      "\n",
      "\n",
      "Review: मार्क जकरबर्ग ने हाल ही में कहा था कि फेसबुक हमेशा के लिए फ्री रहेगा साथ ही फेसबुक के मुखिया ने ये भी कहा था कि इसका एक पेड वर्जन लाने की संभावनाओं पर विचार किया जा सकता है अब हाल ही में एक रिपोर्ट में दावा किया गया है कि जल्द ही फेसबुक का एक पेड वर्जन लॉन्च किया जा सकता है ब्लूमबर्ग की एक रिपोर्ट के मुताबिक फेसबुक एक सब्सक्रिप्शन लिए एक रिसर्च करा रहा है ताकि ये पता लगाया जा सके कि क्या यूजर्स अपनी प्राइवेसी के लिए पैसे खर्च करने को तैयार हैं हालांकि फेसबुक के प्रवक्ता ने इस बारे में फिलहाल कोई कमेंट नहीं किया है पिछले कुछ समय से फेसबुक के सब्सक्रिप्शन बेस्ड मॉडल को लेकर काफी चर्चाएं थीं जिसमें यूजर्स कंपनी को पैसे देकर अपने प्राइवेसी की सुरक्षा सुनिश्चित कर सकते हैं फिलहाल फेसबुक सभी यूजरों के लिए फ्री है लेकिन कंपनी यूजर्स का डेटा कलेक्ट करती है इन्हीं डेटा का उपयोग कर अपने टारगेट यूजर्स तक पहुंचाते हैं लेकिन कैम्ब्रिज एनालिटिका स्कैंडल के बाद से डेटा को लेकर एक नई बहस ने जन्म ले लिया है इसके बाद से ही फेसबुक काफी दबाव में है गौरतलब है कि कुछ समय पहले अमेरिकी सीनेट सवालों का जवाब देने के लिए हाजिर हुए थे उस दौरान जब काफी सांसदों द्वारा मार्क जकरबर्ग से ये पूछा गया कि क्या वे फेसबुक का एक एड फ्री वर्जन लाने की बारे में सोचते हैं जो पेड भी हो तो इस सवाल का जवाब देते हुए जकरबर्ग ने सांसद से कहा था कि फेसबुक का एक फ्री वर्जन हमेशा मौजूद रहेगा जबकि एक पेड वर्जन के बारे में सोचा जा सकता है \n",
      "Original summary: फेसबुक इस्तेमाल करने के लिए देना पड़ सकता है पैसा \n",
      "Predicted summary:  फेसबुक पर फेसबुक यूजर्स के लिए यूजर्स ने किया ये बड़ा फीचर\n",
      "\n",
      "\n",
      "Review: रोहिणी में एक छात्रा की लाश मिलने से सनसनी फैल गई यह छात्रा मंगोलपुरी की रहने वाली है परिवार वालों ने लड़की की हत्या का शक जताया है और आरोप एक युवक पर लगाया है पुलिस मामले की जांच कर रही है गुस्साए लोगों ने मंगोलपुरी में बस में तोड़फोड़ की और थाने के सामने जमकर प्रदर्शन किया आरोपी युवक को पुलिस ने हिरासत में ले लिया है मृत छात्रा का नाम प्रियंका है और जब शाम तक वह स्कूल से वापस नहीं लौटी तो घरवाले परेशान हो गए काफी खोजबीन के बाद उन्होंने इसकी सूचना पुलिस को दी कुछ समय बाद जानकारी मिली कि प्रियंका की मौत हो चुकी है और उसकी लाश रोहिणी के सेक्टर में एक फ्लैट में मिली लड़की के हाथ की नस कटी हुई थी और काफी खून बह गया था कमरे में जब लड़की की लाश मिली तो वह स्कूल यूनिफॉर्म में ही थी यह नहीं पता पाया कि प्रियंका इस फ्लैट में पहुंची कैसे पुलिस पूरे मामले की जांच कर रही है वहीं परिवार के लोग इसे हत्या का मामला बता रहे हैं और उन्होंने आरिफ नाम के एक युवक पर आरोप लगाया है पुलिस ने यह भी बताया है कि आरिफ ने ही लड़की की आत्महत्या की जानकारी फोन पर दी यही नहीं लड़की की लाश आरिफ के कमरे से ही फंदे में लटकी मिली थी लोगों ने किया का शव रोहिणी से मिलने के बाद उसके परिवारवाले और स्थानीय लोगों ने जमकर हंगामा मचाया गुस्साए लोगों ने मंगोलपुरी थाने के सामने जमकर प्रदर्शन किया और डीटीसी की बसों में तोड़फोड़ की डीटीसी की बसों में लोगों ने पत्थर और डंडों से हमला भी किया लोगों के गुस्से को देखते हुए बस में सवार यात्री और ड्राइवर भाग खड़े हुए \n",
      "Original summary: बंद फ्लैट में मिली छात्रा की लाश परिवार को हत्या का शक \n",
      "Predicted summary:  यूपीः में मिली लाश की लाश\n",
      "\n",
      "\n",
      "Review: छत्तीसगढ़ के नारायणपुर में पुलिस और नक्सलियों के बीच बुधवार को हुई मुठभेड़ में चार जवान शहीद हो गए हैं एनकाउंटर में जवान गंभीर रूप से जख्मी भी हुए हैं घटना नारायणपुर के के जंगलों की है खुफिया जानकारी के बाद मंगलवार की रात जवान जंगल के लिए रवाना किये गए थे के के जंगल में नक्सलियों की जुटने की सूचना पुलिस को मिली थी लिहाजा और के जवानों को मौके पर रवाना किया गया था जानकारी के मुताबिक पुलिस की यह टीम नक्सलियों के जाल में फंस गयी दोपहर करीब एक बजे पुलिस और नक्सलियों के बीच जमकर गोलीबारी हुई करीब एक डेढ घंटे की फायरिंग के पीछे हट अपने सुरक्षित ठिकानों की ओर बढ़ गए गोलीबारी थमने के बाद मोर्चे पर डटे दो जवान और दो सब इंस्पेक्टर शहीद हो चुके थे अन्य जवान जख्मी हो गए नक्सलियों ने मुठभेड़ स्थल पर कई बार ब्लास्ट किया और धमाकों की चपेट में आकर जवान जख्मी हो गए कुछ जवान गोलीबारी में भी घायल हुए हैं मुख्यालय को सूचना मिलने के बाद फ़ौरन सुरक्षा बलों की चार टीम अलग अलग दिशाओं से घटनास्थल के लिए रवाना की गयीं शहीद जवानों को नारायणपुर जिला मुख्यालय भेजा गया है और सात घायलों के लिए जरिये रायपुर लाया गया राज्य के पुलिस महानिदेशक नक्सल ऑपरेशन डीएम अवस्थी के मुताबिक मुठभेड़ के दौरान कई नक्सली भी हताहत हुए हैं हालांकि उनके साथी शवों को अपने साथ ले गए उन्होंने कहा कि पुलिस पार्टी के लौटने के बाद नक्सलियों को हुए नुकसान का पता चल सकेगा उधर घायल जवानों का इलाज कर रहे सर्जन संदीप दवे के मुताबिक सात जवानों के हाथ पैर और कमर पर गोलियां लगी हैं और उन्हें उचित उपचार दिया जा रहा है \n",
      "Original summary: में नक्सलियों से मुठभेड़ जवान शहीद घायल \n",
      "Predicted summary:  छत्तीसगढ़ः मुठभेड़ में नक्सली ढेर नक्सली ढेर\n",
      "\n",
      "\n",
      "Review: उद्योग मंडल सीआईआई ने कृषि क्षेत्र के लिए अपने बजट पूर्व ज्ञापन में कहा है कि कृषि उत्पादकता बढ़ाने के लिए पट्टे पर खेती की भूमि देने की व्यवस्था प्रोत्साहित की जानी चाहिए कंपनी जगत के इस मंच की राय में इससे भूमि की उपलब्धता बढ़ेगी व पूंजी और तक किसानों की पहुंच बढ़ेगी सीआईआई के महानिदेशक बनर्जी ने कहा वृद्धि दर बढ़ाकर प्रतिशत पहुंचाने के लिए कृषि क्षेत्र के प्रतिशत से अधिक की वृद्धि दर से बढ़ने की जरूरत है संपूर्ण कृषि क्षेत्र में उत्पादकता बढ़ाने व खाद्य आपूर्ति श्रृंखला के लिए आधुनिक खेती की में कंपनियों को निवेश के वास्ते प्रोत्साहित करने की दरकार है मंडल ने राज्य सरकारों से एक भूमि पट्टा नीति बनाने का आह्वान किया उन्होंने कहा क्षेत्र भूमि की कमी में गिरावट जल संसाधन में गिरावट और प्रौद्योगिकी की कमी से जूझ रहा है ज्यादातर किसानों की जोत एकड़ से कम है ने कहा क्षेत्र में निजी निवेश आकषिर्त करने के लिए राजकोषीय सहायता के अलावा एक अनुकूल नीतिगत माहौल बहुत जरूरी है ’ \n",
      "Original summary: पर भूमि को देने की जरूरत \n",
      "Predicted summary:  महंगाई दर पर बजट से\n",
      "\n",
      "\n",
      "Review: जी घोटाले में आरोपों के घेरे में आए चिदंबरम की मुश्किलें कम होने का नाम नहीं ले रहीं स्पेक्ट्रम के आवंटन और कीमतें तय करने में हुई गड़बड़ी के लिए अदालत के बाहर लगातार चिदंबरम पर आरोप लगा रहे स्वामी शनिवार को चिदंबरम की भूमिका से जुड़े कुछ और दस्तावेज अदालत में पेश करेंगे इसके बाद स्वामी सीधे चिदंबरम को अदालत में पेश किए जाने की अर्जी लगा सकते हैं सुब्रह्मण्यम स्वामी टेलीकॉम घोटाले में चिदंबरम को सह आरोपी बनाने की मांग करते रहे हैं सीबीआई की विशेष अदालत में स्वामी ने इसके लिए याचिका भी दायर की थी स्वामी की इस याचिका को विशेष अदालत ने सुनवाई के लिए मंजूर कर लिया था और उनसे कोर्ट में आकर गवाही देने के साथ ही कोर्ट को संतुष्ट करने को कहा था \n",
      "Original summary: जी केस चिदंबरम के खिलाफ कोर्ट में सुनवाई \n",
      "Predicted summary:  चिदंबरम ने चिदंबरम को भेजा नोटिस\n",
      "\n",
      "\n",
      "Review: सीरियल भाबी जी घर पर हैं की अनीता भाभी यानी सौम्या टंडन ने शादी कर ली है लोगों और मीडिया के कैमरों की नजरों से छुपाकर मुंबई में अपने बॉयफ्रेंड सौरभ देवेन्द्र सिंह के साथ एक प्राइवेट सेरेमनी में शादी रचा ली खबरें हैं कि पिछले साल से दोनों रिलेशन में हैं और एक दूसरे को डेट कर रहे हैं बिग बॉस प्रियंका जग्गा घर से बाहर पहुंची सीक्रेट टाइम्स की खबर के मुताबिक ये खबर तब सामने आई जब एक दैनिक अखबार ने उनसे शादी की पुष्टि करने पहुंचा सौम्या ने कहा की मैं इस बारे में कोई कमेंट नहीं करना चाहती सौम्या ने आगे कहा मैं क्या करती हूं इस बारे में लोगों को जानने की जरूरत नहीं है मेरी जिंदगी आपके सवाल जवाब का हिस्सा नहीं है एक बार भी निजी जिदंगी के बारे में बात कर ली तो लोग और सवाल करेंगे दुनिया हर मिनट की डिटेल जानना चाहती है मैं अपनी निजी बातों को लोगों के बीच नहीं ले जाना चाहती के शो उतरन की इच्छा के साथ फ्लाइट में छेड़छाड़ फेसबुक पर शेयर का कहना है की सौम्या टंडन और सौरभ देवेन्द्र सिंह तब से दोस्त हैं जब दुनिया में कदम भी नहीं रखा था सौम्या को के लिए सौरभ ने ही प्रेरित किया था \n",
      "Original summary: जी की की भाभी यानी टंडन ने रचाई शादी \n",
      "Predicted summary:  शादी के बाद अब भी भी हैं शादी\n",
      "\n",
      "\n",
      "Review: अमिताभ बच्चन संग पहली बार किसी ऐड में नजर आने वाली एक्ट्रेस कंगना रनोट का यह खास ऐड रिलीज हो गया है राज कुमार हिरानी के निर्देशन में बने इस ऐड में बॉलीवुड क्वीन महानायक अमिताभ बच्चन से फिल्मों के चर्चित डायलॉग्स नजर आ रही हैं प्लस क्रीम के इस ऐड अमिताभ बच्चनऔर कंगना रनोट की ऑन स्क्रीन कैमिस्ट्री काफी मजेदार है ऐड में दोनों को एक सेट पर फुरसत के पलों में चिट चैक करते हुए दिखाया गया है इस ऐड को डायरेक्टर किया है बॉलीवुड के जाने माने डायरेक्टर राजकुमार हिरानी ने इस ऐड के शूट के साथ काम करने के एक्सपीरियंस को शानदार बताया था और कंगना के साथ क्लिक की गई यह शानदार तस्वीरें भी शेयर की थी — — बच्चनऔर कंगना रनोट के विज्ञापन का वीडियो \n",
      "Original summary: कंगना ने ऐड में अमिताभ बच्चन से डायलॉग \n",
      "Predicted summary:  अमिताभ बच्चन ने की की शूटिंग\n",
      "\n",
      "\n",
      "Review: लखनऊ यूनिवर्सिटी में रेगुलर कोर्स की फीस में से फीसदी की बढ़ोतरी की जाएगी कुलपति डॉ एसबी ने फीस पुनर्गठन का जिम्मा सौंपा है फीस पुनर्गठन कमेटी का चेयरमैन प्रो एनके खरे को बनाया गया है सेल्फ फाइनेंस कोर्स की फीस तय करने के लिए विभिन्न कोर्स के को के साथ बैठक की गई है इसमें कई सेल्फ फाइनेंस कोर्स की फीस घटाने का भी प्रस्ताव रखा गया फिलहाल मई में ऑनलाइन फॉर्म आने से पहले फीस तय कर दी जाएगी यूनिवर्सिटी में रेगुलर कोर्स में स्टूडेंट्स की संख्या ज्यादा है ऐसे में अभिभावकों की जेब पर बोझ बढ़ेगा यूनिवर्सिटी में फीस पुनर्गठन कमेटी के चेयरमैन प्रो एनके खरे ने बताया कि के रेगुलर कोर्स की फीस से फीसदी बढ़ाई जाएगी इसके पीछे कारण यह है कि ट्यूशन फीस में वृद्धि नहीं की जा सकती ऐसे में डवलपमेंट फीस गेम्स व अन्य मदों में बढ़ोतरी की गई है इस पर आम सहमति के बाद ही अंतिम निर्णय किया जाएगा जल्द ही रेगुलर कोर्स की फीस तय करने के लिए भी विभागाध्यक्षों की बैठक बुलाई जाएगी उन्होंने बताया कि सेल्फ फाइनेंस कोर्स के को को शनिवार तक अपने कोर्स की फीस बढ़ाने या घटाने का प्रस्ताव मांगा गया है उन्होंने कहा कि सेल्फ फाइनेंस कोर्स में प्रतिशत सीटें भरने की अनिवार्यता में भी शिथिलता लाई जाएगी ताकि सेल्फ फाइनेंस कोर्स बेहतर ढंग से चलाए जा सकें \n",
      "Original summary: लखनऊ यूनिवर्सिटी में महंगी होगी पढ़ाई \n",
      "Predicted summary:  बिहार में सरकार का होगा फैसला\n",
      "\n",
      "\n",
      "Review: उत्तर प्रदेश में किंग जॉर्ज मेडिकल यूनिवर्सिटी द्वारा आयोजित की प्रवेश परीक्षा रविवार को शांतिपूर्ण ढंग से संपन्न हो गई इसमें लखनऊ के सबसे ज्यादा परीक्षार्थी शामिल हुए थें यह राज्य के जिलों के परीक्षा केंद्रों पर आयोजित की गई परीक्षा केंद्रों पर मोबाइल जैमर लगाए गए थे सघन चेकिंग के बाद सुबह बजे से परीक्षा शुरू हुई जो दोपहर एक बजे समाप्त हुई आगरा में केंद्रों पर करीब सात हजार परीक्षार्थियों ने परीक्षा दी छात्रों के लिए पीने का पानी परीक्षा केंद्र के अंदर मुहैया करवाया गया सभी को पानी की बोतल दी गई छात्रों का समय खराब न हो इसलिए अंदर ही पानी का इंतजाम किया गया था परीक्षा का समय सुबह बजे से लेकर दोपहर एक बजे तक था गौरतलब है कि जून को बैंक में पेपर वाले बॉक्स क्षतिग्रस्त मिलने के बाद परीक्षा रद्द कर दी गई थी लखनऊ में रविवार को तीन बड़ी परीक्षाओं के चलते यातायात अव्यवस्थित रहा जिसके वजह से परीक्षार्थियों को काफी दिक्कतों का सामना करना पड़ा सीपीएमटी परीक्षा के साथ साथ रेलवे लोको पायलट और एसएससी की भी परीक्षाएं थीं इन शहरों में हुई परीक्षा आगरा अलीगढ़ इलाहाबाद बरेली गोरखपुर कानपुर नोएडा गाजियाबाद फैजाबाद वाराणसी सहारनपुर लखनऊ नोएडा और मुरादाबाद में सीपीएमटी प्रवेश परीक्षा हुई इनमें कुल एक लाख हजार अभ्यर्थियों के शामिल होने की व्यवस्था की गई थी इसमें राजधानी के परीक्षा केंद्रों पर हजार आठ सौ छात्र परीक्षा में शामिल हुए सुरक्षा व्यवस्था के मद्देनजर परीक्षा केंद्रों पर सुरक्षा के कड़े इंतजाम किए गए थे \n",
      "Original summary: कड़ी सुरक्षा में हुई की प्रवेश परीक्षा \n",
      "Predicted summary:  वीं वीं के नतीजे जारी यहां देखें\n",
      "\n",
      "\n",
      "Review: पश्चिमी उत्तर प्रदेश के मुजफ्फरनगर में सोमवार सुबह कबाड़ की दुकान में हुए एक विस्फोट में चार लोगों की मौत हो गई इस हादसे में तीन लोग घायल भी हुए हैं घटना आज सोमवार सुबह सवा नौ बजे सिविल लाइन थाना क्षेत्र के कच्ची सड़क की है जहां की दुकान में काटते समय अचानक विस्फोट हो गया धमाका इतना जबरदस्त था कि दुकानदार सहित चार लोगों के उड़ा दिए जिसमें दो लोगों की मौके पर ही दर्दनाक मौत हो गई जबकि दो लोगों की उपचार के दौरान मौत हो गई अभी भी तीन लोग घायल बताए जा रहे हैं — घटना के बाद इलाके में हड़कंप मच गया लोगों की भीड़ घटना स्थल पर जमा हो गई साथ ही पुलिस के आलाधिकारी और डॉग स्क्वायड की टीम ने मौके पर पहुंच कर घटना की जांच शुरू कर दी हांलाकि अभी तक विस्फोट के सही कारणों का पता नहीं लग पाया है स्थानीय एसएसपी तिवारी ने जानकारी देते हुए बताया कि सिविल लाइन थाना का कच्ची सड़क का मामला है यहां निसार नाम का किसी चीज से छेड़छाड़ कर रहा था उससे यहां धमाका हुआ है अब तक की जानकारी के अनुसार विस्फोट में चार लोगों की मौत हो चुकी है और तीन लोग घायल हैं \n",
      "Original summary: मुजफ्फरनगर की दुकान में अचानक हुआ ब्लास्ट की मौत \n",
      "Predicted summary:  यूपीः के दौरान झड़प की मौत\n",
      "\n",
      "\n",
      "Review: बेमौसम बारिश और ओलावृष्टि की वजह से फसलों को भारी नुकसान पहुंचा है इसी के चलते आने वाले दिनों की की आशंका है उद्योग मंडल एसोचैम ने अपनी स्टडी में ये बात कही एसोचैम वेदर के संयुक्त स्टडी में कहा है कम से कम फीसदी नुकसान से गेहूं की खरीद प्रभावित हुई है जो आम तौर पर अप्रैल से शुरू होती है स्टडी में कहा गया कि आम केला अंगूर चने जैसी फसलें भी प्रभावित हुई हैं और इसका असर उनकी कीमत पर देखा जा सकता है रबी फसलों पर भी बारिश का तिलहन दाल मुख्य रबी फसलों पर बेमौसम बारिश का असर हुआ है टमाटर और धनिया जैसी फसलें सबसे अधिक प्रभावित हुई हैं एसोचैम के महासचिव डी एस रावत ने यह रपट जारी करते हुए कहा बेमौसम बारिश के अलावा तापमान भी कम हो गया है और इससे फसलों पर असर हो सकता है अगले कुछ दिनों में इसका बोझ उपभोक्ताओं पर पड़ सकता है और सब्जियों की कीमत फीसदी बढ़ सकती है बारिश से कीटों की बढ़ी आशंका रावत ने कहा कि इस बेमौसम बारिश से कीटों की आशंका भी बढ़ गई है सरकारी अनुमान के मुताबिक इस ओलावृष्टि से राज्यों में लाख करोड़ हेक्टेयर के दायरे में बोई गई रबी फसल बर्बाद हुई है इनपुट भाषा से \n",
      "Original summary: की कीमत फीसदी बढ़ने की आशंका \n",
      "Predicted summary:  बिहार में फीसदी बढ़ी बिजली की कमी\n",
      "\n",
      "\n",
      "Review: जम्मू कश्मीर के मुख्यमंत्री उमर अब्दुल्ला पर श्रीनगर में अगस्त के कार्यक्रम के दौरान जूता फेंका गया जूता फेंकने वाला शख्स कार्यक्रम की सुरक्षा में तैनात पुलिस इंस्पेक्टर था बख्शी स्टेडियम में हो रहे कार्यक्रम के दौरान ये घटना हुई जिस वक्त उमर अब्दुल्ला झंडे की सलामी ले रहे थे उसी वक्त वीआईपी लॉबी में बैठे इस पुलिस इंस्पेक्टर ने उनकी ओर निशाना करके जूता उछाल दिया ये जूता परेड के रास्ते में जा गिरा जूता फेंकने वाले को फौरन हिरासत में ले लिया गया \n",
      "Original summary: समारोह में उमर अब्दुल्ला की ओर फेंका जूता \n",
      "Predicted summary:  कश्मीर में उमर अब्दुल्ला के आरोप में बीजेपी नेता\n",
      "\n",
      "\n",
      "Review: में मिल सकता है स्नैपड्रैगन अपकमिंग स्मार्टफोन में मिल सकती है की बैटरी को आज ब्राजील में लॉन्च किया जा रहा है फोन की सॉफ्ट लॉन्चिंग को होगी इस दौरान कंपनी फोन की सारी जानकारियों का खुलासा करेगी के इस अपग्रेड पर वॉटरड्रॉप स्टाइल नॉच एक ट्रिपल रियर कैमरा सेटअप एक एडिशनल लेजर ऑटोफोकस सिस्टम और रियर फिंगरप्रिंट सेंसर दिया जाएगा की कीमत को लेकर अभी कोई जानकारी नहीं मिली है हालांकि इसे रेंडर्स और स्पेसिफिकेशन्स जरूर सामने आ गए हैं कीमत का खुलासा लॉन्च के दौरान किया जाएगा याद के तौर पर बता दें को लगभग रुपये में लॉन्च किया गया था संभवना है कि नए को भी इसी कीमत के आसपास वाली कीमत में लॉन्च किया जाए चर्चा ये भी है कि कंपनी आज और को भी लॉन्च कर सकती है के लीक्ड रेंडर्स से ये मालूम चलता है कि इसमें ट्रिपल कैमरा सेटअप एक ग्रेडिएंट बैक पैनल एक वॉटरड्रॉप स्टाइल नॉच और रियर फिंगरप्रिंट सेंसर मिलेगा जानकारी ये भी मिली है कि इसमें डुअल रियर स्पीकर्स टाइप सी पोर्ट और राइट में वॉल्यूम और पावर बटन मिलेगा फोन को अभी ब्लू और रेड कलर ऑप्शन में देखा गया है लेकिन उम्मीद है कि इसके और भी कलर ऑप्शन आ सकते हैं के स्पेसिफिकेशन्स की बात करें तो एक हालिया लीक के मुताबिक ये स्मार्टफोन एंड्रॉयड पर चलेगा और इसमें इंच फुल पिक्सल डिस्प्ले मिलेगा इस अपकमिंग स्मार्टफोन में स्नैपड्रैगन प्रोसेसर और रैम के साथ तक की स्टोरेज दी जा सकती है फोटोग्राफी के सेक्शन की बात करें तो इसमें प्राइमरी कैमरा वाइड एंगल कैमरा और डेप्थ सेंसर मिलेगा साथ ही यहां लेजर ऑटोफोकस सिस्टम भी होगा इस फोन में सेल्फी कैमरा का होगा इसकी बैटरी की होगी \n",
      "Original summary: आज हो रहा है लॉन्च जानें क्या होगा खास \n",
      "Predicted summary:  भारत में लॉन्च जानें कीमत और फीचर्स\n",
      "\n",
      "\n",
      "Review: भारतीय शेयर बाजार ने आज हफ्ते के दूसरे दिन मंगलवार के कारोबार में तेजी के साथ शुरुआत की है शुरुआती कारोबार में ही सेंसेक्स और निफ्टी में करीब आधे फीसदी की बढ़त दिखाई दे रही है प्रमुख सूचकांक सेंसेक्स फिलहाल अंकों या फीसदी की तेजी के साथ पर और निफ्टी भी लगभग इसी समय अंकों या फीसदी की तेजी के साथ पर कारोबार कर रहे है बंबई स्टॉक एक्सचेंज बीएसई का शेयरों पर आधारित संवेदी सूचकांक सेंसेक्स सुबह अंकों की तेजी के साथ पर खुला वहीं नेशनल स्टॉक एक्सचेंज का शेयरों पर आधारित संवेदी सूचकांक निफ्टी तेजी के साथ पर खुला \n",
      "Original summary: शेयर बाजारों के शुरुआती कारोबार में तेजी सेंसेक्स अंक चढ़ा \n",
      "Predicted summary:  शेयर बाजार के शुरुआती कारोबार में तेजी\n",
      "\n",
      "\n",
      "Review: पीलीभीत कांड ने सियासत का ऐसा चलाया कि वरुण भाजपा के हीरो बन बैठे हैं भाजपा के बड़े नेता वरुण की पीठ थपथपाने में जुटे हैं तो कार्यकर्ता चुनावी रैलियों में वरुण की मांग कर रहे हैं आग ज़ुबान ने उनका कद इतना बढ़ा दिया है कि भाजपा के कार्यकर्ता हर जगह वरुण वरुण की लगा रहे हैं चुनाव प्रचार के लिए सबको वरुण चाहिए चाहे वह पीलीभीत हो या फ़िर रायपुर भाजपा ने उनकी का सियासी फ़ायदा उठाने के लिए पूरी तैयारी कर ली है इस सियासी ड्रामे ने वरुण का बाज़ार भाव काफ़ी ऊपर पहुंचा दिया है जो भाजपा पहले वरुण के भाषण से किनारा कर रही थी वही वरुण के समर्थन में ज़बरदस्त फील्डिंग करने में जुटी हुई है \n",
      "Original summary: चुनाव प्रचार के लिए वरुण गांधी की मांग बढ़ी \n",
      "Predicted summary:  वरुण गांधी ने की की तारीफ\n",
      "\n",
      "\n",
      "Review: मध्य प्रदेश के मुख्यमंत्री कमलनाथ को भांजे पुरी से मनी लॉन्ड्रिंग मामले में केंद्रीय अन्वेषण ब्यूरो सीबीआई पूछताछ कर सकता है अगस्ता वेस्टलैंड मामले में प्रवर्तन निदेशालय ईडी के अधिकारी भी पुरी से पूछताछ कर सकते हैं सूत्रों का कहना है कि पुरी का नाम राजीव सक्सेना से पूछताछ के दौरान छिपा लिया गया था राजीव सक्सेना का दुबई से अगस्ता वेस्टलैंड हेलिकॉप्टर डील मामले में प्रत्यर्पण हुआ था राजीव सक्सेना पर आरोप है कि वह दुबई स्थित एक फर्म से बिजनेस चलाता था ईडी का कहना है कि राजीव सक्सेना भारतीय नेताओं अफसरों रक्षा विभाग के अधिकारियों और वायुसेना के अधिकारियों से पैसे देकर करता था सुशेन गुप्ता से होगी मामले में एक अन्य आरोपी सुशेन गुप्ता को दिन के लिए दिल्ली की एक अदालत ने ईडी की हिरासत में भेज दिया सुशेन गुप्ता और दिल्ली के तिहाड़ जेल में बंद गौतम खेतान से इस मामले में पूछताछ होगी सुशेन गुप्ता को अगस्ता वेस्टलैंड के अन्य सह आरोपियों के सामने लाया जाएगा और पूछताछ की जाएगी अगस्ता वेस्टलैंड मामले में राजीव सक्सेना सरकारी गवाह बन गया है सूत्रों का कहना है कि कॉपर स्कैम से जुड़ी कई महत्वपूर्ण जानकारियां प्रवर्तन निदेशालय को मिल सकती हैं जानकारों का कहना है कि राजीव सक्सेना के प्रत्यर्पण से इस केस का पर्दाफाश हो सकता है ईडी का राजीव सक्सेना पर आरोप है कि उन्होंने वकील गौतम खेतान के साथ साठ गांठ कर अगस्ता वेस्टलैंड कंपनी के पक्ष में कॉरपोरेट ढांचा मुहैया कराया था जिससे विभिन्न राजनीतिज्ञों नौकरशाहों और वायुसेना अधिकारियों को भुगतान किया जा सके और काले धन को सफेद किया जा सके \n",
      "Original summary: मनी लॉन्ड्रिंग केस में कमलनाथ के भांजे से कर सकती है पूछताछ \n",
      "Predicted summary:  के खिलाफ केस दर्ज\n",
      "\n",
      "\n",
      "Review: कांग्रेस ने अपने महासचिव दिग्विजय सिंह से उत्तर प्रदेश और असम का प्रभार वापस ले लिया गया है उनकी जगह बीके हरिप्रसाद को उनका कार्यभार सौंपा गया है माना जा रहा है कि आगामी जुलाई को राष्ट्रपति चुनाव के मद्देनजर यह कार्रवाई की गई है दिग्विजय सिंह को कांग्रेस के युवराज राहुल गांधी का करीबी माना जाता है लेकिन राहुल गांधी पर दिए गए बयान पर ही उनके खिलाफ यह कार्रवाई की गई है दिग्विजय सिंह ने आजतक के साप्ताहिक कार्यक्रम सीधी बात में राहुल गांधी को जल्द ही बड़ी जिम्मेदारी दिए जाने संबंधी बात कही थी दिग्विजय सिंह की बयानबाजी से कांग्रेस अक्सर मुसीबत में फंसती रहती हैं बयानबाजी के कारण हाल ही में कांग्रेस को उनसे अपनी बयानबाजी पर लगाम लगाने के लिए लिए कहना पड़ा था साथ कांग्रेस ने यह भी साफ कर दिया था कि वे पार्टी के प्रवक्ता नहीं हैं इसलिए उनके बयान को पार्टी का बयान न माना जाए इसके बाद दिग्विजय सिंह राष्ट्रपति पद के उम्मीदवार प्रणब मुखर्जी को दिए गए फेयरवेल में भी नहीं आए थे \n",
      "Original summary: कांग्रेस ने दिग्विजय सिंह के पर \n",
      "Predicted summary:  दिग्विजय सिंह ने दिग्विजय सिंह के खिलाफ दिग्विजय सिंह\n",
      "\n",
      "\n",
      "Review: डीज़ल की कीमतों में बढ़ोत्तरी ने असर भी दिखना शुरू कर दिया है डीजल की कीमतों में बढ़ोतरी के साथ ही ऑल इंडिया मोटर ट्रांसपोर्ट एसोसिएशन ने माल भाड़े में फीसदी इजाफे का एलान किया है इसबीच डीजल की कीमत बढ़ने का असर शुरू हो गया है मुंबई में दादर के सब्जी बाजार में शुक्रवार सुबह सुबह ही दुकानदारों ने सब्जी के दाम बढ़ा दिए इसे लेकर दुकानदारों के साथ ग्राहकों की झड़प भी हुई दुकानदार डीजल के दाम में पांच रुपये लीटर के इजाफे को इसकी वजह बता रहे हैं केंद्र सरकार ने गुरुवार को डीजल के मूल्य में प्रतिलीटर पांच रुपये वृद्धि करने का फैसला किया और प्रति परिवार रसोई गैस के सिलेंडरों की संख्या को हर साल छह तक सीमित कर दिया प्रधानमंत्री की अध्यक्षता में राजनीतिक मामलों की मंत्रिमंडलीय समिति सीसीपीए द्वारा लिया गया यह फैसला गुरुवार मध्य रात्रि से लागू हो गया समिति की बैठक मंगलवार को होने की उम्मीद थी तब स्थगित हो गई थी डीजल और रसोई ईंधन के मूल्य में जून से संशोधन नहीं किया गया था तेल कम्पनियां पेट्रोल भी वाजिब छह रुपये कम पर बेच रही हैं \n",
      "Original summary: ने माल में फीसदी का किया इजाफा \n",
      "Predicted summary:  महंगाई दर बढ़कर फीसदी की\n",
      "\n",
      "\n",
      "Review: झारखंड में भूख के कारण एक और महिला की मौत की खबर है यहां के चतरा जिले में वर्षीय मीना मुसहर की कथित तौर पर भूख से मौत हो गई बताया जा रहा है कि उन्होंने पिछले चार दिनों से कुछ भी नहीं खाया था आपको बता दें कि सोमवार को ही में भी एक महिला की भूख के कारण ही मौत हो गई थी मीना मुसहर मूल रूप से बिहार की गया की रहने वाली थीं लेकिन काफी समय से चतरा में ही रहती थीं उनके बेटे गौतम ने बताया कि उसने और उनकी मां ने पिछले दिनों से कुछ नहीं खाया था जिसके बाद उनकी तबीयत बिगड़ गई थी लेकिन इलाज और दवा के पैसे नहीं थे गौतम ने बताया कि वह अपने कंधे पर जब अपनी मां को लादकर अस्पताल ले गए तब डॉक्टरों ने उन्हें मृत घोषित कर दिया था में भी हुई थी बता दें कि इससे पहले सोमवार को झारखंड के ही गिरिडीह जिले के मधुबन थाना क्षेत्र के गांव की रहने वाली सावित्री देवी की मौत हो गई थी परिजनों के मुताबिक सावित्री की मौत भूख के कारण हुई थी उनका कहना था कि सावित्री देवी को तीन दिनों तक खाना नहीं मिला जिस वजह से मौत हो गई नहीं मिला था राशन के परिजनों ने आरोप लगाया था कि प्रशासनिक लापरवाही की वजह से सावित्री का राशन कार्ड नहीं बन पाया सावित्री इस संबंध में सभी जरूरी कागजात दो महीने पहले ही विभाग को सौंप चुकी थी वर्षीय सावित्री देवी के दो बेटे हैं जो काम के सिलसिले में बाहर रहते हैं उनकी कमाई इतनी नहीं है कि वे घर पर पैसा भेज सकें सावित्री देवी को वृद्धावस्था पेंशन भी नहीं मिलता था \n",
      "Original summary: झारखंड में एक और महिला की भूख से मौत दिन से नहीं मिला था खाना \n",
      "Predicted summary:  झारखंड में एक और परिवार के बीच मौत\n",
      "\n",
      "\n",
      "Review: ओलंपिक रजत पदक विजेता पीवी सिंधु अपना खिताबी सूखा खत्म करने में कामयाब रहीं साल के आखिर में भारत की इस स्टार शटलर ने न सिर्फ खिताब जीता बल्कि इतिहास रच दिया साल की सिंधु ने रविवार को बीडब्ल्यूएफ विश्व टूर फाइनल्स पिछले साल तक बीडब्ल्यूएफ सुपर सीरीज का खिताब अपने नाम किया से खेले जा रहे इस टूर्नामेंट में पहली बार किसी भारतीय ने खिताबी जीत हासिल की पिछले साल टूर्नामेंट की उपविजेता रहीं वर्ल्ड नंबर सिंधु ने फाइनल में जापान की वर्ल्ड नंबर नोजोमी ओकुहारा को से शिकस्त दी इसके साथ ही सिंधु ने जापानी खिलाड़ी के खिलाफ अपना रिकॉर्ड कर लिया है ये वही ओकुहारा हैं जिन्होंने के वर्ल्ड चैम्पियनशिप के फाइनल में सिंधु को मात दी थी लगातार तीसरे साल टूर्नामेंट के लिए जगह बनाने वाली सिंधु ने की विश्व चैम्पियन और विश्व रैंकिंग में आठवें स्थान पर काबिज थाईलैंड की को से मात देकर फाइनल में जगह बनाई थी इससे पहले सिंधु ने शुक्रवार को विश्व रैंकिंग में वें स्थान पर काबिज झांग को एकतरफा मुकाबले में से हराकर नॉकआउट चरण में प्रवेश किया था सिंधु पूरे टूर्नामेंट में अपराजेय वां इंटरनेशनल खिताब इंडिविजुअल इंडोनेशिया इंटरनेशनल मलेशिया मास्टर्स ओपन ओपन ओपन मलेशिया मास्टर्स चाइना ओपन सैयद मोदी इंटरनेशनल इंडिया ओपन कोरिया ओपन विश्व टूर फाइनल्स सिंधु को रियो ओलंपिक के फाइनल में कैरोलिना मारिन स्पेन ने से हराया था जिसके बाद उन्हें सिल्वर मेडल से संतोष करना पड़ा था वर्ल्ड बैडमिंटन चैम्पियनशिप में इतिहास रचने से चूक गई थीं तब फाइनल में जापान की नोजोमी ओकुहारा ने से मात दी थी \n",
      "Original summary: वर्ल्ड टूर फाइनल्स सिंधु बनीं चैम्पियन फाइनल में को हराया \n",
      "Predicted summary:  सानिया मिर्जा की जोड़ी विंबलडन ओपन के फाइनल में\n",
      "\n",
      "\n",
      "Review: इलाहाबाद हाईकोर्ट में ग्रेजुएशन के लिए असिस्टेंट रिव्यू ऑफिसर के पदों पर भर्ती इलाहाबाद हाईकोर्ट ने कंप्यूटर असिस्टेंट और रिव्यू ऑफिसर के पदों पर आवेदन मांगे हैं जो उम्मीदवार कोर्ट में काम करना चाहते हैं उनके लिए ये अच्छा मौका है आइए जानते हैं कैसे करना है आवेदन जरूरी असिस्टेंट और रिव्यू ऑफिसर के पदों आवेदन करने की प्रक्रिया आज से शुरू हो गई है आवेदन करने की आखिरी तारीख अक्टूबर है पदों के बारे असिस्टेंट के पदों पर आवेदन मांगे गए हैं वहीं रिव्यू ऑफिसर के पदों आवेदन मांगे हैं क्या है असिस्टेंट और रिव्यू ऑफिसर के पदों पर आवेदन करने के लिए उम्मीदवारों ने किसी भी मान्यता प्राप्त संस्थान से ग्रेजुएशन की हो साथ कंप्यूटर की अच्छी समझ रखता हो इन पदों पर आवेदन करने के लिए उम्मीदवारों की उम्र साल और अधिकतम उम्र साल होनी चाहिए कैसे होगा सेलेक्शनइन पदों पर आवेदन करने के लिए उम्मीदवारों की लिखित परीक्षा और कंप्यूटर नॉलेज टेस्ट देना होगा इन पदों पर आवेदन करने के लिए जनरल उम्मीदवारों को और को रुपये फीस देनी होगी \n",
      "Original summary: इलाहाबाद हाईकोर्ट में ग्रेजुएशन के लिए नौकरी आवेदन शुरू \n",
      "Predicted summary:  में निकली भर्ती करें आवेदन\n",
      "\n",
      "\n",
      "Review: मोबाइल फोन बनाने वाली फिनलैंड की कंपनी नोकिया के नए एंड्रॉयड फोन का नाम उजागर हो गया है इस फोन का सभी को इंतज़ार है ट्विटर यूजर ने इस फोन के प्रेस शॉट्स लीक कर दिए हैं इसे नोकिया नाम दिया गया है यह फोन में होने वाले मोबाइल वर्ल्ड कांग्रेस में लान्च किया जाएगा इस प्रेस विज्ञप्ति में नोकिया को हरे रंग में दिखाया गया है पिछले दिनों नोकिया के सोशल मीडिया अकाउंट पेज को भी हरा कर दिया गया था लेकिन बाद में यह रंग हटा दिया गया था बताया जाता है कि इस फोन का इंटरफेस भी विडोंज फोन की तरह ही है लेकिन यह गूगल की सुविधाओं के वंचित रहेगा इसकी बजाय नोकिया ने इसमें ऐप्प स्टोर जोड़ लिया है इस फोन के बारे में जो जानकारी मिली है उसके मुताबिक इसका स्क्रीन इंच का है और इसमें जीएचजेड डुअल कोर स्नैपड्रैगन प्रॉसेसर है इसमें एमपी कैमरा है और इसका रैम एमबी का है इसमें ब्लूटुथ और ऐंड्रॉयड किटकैट ऑपरेटिंग सिस्टम है यह डुअल सिम स्मार्टफोन है \n",
      "Original summary: नोकिया के नए एंड्रॉयड फोन का नाम लीक \n",
      "Predicted summary:  गूगल ने लॉन्च किया का अपडेट\n",
      "\n",
      "\n"
     ]
    }
   ],
   "source": [
    "for i in range(0,100):\n",
    "    print(\"Review:\",seq2text(x_tr[i]))\n",
    "    print(\"Original summary:\",seq2summary(y_tr[i]))\n",
    "    print(\"Predicted summary:\",decode_sequence(x_tr[i].reshape(1,max_text_len)))\n",
    "    print(\"\\n\")"
   ]
  },
  {
   "cell_type": "code",
   "execution_count": null,
   "metadata": {},
   "outputs": [],
   "source": []
  }
 ],
 "metadata": {
  "kernelspec": {
   "display_name": "Python 3 (ipykernel)",
   "language": "python",
   "name": "python3"
  },
  "language_info": {
   "codemirror_mode": {
    "name": "ipython",
    "version": 3
   },
   "file_extension": ".py",
   "mimetype": "text/x-python",
   "name": "python",
   "nbconvert_exporter": "python",
   "pygments_lexer": "ipython3",
   "version": "3.10.9"
  }
 },
 "nbformat": 4,
 "nbformat_minor": 4
}
