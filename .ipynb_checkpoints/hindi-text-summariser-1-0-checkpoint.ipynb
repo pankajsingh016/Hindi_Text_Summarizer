{
 "cells": [
  {
   "cell_type": "code",
   "execution_count": 1,
   "id": "a6065164",
   "metadata": {
    "execution": {
     "iopub.execute_input": "2022-07-10T14:36:01.586700Z",
     "iopub.status.busy": "2022-07-10T14:36:01.585271Z",
     "iopub.status.idle": "2022-07-10T14:36:09.396796Z",
     "shell.execute_reply": "2022-07-10T14:36:09.395598Z"
    },
    "papermill": {
     "duration": 7.831285,
     "end_time": "2022-07-10T14:36:09.400067",
     "exception": false,
     "start_time": "2022-07-10T14:36:01.568782",
     "status": "completed"
    },
    "scrolled": true,
    "tags": []
   },
   "outputs": [],
   "source": [
    "import pandas as pd\n",
    "import torch\n",
    "import random\n",
    "import numpy as np\n",
    "import tensorflow as tf\n",
    "import matplotlib.pyplot as plt"
   ]
  },
  {
   "cell_type": "code",
   "execution_count": 2,
   "id": "dd059c3c",
   "metadata": {
    "execution": {
     "iopub.execute_input": "2022-07-10T14:36:09.429053Z",
     "iopub.status.busy": "2022-07-10T14:36:09.427878Z",
     "iopub.status.idle": "2022-07-10T14:36:10.633276Z",
     "shell.execute_reply": "2022-07-10T14:36:10.631968Z"
    },
    "papermill": {
     "duration": 1.222887,
     "end_time": "2022-07-10T14:36:10.636242",
     "exception": false,
     "start_time": "2022-07-10T14:36:09.413355",
     "status": "completed"
    },
    "tags": []
   },
   "outputs": [
    {
     "name": "stdout",
     "output_type": "stream",
     "text": [
      "There are 10000 rows and 2 columns\n"
     ]
    }
   ],
   "source": [
    "nRowsRead = 10000 # specify 'None' if want to read whole file\n",
    "# test.csv may have more rows in reality, but we are only loading/previewing the first 1000 rows\n",
    "df1 = pd.read_csv('test.csv', delimiter=',', nrows = nRowsRead)\n",
    "df1.dataframeName = 'test.csv'\n",
    "nRow, nCol = df1.shape\n",
    "print(f'There are {nRow} rows and {nCol} columns')"
   ]
  },
  {
   "cell_type": "code",
   "execution_count": 3,
   "id": "e3237006",
   "metadata": {
    "execution": {
     "iopub.execute_input": "2022-07-10T14:36:10.666937Z",
     "iopub.status.busy": "2022-07-10T14:36:10.665062Z",
     "iopub.status.idle": "2022-07-10T14:36:10.686535Z",
     "shell.execute_reply": "2022-07-10T14:36:10.685342Z"
    },
    "papermill": {
     "duration": 0.038706,
     "end_time": "2022-07-10T14:36:10.689296",
     "exception": false,
     "start_time": "2022-07-10T14:36:10.650590",
     "status": "completed"
    },
    "tags": []
   },
   "outputs": [
    {
     "data": {
      "text/html": [
       "<div>\n",
       "<style scoped>\n",
       "    .dataframe tbody tr th:only-of-type {\n",
       "        vertical-align: middle;\n",
       "    }\n",
       "\n",
       "    .dataframe tbody tr th {\n",
       "        vertical-align: top;\n",
       "    }\n",
       "\n",
       "    .dataframe thead th {\n",
       "        text-align: right;\n",
       "    }\n",
       "</style>\n",
       "<table border=\"1\" class=\"dataframe\">\n",
       "  <thead>\n",
       "    <tr style=\"text-align: right;\">\n",
       "      <th></th>\n",
       "      <th>headline</th>\n",
       "      <th>article</th>\n",
       "    </tr>\n",
       "  </thead>\n",
       "  <tbody>\n",
       "    <tr>\n",
       "      <th>0</th>\n",
       "      <td>पठानकोट पहुंचे PM मोदी, एयरबेस का जायजा ले बॉर...</td>\n",
       "      <td>प्रधानमंत्री नरेंद्र मोदी पठानकोट एयरबेस पहुंच...</td>\n",
       "    </tr>\n",
       "    <tr>\n",
       "      <th>1</th>\n",
       "      <td>सचिन ने देशवासियों को समर्पित किया अपना दोहरा शतक</td>\n",
       "      <td>सचिन तेंदुलकर ने एकदिवसीय अंतरराष्ट्रीय क्रिके...</td>\n",
       "    </tr>\n",
       "    <tr>\n",
       "      <th>2</th>\n",
       "      <td>एनआईए करेगी छत्तीसगढ़ में सुरक्षा खामियों की ज...</td>\n",
       "      <td>केंद्रीय गृह राज्य मंत्री आर. पी. एन. सिंह ने ...</td>\n",
       "    </tr>\n",
       "    <tr>\n",
       "      <th>3</th>\n",
       "      <td>सीधी बात:  शाह बोले- हमारा बस चलता तो अब तक मं...</td>\n",
       "      <td>भारतीय जनता पार्टी (बीजेपी) के राष्ट्रीय अध्यक...</td>\n",
       "    </tr>\n",
       "    <tr>\n",
       "      <th>4</th>\n",
       "      <td>ऋषभ पंत के पास यूनिक टैलेंट, उसके साथ छेड़छाड़ न...</td>\n",
       "      <td>ऋषभ पंत की कभी कभार इस बात के लिए आलोचना की जा...</td>\n",
       "    </tr>\n",
       "  </tbody>\n",
       "</table>\n",
       "</div>"
      ],
      "text/plain": [
       "                                            headline  \\\n",
       "0  पठानकोट पहुंचे PM मोदी, एयरबेस का जायजा ले बॉर...   \n",
       "1  सचिन ने देशवासियों को समर्पित किया अपना दोहरा शतक   \n",
       "2  एनआईए करेगी छत्तीसगढ़ में सुरक्षा खामियों की ज...   \n",
       "3  सीधी बात:  शाह बोले- हमारा बस चलता तो अब तक मं...   \n",
       "4  ऋषभ पंत के पास यूनिक टैलेंट, उसके साथ छेड़छाड़ न...   \n",
       "\n",
       "                                             article  \n",
       "0  प्रधानमंत्री नरेंद्र मोदी पठानकोट एयरबेस पहुंच...  \n",
       "1  सचिन तेंदुलकर ने एकदिवसीय अंतरराष्ट्रीय क्रिके...  \n",
       "2  केंद्रीय गृह राज्य मंत्री आर. पी. एन. सिंह ने ...  \n",
       "3  भारतीय जनता पार्टी (बीजेपी) के राष्ट्रीय अध्यक...  \n",
       "4  ऋषभ पंत की कभी कभार इस बात के लिए आलोचना की जा...  "
      ]
     },
     "execution_count": 3,
     "metadata": {},
     "output_type": "execute_result"
    }
   ],
   "source": [
    "df1.head()"
   ]
  },
  {
   "cell_type": "code",
   "execution_count": 4,
   "id": "f6ba5ea2",
   "metadata": {
    "execution": {
     "iopub.execute_input": "2022-07-10T14:36:10.720554Z",
     "iopub.status.busy": "2022-07-10T14:36:10.718478Z",
     "iopub.status.idle": "2022-07-10T14:36:21.010565Z",
     "shell.execute_reply": "2022-07-10T14:36:21.008999Z"
    },
    "papermill": {
     "duration": 10.310674,
     "end_time": "2022-07-10T14:36:21.013928",
     "exception": false,
     "start_time": "2022-07-10T14:36:10.703254",
     "status": "completed"
    },
    "tags": []
   },
   "outputs": [
    {
     "name": "stdout",
     "output_type": "stream",
     "text": [
      "There are 100000 rows and 2 columns\n"
     ]
    }
   ],
   "source": [
    "nRowsRead = 100000 # specify 'None' if want to read whole file\n",
    "# train.csv may have more rows in reality, but we are only loading/previewing the first 1000 rows\n",
    "df = pd.read_csv('train.csv', delimiter=',', nrows = nRowsRead)\n",
    "df.dataframeName = 'train.csv'\n",
    "nRow, nCol = df.shape\n",
    "print(f'There are {nRow} rows and {nCol} columns')"
   ]
  },
  {
   "cell_type": "code",
   "execution_count": 5,
   "id": "f8622d45",
   "metadata": {
    "execution": {
     "iopub.execute_input": "2022-07-10T14:36:21.044253Z",
     "iopub.status.busy": "2022-07-10T14:36:21.043413Z",
     "iopub.status.idle": "2022-07-10T14:36:21.056404Z",
     "shell.execute_reply": "2022-07-10T14:36:21.054328Z"
    },
    "papermill": {
     "duration": 0.03021,
     "end_time": "2022-07-10T14:36:21.059118",
     "exception": false,
     "start_time": "2022-07-10T14:36:21.028908",
     "status": "completed"
    },
    "tags": []
   },
   "outputs": [
    {
     "data": {
      "text/html": [
       "<div>\n",
       "<style scoped>\n",
       "    .dataframe tbody tr th:only-of-type {\n",
       "        vertical-align: middle;\n",
       "    }\n",
       "\n",
       "    .dataframe tbody tr th {\n",
       "        vertical-align: top;\n",
       "    }\n",
       "\n",
       "    .dataframe thead th {\n",
       "        text-align: right;\n",
       "    }\n",
       "</style>\n",
       "<table border=\"1\" class=\"dataframe\">\n",
       "  <thead>\n",
       "    <tr style=\"text-align: right;\">\n",
       "      <th></th>\n",
       "      <th>headline</th>\n",
       "      <th>article</th>\n",
       "    </tr>\n",
       "  </thead>\n",
       "  <tbody>\n",
       "    <tr>\n",
       "      <th>0</th>\n",
       "      <td>EXCLUSIVE: दिल्ली में डीजल टैक्सियों पर बैन से...</td>\n",
       "      <td>दिल्ली में सुप्रीम कोर्ट के डीज़ल टैक्सियों को...</td>\n",
       "    </tr>\n",
       "    <tr>\n",
       "      <th>1</th>\n",
       "      <td>जॉर्डन: राष्ट्रपति मुखर्जी ने 86 करोड़ डॉलर के...</td>\n",
       "      <td>जॉर्डन के ऐतिहासिक दौरे पर पहुंचे राष्ट्रपति प...</td>\n",
       "    </tr>\n",
       "    <tr>\n",
       "      <th>2</th>\n",
       "      <td>UN में पाकिस्तान की राजदूत मलीहा लोधी ने कराई ...</td>\n",
       "      <td>पाकिस्तानी नेताओं को विवादित और हास्यास्पद बया...</td>\n",
       "    </tr>\n",
       "    <tr>\n",
       "      <th>3</th>\n",
       "      <td>38 देशों में पीएम नरेंद्र मोदी बायोपिक को रिली...</td>\n",
       "      <td>पीएम नरेंद्र मोदी बायोपिक में विवेक ओबेरॉय ने ...</td>\n",
       "    </tr>\n",
       "    <tr>\n",
       "      <th>4</th>\n",
       "      <td>13 अगस्त 2011: दिनभर की बड़ी खबरें पढ़ें</td>\n",
       "      <td>देश, दुनिया, महानगर, खेल, आर्थिक और बॉलीवुड मे...</td>\n",
       "    </tr>\n",
       "  </tbody>\n",
       "</table>\n",
       "</div>"
      ],
      "text/plain": [
       "                                            headline  \\\n",
       "0  EXCLUSIVE: दिल्ली में डीजल टैक्सियों पर बैन से...   \n",
       "1  जॉर्डन: राष्ट्रपति मुखर्जी ने 86 करोड़ डॉलर के...   \n",
       "2  UN में पाकिस्तान की राजदूत मलीहा लोधी ने कराई ...   \n",
       "3  38 देशों में पीएम नरेंद्र मोदी बायोपिक को रिली...   \n",
       "4           13 अगस्त 2011: दिनभर की बड़ी खबरें पढ़ें   \n",
       "\n",
       "                                             article  \n",
       "0  दिल्ली में सुप्रीम कोर्ट के डीज़ल टैक्सियों को...  \n",
       "1  जॉर्डन के ऐतिहासिक दौरे पर पहुंचे राष्ट्रपति प...  \n",
       "2  पाकिस्तानी नेताओं को विवादित और हास्यास्पद बया...  \n",
       "3  पीएम नरेंद्र मोदी बायोपिक में विवेक ओबेरॉय ने ...  \n",
       "4  देश, दुनिया, महानगर, खेल, आर्थिक और बॉलीवुड मे...  "
      ]
     },
     "execution_count": 5,
     "metadata": {},
     "output_type": "execute_result"
    }
   ],
   "source": [
    "df.head(5)"
   ]
  },
  {
   "cell_type": "code",
   "execution_count": 6,
   "id": "47dad3db",
   "metadata": {
    "execution": {
     "iopub.execute_input": "2022-07-10T14:36:21.087760Z",
     "iopub.status.busy": "2022-07-10T14:36:21.087337Z",
     "iopub.status.idle": "2022-07-10T14:36:21.533499Z",
     "shell.execute_reply": "2022-07-10T14:36:21.532082Z"
    },
    "papermill": {
     "duration": 0.463602,
     "end_time": "2022-07-10T14:36:21.536203",
     "exception": false,
     "start_time": "2022-07-10T14:36:21.072601",
     "status": "completed"
    },
    "tags": []
   },
   "outputs": [
    {
     "data": {
      "text/html": [
       "<div>\n",
       "<style scoped>\n",
       "    .dataframe tbody tr th:only-of-type {\n",
       "        vertical-align: middle;\n",
       "    }\n",
       "\n",
       "    .dataframe tbody tr th {\n",
       "        vertical-align: top;\n",
       "    }\n",
       "\n",
       "    .dataframe thead th {\n",
       "        text-align: right;\n",
       "    }\n",
       "</style>\n",
       "<table border=\"1\" class=\"dataframe\">\n",
       "  <thead>\n",
       "    <tr style=\"text-align: right;\">\n",
       "      <th></th>\n",
       "      <th>headline</th>\n",
       "      <th>article</th>\n",
       "    </tr>\n",
       "  </thead>\n",
       "  <tbody>\n",
       "    <tr>\n",
       "      <th>count</th>\n",
       "      <td>99992</td>\n",
       "      <td>100000</td>\n",
       "    </tr>\n",
       "    <tr>\n",
       "      <th>unique</th>\n",
       "      <td>99510</td>\n",
       "      <td>99987</td>\n",
       "    </tr>\n",
       "    <tr>\n",
       "      <th>top</th>\n",
       "      <td>Tech Wrap: यहां जानें आज की 5 बड़ी खबरें</td>\n",
       "      <td>हमारे साझेदार 'अनरियल टाइम्स' की खास व्यंग्यात...</td>\n",
       "    </tr>\n",
       "    <tr>\n",
       "      <th>freq</th>\n",
       "      <td>159</td>\n",
       "      <td>3</td>\n",
       "    </tr>\n",
       "  </tbody>\n",
       "</table>\n",
       "</div>"
      ],
      "text/plain": [
       "                                        headline  \\\n",
       "count                                      99992   \n",
       "unique                                     99510   \n",
       "top     Tech Wrap: यहां जानें आज की 5 बड़ी खबरें   \n",
       "freq                                         159   \n",
       "\n",
       "                                                  article  \n",
       "count                                              100000  \n",
       "unique                                              99987  \n",
       "top     हमारे साझेदार 'अनरियल टाइम्स' की खास व्यंग्यात...  \n",
       "freq                                                    3  "
      ]
     },
     "execution_count": 6,
     "metadata": {},
     "output_type": "execute_result"
    }
   ],
   "source": [
    "df.describe()"
   ]
  },
  {
   "cell_type": "code",
   "execution_count": 7,
   "id": "7d1a4250",
   "metadata": {
    "execution": {
     "iopub.execute_input": "2022-07-10T14:36:21.566519Z",
     "iopub.status.busy": "2022-07-10T14:36:21.566126Z",
     "iopub.status.idle": "2022-07-10T14:36:21.614255Z",
     "shell.execute_reply": "2022-07-10T14:36:21.612773Z"
    },
    "papermill": {
     "duration": 0.067537,
     "end_time": "2022-07-10T14:36:21.618587",
     "exception": false,
     "start_time": "2022-07-10T14:36:21.551050",
     "status": "completed"
    },
    "tags": []
   },
   "outputs": [
    {
     "name": "stdout",
     "output_type": "stream",
     "text": [
      "<class 'pandas.core.frame.DataFrame'>\n",
      "RangeIndex: 100000 entries, 0 to 99999\n",
      "Data columns (total 2 columns):\n",
      " #   Column    Non-Null Count   Dtype \n",
      "---  ------    --------------   ----- \n",
      " 0   headline  99992 non-null   object\n",
      " 1   article   100000 non-null  object\n",
      "dtypes: object(2)\n",
      "memory usage: 1.5+ MB\n"
     ]
    }
   ],
   "source": [
    "df.info()"
   ]
  },
  {
   "cell_type": "code",
   "execution_count": 8,
   "id": "5ff9d457",
   "metadata": {
    "execution": {
     "iopub.execute_input": "2022-07-10T14:36:21.649575Z",
     "iopub.status.busy": "2022-07-10T14:36:21.649221Z",
     "iopub.status.idle": "2022-07-10T14:36:21.660902Z",
     "shell.execute_reply": "2022-07-10T14:36:21.659289Z"
    },
    "papermill": {
     "duration": 0.030331,
     "end_time": "2022-07-10T14:36:21.664412",
     "exception": false,
     "start_time": "2022-07-10T14:36:21.634081",
     "status": "completed"
    },
    "tags": []
   },
   "outputs": [],
   "source": [
    "import re\n",
    "def preprocess_tokenize(text):\n",
    "      # for removing punctuation from sentencesc\n",
    "    text = str(text)\n",
    "    text = re.sub(r'(\\d+)', r'', text)\n",
    "    \n",
    "    text = text.replace('\\n', '')\n",
    "    text = text.replace('\\r', '')\n",
    "    text = text.replace('\\t', '')\n",
    "    text = text.replace('\\u200d', '')\n",
    "    text=re.sub(\"(__+)\", ' ', str(text)).lower()   #remove _ if it occors more than one time consecutively\n",
    "    text=re.sub(\"(--+)\", ' ', str(text)).lower()   #remove - if it occors more than one time consecutively\n",
    "    text=re.sub(\"(~~+)\", ' ', str(text)).lower()   #remove ~ if it occors more than one time consecutively\n",
    "    text=re.sub(\"(\\+\\++)\", ' ', str(text)).lower()   #remove + if it occors more than one time consecutively\n",
    "    text=re.sub(\"(\\.\\.+)\", ' ', str(text)).lower()   #remove . if it occors more than one time consecutively\n",
    "        \n",
    "    text=re.sub(r\"[<>()|&©@#ø\\[\\]\\'\\\",;:?.~*!]\", ' ', str(text)).lower() #remove <>()|&©ø\"',;?~*!\n",
    "    text = re.sub(\"([a-zA-Z])\",' ',str(text)).lower()\n",
    "    text = re.sub(\"(\\s+)\",' ',str(text)).lower()\n",
    "    #text = text.split(' ')\n",
    "    #text = [x for x in text if(x!='')]\n",
    "    #text.insert(0,'<sos>')\n",
    "    #text.insert(len(text),'<eos>')\n",
    "    return text"
   ]
  },
  {
   "cell_type": "code",
   "execution_count": 9,
   "id": "b36c5813",
   "metadata": {
    "execution": {
     "iopub.execute_input": "2022-07-10T14:36:21.693348Z",
     "iopub.status.busy": "2022-07-10T14:36:21.693040Z",
     "iopub.status.idle": "2022-07-10T14:36:21.771756Z",
     "shell.execute_reply": "2022-07-10T14:36:21.770227Z"
    },
    "papermill": {
     "duration": 0.097237,
     "end_time": "2022-07-10T14:36:21.775388",
     "exception": false,
     "start_time": "2022-07-10T14:36:21.678151",
     "status": "completed"
    },
    "tags": []
   },
   "outputs": [
    {
     "name": "stdout",
     "output_type": "stream",
     "text": [
      "cuda\n"
     ]
    }
   ],
   "source": [
    "device = torch.device('cuda' if torch.cuda.is_available() else 'cpu')\n",
    "print(device)"
   ]
  },
  {
   "cell_type": "code",
   "execution_count": 10,
   "id": "4dd7a1e9",
   "metadata": {
    "execution": {
     "iopub.execute_input": "2022-07-10T14:36:21.806212Z",
     "iopub.status.busy": "2022-07-10T14:36:21.805891Z",
     "iopub.status.idle": "2022-07-10T14:36:21.811107Z",
     "shell.execute_reply": "2022-07-10T14:36:21.809630Z"
    },
    "papermill": {
     "duration": 0.023112,
     "end_time": "2022-07-10T14:36:21.813605",
     "exception": false,
     "start_time": "2022-07-10T14:36:21.790493",
     "status": "completed"
    },
    "tags": []
   },
   "outputs": [],
   "source": [
    "train_data_src = df['headline']\n",
    "train_data_trg = df['article']"
   ]
  },
  {
   "cell_type": "code",
   "execution_count": 11,
   "id": "f70b29e2",
   "metadata": {
    "execution": {
     "iopub.execute_input": "2022-07-10T14:36:21.844132Z",
     "iopub.status.busy": "2022-07-10T14:36:21.843045Z",
     "iopub.status.idle": "2022-07-10T14:37:21.520375Z",
     "shell.execute_reply": "2022-07-10T14:37:21.519022Z"
    },
    "papermill": {
     "duration": 59.695844,
     "end_time": "2022-07-10T14:37:21.523654",
     "exception": false,
     "start_time": "2022-07-10T14:36:21.827810",
     "status": "completed"
    },
    "tags": []
   },
   "outputs": [],
   "source": [
    "tokenized_corpus_src = [preprocess_tokenize(x) for x in train_data_src]  #these are headlines\n",
    "tokenized_corpus_trg = [preprocess_tokenize(x) for x in train_data_trg] # these are articles"
   ]
  },
  {
   "cell_type": "code",
   "execution_count": 12,
   "id": "8a7f067a",
   "metadata": {
    "execution": {
     "iopub.execute_input": "2022-07-10T14:37:21.555139Z",
     "iopub.status.busy": "2022-07-10T14:37:21.553819Z",
     "iopub.status.idle": "2022-07-10T14:37:25.251033Z",
     "shell.execute_reply": "2022-07-10T14:37:25.249714Z"
    },
    "papermill": {
     "duration": 3.715338,
     "end_time": "2022-07-10T14:37:25.253616",
     "exception": false,
     "start_time": "2022-07-10T14:37:21.538278",
     "status": "completed"
    },
    "tags": []
   },
   "outputs": [
    {
     "data": {
      "image/png": "[encoded data removed]",
      "text/plain": [
       "<Figure size 432x288 with 2 Axes>"
      ]
     },
     "metadata": {
      "needs_background": "light"
     },
     "output_type": "display_data"
    }
   ],
   "source": [
    "text_word_count = []\n",
    "summary_word_count = []\n",
    "\n",
    "# populate the lists with sentence lengths\n",
    "for i in tokenized_corpus_trg:\n",
    "      text_word_count.append(len(i.split()))\n",
    "\n",
    "for i in tokenized_corpus_src:\n",
    "      summary_word_count.append(len(i.split()))\n",
    "\n",
    "length_df = pd.DataFrame({'text':text_word_count, 'summary':summary_word_count})\n",
    "\n",
    "length_df.hist(bins = 30)\n",
    "plt.show()"
   ]
  },
  {
   "cell_type": "code",
   "execution_count": 13,
   "id": "e78e4186",
   "metadata": {
    "execution": {
     "iopub.execute_input": "2022-07-10T14:37:25.284097Z",
     "iopub.status.busy": "2022-07-10T14:37:25.283788Z",
     "iopub.status.idle": "2022-07-10T14:37:25.329612Z",
     "shell.execute_reply": "2022-07-10T14:37:25.328099Z"
    },
    "papermill": {
     "duration": 0.065947,
     "end_time": "2022-07-10T14:37:25.333869",
     "exception": false,
     "start_time": "2022-07-10T14:37:25.267922",
     "status": "completed"
    },
    "tags": []
   },
   "outputs": [
    {
     "name": "stdout",
     "output_type": "stream",
     "text": [
      "::::: Text_Cleaned :::::\n",
      "0    दिल्ली में सुप्रीम कोर्ट के डीज़ल टैक्सियों को...\n",
      "1    जॉर्डन के ऐतिहासिक दौरे पर पहुंचे राष्ट्रपति प...\n",
      "2    पाकिस्तानी नेताओं को विवादित और हास्यास्पद बया...\n",
      "3    पीएम नरेंद्र मोदी बायोपिक में विवेक ओबेरॉय ने ...\n",
      "4    देश दुनिया महानगर खेल आर्थिक और बॉलीवुड में क्...\n",
      "Name: Text_Cleaned, dtype: object \n",
      "\n",
      "::::: Summary :::::\n",
      "0     दिल्ली में डीजल टैक्सियों पर बैन से मुश्किल म...\n",
      "1    जॉर्डन राष्ट्रपति मुखर्जी ने करोड़ डॉलर के संय...\n",
      "2     में पाकिस्तान की राजदूत मलीहा लोधी ने कराई फज...\n",
      "3     देशों में पीएम नरेंद्र मोदी बायोपिक को रिलीज ...\n",
      "4                      अगस्त दिनभर की बड़ी खबरें पढ़ें\n",
      "Name: Summary_Cleaned, dtype: object \n",
      "\n"
     ]
    }
   ],
   "source": [
    "df['Text_Cleaned'] = tokenized_corpus_trg  \n",
    "print(\"::::: Text_Cleaned :::::\")\n",
    "print(df['Text_Cleaned'][0:5], \"\\n\")\n",
    "\n",
    "\n",
    "df['Summary_Cleaned'] =  tokenized_corpus_src \n",
    "print(\"::::: Summary :::::\")\n",
    "print(df['Summary_Cleaned'][0:5], \"\\n\")\n",
    "\n",
    "corpus = list(df['Text_Cleaned'])"
   ]
  },
  {
   "cell_type": "code",
   "execution_count": 14,
   "id": "b6d8a6ea",
   "metadata": {
    "execution": {
     "iopub.execute_input": "2022-07-10T14:37:25.364502Z",
     "iopub.status.busy": "2022-07-10T14:37:25.364193Z",
     "iopub.status.idle": "2022-07-10T14:37:25.371396Z",
     "shell.execute_reply": "2022-07-10T14:37:25.369926Z"
    },
    "papermill": {
     "duration": 0.026583,
     "end_time": "2022-07-10T14:37:25.375390",
     "exception": false,
     "start_time": "2022-07-10T14:37:25.348807",
     "status": "completed"
    },
    "tags": []
   },
   "outputs": [
    {
     "name": "stdout",
     "output_type": "stream",
     "text": [
      "दिल्ली में सुप्रीम कोर्ट के डीज़ल टैक्सियों को बंद करने के फैसले के बाद हजारों टैक्सी ड्राइवरों की रोजी रोटी पर तो असर पड़ा ही है लेकिन अब दिल्ली पर एक और नई मुसीबत आ गई है चुनाव आयोग राजधानी के वार्ड में उपचुनाव करवा रहा है लेकिन चुनावों से दो हफ्ते पहले चुनाव आयोग में कामकाज ठप्प हो गया है कमीशन ने किराए पर ली थी डीजल गाड़ियांदरअसल कमीशन ने लगभग सौ गाड़ियां चुनाव के कामकाज को करने के लिए किराए पर लीं जिनमें सभीडीज़ल से चलने वाली टैक्सीथी इन्हीं टैक्सियों से चुनाव अधिकारी से लेकर चुनावों का जिम्मा संभालने वाले बाकी कर्मचारी भी एक जगह से दूसरी जगह आते जाते थे अचानक चुनावों से ठीक पहले आई इस परेशानी ने दिल्ली चुनाव आयोग का कामकाज ही ठप्प कर दिया है रियायत के लिए की जा सकती है मांगदिल्ली के राज्य चुनाव अधिकारी राकेश मेहता ने इस मुश्किल का रास्ता निकालने के लिए मंगलवार को दिल्ली के पुलिस कमिश्नर और ट्रांसपोर्ट कमिश्नर की बैठक बुलाई है इस बैठक में राज्य चुनाव आयुक्त मई को होने वाले चुनावों को लेकरगाड़ियों की उपलब्धताको लेकर पुलिस और सरकार से समाधान निकालने के लिए भी कहेंगे चुनाव आयोग इन दोनों एजेंसियों को कह सकता है कि चूंकि चुनाव में अब दो हफ्ते का भी वक्त नहीं बचा है ऐसे में इन गाड़ियों को बैन से रियायत दी जाए \n"
     ]
    }
   ],
   "source": [
    "print(df['Text_Cleaned'][0])"
   ]
  },
  {
   "cell_type": "code",
   "execution_count": 15,
   "id": "fbeb6fe5",
   "metadata": {
    "execution": {
     "iopub.execute_input": "2022-07-10T14:37:25.406982Z",
     "iopub.status.busy": "2022-07-10T14:37:25.406603Z",
     "iopub.status.idle": "2022-07-10T14:37:25.412688Z",
     "shell.execute_reply": "2022-07-10T14:37:25.411388Z"
    },
    "papermill": {
     "duration": 0.024592,
     "end_time": "2022-07-10T14:37:25.415621",
     "exception": false,
     "start_time": "2022-07-10T14:37:25.391029",
     "status": "completed"
    },
    "tags": []
   },
   "outputs": [
    {
     "name": "stdout",
     "output_type": "stream",
     "text": [
      " दिल्ली में डीजल टैक्सियों पर बैन से मुश्किल में पड़ा चुनाव आयोग\n"
     ]
    }
   ],
   "source": [
    "print(df['Summary_Cleaned'][0])"
   ]
  },
  {
   "cell_type": "code",
   "execution_count": 16,
   "id": "44f7786b",
   "metadata": {
    "execution": {
     "iopub.execute_input": "2022-07-10T14:37:25.446191Z",
     "iopub.status.busy": "2022-07-10T14:37:25.445854Z",
     "iopub.status.idle": "2022-07-10T14:37:28.694980Z",
     "shell.execute_reply": "2022-07-10T14:37:28.693616Z"
    },
    "papermill": {
     "duration": 3.268094,
     "end_time": "2022-07-10T14:37:28.698211",
     "exception": false,
     "start_time": "2022-07-10T14:37:25.430117",
     "status": "completed"
    },
    "tags": []
   },
   "outputs": [],
   "source": [
    "text_count = []\n",
    "summary_count = []\n",
    "\n",
    "for sent in df['Text_Cleaned']:\n",
    "    text_count.append(len(sent.split()))\n",
    "for sent in df['Summary_Cleaned']:\n",
    "    summary_count.append(len(sent.split()))\n",
    "\n",
    "graph_df = pd.DataFrame()\n",
    "graph_df['text'] = text_count\n",
    "graph_df['summary'] = summary_count"
   ]
  },
  {
   "cell_type": "code",
   "execution_count": 17,
   "id": "f906db21",
   "metadata": {
    "execution": {
     "iopub.execute_input": "2022-07-10T14:37:28.730473Z",
     "iopub.status.busy": "2022-07-10T14:37:28.729662Z",
     "iopub.status.idle": "2022-07-10T14:37:28.747592Z",
     "shell.execute_reply": "2022-07-10T14:37:28.746052Z"
    },
    "papermill": {
     "duration": 0.037123,
     "end_time": "2022-07-10T14:37:28.750729",
     "exception": false,
     "start_time": "2022-07-10T14:37:28.713606",
     "status": "completed"
    },
    "tags": []
   },
   "outputs": [
    {
     "data": {
      "text/plain": [
       "count    100000.000000\n",
       "mean        345.238200\n",
       "std         308.739341\n",
       "min           0.000000\n",
       "25%         195.000000\n",
       "50%         280.000000\n",
       "75%         395.000000\n",
       "max        8505.000000\n",
       "Name: text, dtype: float64"
      ]
     },
     "execution_count": 17,
     "metadata": {},
     "output_type": "execute_result"
    }
   ],
   "source": [
    "graph_df['text'].describe()"
   ]
  },
  {
   "cell_type": "code",
   "execution_count": 18,
   "id": "a898052f",
   "metadata": {
    "execution": {
     "iopub.execute_input": "2022-07-10T14:37:28.782091Z",
     "iopub.status.busy": "2022-07-10T14:37:28.781764Z",
     "iopub.status.idle": "2022-07-10T14:37:28.797318Z",
     "shell.execute_reply": "2022-07-10T14:37:28.795483Z"
    },
    "papermill": {
     "duration": 0.034292,
     "end_time": "2022-07-10T14:37:28.800051",
     "exception": false,
     "start_time": "2022-07-10T14:37:28.765759",
     "status": "completed"
    },
    "tags": []
   },
   "outputs": [
    {
     "data": {
      "text/plain": [
       "count    100000.00000\n",
       "mean         10.84903\n",
       "std           2.97927\n",
       "min           0.00000\n",
       "25%           9.00000\n",
       "50%          11.00000\n",
       "75%          13.00000\n",
       "max          22.00000\n",
       "Name: summary, dtype: float64"
      ]
     },
     "execution_count": 18,
     "metadata": {},
     "output_type": "execute_result"
    }
   ],
   "source": [
    "graph_df['summary'].describe()"
   ]
  },
  {
   "cell_type": "code",
   "execution_count": 19,
   "id": "09cfe670",
   "metadata": {
    "execution": {
     "iopub.execute_input": "2022-07-10T14:37:28.834192Z",
     "iopub.status.busy": "2022-07-10T14:37:28.832071Z",
     "iopub.status.idle": "2022-07-10T14:37:29.128941Z",
     "shell.execute_reply": "2022-07-10T14:37:29.127576Z"
    },
    "papermill": {
     "duration": 0.316026,
     "end_time": "2022-07-10T14:37:29.131582",
     "exception": false,
     "start_time": "2022-07-10T14:37:28.815556",
     "status": "completed"
    },
    "tags": []
   },
   "outputs": [
    {
     "data": {
      "image/png": "[encoded data removed]",
      "text/plain": [
       "<Figure size 432x288 with 1 Axes>"
      ]
     },
     "metadata": {
      "needs_background": "light"
     },
     "output_type": "display_data"
    }
   ],
   "source": [
    "graph_df['text'].hist(bins = 25, range=(0, 300))\n",
    "plt.show()"
   ]
  },
  {
   "cell_type": "code",
   "execution_count": 20,
   "id": "9cd23475",
   "metadata": {
    "execution": {
     "iopub.execute_input": "2022-07-10T14:37:29.165247Z",
     "iopub.status.busy": "2022-07-10T14:37:29.163676Z",
     "iopub.status.idle": "2022-07-10T14:37:29.406026Z",
     "shell.execute_reply": "2022-07-10T14:37:29.404754Z"
    },
    "papermill": {
     "duration": 0.261621,
     "end_time": "2022-07-10T14:37:29.408756",
     "exception": false,
     "start_time": "2022-07-10T14:37:29.147135",
     "status": "completed"
    },
    "tags": []
   },
   "outputs": [
    {
     "data": {
      "image/png": "[encoded data removed]",
      "text/plain": [
       "<Figure size 432x288 with 1 Axes>"
      ]
     },
     "metadata": {
      "needs_background": "light"
     },
     "output_type": "display_data"
    }
   ],
   "source": [
    "graph_df['summary'].hist(bins = 15, range=(0, 20))\n",
    "plt.show()"
   ]
  },
  {
   "cell_type": "code",
   "execution_count": 21,
   "id": "c5438a26",
   "metadata": {
    "execution": {
     "iopub.execute_input": "2022-07-10T14:37:29.443173Z",
     "iopub.status.busy": "2022-07-10T14:37:29.441215Z",
     "iopub.status.idle": "2022-07-10T14:37:29.482227Z",
     "shell.execute_reply": "2022-07-10T14:37:29.480496Z"
    },
    "papermill": {
     "duration": 0.060284,
     "end_time": "2022-07-10T14:37:29.484898",
     "exception": false,
     "start_time": "2022-07-10T14:37:29.424614",
     "status": "completed"
    },
    "tags": []
   },
   "outputs": [
    {
     "name": "stdout",
     "output_type": "stream",
     "text": [
      "0.55835\n"
     ]
    }
   ],
   "source": [
    "count = 0\n",
    "for i in graph_df['text']:\n",
    "    if i > 10 and i <= 300:\n",
    "        count = count + 1\n",
    "print(count / len(graph_df['text']))"
   ]
  },
  {
   "cell_type": "code",
   "execution_count": 22,
   "id": "1406e28b",
   "metadata": {
    "execution": {
     "iopub.execute_input": "2022-07-10T14:37:29.518176Z",
     "iopub.status.busy": "2022-07-10T14:37:29.517245Z",
     "iopub.status.idle": "2022-07-10T14:37:29.561061Z",
     "shell.execute_reply": "2022-07-10T14:37:29.559528Z"
    },
    "papermill": {
     "duration": 0.06358,
     "end_time": "2022-07-10T14:37:29.564136",
     "exception": false,
     "start_time": "2022-07-10T14:37:29.500556",
     "status": "completed"
    },
    "tags": []
   },
   "outputs": [
    {
     "name": "stdout",
     "output_type": "stream",
     "text": [
      "0.97472\n"
     ]
    }
   ],
   "source": [
    "count = 0\n",
    "for i in graph_df['summary']:\n",
    "    if i > 1 and i <= 16:\n",
    "        count = count + 1\n",
    "print(count / len(graph_df['summary']))"
   ]
  },
  {
   "cell_type": "code",
   "execution_count": 23,
   "id": "4603880b",
   "metadata": {
    "execution": {
     "iopub.execute_input": "2022-07-10T14:37:29.598158Z",
     "iopub.status.busy": "2022-07-10T14:37:29.597592Z",
     "iopub.status.idle": "2022-07-10T14:37:29.603084Z",
     "shell.execute_reply": "2022-07-10T14:37:29.601504Z"
    },
    "papermill": {
     "duration": 0.025443,
     "end_time": "2022-07-10T14:37:29.605682",
     "exception": false,
     "start_time": "2022-07-10T14:37:29.580239",
     "status": "completed"
    },
    "tags": []
   },
   "outputs": [],
   "source": [
    "max_text_len = 300\n",
    "max_summary_len = 16"
   ]
  },
  {
   "cell_type": "code",
   "execution_count": 24,
   "id": "8f52fb36",
   "metadata": {
    "execution": {
     "iopub.execute_input": "2022-07-10T14:37:29.637959Z",
     "iopub.status.busy": "2022-07-10T14:37:29.637606Z",
     "iopub.status.idle": "2022-07-10T14:37:33.271341Z",
     "shell.execute_reply": "2022-07-10T14:37:33.270012Z"
    },
    "papermill": {
     "duration": 3.653086,
     "end_time": "2022-07-10T14:37:33.274229",
     "exception": false,
     "start_time": "2022-07-10T14:37:29.621143",
     "status": "completed"
    },
    "tags": []
   },
   "outputs": [],
   "source": [
    "cleaned_text = np.array(df['Text_Cleaned'])\n",
    "cleaned_summary = np.array(df['Summary_Cleaned'])\n",
    "\n",
    "short_text = []\n",
    "short_summary = []\n",
    "\n",
    "for i in range(len(cleaned_text)):\n",
    "    if(len(cleaned_summary[i].split()) <= max_summary_len \n",
    "       and len(cleaned_summary[i].split()) > 1 \n",
    "       and len(cleaned_text[i].split()) <= max_text_len ):\n",
    "        short_text.append(cleaned_text[i])\n",
    "        short_summary.append(cleaned_summary[i])\n",
    "        \n",
    "post_pre = pd.DataFrame({'text':short_text,'summary':short_summary})"
   ]
  },
  {
   "cell_type": "code",
   "execution_count": 25,
   "id": "6459fd12",
   "metadata": {
    "execution": {
     "iopub.execute_input": "2022-07-10T14:37:33.307744Z",
     "iopub.status.busy": "2022-07-10T14:37:33.307327Z",
     "iopub.status.idle": "2022-07-10T14:37:33.350046Z",
     "shell.execute_reply": "2022-07-10T14:37:33.348729Z"
    },
    "papermill": {
     "duration": 0.062297,
     "end_time": "2022-07-10T14:37:33.352963",
     "exception": false,
     "start_time": "2022-07-10T14:37:33.290666",
     "status": "completed"
    },
    "tags": []
   },
   "outputs": [],
   "source": [
    "post_pre['summary'] = post_pre['summary'].apply(lambda x : 'sostok '+ x + ' eostok')"
   ]
  },
  {
   "cell_type": "code",
   "execution_count": 26,
   "id": "3e0cbbad",
   "metadata": {
    "execution": {
     "iopub.execute_input": "2022-07-10T14:37:33.386862Z",
     "iopub.status.busy": "2022-07-10T14:37:33.385669Z",
     "iopub.status.idle": "2022-07-10T14:37:33.394486Z",
     "shell.execute_reply": "2022-07-10T14:37:33.393047Z"
    },
    "papermill": {
     "duration": 0.02815,
     "end_time": "2022-07-10T14:37:33.397131",
     "exception": false,
     "start_time": "2022-07-10T14:37:33.368981",
     "status": "completed"
    },
    "tags": []
   },
   "outputs": [
    {
     "data": {
      "text/plain": [
       "(54952, 2)"
      ]
     },
     "execution_count": 26,
     "metadata": {},
     "output_type": "execute_result"
    }
   ],
   "source": [
    "post_pre.shape"
   ]
  },
  {
   "cell_type": "code",
   "execution_count": 27,
   "id": "4f1ebdc8",
   "metadata": {
    "execution": {
     "iopub.execute_input": "2022-07-10T14:37:33.430260Z",
     "iopub.status.busy": "2022-07-10T14:37:33.429937Z",
     "iopub.status.idle": "2022-07-10T14:37:33.437289Z",
     "shell.execute_reply": "2022-07-10T14:37:33.435910Z"
    },
    "papermill": {
     "duration": 0.026845,
     "end_time": "2022-07-10T14:37:33.440039",
     "exception": false,
     "start_time": "2022-07-10T14:37:33.413194",
     "status": "completed"
    },
    "tags": []
   },
   "outputs": [
    {
     "data": {
      "text/plain": [
       "(54952, 2)"
      ]
     },
     "execution_count": 27,
     "metadata": {},
     "output_type": "execute_result"
    }
   ],
   "source": [
    "post_pre.shape"
   ]
  },
  {
   "cell_type": "code",
   "execution_count": 28,
   "id": "0e59f3cd",
   "metadata": {
    "execution": {
     "iopub.execute_input": "2022-07-10T14:37:33.472999Z",
     "iopub.status.busy": "2022-07-10T14:37:33.472640Z",
     "iopub.status.idle": "2022-07-10T14:37:34.839782Z",
     "shell.execute_reply": "2022-07-10T14:37:34.838472Z"
    },
    "papermill": {
     "duration": 1.386837,
     "end_time": "2022-07-10T14:37:34.842788",
     "exception": false,
     "start_time": "2022-07-10T14:37:33.455951",
     "status": "completed"
    },
    "tags": []
   },
   "outputs": [],
   "source": [
    "from sklearn.model_selection import train_test_split\n",
    "from keras.preprocessing.text import Tokenizer \n",
    "from keras_preprocessing.sequence import pad_sequences\n",
    "\n",
    "# train test split\n",
    "x_tr, x_test, y_tr, y_test = train_test_split(np.array(post_pre['text']),\n",
    "                                         np.array(post_pre['summary']),\n",
    "                                         test_size = 0.2,\n",
    "                                         random_state = 0,\n",
    "                                         shuffle = True)\n",
    "# train validation split\n",
    "x_tr,x_val,y_tr,y_val = train_test_split(x_tr,\n",
    "                                         y_tr,\n",
    "                                         test_size = 0.2,\n",
    "                                         random_state = 0,\n",
    "                                         shuffle = True)"
   ]
  },
  {
   "cell_type": "code",
   "execution_count": 29,
   "id": "4fc6939a",
   "metadata": {
    "execution": {
     "iopub.execute_input": "2022-07-10T14:37:34.878162Z",
     "iopub.status.busy": "2022-07-10T14:37:34.876053Z",
     "iopub.status.idle": "2022-07-10T14:37:34.884861Z",
     "shell.execute_reply": "2022-07-10T14:37:34.883521Z"
    },
    "papermill": {
     "duration": 0.028143,
     "end_time": "2022-07-10T14:37:34.887450",
     "exception": false,
     "start_time": "2022-07-10T14:37:34.859307",
     "status": "completed"
    },
    "tags": []
   },
   "outputs": [
    {
     "data": {
      "text/plain": [
       "(35168,)"
      ]
     },
     "execution_count": 29,
     "metadata": {},
     "output_type": "execute_result"
    }
   ],
   "source": [
    "x_tr.shape"
   ]
  },
  {
   "cell_type": "code",
   "execution_count": 30,
   "id": "89833d02",
   "metadata": {
    "execution": {
     "iopub.execute_input": "2022-07-10T14:37:34.921972Z",
     "iopub.status.busy": "2022-07-10T14:37:34.920149Z",
     "iopub.status.idle": "2022-07-10T14:37:34.928685Z",
     "shell.execute_reply": "2022-07-10T14:37:34.927233Z"
    },
    "papermill": {
     "duration": 0.028004,
     "end_time": "2022-07-10T14:37:34.931324",
     "exception": false,
     "start_time": "2022-07-10T14:37:34.903320",
     "status": "completed"
    },
    "tags": []
   },
   "outputs": [
    {
     "data": {
      "text/plain": [
       "(10991,)"
      ]
     },
     "execution_count": 30,
     "metadata": {},
     "output_type": "execute_result"
    }
   ],
   "source": [
    "x_test.shape"
   ]
  },
  {
   "cell_type": "code",
   "execution_count": 31,
   "id": "176ccf4a",
   "metadata": {
    "execution": {
     "iopub.execute_input": "2022-07-10T14:37:34.965030Z",
     "iopub.status.busy": "2022-07-10T14:37:34.964217Z",
     "iopub.status.idle": "2022-07-10T14:37:34.971521Z",
     "shell.execute_reply": "2022-07-10T14:37:34.970218Z"
    },
    "papermill": {
     "duration": 0.026963,
     "end_time": "2022-07-10T14:37:34.974052",
     "exception": false,
     "start_time": "2022-07-10T14:37:34.947089",
     "status": "completed"
    },
    "tags": []
   },
   "outputs": [
    {
     "data": {
      "text/plain": [
       "(8793,)"
      ]
     },
     "execution_count": 31,
     "metadata": {},
     "output_type": "execute_result"
    }
   ],
   "source": [
    "x_val.shape"
   ]
  },
  {
   "cell_type": "code",
   "execution_count": 32,
   "id": "9e02d821",
   "metadata": {
    "execution": {
     "iopub.execute_input": "2022-07-10T14:37:35.007476Z",
     "iopub.status.busy": "2022-07-10T14:37:35.006347Z",
     "iopub.status.idle": "2022-07-10T14:37:45.977021Z",
     "shell.execute_reply": "2022-07-10T14:37:45.975738Z"
    },
    "papermill": {
     "duration": 10.990562,
     "end_time": "2022-07-10T14:37:45.980178",
     "exception": false,
     "start_time": "2022-07-10T14:37:34.989616",
     "status": "completed"
    },
    "tags": []
   },
   "outputs": [],
   "source": [
    "# Tokenize text to get the vocab count\n",
    "#prepare a tokenizer for training data\n",
    "x_tokenizer = Tokenizer() \n",
    "x_tokenizer.fit_on_texts(list(x_tr))\n",
    "\n",
    "#prepare a tokenizer for reviews on training data\n",
    "y_tokenizer = Tokenizer()   \n",
    "y_tokenizer.fit_on_texts(list(y_tr))"
   ]
  },
  {
   "cell_type": "code",
   "execution_count": 33,
   "id": "f755882b",
   "metadata": {
    "execution": {
     "iopub.execute_input": "2022-07-10T14:37:46.014964Z",
     "iopub.status.busy": "2022-07-10T14:37:46.014603Z",
     "iopub.status.idle": "2022-07-10T14:37:46.139132Z",
     "shell.execute_reply": "2022-07-10T14:37:46.137706Z"
    },
    "papermill": {
     "duration": 0.145921,
     "end_time": "2022-07-10T14:37:46.142990",
     "exception": false,
     "start_time": "2022-07-10T14:37:45.997069",
     "status": "completed"
    },
    "tags": []
   },
   "outputs": [
    {
     "name": "stdout",
     "output_type": "stream",
     "text": [
      "% of rare words in vocabulary: 77.17079038460308\n",
      "Total Coverage of rare words: 2.1891748297952827\n"
     ]
    }
   ],
   "source": [
    "thresh=4\n",
    "\n",
    "cnt=0\n",
    "tot_cnt=0\n",
    "freq=0\n",
    "tot_freq=0\n",
    "\n",
    "for key,value in x_tokenizer.word_counts.items():\n",
    "    tot_cnt=tot_cnt+1\n",
    "    tot_freq=tot_freq+value\n",
    "    if(value<thresh):\n",
    "        cnt=cnt+1\n",
    "        freq=freq+value\n",
    "    \n",
    "print(\"% of rare words in vocabulary:\",(cnt/tot_cnt)*100)\n",
    "print(\"Total Coverage of rare words:\",(freq/tot_freq)*100)"
   ]
  },
  {
   "cell_type": "code",
   "execution_count": 34,
   "id": "6db10bd7",
   "metadata": {
    "execution": {
     "iopub.execute_input": "2022-07-10T14:37:46.177170Z",
     "iopub.status.busy": "2022-07-10T14:37:46.176853Z",
     "iopub.status.idle": "2022-07-10T14:37:46.253927Z",
     "shell.execute_reply": "2022-07-10T14:37:46.252618Z"
    },
    "papermill": {
     "duration": 0.097611,
     "end_time": "2022-07-10T14:37:46.257028",
     "exception": false,
     "start_time": "2022-07-10T14:37:46.159417",
     "status": "completed"
    },
    "tags": []
   },
   "outputs": [],
   "source": [
    "import seaborn as sns\n",
    "from time import time"
   ]
  },
  {
   "cell_type": "code",
   "execution_count": 35,
   "id": "790a152c",
   "metadata": {
    "execution": {
     "iopub.execute_input": "2022-07-10T14:37:46.291194Z",
     "iopub.status.busy": "2022-07-10T14:37:46.290846Z",
     "iopub.status.idle": "2022-07-10T14:38:12.052329Z",
     "shell.execute_reply": "2022-07-10T14:38:12.050980Z"
    },
    "papermill": {
     "duration": 25.782642,
     "end_time": "2022-07-10T14:38:12.055922",
     "exception": false,
     "start_time": "2022-07-10T14:37:46.273280",
     "status": "completed"
    },
    "tags": []
   },
   "outputs": [
    {
     "name": "stdout",
     "output_type": "stream",
     "text": [
      "Size of vocabulary in X = 35681\n"
     ]
    }
   ],
   "source": [
    "#prepare a tokenizer for reviews on training data\n",
    "x_tokenizer = Tokenizer(num_words = tot_cnt - cnt) \n",
    "x_tokenizer.fit_on_texts(list(x_tr))\n",
    "\n",
    "#convert text sequences into integer sequences (i.e one-hot encodeing all the words)\n",
    "x_tr_seq    =   x_tokenizer.texts_to_sequences(x_tr) \n",
    "x_val_seq   =   x_tokenizer.texts_to_sequences(x_val)\n",
    "x_test_seq = x_tokenizer.texts_to_sequences(x_test)\n",
    "\n",
    "#padding zero upto maximum length\n",
    "x_tr    =   pad_sequences(x_tr_seq,  maxlen=max_text_len, padding='post')\n",
    "x_val   =   pad_sequences(x_val_seq, maxlen=max_text_len, padding='post')\n",
    "x_test = pad_sequences(x_test_seq, maxlen=max_text_len, padding='post')\n",
    "\n",
    "#size of vocabulary ( +1 for padding token)\n",
    "x_voc   =  x_tokenizer.num_words + 1\n",
    "\n",
    "print(\"Size of vocabulary in X = {}\".format(x_voc))"
   ]
  },
  {
   "cell_type": "code",
   "execution_count": 36,
   "id": "316cceec",
   "metadata": {
    "execution": {
     "iopub.execute_input": "2022-07-10T14:38:12.091362Z",
     "iopub.status.busy": "2022-07-10T14:38:12.091037Z",
     "iopub.status.idle": "2022-07-10T14:38:14.759021Z",
     "shell.execute_reply": "2022-07-10T14:38:14.756109Z"
    },
    "papermill": {
     "duration": 2.689143,
     "end_time": "2022-07-10T14:38:14.762962",
     "exception": false,
     "start_time": "2022-07-10T14:38:12.073819",
     "status": "completed"
    },
    "tags": []
   },
   "outputs": [
    {
     "name": "stdout",
     "output_type": "stream",
     "text": [
      "Size of vocabulary in Y = 35681\n"
     ]
    }
   ],
   "source": [
    "#prepare a tokenizer for reviews on training data\n",
    "y_tokenizer = Tokenizer(num_words = tot_cnt-cnt) \n",
    "y_tokenizer.fit_on_texts(list(y_tr))\n",
    "\n",
    "#convert text sequences into integer sequences (i.e one hot encode the text in Y)\n",
    "y_tr_seq    =   y_tokenizer.texts_to_sequences(y_tr) \n",
    "y_val_seq   =   y_tokenizer.texts_to_sequences(y_val) \n",
    "y_test_seq = y_tokenizer.texts_to_sequences(y_test) \n",
    "\n",
    "#padding zero upto maximum length\n",
    "y_tr    =   pad_sequences(y_tr_seq, maxlen=max_summary_len, padding='post')\n",
    "y_val   =   pad_sequences(y_val_seq, maxlen=max_summary_len, padding='post')\n",
    "y_test = pad_sequences(y_test_seq, maxlen=max_summary_len, padding='post')\n",
    "\n",
    "#size of vocabulary\n",
    "y_voc  =   y_tokenizer.num_words +1\n",
    "print(\"Size of vocabulary in Y = {}\".format(y_voc))"
   ]
  },
  {
   "cell_type": "code",
   "execution_count": 37,
   "id": "a90852b2",
   "metadata": {
    "execution": {
     "iopub.execute_input": "2022-07-10T14:38:14.797265Z",
     "iopub.status.busy": "2022-07-10T14:38:14.796959Z",
     "iopub.status.idle": "2022-07-10T14:38:16.525494Z",
     "shell.execute_reply": "2022-07-10T14:38:16.524036Z"
    },
    "papermill": {
     "duration": 1.748776,
     "end_time": "2022-07-10T14:38:16.528617",
     "exception": false,
     "start_time": "2022-07-10T14:38:14.779841",
     "status": "completed"
    },
    "tags": []
   },
   "outputs": [],
   "source": [
    "ind=[]\n",
    "for i in range(len(y_tr)):\n",
    "    cnt=0\n",
    "    for j in y_tr[i]:\n",
    "        if j!=0:\n",
    "            cnt=cnt+1\n",
    "    if(cnt==2):\n",
    "        ind.append(i)\n",
    "\n",
    "y_tr=np.delete(y_tr,ind, axis=0)\n",
    "x_tr=np.delete(x_tr,ind, axis=0)"
   ]
  },
  {
   "cell_type": "code",
   "execution_count": 38,
   "id": "f260ac24",
   "metadata": {
    "execution": {
     "iopub.execute_input": "2022-07-10T14:38:16.565330Z",
     "iopub.status.busy": "2022-07-10T14:38:16.563256Z",
     "iopub.status.idle": "2022-07-10T14:38:16.994720Z",
     "shell.execute_reply": "2022-07-10T14:38:16.993415Z"
    },
    "papermill": {
     "duration": 0.452218,
     "end_time": "2022-07-10T14:38:16.997758",
     "exception": false,
     "start_time": "2022-07-10T14:38:16.545540",
     "status": "completed"
    },
    "tags": []
   },
   "outputs": [],
   "source": [
    "ind=[]\n",
    "for i in range(len(y_val)):\n",
    "    cnt=0\n",
    "    for j in y_val[i]:\n",
    "        if j!=0:\n",
    "            cnt=cnt+1\n",
    "    if(cnt==2):\n",
    "        ind.append(i)\n",
    "\n",
    "y_val=np.delete(y_val,ind, axis=0)\n",
    "x_val=np.delete(x_val,ind, axis=0)"
   ]
  },
  {
   "cell_type": "code",
   "execution_count": 39,
   "id": "b93dab0d",
   "metadata": {
    "execution": {
     "iopub.execute_input": "2022-07-10T14:38:17.031888Z",
     "iopub.status.busy": "2022-07-10T14:38:17.031505Z",
     "iopub.status.idle": "2022-07-10T14:38:17.964111Z",
     "shell.execute_reply": "2022-07-10T14:38:17.962863Z"
    },
    "papermill": {
     "duration": 0.952983,
     "end_time": "2022-07-10T14:38:17.967271",
     "exception": false,
     "start_time": "2022-07-10T14:38:17.014288",
     "status": "completed"
    },
    "tags": []
   },
   "outputs": [],
   "source": [
    "from tensorflow.keras.backend import clear_session\n",
    "# import gensim\n",
    "import re\n",
    "# from bs4 import BeautifulSoup\n",
    "from keras.preprocessing.text import Tokenizer \n",
    "# from keras.preprocessing.sequence import pad_sequences\n",
    "from nltk.corpus import stopwords\n",
    "from tensorflow.keras.layers import Input, LSTM, Embedding, Dense, Concatenate, TimeDistributed\n",
    "from tensorflow.keras.models import Model\n",
    "from tensorflow.keras.callbacks import EarlyStopping\n",
    "import warnings\n",
    "warnings.filterwarnings(\"ignore\")"
   ]
  },
  {
   "cell_type": "code",
   "execution_count": 40,
   "id": "ead31a19",
   "metadata": {
    "execution": {
     "iopub.execute_input": "2022-07-10T14:38:18.001082Z",
     "iopub.status.busy": "2022-07-10T14:38:18.000680Z",
     "iopub.status.idle": "2022-07-10T14:38:24.835510Z",
     "shell.execute_reply": "2022-07-10T14:38:24.833227Z"
    },
    "papermill": {
     "duration": 6.854743,
     "end_time": "2022-07-10T14:38:24.838180",
     "exception": false,
     "start_time": "2022-07-10T14:38:17.983437",
     "status": "completed"
    },
    "scrolled": true,
    "tags": []
   },
   "outputs": [
    {
     "name": "stdout",
     "output_type": "stream",
     "text": [
      "Size of vocabulary from the w2v model = 35681\n"
     ]
    },
    {
     "name": "stderr",
     "output_type": "stream",
     "text": [
      "2022-07-10 14:38:18.051453: I tensorflow/stream_executor/cuda/cuda_gpu_executor.cc:937] successful NUMA node read from SysFS had negative value (-1), but there must be at least one NUMA node, so returning NUMA node zero\n",
      "2022-07-10 14:38:18.052966: I tensorflow/stream_executor/cuda/cuda_gpu_executor.cc:937] successful NUMA node read from SysFS had negative value (-1), but there must be at least one NUMA node, so returning NUMA node zero\n",
      "2022-07-10 14:38:18.053960: I tensorflow/stream_executor/cuda/cuda_gpu_executor.cc:937] successful NUMA node read from SysFS had negative value (-1), but there must be at least one NUMA node, so returning NUMA node zero\n",
      "2022-07-10 14:38:18.055115: I tensorflow/core/platform/cpu_feature_guard.cc:142] This TensorFlow binary is optimized with oneAPI Deep Neural Network Library (oneDNN) to use the following CPU instructions in performance-critical operations:  AVX2 FMA\n",
      "To enable them in other operations, rebuild TensorFlow with the appropriate compiler flags.\n",
      "2022-07-10 14:38:18.055418: I tensorflow/stream_executor/cuda/cuda_gpu_executor.cc:937] successful NUMA node read from SysFS had negative value (-1), but there must be at least one NUMA node, so returning NUMA node zero\n",
      "2022-07-10 14:38:18.056525: I tensorflow/stream_executor/cuda/cuda_gpu_executor.cc:937] successful NUMA node read from SysFS had negative value (-1), but there must be at least one NUMA node, so returning NUMA node zero\n",
      "2022-07-10 14:38:18.057562: I tensorflow/stream_executor/cuda/cuda_gpu_executor.cc:937] successful NUMA node read from SysFS had negative value (-1), but there must be at least one NUMA node, so returning NUMA node zero\n",
      "2022-07-10 14:38:23.759516: I tensorflow/stream_executor/cuda/cuda_gpu_executor.cc:937] successful NUMA node read from SysFS had negative value (-1), but there must be at least one NUMA node, so returning NUMA node zero\n",
      "2022-07-10 14:38:23.760741: I tensorflow/stream_executor/cuda/cuda_gpu_executor.cc:937] successful NUMA node read from SysFS had negative value (-1), but there must be at least one NUMA node, so returning NUMA node zero\n",
      "2022-07-10 14:38:23.761721: I tensorflow/stream_executor/cuda/cuda_gpu_executor.cc:937] successful NUMA node read from SysFS had negative value (-1), but there must be at least one NUMA node, so returning NUMA node zero\n",
      "2022-07-10 14:38:23.762607: I tensorflow/core/common_runtime/gpu/gpu_device.cc:1510] Created device /job:localhost/replica:0/task:0/device:GPU:0 with 15047 MB memory:  -> device: 0, name: Tesla P100-PCIE-16GB, pci bus id: 0000:00:04.0, compute capability: 6.0\n"
     ]
    },
    {
     "name": "stdout",
     "output_type": "stream",
     "text": [
      "Model: \"model\"\n",
      "__________________________________________________________________________________________________\n",
      "Layer (type)                    Output Shape         Param #     Connected to                     \n",
      "==================================================================================================\n",
      "input_1 (InputLayer)            [(None, 300)]        0                                            \n",
      "__________________________________________________________________________________________________\n",
      "embedding (Embedding)           (None, 300, 100)     3568100     input_1[0][0]                    \n",
      "__________________________________________________________________________________________________\n",
      "lstm (LSTM)                     [(None, 300, 300), ( 481200      embedding[0][0]                  \n",
      "__________________________________________________________________________________________________\n",
      "input_2 (InputLayer)            [(None, None)]       0                                            \n",
      "__________________________________________________________________________________________________\n",
      "lstm_1 (LSTM)                   [(None, 300, 300), ( 721200      lstm[0][0]                       \n",
      "__________________________________________________________________________________________________\n",
      "embedding_1 (Embedding)         (None, None, 100)    3568100     input_2[0][0]                    \n",
      "__________________________________________________________________________________________________\n",
      "lstm_2 (LSTM)                   [(None, 300, 300), ( 721200      lstm_1[0][0]                     \n",
      "__________________________________________________________________________________________________\n",
      "lstm_3 (LSTM)                   [(None, None, 300),  481200      embedding_1[0][0]                \n",
      "                                                                 lstm_2[0][1]                     \n",
      "                                                                 lstm_2[0][2]                     \n",
      "__________________________________________________________________________________________________\n",
      "time_distributed (TimeDistribut (None, None, 35681)  10739981    lstm_3[0][0]                     \n",
      "==================================================================================================\n",
      "Total params: 20,280,981\n",
      "Trainable params: 20,280,981\n",
      "Non-trainable params: 0\n",
      "__________________________________________________________________________________________________\n"
     ]
    }
   ],
   "source": [
    "print(f\"Size of vocabulary from the w2v model = {x_voc}\")\n",
    "\n",
    "clear_session()\n",
    "\n",
    "latent_dim = 300\n",
    "embedding_dim = 100\n",
    "\n",
    "# Encoder\n",
    "encoder_inputs = Input(shape=(max_text_len,))\n",
    "\n",
    "#embedding layer\n",
    "enc_emb =  Embedding(x_voc, embedding_dim,trainable=True)(encoder_inputs)\n",
    "\n",
    "#encoder lstm 1\n",
    "encoder_lstm1 = LSTM(latent_dim,return_sequences=True,return_state=True,dropout=0.4,recurrent_dropout=0.4)\n",
    "encoder_output1, state_h1, state_c1 = encoder_lstm1(enc_emb)\n",
    "\n",
    "#encoder lstm 2\n",
    "encoder_lstm2 = LSTM(latent_dim,return_sequences=True,return_state=True,dropout=0.4,recurrent_dropout=0.4)\n",
    "encoder_output2, state_h2, state_c2 = encoder_lstm2(encoder_output1)\n",
    "\n",
    "#encoder lstm 3\n",
    "encoder_lstm3=LSTM(latent_dim, return_state=True, return_sequences=True,dropout=0.4,recurrent_dropout=0.4)\n",
    "encoder_outputs, state_h, state_c= encoder_lstm3(encoder_output2)\n",
    "\n",
    "# Set up the decoder, using `encoder_states` as initial state.\n",
    "decoder_inputs = Input(shape=(None,))\n",
    "\n",
    "#embedding layer\n",
    "dec_emb_layer = Embedding(y_voc, embedding_dim,trainable=True)\n",
    "dec_emb = dec_emb_layer(decoder_inputs)\n",
    "\n",
    "decoder_lstm = LSTM(latent_dim, return_sequences=True, return_state=True,dropout=0.4,recurrent_dropout=0.2)\n",
    "decoder_outputs,decoder_fwd_state, decoder_back_state = decoder_lstm(dec_emb, initial_state=[state_h, state_c])\n",
    "\n",
    "#dense layer\n",
    "decoder_dense =  TimeDistributed(Dense(y_voc, activation='softmax'))\n",
    "decoder_outputs = decoder_dense(decoder_outputs)\n",
    "\n",
    "# Define the model \n",
    "model = Model([encoder_inputs, decoder_inputs], decoder_outputs)\n",
    "\n",
    "model.summary()"
   ]
  },
  {
   "cell_type": "code",
   "execution_count": 41,
   "id": "c0d6d5bc",
   "metadata": {
    "execution": {
     "iopub.execute_input": "2022-07-10T14:38:24.877890Z",
     "iopub.status.busy": "2022-07-10T14:38:24.875281Z",
     "iopub.status.idle": "2022-07-10T14:38:26.227931Z",
     "shell.execute_reply": "2022-07-10T14:38:26.226404Z"
    },
    "papermill": {
     "duration": 1.375213,
     "end_time": "2022-07-10T14:38:26.230607",
     "exception": false,
     "start_time": "2022-07-10T14:38:24.855394",
     "status": "completed"
    },
    "tags": []
   },
   "outputs": [
    {
     "data": {
      "image/png": "[encoded data removed]",
      "text/plain": [
       "<IPython.core.display.Image object>"
      ]
     },
     "execution_count": 41,
     "metadata": {},
     "output_type": "execute_result"
    }
   ],
   "source": [
    "tf.keras.utils.plot_model(\n",
    "    model, to_file='model.png', show_shapes=True, show_layer_names=True,\n",
    "    rankdir='TB', expand_nested=False, dpi=96\n",
    ")"
   ]
  },
  {
   "cell_type": "code",
   "execution_count": 42,
   "id": "696a9559",
   "metadata": {
    "execution": {
     "iopub.execute_input": "2022-07-10T14:38:26.268528Z",
     "iopub.status.busy": "2022-07-10T14:38:26.267899Z",
     "iopub.status.idle": "2022-07-10T14:38:26.289526Z",
     "shell.execute_reply": "2022-07-10T14:38:26.288301Z"
    },
    "papermill": {
     "duration": 0.042262,
     "end_time": "2022-07-10T14:38:26.292194",
     "exception": false,
     "start_time": "2022-07-10T14:38:26.249932",
     "status": "completed"
    },
    "tags": []
   },
   "outputs": [],
   "source": [
    "model.compile(optimizer='rmsprop', loss='sparse_categorical_crossentropy')\n",
    "\n",
    "es = EarlyStopping(monitor='val_loss', mode='min', verbose=1,patience=2)"
   ]
  },
  {
   "cell_type": "code",
   "execution_count": 43,
   "id": "9260401d",
   "metadata": {
    "execution": {
     "iopub.execute_input": "2022-07-10T14:38:26.330187Z",
     "iopub.status.busy": "2022-07-10T14:38:26.328871Z",
     "iopub.status.idle": "2022-07-10T19:13:58.880858Z",
     "shell.execute_reply": "2022-07-10T19:13:58.879452Z"
    },
    "papermill": {
     "duration": 16532.57402,
     "end_time": "2022-07-10T19:13:58.883668",
     "exception": false,
     "start_time": "2022-07-10T14:38:26.309648",
     "status": "completed"
    },
    "tags": []
   },
   "outputs": [
    {
     "name": "stderr",
     "output_type": "stream",
     "text": [
      "2022-07-10 14:38:26.432774: I tensorflow/compiler/mlir/mlir_graph_optimization_pass.cc:185] None of the MLIR Optimization Passes are enabled (registered 2)\n"
     ]
    },
    {
     "name": "stdout",
     "output_type": "stream",
     "text": [
      "Epoch 1/10\n",
      "275/275 [==============================] - 1700s 6s/step - loss: 5.3957 - val_loss: 4.7990\n",
      "Epoch 2/10\n",
      "275/275 [==============================] - 1669s 6s/step - loss: 4.9462 - val_loss: 4.6652\n",
      "Epoch 3/10\n",
      "275/275 [==============================] - 1664s 6s/step - loss: 4.8004 - val_loss: 4.5544\n",
      "Epoch 4/10\n",
      "275/275 [==============================] - 1654s 6s/step - loss: 4.6752 - val_loss: 4.4747\n",
      "Epoch 5/10\n",
      "275/275 [==============================] - 1639s 6s/step - loss: 4.5507 - val_loss: 4.3613\n",
      "Epoch 6/10\n",
      "275/275 [==============================] - 1655s 6s/step - loss: 4.4391 - val_loss: 4.2880\n",
      "Epoch 7/10\n",
      "275/275 [==============================] - 1631s 6s/step - loss: 4.3499 - val_loss: 4.2330\n",
      "Epoch 8/10\n",
      "275/275 [==============================] - 1640s 6s/step - loss: 4.2742 - val_loss: 4.1839\n",
      "Epoch 9/10\n",
      "275/275 [==============================] - 1656s 6s/step - loss: 4.2071 - val_loss: 4.1488\n",
      "Epoch 10/10\n",
      "275/275 [==============================] - 1607s 6s/step - loss: 4.1515 - val_loss: 4.1191\n"
     ]
    }
   ],
   "source": [
    "history=model.fit([x_tr,y_tr[:,:-1]], y_tr.reshape(y_tr.shape[0],y_tr.shape[1], 1)[:,1:] ,epochs=10,callbacks=[es],batch_size=128, validation_data=([x_val,y_val[:,:-1]], y_val.reshape(y_val.shape[0],y_val.shape[1], 1)[:,1:]))"
   ]
  },
  {
   "cell_type": "code",
   "execution_count": 44,
   "id": "8f741f71",
   "metadata": {
    "execution": {
     "iopub.execute_input": "2022-07-10T19:13:59.287467Z",
     "iopub.status.busy": "2022-07-10T19:13:59.287121Z",
     "iopub.status.idle": "2022-07-10T19:13:59.618037Z",
     "shell.execute_reply": "2022-07-10T19:13:59.616754Z"
    },
    "papermill": {
     "duration": 0.536612,
     "end_time": "2022-07-10T19:13:59.620841",
     "exception": false,
     "start_time": "2022-07-10T19:13:59.084229",
     "status": "completed"
    },
    "tags": []
   },
   "outputs": [],
   "source": [
    "model.save(\"HindiTextModel.h5\")"
   ]
  },
  {
   "cell_type": "code",
   "execution_count": 45,
   "id": "259fae59",
   "metadata": {
    "execution": {
     "iopub.execute_input": "2022-07-10T19:14:00.017109Z",
     "iopub.status.busy": "2022-07-10T19:14:00.016782Z",
     "iopub.status.idle": "2022-07-10T19:14:00.148950Z",
     "shell.execute_reply": "2022-07-10T19:14:00.147817Z"
    },
    "papermill": {
     "duration": 0.339599,
     "end_time": "2022-07-10T19:14:00.151668",
     "exception": false,
     "start_time": "2022-07-10T19:13:59.812069",
     "status": "completed"
    },
    "tags": []
   },
   "outputs": [],
   "source": [
    "reverse_target_word_index=y_tokenizer.index_word\n",
    "reverse_source_word_index=x_tokenizer.index_word\n",
    "target_word_index=y_tokenizer.word_index\n",
    "\n",
    "# Encode the input sequence to get the feature vector\n",
    "encoder_model = Model(inputs=encoder_inputs,outputs=[encoder_outputs, state_h, state_c])\n",
    "\n",
    "# Decoder setup\n",
    "# Below tensors will hold the states of the previous time step\n",
    "decoder_state_input_h = Input(shape=(latent_dim,))\n",
    "decoder_state_input_c = Input(shape=(latent_dim,))\n",
    "decoder_hidden_state_input = Input(shape=(max_text_len,latent_dim))\n",
    "\n",
    "# Get the embeddings of the decoder sequence\n",
    "dec_emb2= dec_emb_layer(decoder_inputs) \n",
    "# To predict the next word in the sequence, set the initial states to the states from the previous time step\n",
    "decoder_outputs2, state_h2, state_c2 = decoder_lstm(dec_emb2, initial_state=[decoder_state_input_h, decoder_state_input_c])\n",
    "\n",
    "# A dense softmax layer to generate prob dist. over the target vocabulary\n",
    "decoder_outputs2 = decoder_dense(decoder_outputs2) \n",
    "\n",
    "# Final decoder model\n",
    "decoder_model = Model(\n",
    "    [decoder_inputs] + [decoder_hidden_state_input,decoder_state_input_h, decoder_state_input_c],\n",
    "    [decoder_outputs2] + [state_h2, state_c2])\n"
   ]
  },
  {
   "cell_type": "code",
   "execution_count": 46,
   "id": "50d1e3a5",
   "metadata": {
    "execution": {
     "iopub.execute_input": "2022-07-10T19:14:00.529565Z",
     "iopub.status.busy": "2022-07-10T19:14:00.527626Z",
     "iopub.status.idle": "2022-07-10T19:14:00.538813Z",
     "shell.execute_reply": "2022-07-10T19:14:00.537704Z"
    },
    "papermill": {
     "duration": 0.204268,
     "end_time": "2022-07-10T19:14:00.541665",
     "exception": false,
     "start_time": "2022-07-10T19:14:00.337397",
     "status": "completed"
    },
    "tags": []
   },
   "outputs": [],
   "source": [
    "def decode_sequence(input_seq):\n",
    "    # Encode the input as state vectors.\n",
    "    e_out, e_h, e_c = encoder_model.predict(input_seq)\n",
    "    \n",
    "    # Generate empty target sequence of length 1.\n",
    "    target_seq = np.zeros((1,1))\n",
    "    \n",
    "    # Populate the first word of target sequence with the start word.\n",
    "    target_seq[0, 0] = target_word_index['sostok']\n",
    "\n",
    "    stop_condition = False\n",
    "    decoded_sentence = ''\n",
    "    while not stop_condition:\n",
    "      \n",
    "        output_tokens, h, c = decoder_model.predict([target_seq] + [e_out, e_h, e_c])\n",
    "\n",
    "        # Sample a token\n",
    "        sampled_token_index = np.argmax(output_tokens[0, -1, :])\n",
    "        sampled_token = reverse_target_word_index[sampled_token_index]\n",
    "        \n",
    "        if(sampled_token!='eostok'):\n",
    "            decoded_sentence += ' '+sampled_token\n",
    "\n",
    "        # Exit condition: either hit max length or find stop word.\n",
    "        if (sampled_token == 'eostok'  or len(decoded_sentence.split()) >= (max_summary_len-1)):\n",
    "            stop_condition = True\n",
    "\n",
    "        # Update the target sequence (of length 1).\n",
    "        target_seq = np.zeros((1,1))\n",
    "        target_seq[0, 0] = sampled_token_index\n",
    "\n",
    "        # Update internal states\n",
    "        e_h, e_c = h, c\n",
    "\n",
    "    return decoded_sentence"
   ]
  },
  {
   "cell_type": "code",
   "execution_count": 47,
   "id": "0f8a507a",
   "metadata": {
    "execution": {
     "iopub.execute_input": "2022-07-10T19:14:00.925994Z",
     "iopub.status.busy": "2022-07-10T19:14:00.925635Z",
     "iopub.status.idle": "2022-07-10T19:14:00.933099Z",
     "shell.execute_reply": "2022-07-10T19:14:00.931764Z"
    },
    "papermill": {
     "duration": 0.205694,
     "end_time": "2022-07-10T19:14:00.935425",
     "exception": false,
     "start_time": "2022-07-10T19:14:00.729731",
     "status": "completed"
    },
    "tags": []
   },
   "outputs": [],
   "source": [
    "def seq2summary(input_seq):\n",
    "    newString=''\n",
    "    for i in input_seq:\n",
    "        if((i!=0 and i!=target_word_index['sostok']) and i!=target_word_index['eostok']):\n",
    "            newString=newString+reverse_target_word_index[i]+' '\n",
    "    return newString\n",
    "\n",
    "def seq2text(input_seq):\n",
    "    newString=''\n",
    "    for i in input_seq:\n",
    "        if(i!=0):\n",
    "            newString=newString+reverse_source_word_index[i]+' '\n",
    "    return newString"
   ]
  },
  {
   "cell_type": "code",
   "execution_count": 48,
   "id": "1231c1cc",
   "metadata": {
    "execution": {
     "iopub.execute_input": "2022-07-10T19:14:01.365642Z",
     "iopub.status.busy": "2022-07-10T19:14:01.365184Z",
     "iopub.status.idle": "2022-07-10T19:14:09.742320Z",
     "shell.execute_reply": "2022-07-10T19:14:09.739726Z"
    },
    "papermill": {
     "duration": 8.622672,
     "end_time": "2022-07-10T19:14:09.746656",
     "exception": false,
     "start_time": "2022-07-10T19:14:01.123984",
     "status": "completed"
    },
    "tags": []
   },
   "outputs": [
    {
     "name": "stdout",
     "output_type": "stream",
     "text": [
      "Review: कुटीर लघु और मध्यम उद्यमों को कर्ज देने के अनोखे तरीके तलाशने के लिए रिजर्व बैंक का पुणे स्थित कृषि बैंकिंग महाविद्यालय बैंकों के लिए एक प्रतियोगिता आयोजित करेगा इस प्रतियोगिता का विषय है केस स्टडी एक एमएसएमई को नए ढंग से कर्ज आबंटन कर्ज देने के नए तरीकों पर केस ने एक सर्कुलर जारी कर कहा प्रतियोगिता आयोजित करने का उद्देश्य बैंकों को ऐसे मामलों का अध्ययन करने के लिए प्रोत्साहित करना है जहां कुटीर लघु और मझोले उद्यमों को अनोखे तरीके से कर्ज दिया गया हो और ऐसे मामलों को लेकर दूसरे बैंकों को भी संवेदनशील बनाया जा सके ये कर्मचारी ले सकते हैं बैंक ने कहा कि बैंकों के कर्मचारी सदस्य जिसमें बैंकों के प्रशिक्षण प्रतिष्ठानों के फैकल्टी सदस्य क्षेत्रीय ग्रामीण बैंकों राज्य सहकारी बैंकों और शहरी सहकारी बैंकोंके सदस्य शामिल हैं इस प्रतियोगिता में हिस्सा ले सकते हैं अंग्रेजी या हिंदी भाषा का अलावा इन बैंकों के प्रशिक्षण प्रतिष्ठानों से फैकल्टी सदस्य और गैर बैंकिंग वित्तीय कंपनियों के कर्मचारी सदस्य भी इस प्रतियोगिता में हिस्सा ले सकते हैं आरबीआई ने स्टडी अंग्रेजी या हिंदी जनवरी तक मांगे हैं \n",
      "Original summary: कर्ज देने के अनोखे तरीके खोजने को आरबीआई लिखित प्रतियोगिता कराएगा \n",
      "Predicted summary:  दिल्ली में एक बार की मौत\n",
      "\n",
      "\n",
      "Review: लोकसभा चुनाव में जीत हासिल करने के लिए उम्मीदवार अपनी पूरी ताकत दिखाना चाहते हैं लेकिन उत्तर प्रदेश के उन्नाव से भारतीय जनता पार्टी के उम्मीदवार और अपने बयानों को लेकर चर्चा में रहने वाले साक्षी महाराज को नामांकन में ताकत दिखाना भारी पड़ गया नामांकन के दौरान से अधिक वाहन ले जाने के मामले में साक्षी महाराज पर केस दर्ज हो गया है साक्षी महाराज पर चुनाव आचार संहिता के उल्लंघन का मामला दर्ज हुआ है सोमवार को उन्होंने उन्नाव सीट से नामांकन किया इस दौरान उनके साथ से अधिक गाड़ियों का काफिला था लेकिन जब उनसे इन गाड़ियों के पास मांगे गए थे तो सभी की इजाजत दिखाने में वह नाकाम रहे और सिर्फ गाड़ियों के पास ही दिखा पाए इसके बाद प्रशासन ने उनके खिलाफ आदर्श आचार संहिता के उल्लंघन का मामला दर्ज किया है उन्नाव से पर्चा भरने के बाद साक्षी महाराज ने कांग्रेस पर राम मंदिर मुद्दे को लेकर निशाना साधा साक्षी महाराज ने कहा था कि कभी मंदिर के मुद्दे पर राजनीति नहीं करती है लेकिन कांग्रेस ने अगर अड़ंगा नहीं डाला होता तो अब तक राम मंदिर का निर्माण शुरू हो गया होता नेता ने कहा था कि यूपी से सीटें भाजपा जीतेगी और अबकी पार है साक्षी ने कहा कि सपा बसपा का गठबंधन नहीं है गौरतलब है कि साक्षी महाराज के टिकट को लेकर इस बार काफी विवाद हुआ था पहले अटकलें लगाई जा रही थीं कि उनका टिकट कट सकता है जिसके बाद उन्होंने यूपी बीजेपी के अध्यक्ष महेंद्र नाथ पांडेय को चिट्ठी लिख चेतावनी दी थी लेकिन बाद में जब टिकट वितरण हुआ था तो साक्षी महाराज को एक बार फिर मौका दिया गया चुनाव की हर ख़बर मिलेगी सीधे आपके इनबॉक्स में आम चुनाव की ताज़ा खबरों से अपडेट रहने के लिएसब्सक्राइबकरें आजतक का इलेक्शन स्पेशल न्यूज़लेटर \n",
      "Original summary: नामांकन में गाड़ी ले जाने पर बढ़ी साक्षी महाराज की मुश्किलें केस दर्ज \n",
      "Predicted summary:  दिल्ली में एक बार की मौत\n",
      "\n",
      "\n",
      "Review: स्पोर्ट्स डेवलपमेंट ऑथोरिटी ऑफ तमिलनाडु में जूनियर असिस्टेंट कम टाइपिस्ट के पदों के लिए भर्तियां निकली हैं इन पदों के लिए आवेदन सितंबर तक स्वीकार किए जाएंगे पदों का विवरण जूनियर असिस्टेंट कम टाइपिस्ट असिस्टेंट ग्रेड कमर्शियल एकाउंटेंट असिस्टेंट इंजीनियर स्पोर्टस टेक्नोलॉजी असिस्टेंट इंजीनियर इलेक्ट्रिकल उम्र सीमा से सालज्यादा जानकारी के लिए पर लॉग इन करें \n",
      "Original summary: स्पोर्ट्स डेवलपमेंट ऑथोरिटी ऑफ तमिलनाडु में वैकेंसी \n",
      "Predicted summary:  दिल्ली में एक बार की मौत\n",
      "\n",
      "\n",
      "Review: घर हो या दफ्तर राजधानी में महिलाएं कहीं भी सुरक्षित नहीं है दिल्ली के डीडीयू अस्पताल में महिलाएं अपने लिए सुरक्षा की मांग कर रही है दरअसल रात की ड्यूटी के दौरान अस्पताल की एक नर्स के साथ तीन लोगों ने नशे की हालत में छेड़छाड़ की और विरोध करने पर देख लेने की धमकी भी दी छेड़खानी का आरोप अस्पताल के स्टॉफ के ही बेटे पर है शिकायत के बावजूद कई घंटे बीत जाने के बाद भी पुलिस ने मामला दर्ज नहीं किया इस मामले को लेकर नर्सों ने एमएस ऑफिस के बाहर जमकर प्रदर्शन किया और अस्पताल प्रशासन के खिलाफ नारेबाजी भी की नर्सों ने सुरक्षा की मांग की है और मामला दर्ज कर आरोपी की गिरफ़्तारी की मांग भी की है \n",
      "Original summary: अस्पताल में नर्स के साथ छेड़छाड़ \n",
      "Predicted summary:  दिल्ली में एक बार की मौत\n",
      "\n",
      "\n",
      "Review: आज संविधान समिति के अध्यक्ष और भारत के पहले कानून मंत्री बाबासाहब भीमराव अंबेडकर की वीं जयंती है इस मौके ने आज अपना अंबेडकर के नाम समर्पित किया है गूगल अक्सर महान शख्सियतों को सम्मान देने के लिए ऐसा करता आया है पूरे देश में भी अंबेडकर की जयंती के लिए कई कार्यक्रम आयोजित किए जा रहे हैं कई राजनीतिक पार्टियों ने भी अंबेडकर की जयंती के लिए कार्यक्रमों का आयोजन किया है मुफ्ती ने दी अंबेडकर को मुफ्ती मोहम्मद सईद ने भी बीआर अंबेडकर को उनकी वीं जयंती की पूर्व संध्या पर श्रद्धांजलि दी जम्मू कश्मीर के राज्यपाल राज्यपाल नरेंद्र नाथ वोहरा ने अपने संदेश में याद किया कि एक उत्कृष्ट अंबेडकर ने भारतीय संविधान तैयार करने और राष्ट्र निर्माण में महत्वपूर्ण योगदान दिया विशेष तौर पर समाज के कमजोर वर्गों के उत्थान में सईद ने अपने संदेश में कहा कि डा अंबेडकर एक महान सामाजिक सुधारक एवं कानून विद् थे जिन्होंने भारतीय संविधान तैयार करने में एक महत्वपूर्ण भूमिका निभाई \n",
      "Original summary: आज का गूगल डूडल डॉ अंबेडकर के नाम \n",
      "Predicted summary:  दिल्ली में एक बार की मौत\n",
      "\n",
      "\n",
      "Review: लखनऊ में घंटों के भीतर के मामले सामने आए हैं ताजा मामले स्कूली छात्र छात्राओं के आत्महत्या के हैं आत्महत्या करने वाला साल का विजय अगर होता तो देख पाता कि उसकी मां कितना तड़प रही है उसने सिर्फ इसलिए अपनी जान दे दी कि उसे स्कूल आने से रोका गया था उसे लगभग डेढ़ महीने पहले स्कूल से निकाल दिया गया था उसके पिता के मुताबिक एक अध्यापिका ने उसे मुर्गा बनने के लिए कहा था सातवीं क्लास में पढ़ने वाली शिवानी न जाने किस बात से गुस्से में आकर अपनी जान दे दी पिछले घंटों में खुदकुशी की घटनाओं ने लखनऊ को हिलाकर रख दिया है यह सवाल अपनी जगह बरकरार है कि इन बच्चों को आखिर हुआ क्या है इन्हें कोई कैसे समझाए कि जिंदगी की कोई भी समस्या इतनी बड़ी नहीं होती कि उसके आगे जिंदगी ही हार जाए \n",
      "Original summary: लखनऊ में घंटों के भीतर खुदकुशी \n",
      "Predicted summary:  दिल्ली में एक बार की मौत\n",
      "\n",
      "\n",
      "Review: विश्व हिंदू परिषदके प्रमुख डॉ प्रवीण तोगड़िया ने एक बार फिर विवादित बयान दे डाला है उन्होंने रावलपिंडी और लाहौर में भगवा लहराने की बात की यही नहीं उन्होंने एक के बाद एक विवादित बयान दिए वीएचपी के स्वर्ण जयंती वर्ष के मौके पर राजस्थान के पाली में उन्होंने कहा हम सब उत्सव तब मनाएंगे जब राम मंदिर का निर्माण पूरा हो जाएगा जब रावलपिंडी और लाहौर में भगवा और जब कश्मीर से निकाले गए हिंदू जिहादियों की छाती पर पैर रख कर वापस आएंगे यही नहीं इस समारोह में प्रवीण तोगड़िया ने साक्षी महाराज के बयान हिंदू महिला पैदा करे चार बच्चे वाले बयान को भी सही ठहरा दिया और कहा कि हिंदू राष्ट्र बनाने के लिए यह जरूरी है गुरुवार को इस सम्मेलन में प्रवीण तोगड़िया ने कहा धर्मांतरण को ना घर वापसी को हां लव जिहाद को ना समान नागरिक संहिता को हां उन्होंने राज्य सरकार द्वारा मंदिर के अधिग्रहण किए जाने पर अखिलेश यादव को कहा हिम्मत है तो किसी मस्जिद का अधिग्रहण कर दिखाएं अगर मस्जिद अधिग्रहण नहीं कर सकते तो हम मंदिर का अधिग्रहण नहीं होने देंगे \n",
      "Original summary: तोगडि़या बोले रावलपिंडी लाहौर में भगवा फहराएंगे तब उत्सव मनाएंगे \n",
      "Predicted summary:  दिल्ली में एक बार की मौत\n",
      "\n",
      "\n",
      "Review: फरीदाबाद के न्यू टाउन स्टेशन के पास राजधानी एक्सप्रेस से कटकर लोगों की मौत हो गई ये लोग ट्रैक पार कर रहें थें जब ये दर्दनाक दुर्घटना हुई अभी मृतकों की पहचान नहीं हो पाई है सूत्रों के अनुसार कड़ाके की ठंड और कोहरे के कारण ये दुर्घटना हुई इस घटना की खबर जैसे ही आस पास के इलाकों में पहुंची मौके पर काफी संख्या में लोग जमा हो गए पुलिस ने सभी शवों को पोस्टमार्टम के लिए भेज दिया है \n",
      "Original summary: फरीदाबाद राजधानी एक्सप्रेस से कटकर की मौत \n",
      "Predicted summary:  दिल्ली में एक बार की मौत\n",
      "\n",
      "\n",
      "Review: जम्मू कश्मीर के हंदवाड़ा में पुलिस पोस्ट पर हमले की खबर है आतंकियों ने हंदवाड़ा में में पुलिस पोस्ट पर पहले ग्रेनेड फेंका और जब ग्रेनेड नहीं फटा तो आतंकियों ने फायरिंग की हमले में कोई घायल नहीं हुआ है कुपवाड़ा जिले के हंदवाड़ा में आतंकी हमले के बाद पुलिस और सुरक्षाबलों ने पूरे इलाके को घेर लिया है आतंकियों को पकड़ने के लिए पूरे इलाके में सर्च ऑपरेशन शुरू किया गया है इस पुलिस पोस्ट में अल्पसंख्यक समुदाय की सुरक्षा के लिए हाल ही में बनाया गया था पीओके में घुसकर इंडियन आर्मी के सर्जिकल ऑपरेशन के बाद से घाटी में आतंकी हमलों में तेजी आई है स्थिति को देखते हुए संवेदनशील इलाकों में सुरक्षाबलों की तैनाती बढ़ा दी गई है \n",
      "Original summary: हंदवाड़ा में पुलिस पोस्ट पर हमला ग्रेनेड नहीं फटने पर आतंकियों ने की फायरिंग \n",
      "Predicted summary:  दिल्ली में एक बार की मौत\n",
      "\n",
      "\n",
      "Review: बॉलीवुड के गलियारों में उड़ती उड़ती खबर है कि दबंग सलमान खान और उनकी तथाकथित गर्लफ्रेंड का ब्रेक अप हो गया है हाल ही में सलमान और उलिया ने काफी सुर्खियां बंटोरी थीं क्योंकि दोनों कई मौकों पर एक साथ दिखाई दिए थे यही नहीं पर उनकी तस्वीरें भी लीक हो गईं थीं एक तस्वीर में दोनों साथ साथ पिकनिक मनाते हुए दिखे थे जबकि दूसरी में सलमान और उनके परिवार के साथ उलिया किसी रेस्टोरेंट में खाना खा रही थीं जब से सलमान और कटरीना कैफ का ब्रेक अप हुआ था तब से वे उलिया वंतुर के साथ कई जगह दिखाई दिए वंतुर रोम की टीवी एक्ट्रेस और प्रेजेंटर हैं दोनों के रिश्ते का खुलासा होने के बाद से ही ऐसी अफवाहें थीं कि वंतुर पहले से जर्मनी के एक संगीतकार के साथ शादी कर चुकी हैं हालांकि इस मामले में उलिया ने कभी कुछ नहीं कहा मिड डे की एक रिपोर्ट के मुताबिक उलिया ग्रैमी अवॉर्ड्स के लिए नामांकित संगीतकार मोगा से शादी कर चुकी हैं जब उनसे इस बारे में पूछा गया तो उन्होंने आरोपों से इनकार कर दिया इसके बाद सलमान के परिवार ने मामले पर दखल देने का फैसला किया खबरों के मुताबिक ईद के मौके पर सलमान अपने करीबी दोस्त बाबा सिद्दिकी के साथ थे और उलिया वंतुर पहले ही रोम वापस जा चुकी हैं \n",
      "Original summary: सलमान खान ने तोड़ लिया उलिया वंतुर से रिश्ता \n",
      "Predicted summary:  दिल्ली में एक बार की मौत\n",
      "\n",
      "\n"
     ]
    }
   ],
   "source": [
    "for i in range(0,10):\n",
    "    print(\"Review:\",seq2text(x_tr[i]))\n",
    "    print(\"Original summary:\",seq2summary(y_tr[i]))\n",
    "    print(\"Predicted summary:\",decode_sequence(x_tr[i].reshape(1,max_text_len)))\n",
    "    print(\"\\n\")"
   ]
  },
  {
   "cell_type": "code",
   "execution_count": 49,
   "id": "77e76e03",
   "metadata": {
    "execution": {
     "iopub.execute_input": "2022-07-10T19:14:10.152291Z",
     "iopub.status.busy": "2022-07-10T19:14:10.151932Z",
     "iopub.status.idle": "2022-07-10T19:14:11.022521Z",
     "shell.execute_reply": "2022-07-10T19:14:11.021298Z"
    },
    "papermill": {
     "duration": 1.071108,
     "end_time": "2022-07-10T19:14:11.025164",
     "exception": false,
     "start_time": "2022-07-10T19:14:09.954056",
     "status": "completed"
    },
    "tags": []
   },
   "outputs": [],
   "source": [
    "from tensorflow.keras.models import load_model\n",
    "new_model = load_model(\"HindiTextModel.h5\")"
   ]
  }
 ],
 "metadata": {
  "kernelspec": {
   "display_name": "Python 3 (ipykernel)",
   "language": "python",
   "name": "python3"
  },
  "language_info": {
   "codemirror_mode": {
    "name": "ipython",
    "version": 3
   },
   "file_extension": ".py",
   "mimetype": "text/x-python",
   "name": "python",
   "nbconvert_exporter": "python",
   "pygments_lexer": "ipython3",
   "version": "3.10.9"
  },
  "papermill": {
   "default_parameters": {},
   "duration": 16702.294068,
   "end_time": "2022-07-10T19:14:14.152607",
   "environment_variables": {},
   "exception": null,
   "input_path": "__notebook__.ipynb",
   "output_path": "__notebook__.ipynb",
   "parameters": {},
   "start_time": "2022-07-10T14:35:51.858539",
   "version": "2.3.4"
  }
 },
 "nbformat": 4,
 "nbformat_minor": 5
}
