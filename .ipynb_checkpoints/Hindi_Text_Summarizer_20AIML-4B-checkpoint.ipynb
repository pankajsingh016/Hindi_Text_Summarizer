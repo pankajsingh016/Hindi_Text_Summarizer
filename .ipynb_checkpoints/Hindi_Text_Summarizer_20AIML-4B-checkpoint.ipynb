{
 "cells": [
  {
   "cell_type": "markdown",
   "id": "49f6ac8f",
   "metadata": {},
   "source": [
    "## Hindi-Text Summarization By\n",
    "\n",
    "* Pankaj Singh Kanyal **[20BCS6668]**\n",
    "* Toshiba Ansari **[20BCS6671]**\n",
    "* Abhishek Singh **[20BCS6673]**\n",
    "* Kailash Kumar Dewangan **[20BCS6676]**"
   ]
  },
  {
   "cell_type": "code",
   "execution_count": 1,
   "id": "42103ccb",
   "metadata": {},
   "outputs": [],
   "source": [
    "import pandas as pd\n",
    "import numpy as np\n",
    "from nltk.tokenize import word_tokenize,sent_tokenize\n",
    "from nltk.corpus import stopwords\n",
    "from nltk.stem import PorterStemmer"
   ]
  },
  {
   "cell_type": "code",
   "execution_count": 2,
   "id": "350875d4",
   "metadata": {},
   "outputs": [],
   "source": [
    "text = pd.read_csv('train.csv')"
   ]
  },
  {
   "cell_type": "code",
   "execution_count": 32,
   "id": "716747af",
   "metadata": {},
   "outputs": [
    {
     "data": {
      "text/html": [
       "<div>\n",
       "<style scoped>\n",
       "    .dataframe tbody tr th:only-of-type {\n",
       "        vertical-align: middle;\n",
       "    }\n",
       "\n",
       "    .dataframe tbody tr th {\n",
       "        vertical-align: top;\n",
       "    }\n",
       "\n",
       "    .dataframe thead th {\n",
       "        text-align: right;\n",
       "    }\n",
       "</style>\n",
       "<table border=\"1\" class=\"dataframe\">\n",
       "  <thead>\n",
       "    <tr style=\"text-align: right;\">\n",
       "      <th></th>\n",
       "      <th>headline</th>\n",
       "      <th>article</th>\n",
       "    </tr>\n",
       "  </thead>\n",
       "  <tbody>\n",
       "    <tr>\n",
       "      <th>0</th>\n",
       "      <td>EXCLUSIVE: दिल्ली में डीजल टैक्सियों पर बैन से...</td>\n",
       "      <td>दिल्ली में सुप्रीम कोर्ट के डीज़ल टैक्सियों को...</td>\n",
       "    </tr>\n",
       "    <tr>\n",
       "      <th>1</th>\n",
       "      <td>जॉर्डन: राष्ट्रपति मुखर्जी ने 86 करोड़ डॉलर के...</td>\n",
       "      <td>जॉर्डन के ऐतिहासिक दौरे पर पहुंचे राष्ट्रपति प...</td>\n",
       "    </tr>\n",
       "    <tr>\n",
       "      <th>2</th>\n",
       "      <td>UN में पाकिस्तान की राजदूत मलीहा लोधी ने कराई ...</td>\n",
       "      <td>पाकिस्तानी नेताओं को विवादित और हास्यास्पद बया...</td>\n",
       "    </tr>\n",
       "    <tr>\n",
       "      <th>3</th>\n",
       "      <td>38 देशों में पीएम नरेंद्र मोदी बायोपिक को रिली...</td>\n",
       "      <td>पीएम नरेंद्र मोदी बायोपिक में विवेक ओबेरॉय ने ...</td>\n",
       "    </tr>\n",
       "    <tr>\n",
       "      <th>4</th>\n",
       "      <td>13 अगस्त 2011: दिनभर की बड़ी खबरें पढ़ें</td>\n",
       "      <td>देश, दुनिया, महानगर, खेल, आर्थिक और बॉलीवुड मे...</td>\n",
       "    </tr>\n",
       "    <tr>\n",
       "      <th>5</th>\n",
       "      <td>एशिया कप से पहले बोला PAK बॉलर- हार के बाद अब ...</td>\n",
       "      <td>पाकिस्तान के तेज गेंदबाज\\nहसन अली\\nने कहा कि\\n...</td>\n",
       "    </tr>\n",
       "    <tr>\n",
       "      <th>6</th>\n",
       "      <td>जाट आंदोलन: हरियाणा ने केंद्र से मांगी अर्ध सै...</td>\n",
       "      <td>जाट आंदोलन के बढ़ने की आशंका के बीच हरियाणा की ...</td>\n",
       "    </tr>\n",
       "  </tbody>\n",
       "</table>\n",
       "</div>"
      ],
      "text/plain": [
       "                                            headline  \\\n",
       "0  EXCLUSIVE: दिल्ली में डीजल टैक्सियों पर बैन से...   \n",
       "1  जॉर्डन: राष्ट्रपति मुखर्जी ने 86 करोड़ डॉलर के...   \n",
       "2  UN में पाकिस्तान की राजदूत मलीहा लोधी ने कराई ...   \n",
       "3  38 देशों में पीएम नरेंद्र मोदी बायोपिक को रिली...   \n",
       "4           13 अगस्त 2011: दिनभर की बड़ी खबरें पढ़ें   \n",
       "5  एशिया कप से पहले बोला PAK बॉलर- हार के बाद अब ...   \n",
       "6  जाट आंदोलन: हरियाणा ने केंद्र से मांगी अर्ध सै...   \n",
       "\n",
       "                                             article  \n",
       "0  दिल्ली में सुप्रीम कोर्ट के डीज़ल टैक्सियों को...  \n",
       "1  जॉर्डन के ऐतिहासिक दौरे पर पहुंचे राष्ट्रपति प...  \n",
       "2  पाकिस्तानी नेताओं को विवादित और हास्यास्पद बया...  \n",
       "3  पीएम नरेंद्र मोदी बायोपिक में विवेक ओबेरॉय ने ...  \n",
       "4  देश, दुनिया, महानगर, खेल, आर्थिक और बॉलीवुड मे...  \n",
       "5  पाकिस्तान के तेज गेंदबाज\\nहसन अली\\nने कहा कि\\n...  \n",
       "6  जाट आंदोलन के बढ़ने की आशंका के बीच हरियाणा की ...  "
      ]
     },
     "execution_count": 32,
     "metadata": {},
     "output_type": "execute_result"
    }
   ],
   "source": [
    "text.head(7)"
   ]
  },
  {
   "cell_type": "code",
   "execution_count": 4,
   "id": "ad220836",
   "metadata": {},
   "outputs": [
    {
     "data": {
      "text/plain": [
       "'दिल्ली में सुप्रीम कोर्ट के डीज़ल टैक्सियों को बंद करने के फैसले के बाद हजारों टैक्सी ड्राइवरों की रोजी रोटी पर तो असर पड़ा ही है, लेकिन अब दिल्ली पर एक और नई मुसीबत आ गई है. चुनाव आयोग राजधानी के 13 वार्ड में उपचुनाव करवा रहा है, लेकिन चुनावों से दो हफ्ते पहले चुनाव आयोग में कामकाज ठप्प हो गया है.\\nकमीशन ने किराए पर ली थी डीजल गाड़ियां\\n\\nदरअसल कमीशन ने लगभग सौ गाड़ियां चुनाव के कामकाज को करने के लिए किराए पर लीं, जिनमें सभी\\nडीज़ल से चलने वाली टैक्सी\\nथी. इन्हीं टैक्सियों से चुनाव अधिकारी से लेकर चुनावों का जिम्मा संभालने वाले बाकी कर्मचारी भी एक जगह से दूसरी जगह आते जाते थे. अचानक चुनावों से ठीक पहले आई इस परेशानी ने दिल्ली चुनाव आयोग का कामकाज ही ठप्प कर दिया है.\\n\\nरियायत के लिए की जा सकती है मांग\\n\\nदिल्ली के राज्य चुनाव अधिकारी राकेश मेहता ने इस मुश्किल का रास्ता निकालने के लिए मंगलवार को दिल्ली के पुलिस कमिश्नर और ट्रांसपोर्ट कमिश्नर की बैठक बुलाई है. इस बैठक में राज्य चुनाव आयुक्त 15 मई को होने वाले चुनावों को लेकर\\nगाड़ियों की उपलब्धता\\nको लेकर पुलिस और सरकार से समाधान निकालने के लिए भी कहेंगे. चुनाव आयोग इन दोनों एजेंसियों को कह सकता है कि चूंकि चुनाव में अब दो हफ्ते का भी वक्त नहीं बचा है, ऐसे में इन गाड़ियों को बैन से रियायत दी जाए.'"
      ]
     },
     "execution_count": 4,
     "metadata": {},
     "output_type": "execute_result"
    }
   ],
   "source": [
    "text['article'][0]"
   ]
  },
  {
   "cell_type": "code",
   "execution_count": 5,
   "id": "bb5e2f83",
   "metadata": {},
   "outputs": [],
   "source": [
    "sp = open(rb\"stopwords.txt\",encoding='utf-8')"
   ]
  },
  {
   "cell_type": "code",
   "execution_count": 6,
   "id": "d37fb277",
   "metadata": {},
   "outputs": [],
   "source": [
    "stopwords = set()\n",
    "for x in sp:\n",
    "    stopwords.add(x)"
   ]
  },
  {
   "cell_type": "code",
   "execution_count": 7,
   "id": "46d42911",
   "metadata": {},
   "outputs": [
    {
     "name": "stdout",
     "output_type": "stream",
     "text": [
      "{'आगे\\n', 'कहाँ\\n', 'निहायत\\n', 'जिसे\\n', 'सो\\n', 'इसका\\n', 'तुम्हारा\\n', 'जबकि\\n', 'तथा\\n', 'उन्हें \\n', 'हुई\\n', 'किए\\n', 'किस\\n', 'हुये\\n', 'प्रति\\n', 'वग़ैरह\\n', 'किन्हें\\n', 'पूरे\\n', 'इन\\n', 'जा\\n', 'जिससे\\n', 'अधिकांश\\n', 'उन्हीं\\n', 'में\\n', 'किसको\\n', 'सकते\\n', 'करने में\\n', 'चाहिए\\n', 'जैसा\\n', 'रखें\\n', 'वे\\n', 'वहाँ\\n', 'तक\\n', 'गये\\n', 'इसके\\n', 'मै\\n', 'जाती\\n', 'समान\\n', 'बाद\\n', 'यहाँ\\n', 'मात्र\\n', 'आपका\\n', 'होता\\n', 'संग\\n', 'इसी\\n', 'कर दिया\\n', 'मैं\\n', 'तिन्हें\\n', 'सारे\\n', 'काफ़ी\\n', 'से पहले\\n', 'द्वारा\\n', 'अब\\n', 'जीधर\\n', 'इनकी\\n', 'दोनो\\n', 'में कोई\\n', 'एक\\n', 'अपना\\n', 'होती\\n', 'सारा\\n', 'क्यों\\n', 'लेकर\\n', 'क्यूंकि\\n', 'दूर\\n', 'किन्हों\\n', 'कई\\n', 'पे\\n', 'स्थान\\n', 'तिस\\n', 'ज्यादा\\n', 'प्रत्येक\\n', 'किया है\\n', 'अपनी\\n', 'एक बार\\n', 'हुए\\n', 'करता\\n', 'खुद ही\\n', 'यदि\\n', 'गयी\\n', 'इसमें\\n', 'के लिए\\n', 'कुछ\\n', 'अपने\\n', 'बनी\\n', 'बिलकुल\\n', 'कल\\n', 'समय\\n', 'आदि\\n', 'जितना\\n', 'अत\\n', 'गया\\n', 'भी\\n', 'इन्हीं\\n', 'इनका\\n', 'जब तक\\n', 'कुल\\n', 'तिन्हों\\n', 'रहे\\n', 'मगर\\n', 'नीचे\\n', 'निकल\\n', 'ये\\n', 'बहुत\\n', 'खुद\\n', 'खुद को\\n', '\\ufeffके\\n', 'कि वह\\n', 'उसका\\n', 'था\\n', 'लिये\\n', 'कभी\\n', 'अपने आप को\\n', 'साथ\\n', 'उसे\\n', 'रहती\\n', 'के माध्यम से\\n', 'करने\\n', 'जाते\\n', 'दौरान\\n', 'इत्यादि\\n', 'हैं\\n', 'जो\\n', 'होना\\n', 'इन्हों\\n', 'के बाद\\n', 'भीतर\\n', 'तब\\n', 'से\\n', 'जिन\\n', 'दोनों\\n', 'कि\\n', 'कैसे\\n', 'बंद\\n', 'का\\n', 'ऐसा\\n', 'जैसे\\n', 'बही\\n', 'कौनसा\\n', 'किया जा रहा है\\n', 'जायेंगे\\n', 'लिए\\n', 'सभी\\n', 'होता है\\n', 'इस\\n', 'वर्ग\\n', 'अथवा\\n', 'क्या\\n', 'अभी\\n', 'बाला\\n', 'से अधिक\\n', 'दूसरे\\n', 'आज\\n', 'साबुत\\n', 'है\\n', 'से नीचे\\n', 'दुबारा\\n', 'करते\\n', 'बीच\\n', 'वाले\\n', 'होने\\n', 'बाहर\\n', 'इनके\\n', 'ने\\n', 'सकती\\n', 'जिन्हें\\n', 'कितना\\n', 'उनको\\n', 'करता है\\n', 'किया\\n', 'कौन\\n', 'फिर\\n', 'उनका\\n', 'तिसे\\n', 'एवं\\n', 'ऊपर\\n', 'हूँ\\n', 'कहा\\n', 'तुम\\n', 'यही\\n', 'पर\\n', 'हो\\n', 'जिन्हों\\n', 'यह\\n', 'वहीं\\n', 'उनके\\n', 'इसकी\\n', 'तिन\\n', 'अंदर\\n', 'व\\n', 'सकता\\n', 'उन\\n', 'जिसमें\\n', 'कोई\\n', 'स्वयं\\n', 'हमारा\\n', 'उसकी\\n', 'के बारे में\\n', 'उस\\n', 'कर\\n', 'थे\\n', 'लिया\\n', 'लेकिन\\n', 'तो\\n', 'गए\\n', 'मेरा\\n', 'को\\n', 'उनकी\\n', 'किसे\\n', 'मुझको\\n', 'इन्हें\\n', 'जाने\\n', 'जाता\\n', 'ही\\n', 'करें\\n', 'दूसरा\\n', 'पडा\\n', 'अगर\\n', 'किसी\\n', 'यहां\\n', 'गई\\n', 'होते\\n', 'रही\\n', 'जब\\n', 'करना\\n', 'परंतु\\n', 'उन्हों\\n', 'हुआ\\n', 'जहाँ\\n', 'खिलाफ\\n', 'दो\\n', 'मानो\\n', 'तरह\\n', 'बड़े\\n', 'तहत\\n', 'जिस\\n', 'बड़ा\\n', 'कहते\\n', 'ऐसे\\n', 'उसी\\n', 'अन्य\\n', 'और\\n', 'दिया\\n', 'की\\n', 'मे\\n', 'थी\\n', 'कम\\n', 'हमने\\n', 'उन्होने\\n', 'कब\\n', 'इसलिए\\n', 'एस\\n', 'हम\\n', 'उसके\\n', 'अपने आप\\n', 'पहले\\n', 'रहा\\n', 'वह\\n', 'या\\n', 'इसे\\n', 'आप\\n', 'में कुछ\\n', 'पूरा\\n', 'जरा\\n'}\n"
     ]
    }
   ],
   "source": [
    "print(stopwords)"
   ]
  },
  {
   "cell_type": "code",
   "execution_count": 8,
   "id": "b3bca4ea",
   "metadata": {},
   "outputs": [],
   "source": [
    "def createfrequencytable(text)->dict:\n",
    "    words = word_tokenize(text)\n",
    "    ps = PorterStemmer()\n",
    "    \n",
    "    freqTable = dict()\n",
    "    for word in words:\n",
    "        word = str(word)\n",
    "        \n",
    "        if word in stopwords:\n",
    "            continue\n",
    "            \n",
    "        if word in freqTable:\n",
    "            freqTable[word]+=1\n",
    "        else:\n",
    "            freqTable[word] = 1\n",
    "    \n",
    "    return freqTable\n",
    "        "
   ]
  },
  {
   "cell_type": "code",
   "execution_count": 33,
   "id": "f34f9acf",
   "metadata": {},
   "outputs": [
    {
     "name": "stdout",
     "output_type": "stream",
     "text": [
      "['दिल्ली में सुप्रीम कोर्ट के डीज़ल टैक्सियों को बंद करने के फैसले के बाद हजारों टैक्सी ड्राइवरों की रोजी रोटी पर तो असर पड़ा ही है, लेकिन अब दिल्ली पर एक और नई मुसीबत आ गई है.', 'चुनाव आयोग राजधानी के 13 वार्ड में उपचुनाव करवा रहा है, लेकिन चुनावों से दो हफ्ते पहले चुनाव आयोग में कामकाज ठप्प हो गया है.', 'कमीशन ने किराए पर ली थी डीजल गाड़ियां\\n\\nदरअसल कमीशन ने लगभग सौ गाड़ियां चुनाव के कामकाज को करने के लिए किराए पर लीं, जिनमें सभी\\nडीज़ल से चलने वाली टैक्सी\\nथी.', 'इन्हीं टैक्सियों से चुनाव अधिकारी से लेकर चुनावों का जिम्मा संभालने वाले बाकी कर्मचारी भी एक जगह से दूसरी जगह आते जाते थे.', 'अचानक चुनावों से ठीक पहले आई इस परेशानी ने दिल्ली चुनाव आयोग का कामकाज ही ठप्प कर दिया है.', 'रियायत के लिए की जा सकती है मांग\\n\\nदिल्ली के राज्य चुनाव अधिकारी राकेश मेहता ने इस मुश्किल का रास्ता निकालने के लिए मंगलवार को दिल्ली के पुलिस कमिश्नर और ट्रांसपोर्ट कमिश्नर की बैठक बुलाई है.', 'इस बैठक में राज्य चुनाव आयुक्त 15 मई को होने वाले चुनावों को लेकर\\nगाड़ियों की उपलब्धता\\nको लेकर पुलिस और सरकार से समाधान निकालने के लिए भी कहेंगे.', 'चुनाव आयोग इन दोनों एजेंसियों को कह सकता है कि चूंकि चुनाव में अब दो हफ्ते का भी वक्त नहीं बचा है, ऐसे में इन गाड़ियों को बैन से रियायत दी जाए.']\n",
      "\n",
      "\n",
      " Total Sentences Got:  8\n"
     ]
    }
   ],
   "source": [
    "sentences = sent_tokenize(text['article'][0])\n",
    "total_documents = len(sentences)\n",
    "print(sentences)\n",
    "print(\"\\n\\n Total Sentences Got: \",total_documents)"
   ]
  },
  {
   "cell_type": "code",
   "execution_count": 10,
   "id": "4f569b79",
   "metadata": {},
   "outputs": [],
   "source": [
    "def scoresentences(sentences,freqTable)->dict:\n",
    "    sentenceValue = dict()\n",
    "    for sentence in sentences:\n",
    "        word_count_in_sentence = (len(word_tokenize(sentence)))\n",
    "        \n",
    "        for wordValue in freqTable:\n",
    "            if wordValue in sentence.lower():\n",
    "                if sentence[:10] in sentenceValue:\n",
    "                    sentenceValue[sentence[:10]] += freqTable[wordValue]\n",
    "                \n",
    "                else:\n",
    "                    sentenceValue[sentence[:10]] = freqTable[wordValue]\n",
    "        sentenceValue[sentence[:10]] = sentenceValue[sentence[:10]]\n",
    "    return sentenceValue"
   ]
  },
  {
   "cell_type": "code",
   "execution_count": 11,
   "id": "dac783b3",
   "metadata": {},
   "outputs": [],
   "source": [
    "def findaverage_score(sentenceValue)-> int:\n",
    "    sumValues = 0\n",
    "    \n",
    "    for entry in sentenceValue:\n",
    "        sumValues += sentenceValue[entry]\n",
    "        #average value of a sentence from original text\n",
    "    average = int(sumValues / len(sentenceValue))\n",
    "    return average"
   ]
  },
  {
   "cell_type": "code",
   "execution_count": 12,
   "id": "7abec146",
   "metadata": {},
   "outputs": [],
   "source": [
    "def _generate_summary(sentence,sentenceValue,threshold):\n",
    "    sentence_count = 0\n",
    "    summary = ''\n",
    "    for sentence in sentences:\n",
    "        if sentence[:10] in sentenceValue and sentenceValue[sentence[:10]] > (threshold):\n",
    "            summary +=\" \"+ sentence\n",
    "            sentence_count +=1\n",
    "    return summary"
   ]
  },
  {
   "cell_type": "markdown",
   "id": "dc077978",
   "metadata": {},
   "source": [
    "### The Given Text in Hindi From the dataset"
   ]
  },
  {
   "cell_type": "code",
   "execution_count": 16,
   "id": "142fcb73",
   "metadata": {},
   "outputs": [
    {
     "name": "stdout",
     "output_type": "stream",
     "text": [
      "दिल्ली में सुप्रीम कोर्ट के डीज़ल टैक्सियों को बंद करने के फैसले के बाद हजारों टैक्सी ड्राइवरों की रोजी रोटी पर तो असर पड़ा ही है, लेकिन अब दिल्ली पर एक और नई मुसीबत आ गई है. चुनाव आयोग राजधानी के 13 वार्ड में उपचुनाव करवा रहा है, लेकिन चुनावों से दो हफ्ते पहले चुनाव आयोग में कामकाज ठप्प हो गया है.\n",
      "कमीशन ने किराए पर ली थी डीजल गाड़ियां\n",
      "\n",
      "दरअसल कमीशन ने लगभग सौ गाड़ियां चुनाव के कामकाज को करने के लिए किराए पर लीं, जिनमें सभी\n",
      "डीज़ल से चलने वाली टैक्सी\n",
      "थी. इन्हीं टैक्सियों से चुनाव अधिकारी से लेकर चुनावों का जिम्मा संभालने वाले बाकी कर्मचारी भी एक जगह से दूसरी जगह आते जाते थे. अचानक चुनावों से ठीक पहले आई इस परेशानी ने दिल्ली चुनाव आयोग का कामकाज ही ठप्प कर दिया है.\n",
      "\n",
      "रियायत के लिए की जा सकती है मांग\n",
      "\n",
      "दिल्ली के राज्य चुनाव अधिकारी राकेश मेहता ने इस मुश्किल का रास्ता निकालने के लिए मंगलवार को दिल्ली के पुलिस कमिश्नर और ट्रांसपोर्ट कमिश्नर की बैठक बुलाई है. इस बैठक में राज्य चुनाव आयुक्त 15 मई को होने वाले चुनावों को लेकर\n",
      "गाड़ियों की उपलब्धता\n",
      "को लेकर पुलिस और सरकार से समाधान निकालने के लिए भी कहेंगे. चुनाव आयोग इन दोनों एजेंसियों को कह सकता है कि चूंकि चुनाव में अब दो हफ्ते का भी वक्त नहीं बचा है, ऐसे में इन गाड़ियों को बैन से रियायत दी जाए.\n"
     ]
    }
   ],
   "source": [
    "print(text['article'][0])\n",
    "text1 = text['article'][0]"
   ]
  },
  {
   "cell_type": "markdown",
   "id": "1a0f9adc",
   "metadata": {},
   "source": [
    "### Creating Frequency Table For Each Word In The Given Text"
   ]
  },
  {
   "cell_type": "code",
   "execution_count": 18,
   "id": "4fb3aa12",
   "metadata": {},
   "outputs": [
    {
     "name": "stdout",
     "output_type": "stream",
     "text": [
      "{'दिल्ली': 5, 'में': 6, 'सुप्रीम': 1, 'कोर्ट': 1, 'के': 11, 'डीज़ल': 2, 'टैक्सियों': 2, 'को': 8, 'बंद': 1, 'करने': 2, 'फैसले': 1, 'बाद': 1, 'हजारों': 1, 'टैक्सी': 2, 'ड्राइवरों': 1, 'की': 4, 'रोजी': 1, 'रोटी': 1, 'पर': 4, 'तो': 1, 'असर': 1, 'पड़ा': 1, 'ही': 2, 'है': 9, ',': 4, 'लेकिन': 2, 'अब': 2, 'एक': 2, 'और': 3, 'नई': 1, 'मुसीबत': 1, 'आ': 1, 'गई': 1, '.': 8, 'चुनाव': 9, 'आयोग': 4, 'राजधानी': 1, '13': 1, 'वार्ड': 1, 'उपचुनाव': 1, 'करवा': 1, 'रहा': 1, 'चुनावों': 4, 'से': 8, 'दो': 2, 'हफ्ते': 2, 'पहले': 2, 'कामकाज': 3, 'ठप्प': 2, 'हो': 1, 'गया': 1, 'कमीशन': 2, 'ने': 4, 'किराए': 2, 'ली': 1, 'थी': 2, 'डीजल': 1, 'गाड़ियां': 2, 'दरअसल': 1, 'लगभग': 1, 'सौ': 1, 'लिए': 4, 'लीं': 1, 'जिनमें': 1, 'सभी': 1, 'चलने': 1, 'वाली': 1, 'इन्हीं': 1, 'अधिकारी': 2, 'लेकर': 3, 'का': 4, 'जिम्मा': 1, 'संभालने': 1, 'वाले': 2, 'बाकी': 1, 'कर्मचारी': 1, 'भी': 3, 'जगह': 2, 'दूसरी': 1, 'आते': 1, 'जाते': 1, 'थे': 1, 'अचानक': 1, 'ठीक': 1, 'आई': 1, 'इस': 3, 'परेशानी': 1, 'कर': 1, 'दिया': 1, 'रियायत': 2, 'जा': 1, 'सकती': 1, 'मांग': 1, 'राज्य': 2, 'राकेश': 1, 'मेहता': 1, 'मुश्किल': 1, 'रास्ता': 1, 'निकालने': 2, 'मंगलवार': 1, 'पुलिस': 2, 'कमिश्नर': 2, 'ट्रांसपोर्ट': 1, 'बैठक': 2, 'बुलाई': 1, 'आयुक्त': 1, '15': 1, 'मई': 1, 'होने': 1, 'गाड़ियों': 2, 'उपलब्धता': 1, 'सरकार': 1, 'समाधान': 1, 'कहेंगे': 1, 'इन': 2, 'दोनों': 1, 'एजेंसियों': 1, 'कह': 1, 'सकता': 1, 'कि': 1, 'चूंकि': 1, 'वक्त': 1, 'नहीं': 1, 'बचा': 1, 'ऐसे': 1, 'बैन': 1, 'दी': 1, 'जाए': 1}\n"
     ]
    }
   ],
   "source": [
    "freq = createfrequencytable(text1)\n",
    "print(freq)"
   ]
  },
  {
   "cell_type": "markdown",
   "id": "265e65ef",
   "metadata": {},
   "source": [
    "### Evaluating The Score For Each Sentence \n",
    "We have evaluate the scores using the termed frequency"
   ]
  },
  {
   "cell_type": "code",
   "execution_count": 22,
   "id": "aa63a467",
   "metadata": {},
   "outputs": [
    {
     "name": "stdout",
     "output_type": "stream",
     "text": [
      "{'दिल्ली में': 102, 'चुनाव आयोग': 183, 'कमीशन ने क': 102, 'इन्हीं टैक': 73, 'अचानक चुना': 79, 'रियायत के ': 98, 'इस बैठक मे': 106}\n"
     ]
    }
   ],
   "source": [
    "text_score = scoresentences(sentences,freq)\n",
    "print(text_score)"
   ]
  },
  {
   "cell_type": "markdown",
   "id": "e8fb4ee6",
   "metadata": {},
   "source": [
    "### Evaluating the threshold Value"
   ]
  },
  {
   "cell_type": "code",
   "execution_count": 24,
   "id": "c813080e",
   "metadata": {},
   "outputs": [
    {
     "name": "stdout",
     "output_type": "stream",
     "text": [
      "The Theshold Value of the sentences is  106\n"
     ]
    }
   ],
   "source": [
    "thres = findaverage_score(text_score)\n",
    "print(\"The Theshold Value of the sentences is \",thres)"
   ]
  },
  {
   "cell_type": "markdown",
   "id": "25612f13",
   "metadata": {},
   "source": [
    "### Generating The Summary and Comparison with the actual input"
   ]
  },
  {
   "cell_type": "code",
   "execution_count": 28,
   "id": "80f96749",
   "metadata": {},
   "outputs": [
    {
     "name": "stdout",
     "output_type": "stream",
     "text": [
      "The Actual Text:\n",
      "\n",
      "दिल्ली में सुप्रीम कोर्ट के डीज़ल टैक्सियों को बंद करने के फैसले के बाद हजारों टैक्सी ड्राइवरों की रोजी रोटी पर तो असर पड़ा ही है, लेकिन अब दिल्ली पर एक और नई मुसीबत आ गई है. चुनाव आयोग राजधानी के 13 वार्ड में उपचुनाव करवा रहा है, लेकिन चुनावों से दो हफ्ते पहले चुनाव आयोग में कामकाज ठप्प हो गया है.\n",
      "कमीशन ने किराए पर ली थी डीजल गाड़ियां\n",
      "\n",
      "दरअसल कमीशन ने लगभग सौ गाड़ियां चुनाव के कामकाज को करने के लिए किराए पर लीं, जिनमें सभी\n",
      "डीज़ल से चलने वाली टैक्सी\n",
      "थी. इन्हीं टैक्सियों से चुनाव अधिकारी से लेकर चुनावों का जिम्मा संभालने वाले बाकी कर्मचारी भी एक जगह से दूसरी जगह आते जाते थे. अचानक चुनावों से ठीक पहले आई इस परेशानी ने दिल्ली चुनाव आयोग का कामकाज ही ठप्प कर दिया है.\n",
      "\n",
      "रियायत के लिए की जा सकती है मांग\n",
      "\n",
      "दिल्ली के राज्य चुनाव अधिकारी राकेश मेहता ने इस मुश्किल का रास्ता निकालने के लिए मंगलवार को दिल्ली के पुलिस कमिश्नर और ट्रांसपोर्ट कमिश्नर की बैठक बुलाई है. इस बैठक में राज्य चुनाव आयुक्त 15 मई को होने वाले चुनावों को लेकर\n",
      "गाड़ियों की उपलब्धता\n",
      "को लेकर पुलिस और सरकार से समाधान निकालने के लिए भी कहेंगे. चुनाव आयोग इन दोनों एजेंसियों को कह सकता है कि चूंकि चुनाव में अब दो हफ्ते का भी वक्त नहीं बचा है, ऐसे में इन गाड़ियों को बैन से रियायत दी जाए.\n"
     ]
    }
   ],
   "source": [
    "print(\"The Actual Text:\\n\")\n",
    "print(text['article'][0])"
   ]
  },
  {
   "cell_type": "code",
   "execution_count": 25,
   "id": "67bcc9f8",
   "metadata": {},
   "outputs": [
    {
     "name": "stdout",
     "output_type": "stream",
     "text": [
      " चुनाव आयोग राजधानी के 13 वार्ड में उपचुनाव करवा रहा है, लेकिन चुनावों से दो हफ्ते पहले चुनाव आयोग में कामकाज ठप्प हो गया है. चुनाव आयोग इन दोनों एजेंसियों को कह सकता है कि चूंकि चुनाव में अब दो हफ्ते का भी वक्त नहीं बचा है, ऐसे में इन गाड़ियों को बैन से रियायत दी जाए.\n"
     ]
    }
   ],
   "source": [
    "summary = _generate_summary(text1,text_score,1.5*thres)\n",
    "print(summary)"
   ]
  },
  {
   "cell_type": "markdown",
   "id": "a5218bc3",
   "metadata": {},
   "source": [
    "### Concluding the Transformation Steps Required Using Levenshtein Distance"
   ]
  },
  {
   "cell_type": "code",
   "execution_count": 30,
   "id": "1d1d3080",
   "metadata": {},
   "outputs": [
    {
     "name": "stdout",
     "output_type": "stream",
     "text": [
      "The Total Transformation Needed according to Levenshtein Distance -> 883\n"
     ]
    }
   ],
   "source": [
    "import Levenshtein\n",
    "text_given = text['article'][0]\n",
    "predicted_summary = summary\n",
    "ld = Levenshtein.distance(text_given,predicted_summary)\n",
    "print(\"The Total Transformation Needed according to Levenshtein Distance ->\",ld)"
   ]
  },
  {
   "cell_type": "code",
   "execution_count": null,
   "id": "bcb733cd",
   "metadata": {},
   "outputs": [],
   "source": []
  }
 ],
 "metadata": {
  "kernelspec": {
   "display_name": "Python 3 (ipykernel)",
   "language": "python",
   "name": "python3"
  },
  "language_info": {
   "codemirror_mode": {
    "name": "ipython",
    "version": 3
   },
   "file_extension": ".py",
   "mimetype": "text/x-python",
   "name": "python",
   "nbconvert_exporter": "python",
   "pygments_lexer": "ipython3",
   "version": "3.10.9"
  }
 },
 "nbformat": 4,
 "nbformat_minor": 5
}
